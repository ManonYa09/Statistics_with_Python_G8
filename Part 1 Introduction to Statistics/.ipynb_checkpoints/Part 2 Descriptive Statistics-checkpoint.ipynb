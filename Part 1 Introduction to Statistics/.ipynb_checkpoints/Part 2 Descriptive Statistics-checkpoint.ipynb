{
 "cells": [
  {
   "cell_type": "markdown",
   "id": "dbb3d3fd-56b7-4dbb-8b64-08bfc383f0fb",
   "metadata": {},
   "source": [
    "### About dataset\n",
    "This dataset represents a list of school districts in an anonymous country. The data includes district and state names, total population, and the literacy rate.\n",
    "\n",
    "The dataset contains:\n",
    "\n",
    "680 rows – each row is a different school district\n",
    "\n",
    "| Column Name | Type   | Description                                                |\n",
    "|-------------|--------|------------------------------------------------------------|\n",
    "| DISTNAME    | str    | The names of an anonymous country’s school districts      |\n",
    "| STATNAME    | str    | The names of an anonymous country’s states                 |\n",
    "| BLOCKS      | int64  | The number of blocks in the school district. Blocks are the smallest organizational structure in the education system of the anonymous country.                |\n",
    "| VILLAGES    | int64  | The number of villages in each district                    |\n",
    "| CLUSTERS    | int64  | The number of clusters in the school district              |\n",
    "| TOTPOPULAT  | float64  | The population for each district                           |\n",
    "| OVERALL_LI  | float64  | The literacy rate for each district                        |"
   ]
  },
  {
   "cell_type": "code",
   "execution_count": 79,
   "id": "5505f016-8a6d-43b9-a462-094746d39d19",
   "metadata": {},
   "outputs": [],
   "source": [
    "import pandas as pd\n",
    "import numpy as np\n",
    "import matplotlib.pyplot as plt\n",
    "import seaborn as sns\n",
    "import warnings\n",
    "warnings.filterwarnings('ignore')"
   ]
  },
  {
   "cell_type": "code",
   "execution_count": 6,
   "id": "152d5602-080a-4b4d-8fc3-17c63b00728e",
   "metadata": {},
   "outputs": [],
   "source": [
    "df = pd.read_csv('https://raw.githubusercontent.com/ManonYa09/Statistics_with_Python_G7/main/Dataset/0.%20education_districtwise.csv')"
   ]
  },
  {
   "cell_type": "code",
   "execution_count": 10,
   "id": "e591d603-2743-4c4f-b8fb-c6f526c390b6",
   "metadata": {},
   "outputs": [
    {
     "data": {
      "text/html": [
       "<div>\n",
       "<style scoped>\n",
       "    .dataframe tbody tr th:only-of-type {\n",
       "        vertical-align: middle;\n",
       "    }\n",
       "\n",
       "    .dataframe tbody tr th {\n",
       "        vertical-align: top;\n",
       "    }\n",
       "\n",
       "    .dataframe thead th {\n",
       "        text-align: right;\n",
       "    }\n",
       "</style>\n",
       "<table border=\"1\" class=\"dataframe\">\n",
       "  <thead>\n",
       "    <tr style=\"text-align: right;\">\n",
       "      <th></th>\n",
       "      <th>DISTNAME</th>\n",
       "      <th>STATNAME</th>\n",
       "      <th>BLOCKS</th>\n",
       "      <th>VILLAGES</th>\n",
       "      <th>CLUSTERS</th>\n",
       "      <th>TOTPOPULAT</th>\n",
       "      <th>OVERALL_LI</th>\n",
       "    </tr>\n",
       "  </thead>\n",
       "  <tbody>\n",
       "    <tr>\n",
       "      <th>0</th>\n",
       "      <td>DISTRICT32</td>\n",
       "      <td>STATE1</td>\n",
       "      <td>13</td>\n",
       "      <td>391</td>\n",
       "      <td>104</td>\n",
       "      <td>875564.0</td>\n",
       "      <td>66.92</td>\n",
       "    </tr>\n",
       "    <tr>\n",
       "      <th>1</th>\n",
       "      <td>DISTRICT649</td>\n",
       "      <td>STATE1</td>\n",
       "      <td>18</td>\n",
       "      <td>678</td>\n",
       "      <td>144</td>\n",
       "      <td>1015503.0</td>\n",
       "      <td>66.93</td>\n",
       "    </tr>\n",
       "    <tr>\n",
       "      <th>2</th>\n",
       "      <td>DISTRICT229</td>\n",
       "      <td>STATE1</td>\n",
       "      <td>8</td>\n",
       "      <td>94</td>\n",
       "      <td>65</td>\n",
       "      <td>1269751.0</td>\n",
       "      <td>71.21</td>\n",
       "    </tr>\n",
       "    <tr>\n",
       "      <th>3</th>\n",
       "      <td>DISTRICT259</td>\n",
       "      <td>STATE1</td>\n",
       "      <td>13</td>\n",
       "      <td>523</td>\n",
       "      <td>104</td>\n",
       "      <td>735753.0</td>\n",
       "      <td>57.98</td>\n",
       "    </tr>\n",
       "    <tr>\n",
       "      <th>4</th>\n",
       "      <td>DISTRICT486</td>\n",
       "      <td>STATE1</td>\n",
       "      <td>8</td>\n",
       "      <td>359</td>\n",
       "      <td>64</td>\n",
       "      <td>570060.0</td>\n",
       "      <td>65.00</td>\n",
       "    </tr>\n",
       "  </tbody>\n",
       "</table>\n",
       "</div>"
      ],
      "text/plain": [
       "      DISTNAME STATNAME  BLOCKS  VILLAGES  CLUSTERS  TOTPOPULAT  OVERALL_LI\n",
       "0   DISTRICT32   STATE1      13       391       104    875564.0       66.92\n",
       "1  DISTRICT649   STATE1      18       678       144   1015503.0       66.93\n",
       "2  DISTRICT229   STATE1       8        94        65   1269751.0       71.21\n",
       "3  DISTRICT259   STATE1      13       523       104    735753.0       57.98\n",
       "4  DISTRICT486   STATE1       8       359        64    570060.0       65.00"
      ]
     },
     "execution_count": 10,
     "metadata": {},
     "output_type": "execute_result"
    }
   ],
   "source": [
    "df.head()"
   ]
  },
  {
   "cell_type": "code",
   "execution_count": 12,
   "id": "c5d15c29-5713-44fe-8300-9c7314bc5dae",
   "metadata": {},
   "outputs": [
    {
     "name": "stdout",
     "output_type": "stream",
     "text": [
      "<class 'pandas.core.frame.DataFrame'>\n",
      "RangeIndex: 680 entries, 0 to 679\n",
      "Data columns (total 7 columns):\n",
      " #   Column      Non-Null Count  Dtype  \n",
      "---  ------      --------------  -----  \n",
      " 0   DISTNAME    680 non-null    object \n",
      " 1   STATNAME    680 non-null    object \n",
      " 2   BLOCKS      680 non-null    int64  \n",
      " 3   VILLAGES    680 non-null    int64  \n",
      " 4   CLUSTERS    680 non-null    int64  \n",
      " 5   TOTPOPULAT  634 non-null    float64\n",
      " 6   OVERALL_LI  634 non-null    float64\n",
      "dtypes: float64(2), int64(3), object(2)\n",
      "memory usage: 37.3+ KB\n"
     ]
    }
   ],
   "source": [
    "df.info()"
   ]
  },
  {
   "cell_type": "markdown",
   "id": "c30ae22b-0e7e-4745-aa98-452027e5fb54",
   "metadata": {},
   "source": [
    "### 1. Numberical data\n",
    "#### Numberical and Continous \n",
    "#### Numberical Decrete"
   ]
  },
  {
   "cell_type": "markdown",
   "id": "3c6a5daa-a01c-48d6-835b-e07d331f2647",
   "metadata": {},
   "source": [
    "### 2. Categorical Data"
   ]
  },
  {
   "cell_type": "markdown",
   "id": "45a2e21a-b703-4298-9def-52d4f5b1837e",
   "metadata": {},
   "source": [
    "### 3. Frequency Distribution"
   ]
  },
  {
   "cell_type": "markdown",
   "id": "2bd4abce-afcd-47c7-a660-029f3a7aee05",
   "metadata": {},
   "source": [
    "#### 3.1 Number Data as continuous "
   ]
  },
  {
   "cell_type": "code",
   "execution_count": 27,
   "id": "69330dd1-65d6-4667-8835-f4d1e4c055fc",
   "metadata": {},
   "outputs": [
    {
     "data": {
      "text/plain": [
       "count    6.340000e+02\n",
       "mean     1.899024e+06\n",
       "std      1.547475e+06\n",
       "min      7.948000e+03\n",
       "25%      8.226940e+05\n",
       "50%      1.564392e+06\n",
       "75%      2.587520e+06\n",
       "max      1.105413e+07\n",
       "Name: TOTPOPULAT, dtype: float64"
      ]
     },
     "execution_count": 27,
     "metadata": {},
     "output_type": "execute_result"
    }
   ],
   "source": [
    "df['TOTPOPULAT'].describe()"
   ]
  },
  {
   "cell_type": "code",
   "execution_count": 99,
   "id": "40b0eab1-9c1c-402e-ac37-dfd58e7a25d9",
   "metadata": {},
   "outputs": [
    {
     "data": {
      "image/png": "[encoded data removed]",
      "text/plain": [
       "<Figure size 1200x600 with 1 Axes>"
      ]
     },
     "metadata": {},
     "output_type": "display_data"
    }
   ],
   "source": [
    "# fig, ax = plt.subplots(figsize = (12, 6))\n",
    "# sns.histplot(x = df['TOTPOPULAT'], bins= np.arange(0, 12*10**6, 10**6))\n",
    "# ax.set_title('Distribution of Total Population', fontweight = 'bold')\n",
    "# ax.set_xticks(np.arange(0, 12*10**6, 10**6))\n",
    "# ax.set_xlim(0, 11*10**6)\n",
    "# ax.bar_label(ax.containers[1], color = 'r')\n",
    "# sns.despine();"
   ]
  },
  {
   "cell_type": "code",
   "execution_count": 224,
   "id": "23f550f2-8e1c-4f4e-9cc6-da6d7a296e42",
   "metadata": {},
   "outputs": [
    {
     "data": {
      "image/png": "[encoded data removed]",
      "text/plain": [
       "<Figure size 1200x600 with 1 Axes>"
      ]
     },
     "metadata": {},
     "output_type": "display_data"
    }
   ],
   "source": [
    "fig, ax = plt.subplots(figsize = (12, 6))\n",
    "sns.histplot(df['OVERALL_LI'] , bins = np.arange(35, 101, 5))\n",
    "ax.set_xticks(np.arange(35, 101, 5))\n",
    "ax.set_title('Distribution of Total Literacy Rate', fontweight = 'bold')\n",
    "ax.bar_label(ax.containers[1], color = 'r')\n",
    "plt.savefig('Distribution of Literacy Rate.jpg',dpi = 1000)\n",
    "sns.despine();"
   ]
  },
  {
   "cell_type": "markdown",
   "id": "fbdf54a2-5cf7-4f1a-bac3-f08d1eb5fdfd",
   "metadata": {},
   "source": [
    "<img src=\"https://raw.githubusercontent.com/ManonYa09/Statistics_with_Python_G7/main/Part%201%20Introduction%20to%20Statistics/Distribution%20of%20Literacy%20Rate.jpg\" width=\"50%\" style=\"display: block; margin: 0 auto;\">"
   ]
  },
  {
   "cell_type": "markdown",
   "id": "760fcd2f-9e69-49f4-b632-729a82d9f750",
   "metadata": {},
   "source": [
    "#### 3.2 Discrete"
   ]
  },
  {
   "cell_type": "code",
   "execution_count": 166,
   "id": "6ff5217f-6e85-4d96-8910-36a99c2dcdc8",
   "metadata": {},
   "outputs": [
    {
     "data": {
      "text/plain": [
       "VILLAGES\n",
       "876     4\n",
       "80      4\n",
       "512     3\n",
       "109     3\n",
       "95      3\n",
       "       ..\n",
       "1168    1\n",
       "404     1\n",
       "1621    1\n",
       "1188    1\n",
       "1458    1\n",
       "Name: count, Length: 576, dtype: int64"
      ]
     },
     "execution_count": 166,
     "metadata": {},
     "output_type": "execute_result"
    }
   ],
   "source": [
    "df['VILLAGES'].value_counts()"
   ]
  },
  {
   "cell_type": "code",
   "execution_count": 162,
   "id": "bcd24281-e486-447c-b494-de3ae183bd38",
   "metadata": {},
   "outputs": [
    {
     "data": {
      "text/plain": [
       "count     680.000000\n",
       "mean      874.614706\n",
       "std       622.711657\n",
       "min         6.000000\n",
       "25%       390.750000\n",
       "50%       785.500000\n",
       "75%      1204.250000\n",
       "max      3963.000000\n",
       "Name: VILLAGES, dtype: float64"
      ]
     },
     "execution_count": 162,
     "metadata": {},
     "output_type": "execute_result"
    }
   ],
   "source": [
    "df['VILLAGES'].describe()"
   ]
  },
  {
   "cell_type": "markdown",
   "id": "7d791442-862f-4a0b-af2e-692427c33db1",
   "metadata": {},
   "source": [
    "### 4. Measures of Central Tendency\n",
    "#### 4.1 Mean\n",
    "- It is calculated by dividing the sum of all values by the count of all observations\n",
    "- It can only be applied to numerical variables (not categorical)\n",
    "\n",
    "`Noted` The main limitation of mean is that it is sensitive to outlier (extreme values)"
   ]
  },
  {
   "cell_type": "markdown",
   "id": "a2f34e2e-12f9-404f-b461-8b11c83c0316",
   "metadata": {},
   "source": [
    "#### 4.2 Median"
   ]
  },
  {
   "cell_type": "markdown",
   "id": "2c06af1b-99a5-4fa6-9623-ff43b86f14c0",
   "metadata": {},
   "source": [
    "<img src=\"https://raw.githubusercontent.com/ManonYa09/Statistics_with_Python_G7/main/%20Slides/photos/2.%20Median.jpg\" alt=\"Control Structure\" width=\"65%\" style=\"display: block; margin: 0 auto;\">"
   ]
  },
  {
   "cell_type": "code",
   "execution_count": 196,
   "id": "ad2d8425-a054-4c17-9d9c-65c8e207a1ae",
   "metadata": {},
   "outputs": [],
   "source": [
    "# df[(df['VILLAGES']>= df['VILLAGES'].median()) & (df['VILLAGES']<=df['VILLAGES'].max())].shape[0]"
   ]
  },
  {
   "cell_type": "markdown",
   "id": "db5e346b-8201-4568-b1d0-54d55eca4fe5",
   "metadata": {},
   "source": [
    "#### 4.3 Mode "
   ]
  },
  {
   "cell_type": "markdown",
   "id": "e8e62cef-f4e7-48c8-8781-3a50d16a8ac4",
   "metadata": {},
   "source": [
    "## 5. Variability"
   ]
  },
  {
   "cell_type": "markdown",
   "id": "91c4ba0e-2b39-4fe1-92d0-3c4405a6a3d4",
   "metadata": {},
   "source": [
    "### 5.1 Measures of Spread"
   ]
  },
  {
   "cell_type": "markdown",
   "id": "fa003b99-e199-4320-ba54-84927ad5e153",
   "metadata": {},
   "source": [
    "#### 5.1.1 Range "
   ]
  },
  {
   "cell_type": "markdown",
   "id": "7d7c21c1-86be-456f-98c2-b35767fee4a2",
   "metadata": {},
   "source": [
    "The **range** is the difference between the largest and smallest value in a dataset. "
   ]
  },
  {
   "cell_type": "markdown",
   "id": "92b4ab38-fb91-4e26-82cf-f4b36c4a225f",
   "metadata": {},
   "source": [
    "#### 5.1.2 Standard Deviation"
   ]
  },
  {
   "cell_type": "markdown",
   "id": "d4bf3149-52f5-410e-9755-20e7c1fcd793",
   "metadata": {},
   "source": [
    "#### 5.1.3 Variance"
   ]
  },
  {
   "cell_type": "markdown",
   "id": "7626dc07-a258-4167-b967-bf6a008610fe",
   "metadata": {},
   "source": [
    "### 6. Measures of Position "
   ]
  },
  {
   "cell_type": "markdown",
   "id": "71b65549-81f0-4521-96dd-510946def393",
   "metadata": {},
   "source": [
    "#### 6.1 Perceptile"
   ]
  },
  {
   "cell_type": "markdown",
   "id": "2373a4eb-2452-4a44-abf2-e763558adf6f",
   "metadata": {},
   "source": []
  },
  {
   "cell_type": "markdown",
   "id": "d4499c81-508a-4f06-981d-d87a85a6a565",
   "metadata": {},
   "source": [
    "<img src=\"https://online.stat.psu.edu/public/stat800/lesson04/500%20l1%2025th%20and%2075th%20percentile.png\" width=\"50%\" style=\"display: block; margin: 0 auto;\">"
   ]
  },
  {
   "cell_type": "code",
   "execution_count": null,
   "id": "d4b84218-74c6-40c5-872f-f76c88514225",
   "metadata": {},
   "outputs": [],
   "source": []
  },
  {
   "cell_type": "markdown",
   "id": "582044d8-7c01-42f1-954a-47ce028efddd",
   "metadata": {},
   "source": [
    "### 6.2 Quartile"
   ]
  },
  {
   "cell_type": "markdown",
   "id": "52beb1b3-9f1d-4ca4-85e5-428ff20ba69f",
   "metadata": {},
   "source": [
    "divides the values in a dataset into four equal parts"
   ]
  },
  {
   "cell_type": "markdown",
   "id": "15896a4f-f657-4276-87b7-145c6bfe8c6b",
   "metadata": {},
   "source": [
    "<img src=\"https://raw.githubusercontent.com/ManonYa09/Statistics_with_Python_G7/main/%20Slides/photos/3.%20Interqualtile%20range.jpg\" width=\"60%\" style=\"display: block; margin: 0 auto;\">"
   ]
  },
  {
   "cell_type": "code",
   "execution_count": 103,
   "id": "d2b6565a-12b1-463b-997f-baf975b6497f",
   "metadata": {},
   "outputs": [
    {
     "data": {
      "text/plain": [
       "array([192, 212, 106,  67,  36,   9,   3,   3,   1,   3,   1])"
      ]
     },
     "execution_count": 103,
     "metadata": {},
     "output_type": "execute_result"
    }
   ],
   "source": [
    "bins = np.arange(0, 12*10**6, 10**6)\n",
    "\n",
    "hist, edges = np.histogram(df['TOTPOPULAT'], bins=bins)\n",
    "\n",
    "hist"
   ]
  },
  {
   "cell_type": "code",
   "execution_count": 105,
   "id": "0a9afc02-2dc9-4ec2-a1fc-6448e940bc41",
   "metadata": {},
   "outputs": [
    {
     "data": {
      "text/plain": [
       "array([       0,  1000000,  2000000,  3000000,  4000000,  5000000,\n",
       "        6000000,  7000000,  8000000,  9000000, 10000000, 11000000])"
      ]
     },
     "execution_count": 105,
     "metadata": {},
     "output_type": "execute_result"
    }
   ],
   "source": [
    "edges"
   ]
  },
  {
   "cell_type": "code",
   "execution_count": null,
   "id": "69b19609-5baa-411b-9526-f591b1fbb2d4",
   "metadata": {},
   "outputs": [],
   "source": []
  }
 ],
 "metadata": {
  "kernelspec": {
   "display_name": "Python 3 (ipykernel)",
   "language": "python",
   "name": "python3"
  },
  "language_info": {
   "codemirror_mode": {
    "name": "ipython",
    "version": 3
   },
   "file_extension": ".py",
   "mimetype": "text/x-python",
   "name": "python",
   "nbconvert_exporter": "python",
   "pygments_lexer": "ipython3",
   "version": "3.11.5"
  }
 },
 "nbformat": 4,
 "nbformat_minor": 5
}
