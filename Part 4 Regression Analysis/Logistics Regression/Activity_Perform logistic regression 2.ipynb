{
 "cells": [
  {
   "cell_type": "markdown",
   "id": "25bd30bd-d1b1-45bd-b91f-b8985774dcb8",
   "metadata": {},
   "source": [
    "<div style=\"padding:20px;\n",
    "            color:white;\n",
    "            margin:10;\n",
    "            font-size:170%;\n",
    "            text-align:left;\n",
    "            display:fill;\n",
    "            border-radius:5px;\n",
    "            background-color:#CA6F1E;\n",
    "            overflow:hidden;\n",
    "            font-weight:700\"><span style='color:#283747'></span>\" Activity: Perform logistic regression \" </div>"
   ]
  },
  {
   "cell_type": "markdown",
   "id": "ee7f0b7d",
   "metadata": {
    "id": "700acefd-8120-42a9-a650-c610467e2a4c",
    "jp-MarkdownHeadingCollapsed": true
   },
   "source": [
    "\n",
    "* Importing packages and loading data\n",
    "* Exploring the data and completing the cleaning process\n",
    "* Building a binomial logistic regression model \n",
    "* Evaluating a binomial logistic regression model using a confusion matrix"
   ]
  },
  {
   "cell_type": "markdown",
   "id": "bd8b690b-bf5a-47f3-aa65-c49b552c7ad7",
   "metadata": {},
   "source": [
    "### **Feature Descriptions**\n",
    "\n",
    "| **Column Name**                        | **Type** | **Description**                                                                                       |\n",
    "|----------------------------------------|----------|-------------------------------------------------------------------------------------------------------|\n",
    "| **Satisfaction**                       | `str`    | Customer’s overall assessment of the airline, either “satisfied” or “dissatisfied”                    |\n",
    "| **Gender\\***                           | `str`    | For purposes of this dataset, “Male” or “Female” were the only two responses                          |\n",
    "| **Customer Type**                      | `str`    | Customer’s loyalty status, either “Loyal Customer” or “Disloyal Customer”                             |\n",
    "| **Age**                                | `int`    | Customer’s age                                                                                        |\n",
    "| **Type of Travel**                     | `str`    | Customer’s reason for travel, either “business” or “personal”                                         |\n",
    "| **Class**                              | `str`    | Customer’s purchased seat class, either “Business,” “Eco,” or “Eco Plus”                              |\n",
    "| **Flight Distance**                    | `int`    | How far the flight traveled (in miles/kilometers)                                                     |\n",
    "| **Seat comfort**                       | `int`    | Customer’s rating of seat comfort (1 to 5 scale)                                                      |\n",
    "| **Departure/Arrival time convenient**  | `int`    | Customer’s rating of convenience for departure and arrival time (1 to 5 scale)                        |\n",
    "| **Food and drink**                     | `int`    | Customer’s rating of food and drink (1 to 5 scale)                                                    |\n",
    "| **Gate location**                      | `int`    | Customer’s rating of the convenience of the gate location (1 to 5 scale)                              |\n",
    "| **Inflight wifi service**              | `int`    | Customer’s rating of the inflight wifi/Internet service (1 to 5 scale)                                |\n",
    "| **Inflight entertainment**             | `int`    | Customer’s rating of inflight entertainment (1 to 5 scale)                                            |\n",
    "| **Online support**                     | `int`    | Customer’s rating of online support services of the airline (1 to 5 scale)                            |\n",
    "| **Ease of online booking**             | `int`    | Customer’s rating of the ease of booking tickets online (1 to 5 scale)                                |\n",
    "| **On-board service**                   | `int`    | Customer’s rating of service by airline personnel (1 to 5 scale)                                      |\n",
    "| **Leg room service**                   | `int`    | Customer’s rating of amount of legroom (1 to 5 scale)                                                 |\n",
    "| **Baggage handling**                   | `int`    | Customer’s rating of convenience or ease of baggage handling (1 to 5 scale)                           |\n",
    "| **Checkin service**                    | `int`    | Customer’s rating of checkin service by airline personnel (1 to 5 scale)                              |\n",
    "| **Cleanliness**                        | `int`    | Customer’s rating of cleanliness of the airplane (1 to 5 scale)                                       |\n",
    "| **Online boarding**                    | `int`    | Customer’s rating of the online boarding process (1 to 5 scale)                                       |\n",
    "| **Departure Delay in Minutes**         | `int`    | Length of the departure delay for the flight measured in minutes                                      |\n",
    "| **Arrival Delay in Minutes**           | `int`    | Length of the arrival delay for the flight measured in minutes                                        |\n",
    "\n"
   ]
  },
  {
   "cell_type": "markdown",
   "id": "abe08328",
   "metadata": {
    "id": "b42252b9-b980-4ee0-8cfd-82f4239b6d1a"
   },
   "source": [
    "#### 0. Imports\n",
    "\n",
    "##### Import packages\n",
    "\n",
    "Import relevant Python packages. Use `train_test_split`, `LogisticRegression`, and various imports from `sklearn.metrics` to build, visualize, and evalute the model."
   ]
  },
  {
   "cell_type": "code",
   "execution_count": 2,
   "id": "38f212a0",
   "metadata": {
    "id": "aacf7b0d-d652-46c4-a9fc-f1ff377bdd0c"
   },
   "outputs": [],
   "source": [
    "import pandas as pd\n",
    "from warnings import filterwarnings\n",
    "filterwarnings('ignore')\n",
    "pd.set_option('display.max_columns', None)"
   ]
  },
  {
   "cell_type": "markdown",
   "id": "ded35c05",
   "metadata": {
    "id": "6b7f8803-44ee-47cf-b97a-efaf5c0fdd59",
    "tags": []
   },
   "source": [
    "#### 1. Load the dataset"
   ]
  },
  {
   "cell_type": "markdown",
   "id": "6498b1fc-85f8-4ffe-980c-24b42416f7a1",
   "metadata": {},
   "source": [
    "You can get the data from this [link](https://raw.githubusercontent.com/ManonYa09/Statistics_with_Python_G7/main/Dataset/YdGwfiz4Tp2RsH4s-E6d5g_fe6fe3c8cf0d49028b6706bf33f91df1_Invistico_Airline.csv)"
   ]
  },
  {
   "cell_type": "code",
   "execution_count": 4,
   "id": "ad3fac40",
   "metadata": {
    "id": "80535d2f-8b1a-4715-b07a-f3734d8cc4c5"
   },
   "outputs": [],
   "source": [
    "df = pd.read_csv(\"https://raw.githubusercontent.com/ManonYa09/Statistics_with_Python_G7/main/Dataset/YdGwfiz4Tp2RsH4s-E6d5g_fe6fe3c8cf0d49028b6706bf33f91df1_Invistico_Airline.csv\")"
   ]
  },
  {
   "cell_type": "code",
   "execution_count": 5,
   "id": "1686b9e3-630b-48f4-a2be-9ccfe3024eb2",
   "metadata": {},
   "outputs": [
    {
     "data": {
      "text/html": [
       "<div>\n",
       "<style scoped>\n",
       "    .dataframe tbody tr th:only-of-type {\n",
       "        vertical-align: middle;\n",
       "    }\n",
       "\n",
       "    .dataframe tbody tr th {\n",
       "        vertical-align: top;\n",
       "    }\n",
       "\n",
       "    .dataframe thead th {\n",
       "        text-align: right;\n",
       "    }\n",
       "</style>\n",
       "<table border=\"1\" class=\"dataframe\">\n",
       "  <thead>\n",
       "    <tr style=\"text-align: right;\">\n",
       "      <th></th>\n",
       "      <th>satisfaction</th>\n",
       "      <th>Customer Type</th>\n",
       "      <th>Age</th>\n",
       "      <th>Type of Travel</th>\n",
       "      <th>Class</th>\n",
       "      <th>Flight Distance</th>\n",
       "      <th>Seat comfort</th>\n",
       "      <th>Departure/Arrival time convenient</th>\n",
       "      <th>Food and drink</th>\n",
       "      <th>Gate location</th>\n",
       "      <th>Inflight wifi service</th>\n",
       "      <th>Inflight entertainment</th>\n",
       "      <th>Online support</th>\n",
       "      <th>Ease of Online booking</th>\n",
       "      <th>On-board service</th>\n",
       "      <th>Leg room service</th>\n",
       "      <th>Baggage handling</th>\n",
       "      <th>Checkin service</th>\n",
       "      <th>Cleanliness</th>\n",
       "      <th>Online boarding</th>\n",
       "      <th>Departure Delay in Minutes</th>\n",
       "      <th>Arrival Delay in Minutes</th>\n",
       "    </tr>\n",
       "  </thead>\n",
       "  <tbody>\n",
       "    <tr>\n",
       "      <th>0</th>\n",
       "      <td>satisfied</td>\n",
       "      <td>Loyal Customer</td>\n",
       "      <td>65</td>\n",
       "      <td>Personal Travel</td>\n",
       "      <td>Eco</td>\n",
       "      <td>265</td>\n",
       "      <td>0</td>\n",
       "      <td>0</td>\n",
       "      <td>0</td>\n",
       "      <td>2</td>\n",
       "      <td>2</td>\n",
       "      <td>4</td>\n",
       "      <td>2</td>\n",
       "      <td>3</td>\n",
       "      <td>3</td>\n",
       "      <td>0</td>\n",
       "      <td>3</td>\n",
       "      <td>5</td>\n",
       "      <td>3</td>\n",
       "      <td>2</td>\n",
       "      <td>0</td>\n",
       "      <td>0.0</td>\n",
       "    </tr>\n",
       "    <tr>\n",
       "      <th>1</th>\n",
       "      <td>satisfied</td>\n",
       "      <td>Loyal Customer</td>\n",
       "      <td>47</td>\n",
       "      <td>Personal Travel</td>\n",
       "      <td>Business</td>\n",
       "      <td>2464</td>\n",
       "      <td>0</td>\n",
       "      <td>0</td>\n",
       "      <td>0</td>\n",
       "      <td>3</td>\n",
       "      <td>0</td>\n",
       "      <td>2</td>\n",
       "      <td>2</td>\n",
       "      <td>3</td>\n",
       "      <td>4</td>\n",
       "      <td>4</td>\n",
       "      <td>4</td>\n",
       "      <td>2</td>\n",
       "      <td>3</td>\n",
       "      <td>2</td>\n",
       "      <td>310</td>\n",
       "      <td>305.0</td>\n",
       "    </tr>\n",
       "  </tbody>\n",
       "</table>\n",
       "</div>"
      ],
      "text/plain": [
       "  satisfaction   Customer Type  Age   Type of Travel     Class  \\\n",
       "0    satisfied  Loyal Customer   65  Personal Travel       Eco   \n",
       "1    satisfied  Loyal Customer   47  Personal Travel  Business   \n",
       "\n",
       "   Flight Distance  Seat comfort  Departure/Arrival time convenient  \\\n",
       "0              265             0                                  0   \n",
       "1             2464             0                                  0   \n",
       "\n",
       "   Food and drink  Gate location  Inflight wifi service  \\\n",
       "0               0              2                      2   \n",
       "1               0              3                      0   \n",
       "\n",
       "   Inflight entertainment  Online support  Ease of Online booking  \\\n",
       "0                       4               2                       3   \n",
       "1                       2               2                       3   \n",
       "\n",
       "   On-board service  Leg room service  Baggage handling  Checkin service  \\\n",
       "0                 3                 0                 3                5   \n",
       "1                 4                 4                 4                2   \n",
       "\n",
       "   Cleanliness  Online boarding  Departure Delay in Minutes  \\\n",
       "0            3                2                           0   \n",
       "1            3                2                         310   \n",
       "\n",
       "   Arrival Delay in Minutes  \n",
       "0                       0.0  \n",
       "1                     305.0  "
      ]
     },
     "execution_count": 5,
     "metadata": {},
     "output_type": "execute_result"
    }
   ],
   "source": [
    "df.head(2)"
   ]
  },
  {
   "cell_type": "code",
   "execution_count": 19,
   "id": "ec575684-d0e7-44e4-ba39-437aec5dd1fd",
   "metadata": {},
   "outputs": [
    {
     "data": {
      "text/plain": [
       "(129880, 22)"
      ]
     },
     "execution_count": 19,
     "metadata": {},
     "output_type": "execute_result"
    }
   ],
   "source": [
    "df.shape"
   ]
  },
  {
   "cell_type": "code",
   "execution_count": 6,
   "id": "a8bffb55-4912-45bb-8011-ffc32ea92077",
   "metadata": {},
   "outputs": [],
   "source": [
    "df.isnull().sum()\n",
    "df.dropna(inplace=True)"
   ]
  },
  {
   "cell_type": "code",
   "execution_count": 26,
   "id": "7024d482-b836-458a-9700-70fbf8db07b2",
   "metadata": {},
   "outputs": [
    {
     "data": {
      "text/plain": [
       "satisfaction                            2\n",
       "Customer Type                           2\n",
       "Age                                    75\n",
       "Type of Travel                          2\n",
       "Class                                   3\n",
       "Flight Distance                      5397\n",
       "Seat comfort                            6\n",
       "Departure/Arrival time convenient       6\n",
       "Food and drink                          6\n",
       "Gate location                           6\n",
       "Inflight wifi service                   6\n",
       "Inflight entertainment                  6\n",
       "Online support                          6\n",
       "Ease of Online booking                  6\n",
       "On-board service                        6\n",
       "Leg room service                        6\n",
       "Baggage handling                        5\n",
       "Checkin service                         6\n",
       "Cleanliness                             6\n",
       "Online boarding                         6\n",
       "Departure Delay in Minutes            464\n",
       "Arrival Delay in Minutes              472\n",
       "dtype: int64"
      ]
     },
     "execution_count": 26,
     "metadata": {},
     "output_type": "execute_result"
    }
   ],
   "source": [
    "df.nunique()"
   ]
  },
  {
   "cell_type": "code",
   "execution_count": 28,
   "id": "67e12156-7007-4290-aaa0-f534a60f1892",
   "metadata": {},
   "outputs": [],
   "source": [
    "yes_no_columns = []\n",
    "num_columns = []\n",
    "cat_no_columns = []\n",
    "\n",
    "for column in df.columns:\n",
    "    if df[column].nunique()==2:\n",
    "       yes_no_columns.append(column)\n",
    "    elif df[column].nunique()<=6:\n",
    "        cat_no_columns.append(column)\n",
    "    else:\n",
    "        num_columns.append(column)"
   ]
  },
  {
   "cell_type": "code",
   "execution_count": 38,
   "id": "b13351a6-9aef-4a55-bdef-da138545ff5a",
   "metadata": {},
   "outputs": [
    {
     "data": {
      "text/html": [
       "<div>\n",
       "<style scoped>\n",
       "    .dataframe tbody tr th:only-of-type {\n",
       "        vertical-align: middle;\n",
       "    }\n",
       "\n",
       "    .dataframe tbody tr th {\n",
       "        vertical-align: top;\n",
       "    }\n",
       "\n",
       "    .dataframe thead th {\n",
       "        text-align: right;\n",
       "    }\n",
       "</style>\n",
       "<table border=\"1\" class=\"dataframe\">\n",
       "  <thead>\n",
       "    <tr style=\"text-align: right;\">\n",
       "      <th></th>\n",
       "      <th>Class</th>\n",
       "      <th>Seat comfort</th>\n",
       "      <th>Departure/Arrival time convenient</th>\n",
       "      <th>Food and drink</th>\n",
       "      <th>Gate location</th>\n",
       "      <th>Inflight wifi service</th>\n",
       "      <th>Inflight entertainment</th>\n",
       "      <th>Online support</th>\n",
       "      <th>Ease of Online booking</th>\n",
       "      <th>On-board service</th>\n",
       "      <th>Leg room service</th>\n",
       "      <th>Baggage handling</th>\n",
       "      <th>Checkin service</th>\n",
       "      <th>Cleanliness</th>\n",
       "      <th>Online boarding</th>\n",
       "    </tr>\n",
       "  </thead>\n",
       "  <tbody>\n",
       "    <tr>\n",
       "      <th>0</th>\n",
       "      <td>Eco</td>\n",
       "      <td>0</td>\n",
       "      <td>0</td>\n",
       "      <td>0</td>\n",
       "      <td>2</td>\n",
       "      <td>2</td>\n",
       "      <td>4</td>\n",
       "      <td>2</td>\n",
       "      <td>3</td>\n",
       "      <td>3</td>\n",
       "      <td>0</td>\n",
       "      <td>3</td>\n",
       "      <td>5</td>\n",
       "      <td>3</td>\n",
       "      <td>2</td>\n",
       "    </tr>\n",
       "    <tr>\n",
       "      <th>1</th>\n",
       "      <td>Business</td>\n",
       "      <td>0</td>\n",
       "      <td>0</td>\n",
       "      <td>0</td>\n",
       "      <td>3</td>\n",
       "      <td>0</td>\n",
       "      <td>2</td>\n",
       "      <td>2</td>\n",
       "      <td>3</td>\n",
       "      <td>4</td>\n",
       "      <td>4</td>\n",
       "      <td>4</td>\n",
       "      <td>2</td>\n",
       "      <td>3</td>\n",
       "      <td>2</td>\n",
       "    </tr>\n",
       "    <tr>\n",
       "      <th>2</th>\n",
       "      <td>Eco</td>\n",
       "      <td>0</td>\n",
       "      <td>0</td>\n",
       "      <td>0</td>\n",
       "      <td>3</td>\n",
       "      <td>2</td>\n",
       "      <td>0</td>\n",
       "      <td>2</td>\n",
       "      <td>2</td>\n",
       "      <td>3</td>\n",
       "      <td>3</td>\n",
       "      <td>4</td>\n",
       "      <td>4</td>\n",
       "      <td>4</td>\n",
       "      <td>2</td>\n",
       "    </tr>\n",
       "    <tr>\n",
       "      <th>3</th>\n",
       "      <td>Eco</td>\n",
       "      <td>0</td>\n",
       "      <td>0</td>\n",
       "      <td>0</td>\n",
       "      <td>3</td>\n",
       "      <td>3</td>\n",
       "      <td>4</td>\n",
       "      <td>3</td>\n",
       "      <td>1</td>\n",
       "      <td>1</td>\n",
       "      <td>0</td>\n",
       "      <td>1</td>\n",
       "      <td>4</td>\n",
       "      <td>1</td>\n",
       "      <td>3</td>\n",
       "    </tr>\n",
       "    <tr>\n",
       "      <th>4</th>\n",
       "      <td>Eco</td>\n",
       "      <td>0</td>\n",
       "      <td>0</td>\n",
       "      <td>0</td>\n",
       "      <td>3</td>\n",
       "      <td>4</td>\n",
       "      <td>3</td>\n",
       "      <td>4</td>\n",
       "      <td>2</td>\n",
       "      <td>2</td>\n",
       "      <td>0</td>\n",
       "      <td>2</td>\n",
       "      <td>4</td>\n",
       "      <td>2</td>\n",
       "      <td>5</td>\n",
       "    </tr>\n",
       "  </tbody>\n",
       "</table>\n",
       "</div>"
      ],
      "text/plain": [
       "      Class  Seat comfort  Departure/Arrival time convenient  Food and drink  \\\n",
       "0       Eco             0                                  0               0   \n",
       "1  Business             0                                  0               0   \n",
       "2       Eco             0                                  0               0   \n",
       "3       Eco             0                                  0               0   \n",
       "4       Eco             0                                  0               0   \n",
       "\n",
       "   Gate location  Inflight wifi service  Inflight entertainment  \\\n",
       "0              2                      2                       4   \n",
       "1              3                      0                       2   \n",
       "2              3                      2                       0   \n",
       "3              3                      3                       4   \n",
       "4              3                      4                       3   \n",
       "\n",
       "   Online support  Ease of Online booking  On-board service  Leg room service  \\\n",
       "0               2                       3                 3                 0   \n",
       "1               2                       3                 4                 4   \n",
       "2               2                       2                 3                 3   \n",
       "3               3                       1                 1                 0   \n",
       "4               4                       2                 2                 0   \n",
       "\n",
       "   Baggage handling  Checkin service  Cleanliness  Online boarding  \n",
       "0                 3                5            3                2  \n",
       "1                 4                2            3                2  \n",
       "2                 4                4            4                2  \n",
       "3                 1                4            1                3  \n",
       "4                 2                4            2                5  "
      ]
     },
     "execution_count": 38,
     "metadata": {},
     "output_type": "execute_result"
    }
   ],
   "source": [
    "df[cat_no_columns].head()"
   ]
  },
  {
   "cell_type": "code",
   "execution_count": 34,
   "id": "19df8a5c-dd57-4bd9-a681-3972af3273fc",
   "metadata": {},
   "outputs": [
    {
     "data": {
      "text/html": [
       "<div>\n",
       "<style scoped>\n",
       "    .dataframe tbody tr th:only-of-type {\n",
       "        vertical-align: middle;\n",
       "    }\n",
       "\n",
       "    .dataframe tbody tr th {\n",
       "        vertical-align: top;\n",
       "    }\n",
       "\n",
       "    .dataframe thead th {\n",
       "        text-align: right;\n",
       "    }\n",
       "</style>\n",
       "<table border=\"1\" class=\"dataframe\">\n",
       "  <thead>\n",
       "    <tr style=\"text-align: right;\">\n",
       "      <th></th>\n",
       "      <th>satisfaction</th>\n",
       "      <th>Customer Type</th>\n",
       "      <th>Type of Travel</th>\n",
       "    </tr>\n",
       "  </thead>\n",
       "  <tbody>\n",
       "    <tr>\n",
       "      <th>0</th>\n",
       "      <td>satisfied</td>\n",
       "      <td>Loyal Customer</td>\n",
       "      <td>Personal Travel</td>\n",
       "    </tr>\n",
       "    <tr>\n",
       "      <th>1</th>\n",
       "      <td>satisfied</td>\n",
       "      <td>Loyal Customer</td>\n",
       "      <td>Personal Travel</td>\n",
       "    </tr>\n",
       "    <tr>\n",
       "      <th>2</th>\n",
       "      <td>satisfied</td>\n",
       "      <td>Loyal Customer</td>\n",
       "      <td>Personal Travel</td>\n",
       "    </tr>\n",
       "    <tr>\n",
       "      <th>3</th>\n",
       "      <td>satisfied</td>\n",
       "      <td>Loyal Customer</td>\n",
       "      <td>Personal Travel</td>\n",
       "    </tr>\n",
       "    <tr>\n",
       "      <th>4</th>\n",
       "      <td>satisfied</td>\n",
       "      <td>Loyal Customer</td>\n",
       "      <td>Personal Travel</td>\n",
       "    </tr>\n",
       "  </tbody>\n",
       "</table>\n",
       "</div>"
      ],
      "text/plain": [
       "  satisfaction   Customer Type   Type of Travel\n",
       "0    satisfied  Loyal Customer  Personal Travel\n",
       "1    satisfied  Loyal Customer  Personal Travel\n",
       "2    satisfied  Loyal Customer  Personal Travel\n",
       "3    satisfied  Loyal Customer  Personal Travel\n",
       "4    satisfied  Loyal Customer  Personal Travel"
      ]
     },
     "execution_count": 34,
     "metadata": {},
     "output_type": "execute_result"
    }
   ],
   "source": [
    "df[yes_no_columns].head()"
   ]
  },
  {
   "cell_type": "markdown",
   "id": "b7937499-d0e9-4f99-b798-781458f9d7f6",
   "metadata": {},
   "source": [
    "#### 2. Exploratory Data Analysis\n",
    "perform Data exploration, data cleaning"
   ]
  },
  {
   "cell_type": "markdown",
   "id": "4e820600-b892-4903-9bc7-e8a4e516269d",
   "metadata": {},
   "source": [
    "#### 2.1 Quick Explorary The Dataset"
   ]
  },
  {
   "cell_type": "markdown",
   "id": "33a059bb-49d3-430a-b39f-afcdebfab3e1",
   "metadata": {},
   "source": [
    "##### 2.2 Data Cleaning"
   ]
  },
  {
   "cell_type": "markdown",
   "id": "dd8e8afe",
   "metadata": {
    "id": "d7ccd368"
   },
   "source": [
    "##### Explore the data\n",
    "\n",
    "Check the data type of each column. Note that logistic regression models expect numeric data. "
   ]
  },
  {
   "cell_type": "markdown",
   "id": "8ae118aa-d1c8-45f4-8f77-bf5324299b4a",
   "metadata": {},
   "source": [
    "##### 2.3 Diagnostics Analytics"
   ]
  },
  {
   "cell_type": "markdown",
   "id": "4e9a319e",
   "metadata": {
    "id": "4c0c5682"
   },
   "source": [
    "**Prepare the data**\n",
    "\n",
    "If you want to create a plot (`sns.regplot`) of your model to visualize results later in the notebook, the independent variable `Inflight entertainment` cannot be \"of type int\" and the dependent variable `satisfaction` cannot be \"of type object.\" \n",
    "\n",
    "Make the `Inflight entertainment` column \"of type float.\" "
   ]
  },
  {
   "cell_type": "markdown",
   "id": "6129d99c-5a5a-41fc-8a24-6d49b8a75b86",
   "metadata": {},
   "source": [
    "### 3. Data Preprocessing , "
   ]
  },
  {
   "cell_type": "markdown",
   "id": "e14cf78b-1aa4-4966-923a-372866c5b591",
   "metadata": {},
   "source": [
    "**Prepare the data**\n",
    "\n",
    "After loading the dataset, prepare the data to be suitable for a logistic regression model. This includes: \n",
    "*   Encoding the data\n",
    "*   Renaming a column\n",
    "*   Creating the training and testing data"
   ]
  },
  {
   "cell_type": "markdown",
   "id": "324ef2ef-15eb-4e1f-8ef0-ba824b69179d",
   "metadata": {},
   "source": [
    "#### 3.1 Feature Encoding\n",
    "<!-- ##### 3.1.1 One-hot Encoding -->\n",
    "##### 3.1.2 Two-hot Encoding or label encoding\n",
    "##### 3.1.2 Multicolinearity"
   ]
  },
  {
   "cell_type": "code",
   "execution_count": null,
   "id": "7902270d-8f33-4edb-9ef9-35c0ea00da3f",
   "metadata": {},
   "outputs": [],
   "source": [
    "model: input (number) : output (number)"
   ]
  },
  {
   "cell_type": "code",
   "execution_count": 14,
   "id": "7d02e1bb-fbcc-4b2c-8fc1-617126888aac",
   "metadata": {},
   "outputs": [
    {
     "data": {
      "text/plain": [
       "Type of Travel\n",
       "Business travel    89445\n",
       "Personal Travel    40042\n",
       "Name: count, dtype: int64"
      ]
     },
     "execution_count": 14,
     "metadata": {},
     "output_type": "execute_result"
    }
   ],
   "source": [
    "df['Type of Travel'].value_counts()"
   ]
  },
  {
   "cell_type": "code",
   "execution_count": 16,
   "id": "901927a4-3a12-493d-82fa-3094eb01730c",
   "metadata": {},
   "outputs": [
    {
     "data": {
      "text/plain": [
       "Class\n",
       "Business    61990\n",
       "Eco         58117\n",
       "Eco Plus     9380\n",
       "Name: count, dtype: int64"
      ]
     },
     "execution_count": 16,
     "metadata": {},
     "output_type": "execute_result"
    }
   ],
   "source": [
    "df['Class'].value_counts()"
   ]
  },
  {
   "cell_type": "code",
   "execution_count": 18,
   "id": "28e0dd6a-5086-4301-810f-c54acc74d622",
   "metadata": {},
   "outputs": [],
   "source": [
    "df = df.replace({'Loyal Customer':1,'disloyal Customer':0\n",
    "            ,'Business travel':1,'Personal Travel':0,\n",
    "           'Eco':0,'Eco Plus':1,'Business':2,\n",
    "           'satisfied':1,'dissatisfied':0})"
   ]
  },
  {
   "cell_type": "code",
   "execution_count": 48,
   "id": "0a15368a-0eb7-43a2-b279-21e2ce1ec197",
   "metadata": {},
   "outputs": [
    {
     "data": {
      "text/html": [
       "<div>\n",
       "<style scoped>\n",
       "    .dataframe tbody tr th:only-of-type {\n",
       "        vertical-align: middle;\n",
       "    }\n",
       "\n",
       "    .dataframe tbody tr th {\n",
       "        vertical-align: top;\n",
       "    }\n",
       "\n",
       "    .dataframe thead th {\n",
       "        text-align: right;\n",
       "    }\n",
       "</style>\n",
       "<table border=\"1\" class=\"dataframe\">\n",
       "  <thead>\n",
       "    <tr style=\"text-align: right;\">\n",
       "      <th></th>\n",
       "      <th>satisfaction</th>\n",
       "      <th>Customer Type</th>\n",
       "      <th>Age</th>\n",
       "      <th>Type of Travel</th>\n",
       "      <th>Class</th>\n",
       "      <th>Flight Distance</th>\n",
       "      <th>Seat comfort</th>\n",
       "      <th>Departure/Arrival time convenient</th>\n",
       "      <th>Food and drink</th>\n",
       "      <th>Gate location</th>\n",
       "      <th>Inflight wifi service</th>\n",
       "      <th>Inflight entertainment</th>\n",
       "      <th>Online support</th>\n",
       "      <th>Ease of Online booking</th>\n",
       "      <th>On-board service</th>\n",
       "      <th>Leg room service</th>\n",
       "      <th>Baggage handling</th>\n",
       "      <th>Checkin service</th>\n",
       "      <th>Cleanliness</th>\n",
       "      <th>Online boarding</th>\n",
       "      <th>Departure Delay in Minutes</th>\n",
       "      <th>Arrival Delay in Minutes</th>\n",
       "    </tr>\n",
       "  </thead>\n",
       "  <tbody>\n",
       "    <tr>\n",
       "      <th>0</th>\n",
       "      <td>1</td>\n",
       "      <td>1</td>\n",
       "      <td>65</td>\n",
       "      <td>1</td>\n",
       "      <td>0</td>\n",
       "      <td>265</td>\n",
       "      <td>0</td>\n",
       "      <td>0</td>\n",
       "      <td>0</td>\n",
       "      <td>2</td>\n",
       "      <td>2</td>\n",
       "      <td>4</td>\n",
       "      <td>2</td>\n",
       "      <td>3</td>\n",
       "      <td>3</td>\n",
       "      <td>0</td>\n",
       "      <td>3</td>\n",
       "      <td>5</td>\n",
       "      <td>3</td>\n",
       "      <td>2</td>\n",
       "      <td>0</td>\n",
       "      <td>0.0</td>\n",
       "    </tr>\n",
       "    <tr>\n",
       "      <th>1</th>\n",
       "      <td>1</td>\n",
       "      <td>1</td>\n",
       "      <td>47</td>\n",
       "      <td>1</td>\n",
       "      <td>2</td>\n",
       "      <td>2464</td>\n",
       "      <td>0</td>\n",
       "      <td>0</td>\n",
       "      <td>0</td>\n",
       "      <td>3</td>\n",
       "      <td>0</td>\n",
       "      <td>2</td>\n",
       "      <td>2</td>\n",
       "      <td>3</td>\n",
       "      <td>4</td>\n",
       "      <td>4</td>\n",
       "      <td>4</td>\n",
       "      <td>2</td>\n",
       "      <td>3</td>\n",
       "      <td>2</td>\n",
       "      <td>310</td>\n",
       "      <td>305.0</td>\n",
       "    </tr>\n",
       "    <tr>\n",
       "      <th>2</th>\n",
       "      <td>1</td>\n",
       "      <td>1</td>\n",
       "      <td>15</td>\n",
       "      <td>1</td>\n",
       "      <td>0</td>\n",
       "      <td>2138</td>\n",
       "      <td>0</td>\n",
       "      <td>0</td>\n",
       "      <td>0</td>\n",
       "      <td>3</td>\n",
       "      <td>2</td>\n",
       "      <td>0</td>\n",
       "      <td>2</td>\n",
       "      <td>2</td>\n",
       "      <td>3</td>\n",
       "      <td>3</td>\n",
       "      <td>4</td>\n",
       "      <td>4</td>\n",
       "      <td>4</td>\n",
       "      <td>2</td>\n",
       "      <td>0</td>\n",
       "      <td>0.0</td>\n",
       "    </tr>\n",
       "    <tr>\n",
       "      <th>3</th>\n",
       "      <td>1</td>\n",
       "      <td>1</td>\n",
       "      <td>60</td>\n",
       "      <td>1</td>\n",
       "      <td>0</td>\n",
       "      <td>623</td>\n",
       "      <td>0</td>\n",
       "      <td>0</td>\n",
       "      <td>0</td>\n",
       "      <td>3</td>\n",
       "      <td>3</td>\n",
       "      <td>4</td>\n",
       "      <td>3</td>\n",
       "      <td>1</td>\n",
       "      <td>1</td>\n",
       "      <td>0</td>\n",
       "      <td>1</td>\n",
       "      <td>4</td>\n",
       "      <td>1</td>\n",
       "      <td>3</td>\n",
       "      <td>0</td>\n",
       "      <td>0.0</td>\n",
       "    </tr>\n",
       "    <tr>\n",
       "      <th>4</th>\n",
       "      <td>1</td>\n",
       "      <td>1</td>\n",
       "      <td>70</td>\n",
       "      <td>1</td>\n",
       "      <td>0</td>\n",
       "      <td>354</td>\n",
       "      <td>0</td>\n",
       "      <td>0</td>\n",
       "      <td>0</td>\n",
       "      <td>3</td>\n",
       "      <td>4</td>\n",
       "      <td>3</td>\n",
       "      <td>4</td>\n",
       "      <td>2</td>\n",
       "      <td>2</td>\n",
       "      <td>0</td>\n",
       "      <td>2</td>\n",
       "      <td>4</td>\n",
       "      <td>2</td>\n",
       "      <td>5</td>\n",
       "      <td>0</td>\n",
       "      <td>0.0</td>\n",
       "    </tr>\n",
       "  </tbody>\n",
       "</table>\n",
       "</div>"
      ],
      "text/plain": [
       "   satisfaction  Customer Type  Age  Type of Travel  Class  Flight Distance  \\\n",
       "0             1              1   65               1      0              265   \n",
       "1             1              1   47               1      2             2464   \n",
       "2             1              1   15               1      0             2138   \n",
       "3             1              1   60               1      0              623   \n",
       "4             1              1   70               1      0              354   \n",
       "\n",
       "   Seat comfort  Departure/Arrival time convenient  Food and drink  \\\n",
       "0             0                                  0               0   \n",
       "1             0                                  0               0   \n",
       "2             0                                  0               0   \n",
       "3             0                                  0               0   \n",
       "4             0                                  0               0   \n",
       "\n",
       "   Gate location  Inflight wifi service  Inflight entertainment  \\\n",
       "0              2                      2                       4   \n",
       "1              3                      0                       2   \n",
       "2              3                      2                       0   \n",
       "3              3                      3                       4   \n",
       "4              3                      4                       3   \n",
       "\n",
       "   Online support  Ease of Online booking  On-board service  Leg room service  \\\n",
       "0               2                       3                 3                 0   \n",
       "1               2                       3                 4                 4   \n",
       "2               2                       2                 3                 3   \n",
       "3               3                       1                 1                 0   \n",
       "4               4                       2                 2                 0   \n",
       "\n",
       "   Baggage handling  Checkin service  Cleanliness  Online boarding  \\\n",
       "0                 3                5            3                2   \n",
       "1                 4                2            3                2   \n",
       "2                 4                4            4                2   \n",
       "3                 1                4            1                3   \n",
       "4                 2                4            2                5   \n",
       "\n",
       "   Departure Delay in Minutes  Arrival Delay in Minutes  \n",
       "0                           0                       0.0  \n",
       "1                         310                     305.0  \n",
       "2                           0                       0.0  \n",
       "3                           0                       0.0  \n",
       "4                           0                       0.0  "
      ]
     },
     "execution_count": 48,
     "metadata": {},
     "output_type": "execute_result"
    }
   ],
   "source": [
    "df.head()"
   ]
  },
  {
   "cell_type": "markdown",
   "id": "07d12ac9-996a-42c7-8dd3-13a8c97c8222",
   "metadata": {},
   "source": [
    "### Feature Scaling"
   ]
  },
  {
   "cell_type": "code",
   "execution_count": 129,
   "id": "4bf60f9b-0834-41ae-adbe-f24430ce2d37",
   "metadata": {},
   "outputs": [],
   "source": [
    "from sklearn.preprocessing import MinMaxScaler, StandardScaler"
   ]
  },
  {
   "cell_type": "code",
   "execution_count": 131,
   "id": "78aef612-509e-45a6-a556-ad8b77be3465",
   "metadata": {},
   "outputs": [],
   "source": [
    "Min_Max = MinMaxScaler()"
   ]
  },
  {
   "cell_type": "code",
   "execution_count": 135,
   "id": "e9345f41-2506-44c3-888a-ed43e3bc812d",
   "metadata": {},
   "outputs": [],
   "source": [
    "x_train_sclaing = Min_Max.fit_transform(x_train)"
   ]
  },
  {
   "cell_type": "code",
   "execution_count": 139,
   "id": "4d8dc178-6f13-45df-b055-236ee81c056c",
   "metadata": {},
   "outputs": [],
   "source": [
    "x_train_sclaing =pd.DataFrame(x_train_sclaing, columns=x_train.columns)"
   ]
  },
  {
   "cell_type": "code",
   "execution_count": 50,
   "id": "79341671-2a96-477c-8b6c-f020d7455cb6",
   "metadata": {},
   "outputs": [],
   "source": [
    "# df['Customer Type'].value_counts()"
   ]
  },
  {
   "cell_type": "code",
   "execution_count": null,
   "id": "523fa4bb-a2b3-49b9-8bb7-edbfcbf396df",
   "metadata": {},
   "outputs": [],
   "source": []
  },
  {
   "cell_type": "code",
   "execution_count": 24,
   "id": "f3378d22-33b4-44d5-8336-614394af5ede",
   "metadata": {},
   "outputs": [],
   "source": [
    "x = df.drop(columns=['satisfaction'])\n",
    "y = df['satisfaction']"
   ]
  },
  {
   "cell_type": "code",
   "execution_count": null,
   "id": "86297c2f-6601-4ecb-afdd-4cbb80b0b16a",
   "metadata": {},
   "outputs": [],
   "source": [
    "### Model 0"
   ]
  },
  {
   "cell_type": "code",
   "execution_count": 141,
   "id": "5a1ee5af-4951-42ba-a989-5bc9957f5571",
   "metadata": {},
   "outputs": [],
   "source": [
    "Logit2 = LogisticRegression()"
   ]
  },
  {
   "cell_type": "code",
   "execution_count": 143,
   "id": "3752fc8f-3289-490f-a3a7-b9e90db8a148",
   "metadata": {},
   "outputs": [
    {
     "data": {
      "text/html": [
       "<style>#sk-container-id-2 {color: black;background-color: white;}#sk-container-id-2 pre{padding: 0;}#sk-container-id-2 div.sk-toggleable {background-color: white;}#sk-container-id-2 label.sk-toggleable__label {cursor: pointer;display: block;width: 100%;margin-bottom: 0;padding: 0.3em;box-sizing: border-box;text-align: center;}#sk-container-id-2 label.sk-toggleable__label-arrow:before {content: \"▸\";float: left;margin-right: 0.25em;color: #696969;}#sk-container-id-2 label.sk-toggleable__label-arrow:hover:before {color: black;}#sk-container-id-2 div.sk-estimator:hover label.sk-toggleable__label-arrow:before {color: black;}#sk-container-id-2 div.sk-toggleable__content {max-height: 0;max-width: 0;overflow: hidden;text-align: left;background-color: #f0f8ff;}#sk-container-id-2 div.sk-toggleable__content pre {margin: 0.2em;color: black;border-radius: 0.25em;background-color: #f0f8ff;}#sk-container-id-2 input.sk-toggleable__control:checked~div.sk-toggleable__content {max-height: 200px;max-width: 100%;overflow: auto;}#sk-container-id-2 input.sk-toggleable__control:checked~label.sk-toggleable__label-arrow:before {content: \"▾\";}#sk-container-id-2 div.sk-estimator input.sk-toggleable__control:checked~label.sk-toggleable__label {background-color: #d4ebff;}#sk-container-id-2 div.sk-label input.sk-toggleable__control:checked~label.sk-toggleable__label {background-color: #d4ebff;}#sk-container-id-2 input.sk-hidden--visually {border: 0;clip: rect(1px 1px 1px 1px);clip: rect(1px, 1px, 1px, 1px);height: 1px;margin: -1px;overflow: hidden;padding: 0;position: absolute;width: 1px;}#sk-container-id-2 div.sk-estimator {font-family: monospace;background-color: #f0f8ff;border: 1px dotted black;border-radius: 0.25em;box-sizing: border-box;margin-bottom: 0.5em;}#sk-container-id-2 div.sk-estimator:hover {background-color: #d4ebff;}#sk-container-id-2 div.sk-parallel-item::after {content: \"\";width: 100%;border-bottom: 1px solid gray;flex-grow: 1;}#sk-container-id-2 div.sk-label:hover label.sk-toggleable__label {background-color: #d4ebff;}#sk-container-id-2 div.sk-serial::before {content: \"\";position: absolute;border-left: 1px solid gray;box-sizing: border-box;top: 0;bottom: 0;left: 50%;z-index: 0;}#sk-container-id-2 div.sk-serial {display: flex;flex-direction: column;align-items: center;background-color: white;padding-right: 0.2em;padding-left: 0.2em;position: relative;}#sk-container-id-2 div.sk-item {position: relative;z-index: 1;}#sk-container-id-2 div.sk-parallel {display: flex;align-items: stretch;justify-content: center;background-color: white;position: relative;}#sk-container-id-2 div.sk-item::before, #sk-container-id-2 div.sk-parallel-item::before {content: \"\";position: absolute;border-left: 1px solid gray;box-sizing: border-box;top: 0;bottom: 0;left: 50%;z-index: -1;}#sk-container-id-2 div.sk-parallel-item {display: flex;flex-direction: column;z-index: 1;position: relative;background-color: white;}#sk-container-id-2 div.sk-parallel-item:first-child::after {align-self: flex-end;width: 50%;}#sk-container-id-2 div.sk-parallel-item:last-child::after {align-self: flex-start;width: 50%;}#sk-container-id-2 div.sk-parallel-item:only-child::after {width: 0;}#sk-container-id-2 div.sk-dashed-wrapped {border: 1px dashed gray;margin: 0 0.4em 0.5em 0.4em;box-sizing: border-box;padding-bottom: 0.4em;background-color: white;}#sk-container-id-2 div.sk-label label {font-family: monospace;font-weight: bold;display: inline-block;line-height: 1.2em;}#sk-container-id-2 div.sk-label-container {text-align: center;}#sk-container-id-2 div.sk-container {/* jupyter's `normalize.less` sets `[hidden] { display: none; }` but bootstrap.min.css set `[hidden] { display: none !important; }` so we also need the `!important` here to be able to override the default hidden behavior on the sphinx rendered scikit-learn.org. See: https://github.com/scikit-learn/scikit-learn/issues/21755 */display: inline-block !important;position: relative;}#sk-container-id-2 div.sk-text-repr-fallback {display: none;}</style><div id=\"sk-container-id-2\" class=\"sk-top-container\"><div class=\"sk-text-repr-fallback\"><pre>LogisticRegression()</pre><b>In a Jupyter environment, please rerun this cell to show the HTML representation or trust the notebook. <br />On GitHub, the HTML representation is unable to render, please try loading this page with nbviewer.org.</b></div><div class=\"sk-container\" hidden><div class=\"sk-item\"><div class=\"sk-estimator sk-toggleable\"><input class=\"sk-toggleable__control sk-hidden--visually\" id=\"sk-estimator-id-2\" type=\"checkbox\" checked><label for=\"sk-estimator-id-2\" class=\"sk-toggleable__label sk-toggleable__label-arrow\">LogisticRegression</label><div class=\"sk-toggleable__content\"><pre>LogisticRegression()</pre></div></div></div></div></div>"
      ],
      "text/plain": [
       "LogisticRegression()"
      ]
     },
     "execution_count": 143,
     "metadata": {},
     "output_type": "execute_result"
    }
   ],
   "source": [
    "Logit2.fit(x_train_sclaing, y_train)"
   ]
  },
  {
   "cell_type": "code",
   "execution_count": 149,
   "id": "824fc5dc-0be7-4e60-ab27-18d76dc40617",
   "metadata": {},
   "outputs": [
    {
     "data": {
      "text/plain": [
       "Index(['Customer Type', 'Age', 'Type of Travel', 'Class', 'Flight Distance',\n",
       "       'Seat comfort', 'Departure/Arrival time convenient', 'Food and drink',\n",
       "       'Gate location', 'Inflight wifi service', 'Inflight entertainment',\n",
       "       'Online support', 'Ease of Online booking', 'On-board service',\n",
       "       'Leg room service', 'Baggage handling', 'Checkin service',\n",
       "       'Cleanliness', 'Online boarding', 'Departure Delay in Minutes',\n",
       "       'Arrival Delay in Minutes'],\n",
       "      dtype='object')"
      ]
     },
     "execution_count": 149,
     "metadata": {},
     "output_type": "execute_result"
    }
   ],
   "source": [
    "x_train_sclaing.columns"
   ]
  },
  {
   "cell_type": "code",
   "execution_count": 147,
   "id": "0208aeed-c27a-4151-8271-d3436b84a5ea",
   "metadata": {},
   "outputs": [
    {
     "data": {
      "text/plain": [
       "array([[ 1.86908139, -0.65889955,  0.77746193,  0.69217961, -1.19105753,\n",
       "         1.37960266, -1.09424608, -1.00468309,  0.60118818, -0.44653588,\n",
       "         3.60701466,  0.52905524,  1.23429326,  1.58803172,  1.19093379,\n",
       "         0.36013769,  1.44903938,  0.31343921,  0.73485094, -0.92780465,\n",
       "        -4.93706441]])"
      ]
     },
     "execution_count": 147,
     "metadata": {},
     "output_type": "execute_result"
    }
   ],
   "source": [
    "Logit2.coef_"
   ]
  },
  {
   "cell_type": "code",
   "execution_count": null,
   "id": "0ac29b5e-65a5-47ef-98ad-ea8070be9e82",
   "metadata": {},
   "outputs": [],
   "source": []
  },
  {
   "cell_type": "code",
   "execution_count": 28,
   "id": "07c884da-e369-48b5-90a7-767944ebb2f9",
   "metadata": {},
   "outputs": [],
   "source": [
    "from sklearn.model_selection import train_test_split\n",
    "x_train, x_test, y_train, y_test = train_test_split(x, y)"
   ]
  },
  {
   "cell_type": "code",
   "execution_count": 30,
   "id": "1c11340a-e155-4f1a-ae90-a3649ee9cc14",
   "metadata": {},
   "outputs": [
    {
     "data": {
      "text/html": [
       "<style>#sk-container-id-1 {color: black;background-color: white;}#sk-container-id-1 pre{padding: 0;}#sk-container-id-1 div.sk-toggleable {background-color: white;}#sk-container-id-1 label.sk-toggleable__label {cursor: pointer;display: block;width: 100%;margin-bottom: 0;padding: 0.3em;box-sizing: border-box;text-align: center;}#sk-container-id-1 label.sk-toggleable__label-arrow:before {content: \"▸\";float: left;margin-right: 0.25em;color: #696969;}#sk-container-id-1 label.sk-toggleable__label-arrow:hover:before {color: black;}#sk-container-id-1 div.sk-estimator:hover label.sk-toggleable__label-arrow:before {color: black;}#sk-container-id-1 div.sk-toggleable__content {max-height: 0;max-width: 0;overflow: hidden;text-align: left;background-color: #f0f8ff;}#sk-container-id-1 div.sk-toggleable__content pre {margin: 0.2em;color: black;border-radius: 0.25em;background-color: #f0f8ff;}#sk-container-id-1 input.sk-toggleable__control:checked~div.sk-toggleable__content {max-height: 200px;max-width: 100%;overflow: auto;}#sk-container-id-1 input.sk-toggleable__control:checked~label.sk-toggleable__label-arrow:before {content: \"▾\";}#sk-container-id-1 div.sk-estimator input.sk-toggleable__control:checked~label.sk-toggleable__label {background-color: #d4ebff;}#sk-container-id-1 div.sk-label input.sk-toggleable__control:checked~label.sk-toggleable__label {background-color: #d4ebff;}#sk-container-id-1 input.sk-hidden--visually {border: 0;clip: rect(1px 1px 1px 1px);clip: rect(1px, 1px, 1px, 1px);height: 1px;margin: -1px;overflow: hidden;padding: 0;position: absolute;width: 1px;}#sk-container-id-1 div.sk-estimator {font-family: monospace;background-color: #f0f8ff;border: 1px dotted black;border-radius: 0.25em;box-sizing: border-box;margin-bottom: 0.5em;}#sk-container-id-1 div.sk-estimator:hover {background-color: #d4ebff;}#sk-container-id-1 div.sk-parallel-item::after {content: \"\";width: 100%;border-bottom: 1px solid gray;flex-grow: 1;}#sk-container-id-1 div.sk-label:hover label.sk-toggleable__label {background-color: #d4ebff;}#sk-container-id-1 div.sk-serial::before {content: \"\";position: absolute;border-left: 1px solid gray;box-sizing: border-box;top: 0;bottom: 0;left: 50%;z-index: 0;}#sk-container-id-1 div.sk-serial {display: flex;flex-direction: column;align-items: center;background-color: white;padding-right: 0.2em;padding-left: 0.2em;position: relative;}#sk-container-id-1 div.sk-item {position: relative;z-index: 1;}#sk-container-id-1 div.sk-parallel {display: flex;align-items: stretch;justify-content: center;background-color: white;position: relative;}#sk-container-id-1 div.sk-item::before, #sk-container-id-1 div.sk-parallel-item::before {content: \"\";position: absolute;border-left: 1px solid gray;box-sizing: border-box;top: 0;bottom: 0;left: 50%;z-index: -1;}#sk-container-id-1 div.sk-parallel-item {display: flex;flex-direction: column;z-index: 1;position: relative;background-color: white;}#sk-container-id-1 div.sk-parallel-item:first-child::after {align-self: flex-end;width: 50%;}#sk-container-id-1 div.sk-parallel-item:last-child::after {align-self: flex-start;width: 50%;}#sk-container-id-1 div.sk-parallel-item:only-child::after {width: 0;}#sk-container-id-1 div.sk-dashed-wrapped {border: 1px dashed gray;margin: 0 0.4em 0.5em 0.4em;box-sizing: border-box;padding-bottom: 0.4em;background-color: white;}#sk-container-id-1 div.sk-label label {font-family: monospace;font-weight: bold;display: inline-block;line-height: 1.2em;}#sk-container-id-1 div.sk-label-container {text-align: center;}#sk-container-id-1 div.sk-container {/* jupyter's `normalize.less` sets `[hidden] { display: none; }` but bootstrap.min.css set `[hidden] { display: none !important; }` so we also need the `!important` here to be able to override the default hidden behavior on the sphinx rendered scikit-learn.org. See: https://github.com/scikit-learn/scikit-learn/issues/21755 */display: inline-block !important;position: relative;}#sk-container-id-1 div.sk-text-repr-fallback {display: none;}</style><div id=\"sk-container-id-1\" class=\"sk-top-container\"><div class=\"sk-text-repr-fallback\"><pre>LogisticRegression()</pre><b>In a Jupyter environment, please rerun this cell to show the HTML representation or trust the notebook. <br />On GitHub, the HTML representation is unable to render, please try loading this page with nbviewer.org.</b></div><div class=\"sk-container\" hidden><div class=\"sk-item\"><div class=\"sk-estimator sk-toggleable\"><input class=\"sk-toggleable__control sk-hidden--visually\" id=\"sk-estimator-id-1\" type=\"checkbox\" checked><label for=\"sk-estimator-id-1\" class=\"sk-toggleable__label sk-toggleable__label-arrow\">LogisticRegression</label><div class=\"sk-toggleable__content\"><pre>LogisticRegression()</pre></div></div></div></div></div>"
      ],
      "text/plain": [
       "LogisticRegression()"
      ]
     },
     "execution_count": 30,
     "metadata": {},
     "output_type": "execute_result"
    }
   ],
   "source": [
    "from sklearn.linear_model import LogisticRegression\n",
    "Logit = LogisticRegression()\n",
    "Logit.fit(x_train, y_train)"
   ]
  },
  {
   "cell_type": "code",
   "execution_count": null,
   "id": "162c4365-e62c-4941-8432-7b16ffed12bc",
   "metadata": {},
   "outputs": [],
   "source": [
    "1/(1+e**(-(b_0+b1x1)))"
   ]
  },
  {
   "cell_type": "code",
   "execution_count": 65,
   "id": "4e3b6485-94c9-45ce-98e4-95c3f3db63e0",
   "metadata": {},
   "outputs": [
    {
     "data": {
      "text/plain": [
       "array([-0.16733041])"
      ]
     },
     "execution_count": 65,
     "metadata": {},
     "output_type": "execute_result"
    }
   ],
   "source": [
    "Logit.intercept_"
   ]
  },
  {
   "cell_type": "code",
   "execution_count": 67,
   "id": "02359946-8cb1-4362-b6cf-e2ba3f953626",
   "metadata": {},
   "outputs": [
    {
     "data": {
      "text/plain": [
       "array([[ 1.53021366e-01, -2.21830263e-02, -1.67328384e-01,\n",
       "         4.47297810e-01, -4.08655532e-04,  1.88857526e-01,\n",
       "        -2.28419295e-01, -2.70571429e-02, -2.39448734e-01,\n",
       "        -2.28926470e-01,  6.25540951e-01,  1.13615887e-01,\n",
       "         2.20640486e-01,  1.74807549e-01,  1.07853155e-01,\n",
       "        -1.02930160e-01,  4.08456761e-02, -1.25322054e-01,\n",
       "         4.77152479e-03,  3.41383333e-03, -8.76593246e-03]])"
      ]
     },
     "execution_count": 67,
     "metadata": {},
     "output_type": "execute_result"
    }
   ],
   "source": [
    "Logit.coef_"
   ]
  },
  {
   "cell_type": "code",
   "execution_count": 50,
   "id": "b4bcf0ec-e6fa-43b2-b806-9718dd20021c",
   "metadata": {},
   "outputs": [
    {
     "data": {
      "text/plain": [
       "15875     0\n",
       "37042     0\n",
       "29962     1\n",
       "74466     0\n",
       "80934     1\n",
       "         ..\n",
       "18005     0\n",
       "92190     1\n",
       "56020     0\n",
       "119498    1\n",
       "128901    1\n",
       "Name: satisfaction, Length: 32372, dtype: int64"
      ]
     },
     "execution_count": 50,
     "metadata": {},
     "output_type": "execute_result"
    }
   ],
   "source": [
    "y_test"
   ]
  },
  {
   "cell_type": "code",
   "execution_count": 56,
   "id": "2ed1b77a-d640-4c68-81a9-2d2fb7b9439b",
   "metadata": {},
   "outputs": [
    {
     "data": {
      "text/plain": [
       "count    129487.000000\n",
       "mean       1981.008974\n",
       "std        1026.884131\n",
       "min          50.000000\n",
       "25%        1359.000000\n",
       "50%        1924.000000\n",
       "75%        2543.000000\n",
       "max        6951.000000\n",
       "Name: Flight Distance, dtype: float64"
      ]
     },
     "execution_count": 56,
     "metadata": {},
     "output_type": "execute_result"
    }
   ],
   "source": [
    "df['Flight Distance'].describe()"
   ]
  },
  {
   "cell_type": "code",
   "execution_count": 58,
   "id": "a89d8c87-3267-4161-b919-207d597f2431",
   "metadata": {},
   "outputs": [],
   "source": [
    "import seaborn as sns\n",
    "import matplotlib.pyplot as plt"
   ]
  },
  {
   "cell_type": "code",
   "execution_count": 72,
   "id": "82125c72-dfca-4079-8089-ac8fa6a83c7c",
   "metadata": {},
   "outputs": [
    {
     "data": {
      "image/png": "[encoded data removed]",
      "text/plain": [
       "<Figure size 1200x500 with 3 Axes>"
      ]
     },
     "metadata": {},
     "output_type": "display_data"
    }
   ],
   "source": [
    "fig, ax = plt.subplots(1, 3, figsize = (12, 5))\n",
    "sns.boxplot(y = df['Age'], ax = ax[0])\n",
    "sns.boxplot(y = df['Flight Distance'], ax = ax[1])\n",
    "sns.boxplot(y = df['Departure Delay in Minutes'], ax = ax[2])\n",
    "plt.tight_layout()"
   ]
  },
  {
   "cell_type": "code",
   "execution_count": 74,
   "id": "1ef4bff6-e8c7-41ce-90e9-dbb043daa4ae",
   "metadata": {},
   "outputs": [],
   "source": [
    "def outlier_detection(df):\n",
    "    \"\"\"\n",
    "    \"\"\"\n",
    "    Q1 = df.quantile(0.25)\n",
    "    Q3 = df.quantile(0.75)\n",
    "    IQR = Q3 - Q1\n",
    "    upper_end = Q3 + 1.5 * IQR\n",
    "    lower_end = Q1 - 1.5 * IQR\n",
    "    outliers = df[(df > upper_end) | (df < lower_end)]\n",
    "    return outliers"
   ]
  },
  {
   "cell_type": "code",
   "execution_count": null,
   "id": "c1e5edd0-4c05-4be9-9fe2-deee665390c9",
   "metadata": {},
   "outputs": [],
   "source": [
    "age (1, 100): -5000"
   ]
  },
  {
   "cell_type": "code",
   "execution_count": 102,
   "id": "8a433824-1bb9-40c9-bc5e-e88020c46d24",
   "metadata": {},
   "outputs": [],
   "source": [
    "out_lier = df.loc[outlier_detection(df['Departure Delay in Minutes']).index]"
   ]
  },
  {
   "cell_type": "code",
   "execution_count": 106,
   "id": "9ea1c963-8345-4c12-a87d-e8081839d046",
   "metadata": {},
   "outputs": [
    {
     "data": {
      "text/plain": [
       "Index([     1,     10,     14,     30,     41,     81,    126,    154,    175,\n",
       "          192,\n",
       "       ...\n",
       "       129839, 129842, 129843, 129845, 129855, 129870, 129876, 129877, 129878,\n",
       "       129879],\n",
       "      dtype='int64', length=17970)"
      ]
     },
     "execution_count": 106,
     "metadata": {},
     "output_type": "execute_result"
    }
   ],
   "source": [
    "out_lier.index"
   ]
  },
  {
   "cell_type": "code",
   "execution_count": 96,
   "id": "0fb70d03-6c4f-4772-85f3-b8502a56d323",
   "metadata": {},
   "outputs": [
    {
     "data": {
      "text/html": [
       "<div>\n",
       "<style scoped>\n",
       "    .dataframe tbody tr th:only-of-type {\n",
       "        vertical-align: middle;\n",
       "    }\n",
       "\n",
       "    .dataframe tbody tr th {\n",
       "        vertical-align: top;\n",
       "    }\n",
       "\n",
       "    .dataframe thead th {\n",
       "        text-align: right;\n",
       "    }\n",
       "</style>\n",
       "<table border=\"1\" class=\"dataframe\">\n",
       "  <thead>\n",
       "    <tr style=\"text-align: right;\">\n",
       "      <th></th>\n",
       "      <th>satisfaction</th>\n",
       "      <th>Customer Type</th>\n",
       "      <th>Age</th>\n",
       "      <th>Type of Travel</th>\n",
       "      <th>Class</th>\n",
       "      <th>Flight Distance</th>\n",
       "      <th>Seat comfort</th>\n",
       "      <th>Departure/Arrival time convenient</th>\n",
       "      <th>Food and drink</th>\n",
       "      <th>Gate location</th>\n",
       "      <th>Inflight wifi service</th>\n",
       "      <th>Inflight entertainment</th>\n",
       "      <th>Online support</th>\n",
       "      <th>Ease of Online booking</th>\n",
       "      <th>On-board service</th>\n",
       "      <th>Leg room service</th>\n",
       "      <th>Baggage handling</th>\n",
       "      <th>Checkin service</th>\n",
       "      <th>Cleanliness</th>\n",
       "      <th>Online boarding</th>\n",
       "      <th>Departure Delay in Minutes</th>\n",
       "      <th>Arrival Delay in Minutes</th>\n",
       "    </tr>\n",
       "  </thead>\n",
       "  <tbody>\n",
       "    <tr>\n",
       "      <th>0</th>\n",
       "      <td>1</td>\n",
       "      <td>1</td>\n",
       "      <td>65</td>\n",
       "      <td>0</td>\n",
       "      <td>0</td>\n",
       "      <td>265</td>\n",
       "      <td>0</td>\n",
       "      <td>0</td>\n",
       "      <td>0</td>\n",
       "      <td>2</td>\n",
       "      <td>2</td>\n",
       "      <td>4</td>\n",
       "      <td>2</td>\n",
       "      <td>3</td>\n",
       "      <td>3</td>\n",
       "      <td>0</td>\n",
       "      <td>3</td>\n",
       "      <td>5</td>\n",
       "      <td>3</td>\n",
       "      <td>2</td>\n",
       "      <td>0</td>\n",
       "      <td>0.0</td>\n",
       "    </tr>\n",
       "    <tr>\n",
       "      <th>2</th>\n",
       "      <td>1</td>\n",
       "      <td>1</td>\n",
       "      <td>15</td>\n",
       "      <td>0</td>\n",
       "      <td>0</td>\n",
       "      <td>2138</td>\n",
       "      <td>0</td>\n",
       "      <td>0</td>\n",
       "      <td>0</td>\n",
       "      <td>3</td>\n",
       "      <td>2</td>\n",
       "      <td>0</td>\n",
       "      <td>2</td>\n",
       "      <td>2</td>\n",
       "      <td>3</td>\n",
       "      <td>3</td>\n",
       "      <td>4</td>\n",
       "      <td>4</td>\n",
       "      <td>4</td>\n",
       "      <td>2</td>\n",
       "      <td>0</td>\n",
       "      <td>0.0</td>\n",
       "    </tr>\n",
       "    <tr>\n",
       "      <th>3</th>\n",
       "      <td>1</td>\n",
       "      <td>1</td>\n",
       "      <td>60</td>\n",
       "      <td>0</td>\n",
       "      <td>0</td>\n",
       "      <td>623</td>\n",
       "      <td>0</td>\n",
       "      <td>0</td>\n",
       "      <td>0</td>\n",
       "      <td>3</td>\n",
       "      <td>3</td>\n",
       "      <td>4</td>\n",
       "      <td>3</td>\n",
       "      <td>1</td>\n",
       "      <td>1</td>\n",
       "      <td>0</td>\n",
       "      <td>1</td>\n",
       "      <td>4</td>\n",
       "      <td>1</td>\n",
       "      <td>3</td>\n",
       "      <td>0</td>\n",
       "      <td>0.0</td>\n",
       "    </tr>\n",
       "    <tr>\n",
       "      <th>4</th>\n",
       "      <td>1</td>\n",
       "      <td>1</td>\n",
       "      <td>70</td>\n",
       "      <td>0</td>\n",
       "      <td>0</td>\n",
       "      <td>354</td>\n",
       "      <td>0</td>\n",
       "      <td>0</td>\n",
       "      <td>0</td>\n",
       "      <td>3</td>\n",
       "      <td>4</td>\n",
       "      <td>3</td>\n",
       "      <td>4</td>\n",
       "      <td>2</td>\n",
       "      <td>2</td>\n",
       "      <td>0</td>\n",
       "      <td>2</td>\n",
       "      <td>4</td>\n",
       "      <td>2</td>\n",
       "      <td>5</td>\n",
       "      <td>0</td>\n",
       "      <td>0.0</td>\n",
       "    </tr>\n",
       "    <tr>\n",
       "      <th>5</th>\n",
       "      <td>1</td>\n",
       "      <td>1</td>\n",
       "      <td>30</td>\n",
       "      <td>0</td>\n",
       "      <td>0</td>\n",
       "      <td>1894</td>\n",
       "      <td>0</td>\n",
       "      <td>0</td>\n",
       "      <td>0</td>\n",
       "      <td>3</td>\n",
       "      <td>2</td>\n",
       "      <td>0</td>\n",
       "      <td>2</td>\n",
       "      <td>2</td>\n",
       "      <td>5</td>\n",
       "      <td>4</td>\n",
       "      <td>5</td>\n",
       "      <td>5</td>\n",
       "      <td>4</td>\n",
       "      <td>2</td>\n",
       "      <td>0</td>\n",
       "      <td>0.0</td>\n",
       "    </tr>\n",
       "    <tr>\n",
       "      <th>...</th>\n",
       "      <td>...</td>\n",
       "      <td>...</td>\n",
       "      <td>...</td>\n",
       "      <td>...</td>\n",
       "      <td>...</td>\n",
       "      <td>...</td>\n",
       "      <td>...</td>\n",
       "      <td>...</td>\n",
       "      <td>...</td>\n",
       "      <td>...</td>\n",
       "      <td>...</td>\n",
       "      <td>...</td>\n",
       "      <td>...</td>\n",
       "      <td>...</td>\n",
       "      <td>...</td>\n",
       "      <td>...</td>\n",
       "      <td>...</td>\n",
       "      <td>...</td>\n",
       "      <td>...</td>\n",
       "      <td>...</td>\n",
       "      <td>...</td>\n",
       "      <td>...</td>\n",
       "    </tr>\n",
       "    <tr>\n",
       "      <th>129869</th>\n",
       "      <td>1</td>\n",
       "      <td>0</td>\n",
       "      <td>55</td>\n",
       "      <td>0</td>\n",
       "      <td>0</td>\n",
       "      <td>1953</td>\n",
       "      <td>5</td>\n",
       "      <td>2</td>\n",
       "      <td>5</td>\n",
       "      <td>4</td>\n",
       "      <td>1</td>\n",
       "      <td>5</td>\n",
       "      <td>5</td>\n",
       "      <td>1</td>\n",
       "      <td>1</td>\n",
       "      <td>1</td>\n",
       "      <td>3</td>\n",
       "      <td>3</td>\n",
       "      <td>4</td>\n",
       "      <td>1</td>\n",
       "      <td>0</td>\n",
       "      <td>0.0</td>\n",
       "    </tr>\n",
       "    <tr>\n",
       "      <th>129871</th>\n",
       "      <td>1</td>\n",
       "      <td>0</td>\n",
       "      <td>35</td>\n",
       "      <td>0</td>\n",
       "      <td>0</td>\n",
       "      <td>3287</td>\n",
       "      <td>5</td>\n",
       "      <td>4</td>\n",
       "      <td>5</td>\n",
       "      <td>3</td>\n",
       "      <td>2</td>\n",
       "      <td>5</td>\n",
       "      <td>2</td>\n",
       "      <td>2</td>\n",
       "      <td>4</td>\n",
       "      <td>5</td>\n",
       "      <td>4</td>\n",
       "      <td>4</td>\n",
       "      <td>3</td>\n",
       "      <td>2</td>\n",
       "      <td>9</td>\n",
       "      <td>0.0</td>\n",
       "    </tr>\n",
       "    <tr>\n",
       "      <th>129872</th>\n",
       "      <td>1</td>\n",
       "      <td>0</td>\n",
       "      <td>69</td>\n",
       "      <td>0</td>\n",
       "      <td>0</td>\n",
       "      <td>2240</td>\n",
       "      <td>5</td>\n",
       "      <td>4</td>\n",
       "      <td>5</td>\n",
       "      <td>3</td>\n",
       "      <td>4</td>\n",
       "      <td>5</td>\n",
       "      <td>4</td>\n",
       "      <td>4</td>\n",
       "      <td>5</td>\n",
       "      <td>4</td>\n",
       "      <td>4</td>\n",
       "      <td>3</td>\n",
       "      <td>4</td>\n",
       "      <td>4</td>\n",
       "      <td>4</td>\n",
       "      <td>0.0</td>\n",
       "    </tr>\n",
       "    <tr>\n",
       "      <th>129874</th>\n",
       "      <td>1</td>\n",
       "      <td>0</td>\n",
       "      <td>11</td>\n",
       "      <td>0</td>\n",
       "      <td>0</td>\n",
       "      <td>2752</td>\n",
       "      <td>5</td>\n",
       "      <td>5</td>\n",
       "      <td>5</td>\n",
       "      <td>2</td>\n",
       "      <td>2</td>\n",
       "      <td>5</td>\n",
       "      <td>2</td>\n",
       "      <td>2</td>\n",
       "      <td>3</td>\n",
       "      <td>5</td>\n",
       "      <td>3</td>\n",
       "      <td>5</td>\n",
       "      <td>4</td>\n",
       "      <td>2</td>\n",
       "      <td>5</td>\n",
       "      <td>0.0</td>\n",
       "    </tr>\n",
       "    <tr>\n",
       "      <th>129875</th>\n",
       "      <td>1</td>\n",
       "      <td>0</td>\n",
       "      <td>29</td>\n",
       "      <td>0</td>\n",
       "      <td>0</td>\n",
       "      <td>1731</td>\n",
       "      <td>5</td>\n",
       "      <td>5</td>\n",
       "      <td>5</td>\n",
       "      <td>3</td>\n",
       "      <td>2</td>\n",
       "      <td>5</td>\n",
       "      <td>2</td>\n",
       "      <td>2</td>\n",
       "      <td>3</td>\n",
       "      <td>3</td>\n",
       "      <td>4</td>\n",
       "      <td>4</td>\n",
       "      <td>4</td>\n",
       "      <td>2</td>\n",
       "      <td>0</td>\n",
       "      <td>0.0</td>\n",
       "    </tr>\n",
       "  </tbody>\n",
       "</table>\n",
       "<p>111517 rows × 22 columns</p>\n",
       "</div>"
      ],
      "text/plain": [
       "        satisfaction  Customer Type  Age  Type of Travel  Class  \\\n",
       "0                  1              1   65               0      0   \n",
       "2                  1              1   15               0      0   \n",
       "3                  1              1   60               0      0   \n",
       "4                  1              1   70               0      0   \n",
       "5                  1              1   30               0      0   \n",
       "...              ...            ...  ...             ...    ...   \n",
       "129869             1              0   55               0      0   \n",
       "129871             1              0   35               0      0   \n",
       "129872             1              0   69               0      0   \n",
       "129874             1              0   11               0      0   \n",
       "129875             1              0   29               0      0   \n",
       "\n",
       "        Flight Distance  Seat comfort  Departure/Arrival time convenient  \\\n",
       "0                   265             0                                  0   \n",
       "2                  2138             0                                  0   \n",
       "3                   623             0                                  0   \n",
       "4                   354             0                                  0   \n",
       "5                  1894             0                                  0   \n",
       "...                 ...           ...                                ...   \n",
       "129869             1953             5                                  2   \n",
       "129871             3287             5                                  4   \n",
       "129872             2240             5                                  4   \n",
       "129874             2752             5                                  5   \n",
       "129875             1731             5                                  5   \n",
       "\n",
       "        Food and drink  Gate location  Inflight wifi service  \\\n",
       "0                    0              2                      2   \n",
       "2                    0              3                      2   \n",
       "3                    0              3                      3   \n",
       "4                    0              3                      4   \n",
       "5                    0              3                      2   \n",
       "...                ...            ...                    ...   \n",
       "129869               5              4                      1   \n",
       "129871               5              3                      2   \n",
       "129872               5              3                      4   \n",
       "129874               5              2                      2   \n",
       "129875               5              3                      2   \n",
       "\n",
       "        Inflight entertainment  Online support  Ease of Online booking  \\\n",
       "0                            4               2                       3   \n",
       "2                            0               2                       2   \n",
       "3                            4               3                       1   \n",
       "4                            3               4                       2   \n",
       "5                            0               2                       2   \n",
       "...                        ...             ...                     ...   \n",
       "129869                       5               5                       1   \n",
       "129871                       5               2                       2   \n",
       "129872                       5               4                       4   \n",
       "129874                       5               2                       2   \n",
       "129875                       5               2                       2   \n",
       "\n",
       "        On-board service  Leg room service  Baggage handling  Checkin service  \\\n",
       "0                      3                 0                 3                5   \n",
       "2                      3                 3                 4                4   \n",
       "3                      1                 0                 1                4   \n",
       "4                      2                 0                 2                4   \n",
       "5                      5                 4                 5                5   \n",
       "...                  ...               ...               ...              ...   \n",
       "129869                 1                 1                 3                3   \n",
       "129871                 4                 5                 4                4   \n",
       "129872                 5                 4                 4                3   \n",
       "129874                 3                 5                 3                5   \n",
       "129875                 3                 3                 4                4   \n",
       "\n",
       "        Cleanliness  Online boarding  Departure Delay in Minutes  \\\n",
       "0                 3                2                           0   \n",
       "2                 4                2                           0   \n",
       "3                 1                3                           0   \n",
       "4                 2                5                           0   \n",
       "5                 4                2                           0   \n",
       "...             ...              ...                         ...   \n",
       "129869            4                1                           0   \n",
       "129871            3                2                           9   \n",
       "129872            4                4                           4   \n",
       "129874            4                2                           5   \n",
       "129875            4                2                           0   \n",
       "\n",
       "        Arrival Delay in Minutes  \n",
       "0                            0.0  \n",
       "2                            0.0  \n",
       "3                            0.0  \n",
       "4                            0.0  \n",
       "5                            0.0  \n",
       "...                          ...  \n",
       "129869                       0.0  \n",
       "129871                       0.0  \n",
       "129872                       0.0  \n",
       "129874                       0.0  \n",
       "129875                       0.0  \n",
       "\n",
       "[111517 rows x 22 columns]"
      ]
     },
     "execution_count": 96,
     "metadata": {},
     "output_type": "execute_result"
    }
   ],
   "source": [
    "dataset2 = df.drop(index =outlier_detection(df['Departure Delay in Minutes']).index)"
   ]
  },
  {
   "cell_type": "code",
   "execution_count": 90,
   "id": "7e777097-8925-4f4e-b326-7e765cbfaace",
   "metadata": {},
   "outputs": [
    {
     "data": {
      "text/plain": [
       "Index([     1,     10,     14,     30,     41,     81,    126,    154,    175,\n",
       "          192,\n",
       "       ...\n",
       "       129839, 129842, 129843, 129845, 129855, 129870, 129876, 129877, 129878,\n",
       "       129879],\n",
       "      dtype='int64', length=17970)"
      ]
     },
     "execution_count": 90,
     "metadata": {},
     "output_type": "execute_result"
    }
   ],
   "source": [
    "outlier_detection(df['Departure Delay in Minutes']).index"
   ]
  },
  {
   "cell_type": "code",
   "execution_count": 52,
   "id": "939c8fd5-0e03-45c0-a017-f41d80dba0c9",
   "metadata": {},
   "outputs": [
    {
     "data": {
      "text/plain": [
       "satisfaction                            2\n",
       "Customer Type                           2\n",
       "Age                                    75\n",
       "Type of Travel                          2\n",
       "Class                                   3\n",
       "Flight Distance                      5397\n",
       "Seat comfort                            6\n",
       "Departure/Arrival time convenient       6\n",
       "Food and drink                          6\n",
       "Gate location                           6\n",
       "Inflight wifi service                   6\n",
       "Inflight entertainment                  6\n",
       "Online support                          6\n",
       "Ease of Online booking                  6\n",
       "On-board service                        6\n",
       "Leg room service                        6\n",
       "Baggage handling                        5\n",
       "Checkin service                         6\n",
       "Cleanliness                             6\n",
       "Online boarding                         6\n",
       "Departure Delay in Minutes            464\n",
       "Arrival Delay in Minutes              472\n",
       "dtype: int64"
      ]
     },
     "execution_count": 52,
     "metadata": {},
     "output_type": "execute_result"
    }
   ],
   "source": [
    "df.nunique()"
   ]
  },
  {
   "cell_type": "code",
   "execution_count": 48,
   "id": "ee493d6a-de9a-400b-9cae-84a315218d2a",
   "metadata": {},
   "outputs": [
    {
     "data": {
      "text/html": [
       "<div>\n",
       "<style scoped>\n",
       "    .dataframe tbody tr th:only-of-type {\n",
       "        vertical-align: middle;\n",
       "    }\n",
       "\n",
       "    .dataframe tbody tr th {\n",
       "        vertical-align: top;\n",
       "    }\n",
       "\n",
       "    .dataframe thead th {\n",
       "        text-align: right;\n",
       "    }\n",
       "</style>\n",
       "<table border=\"1\" class=\"dataframe\">\n",
       "  <thead>\n",
       "    <tr style=\"text-align: right;\">\n",
       "      <th></th>\n",
       "      <th>Customer Type</th>\n",
       "      <th>Age</th>\n",
       "      <th>Type of Travel</th>\n",
       "      <th>Class</th>\n",
       "      <th>Flight Distance</th>\n",
       "      <th>Seat comfort</th>\n",
       "      <th>Departure/Arrival time convenient</th>\n",
       "      <th>Food and drink</th>\n",
       "      <th>Gate location</th>\n",
       "      <th>Inflight wifi service</th>\n",
       "      <th>Inflight entertainment</th>\n",
       "      <th>Online support</th>\n",
       "      <th>Ease of Online booking</th>\n",
       "      <th>On-board service</th>\n",
       "      <th>Leg room service</th>\n",
       "      <th>Baggage handling</th>\n",
       "      <th>Checkin service</th>\n",
       "      <th>Cleanliness</th>\n",
       "      <th>Online boarding</th>\n",
       "      <th>Departure Delay in Minutes</th>\n",
       "      <th>Arrival Delay in Minutes</th>\n",
       "    </tr>\n",
       "  </thead>\n",
       "  <tbody>\n",
       "    <tr>\n",
       "      <th>15875</th>\n",
       "      <td>1</td>\n",
       "      <td>45</td>\n",
       "      <td>0</td>\n",
       "      <td>0</td>\n",
       "      <td>1789</td>\n",
       "      <td>2</td>\n",
       "      <td>4</td>\n",
       "      <td>3</td>\n",
       "      <td>2</td>\n",
       "      <td>2</td>\n",
       "      <td>3</td>\n",
       "      <td>2</td>\n",
       "      <td>2</td>\n",
       "      <td>5</td>\n",
       "      <td>4</td>\n",
       "      <td>5</td>\n",
       "      <td>3</td>\n",
       "      <td>4</td>\n",
       "      <td>2</td>\n",
       "      <td>0</td>\n",
       "      <td>0.0</td>\n",
       "    </tr>\n",
       "    <tr>\n",
       "      <th>37042</th>\n",
       "      <td>1</td>\n",
       "      <td>49</td>\n",
       "      <td>0</td>\n",
       "      <td>0</td>\n",
       "      <td>2202</td>\n",
       "      <td>4</td>\n",
       "      <td>5</td>\n",
       "      <td>4</td>\n",
       "      <td>2</td>\n",
       "      <td>4</td>\n",
       "      <td>3</td>\n",
       "      <td>3</td>\n",
       "      <td>4</td>\n",
       "      <td>4</td>\n",
       "      <td>4</td>\n",
       "      <td>4</td>\n",
       "      <td>3</td>\n",
       "      <td>5</td>\n",
       "      <td>3</td>\n",
       "      <td>152</td>\n",
       "      <td>153.0</td>\n",
       "    </tr>\n",
       "    <tr>\n",
       "      <th>29962</th>\n",
       "      <td>1</td>\n",
       "      <td>53</td>\n",
       "      <td>0</td>\n",
       "      <td>0</td>\n",
       "      <td>1769</td>\n",
       "      <td>1</td>\n",
       "      <td>1</td>\n",
       "      <td>1</td>\n",
       "      <td>1</td>\n",
       "      <td>5</td>\n",
       "      <td>4</td>\n",
       "      <td>3</td>\n",
       "      <td>5</td>\n",
       "      <td>5</td>\n",
       "      <td>5</td>\n",
       "      <td>5</td>\n",
       "      <td>5</td>\n",
       "      <td>5</td>\n",
       "      <td>3</td>\n",
       "      <td>20</td>\n",
       "      <td>5.0</td>\n",
       "    </tr>\n",
       "    <tr>\n",
       "      <th>74466</th>\n",
       "      <td>1</td>\n",
       "      <td>32</td>\n",
       "      <td>1</td>\n",
       "      <td>2</td>\n",
       "      <td>4776</td>\n",
       "      <td>2</td>\n",
       "      <td>1</td>\n",
       "      <td>3</td>\n",
       "      <td>1</td>\n",
       "      <td>2</td>\n",
       "      <td>2</td>\n",
       "      <td>2</td>\n",
       "      <td>2</td>\n",
       "      <td>1</td>\n",
       "      <td>5</td>\n",
       "      <td>3</td>\n",
       "      <td>1</td>\n",
       "      <td>4</td>\n",
       "      <td>2</td>\n",
       "      <td>0</td>\n",
       "      <td>0.0</td>\n",
       "    </tr>\n",
       "    <tr>\n",
       "      <th>80934</th>\n",
       "      <td>1</td>\n",
       "      <td>52</td>\n",
       "      <td>1</td>\n",
       "      <td>2</td>\n",
       "      <td>2281</td>\n",
       "      <td>5</td>\n",
       "      <td>5</td>\n",
       "      <td>5</td>\n",
       "      <td>5</td>\n",
       "      <td>1</td>\n",
       "      <td>3</td>\n",
       "      <td>2</td>\n",
       "      <td>3</td>\n",
       "      <td>3</td>\n",
       "      <td>3</td>\n",
       "      <td>3</td>\n",
       "      <td>4</td>\n",
       "      <td>3</td>\n",
       "      <td>4</td>\n",
       "      <td>0</td>\n",
       "      <td>0.0</td>\n",
       "    </tr>\n",
       "    <tr>\n",
       "      <th>...</th>\n",
       "      <td>...</td>\n",
       "      <td>...</td>\n",
       "      <td>...</td>\n",
       "      <td>...</td>\n",
       "      <td>...</td>\n",
       "      <td>...</td>\n",
       "      <td>...</td>\n",
       "      <td>...</td>\n",
       "      <td>...</td>\n",
       "      <td>...</td>\n",
       "      <td>...</td>\n",
       "      <td>...</td>\n",
       "      <td>...</td>\n",
       "      <td>...</td>\n",
       "      <td>...</td>\n",
       "      <td>...</td>\n",
       "      <td>...</td>\n",
       "      <td>...</td>\n",
       "      <td>...</td>\n",
       "      <td>...</td>\n",
       "      <td>...</td>\n",
       "    </tr>\n",
       "    <tr>\n",
       "      <th>18005</th>\n",
       "      <td>1</td>\n",
       "      <td>51</td>\n",
       "      <td>0</td>\n",
       "      <td>0</td>\n",
       "      <td>2156</td>\n",
       "      <td>2</td>\n",
       "      <td>5</td>\n",
       "      <td>2</td>\n",
       "      <td>3</td>\n",
       "      <td>1</td>\n",
       "      <td>2</td>\n",
       "      <td>1</td>\n",
       "      <td>1</td>\n",
       "      <td>3</td>\n",
       "      <td>5</td>\n",
       "      <td>4</td>\n",
       "      <td>4</td>\n",
       "      <td>1</td>\n",
       "      <td>1</td>\n",
       "      <td>0</td>\n",
       "      <td>0.0</td>\n",
       "    </tr>\n",
       "    <tr>\n",
       "      <th>92190</th>\n",
       "      <td>1</td>\n",
       "      <td>49</td>\n",
       "      <td>1</td>\n",
       "      <td>2</td>\n",
       "      <td>382</td>\n",
       "      <td>2</td>\n",
       "      <td>2</td>\n",
       "      <td>2</td>\n",
       "      <td>2</td>\n",
       "      <td>4</td>\n",
       "      <td>4</td>\n",
       "      <td>2</td>\n",
       "      <td>4</td>\n",
       "      <td>4</td>\n",
       "      <td>4</td>\n",
       "      <td>4</td>\n",
       "      <td>1</td>\n",
       "      <td>4</td>\n",
       "      <td>5</td>\n",
       "      <td>6</td>\n",
       "      <td>0.0</td>\n",
       "    </tr>\n",
       "    <tr>\n",
       "      <th>56020</th>\n",
       "      <td>0</td>\n",
       "      <td>36</td>\n",
       "      <td>1</td>\n",
       "      <td>0</td>\n",
       "      <td>1628</td>\n",
       "      <td>3</td>\n",
       "      <td>4</td>\n",
       "      <td>3</td>\n",
       "      <td>4</td>\n",
       "      <td>2</td>\n",
       "      <td>3</td>\n",
       "      <td>2</td>\n",
       "      <td>2</td>\n",
       "      <td>2</td>\n",
       "      <td>2</td>\n",
       "      <td>3</td>\n",
       "      <td>3</td>\n",
       "      <td>4</td>\n",
       "      <td>2</td>\n",
       "      <td>0</td>\n",
       "      <td>0.0</td>\n",
       "    </tr>\n",
       "    <tr>\n",
       "      <th>119498</th>\n",
       "      <td>1</td>\n",
       "      <td>39</td>\n",
       "      <td>1</td>\n",
       "      <td>2</td>\n",
       "      <td>1742</td>\n",
       "      <td>1</td>\n",
       "      <td>1</td>\n",
       "      <td>1</td>\n",
       "      <td>1</td>\n",
       "      <td>3</td>\n",
       "      <td>4</td>\n",
       "      <td>4</td>\n",
       "      <td>5</td>\n",
       "      <td>5</td>\n",
       "      <td>5</td>\n",
       "      <td>5</td>\n",
       "      <td>4</td>\n",
       "      <td>5</td>\n",
       "      <td>5</td>\n",
       "      <td>0</td>\n",
       "      <td>10.0</td>\n",
       "    </tr>\n",
       "    <tr>\n",
       "      <th>128901</th>\n",
       "      <td>1</td>\n",
       "      <td>17</td>\n",
       "      <td>1</td>\n",
       "      <td>2</td>\n",
       "      <td>2022</td>\n",
       "      <td>5</td>\n",
       "      <td>5</td>\n",
       "      <td>5</td>\n",
       "      <td>5</td>\n",
       "      <td>5</td>\n",
       "      <td>5</td>\n",
       "      <td>5</td>\n",
       "      <td>5</td>\n",
       "      <td>4</td>\n",
       "      <td>1</td>\n",
       "      <td>2</td>\n",
       "      <td>2</td>\n",
       "      <td>5</td>\n",
       "      <td>5</td>\n",
       "      <td>4</td>\n",
       "      <td>32.0</td>\n",
       "    </tr>\n",
       "  </tbody>\n",
       "</table>\n",
       "<p>32372 rows × 21 columns</p>\n",
       "</div>"
      ],
      "text/plain": [
       "        Customer Type  Age  Type of Travel  Class  Flight Distance  \\\n",
       "15875               1   45               0      0             1789   \n",
       "37042               1   49               0      0             2202   \n",
       "29962               1   53               0      0             1769   \n",
       "74466               1   32               1      2             4776   \n",
       "80934               1   52               1      2             2281   \n",
       "...               ...  ...             ...    ...              ...   \n",
       "18005               1   51               0      0             2156   \n",
       "92190               1   49               1      2              382   \n",
       "56020               0   36               1      0             1628   \n",
       "119498              1   39               1      2             1742   \n",
       "128901              1   17               1      2             2022   \n",
       "\n",
       "        Seat comfort  Departure/Arrival time convenient  Food and drink  \\\n",
       "15875              2                                  4               3   \n",
       "37042              4                                  5               4   \n",
       "29962              1                                  1               1   \n",
       "74466              2                                  1               3   \n",
       "80934              5                                  5               5   \n",
       "...              ...                                ...             ...   \n",
       "18005              2                                  5               2   \n",
       "92190              2                                  2               2   \n",
       "56020              3                                  4               3   \n",
       "119498             1                                  1               1   \n",
       "128901             5                                  5               5   \n",
       "\n",
       "        Gate location  Inflight wifi service  Inflight entertainment  \\\n",
       "15875               2                      2                       3   \n",
       "37042               2                      4                       3   \n",
       "29962               1                      5                       4   \n",
       "74466               1                      2                       2   \n",
       "80934               5                      1                       3   \n",
       "...               ...                    ...                     ...   \n",
       "18005               3                      1                       2   \n",
       "92190               2                      4                       4   \n",
       "56020               4                      2                       3   \n",
       "119498              1                      3                       4   \n",
       "128901              5                      5                       5   \n",
       "\n",
       "        Online support  Ease of Online booking  On-board service  \\\n",
       "15875                2                       2                 5   \n",
       "37042                3                       4                 4   \n",
       "29962                3                       5                 5   \n",
       "74466                2                       2                 1   \n",
       "80934                2                       3                 3   \n",
       "...                ...                     ...               ...   \n",
       "18005                1                       1                 3   \n",
       "92190                2                       4                 4   \n",
       "56020                2                       2                 2   \n",
       "119498               4                       5                 5   \n",
       "128901               5                       5                 4   \n",
       "\n",
       "        Leg room service  Baggage handling  Checkin service  Cleanliness  \\\n",
       "15875                  4                 5                3            4   \n",
       "37042                  4                 4                3            5   \n",
       "29962                  5                 5                5            5   \n",
       "74466                  5                 3                1            4   \n",
       "80934                  3                 3                4            3   \n",
       "...                  ...               ...              ...          ...   \n",
       "18005                  5                 4                4            1   \n",
       "92190                  4                 4                1            4   \n",
       "56020                  2                 3                3            4   \n",
       "119498                 5                 5                4            5   \n",
       "128901                 1                 2                2            5   \n",
       "\n",
       "        Online boarding  Departure Delay in Minutes  Arrival Delay in Minutes  \n",
       "15875                 2                           0                       0.0  \n",
       "37042                 3                         152                     153.0  \n",
       "29962                 3                          20                       5.0  \n",
       "74466                 2                           0                       0.0  \n",
       "80934                 4                           0                       0.0  \n",
       "...                 ...                         ...                       ...  \n",
       "18005                 1                           0                       0.0  \n",
       "92190                 5                           6                       0.0  \n",
       "56020                 2                           0                       0.0  \n",
       "119498                5                           0                      10.0  \n",
       "128901                5                           4                      32.0  \n",
       "\n",
       "[32372 rows x 21 columns]"
      ]
     },
     "execution_count": 48,
     "metadata": {},
     "output_type": "execute_result"
    }
   ],
   "source": [
    "x_test,"
   ]
  },
  {
   "cell_type": "code",
   "execution_count": null,
   "id": "42515eaa-3fe0-497d-ab89-6afb353ab274",
   "metadata": {},
   "outputs": [],
   "source": [
    "Multiple , error = y_actual - y_pred"
   ]
  },
  {
   "cell_type": "code",
   "execution_count": 36,
   "id": "6bfa806c-efde-418a-bfce-e000154b184f",
   "metadata": {},
   "outputs": [],
   "source": [
    "from sklearn.metrics import confusion_matrix"
   ]
  },
  {
   "cell_type": "code",
   "execution_count": 38,
   "id": "6d8e2a83-83fd-457c-a178-50f5546655d3",
   "metadata": {},
   "outputs": [],
   "source": [
    "y_pred = Logit.predict(x_test)"
   ]
  },
  {
   "cell_type": "code",
   "execution_count": 42,
   "id": "5b39f310-87db-42b8-9eb3-db2611e158ee",
   "metadata": {},
   "outputs": [],
   "source": [
    "error = y_test==y_pred"
   ]
  },
  {
   "cell_type": "code",
   "execution_count": 44,
   "id": "feac8241-1e84-4bf9-b449-b41632b58bbc",
   "metadata": {},
   "outputs": [
    {
     "data": {
      "text/plain": [
       "satisfaction\n",
       "True     24718\n",
       "False     7654\n",
       "Name: count, dtype: int64"
      ]
     },
     "execution_count": 44,
     "metadata": {},
     "output_type": "execute_result"
    }
   ],
   "source": [
    "error.value_counts()"
   ]
  },
  {
   "cell_type": "code",
   "execution_count": 46,
   "id": "a1b92235-1975-4eef-a1cc-fe1719c2f8dd",
   "metadata": {},
   "outputs": [
    {
     "data": {
      "text/plain": [
       "0.7635611021870753"
      ]
     },
     "execution_count": 46,
     "metadata": {},
     "output_type": "execute_result"
    }
   ],
   "source": [
    "24718/(24718+7654)"
   ]
  },
  {
   "cell_type": "code",
   "execution_count": null,
   "id": "31367fdc-6485-4e70-b020-6fbd244ff7d5",
   "metadata": {},
   "outputs": [],
   "source": [
    "0 : Negative\n",
    "1: Positive\n",
    "True Negative: 0, False Positive \n",
    "False Negative , True Positive\n",
    "Positive : 1"
   ]
  },
  {
   "cell_type": "code",
   "execution_count": null,
   "id": "9d39533c-5ccb-47d6-ac3d-9b7be145542b",
   "metadata": {},
   "outputs": [],
   "source": [
    "[90, 10] = 100, True Negative\n",
    "[50, 50] = 100,"
   ]
  },
  {
   "cell_type": "code",
   "execution_count": null,
   "id": "50ee6fd5-9643-4046-a121-a0cc416d5b23",
   "metadata": {},
   "outputs": [],
   "source": [
    "100: 90/(90+10)"
   ]
  },
  {
   "cell_type": "code",
   "execution_count": 112,
   "id": "b972c3b5-288f-4839-a7ac-63497b96f434",
   "metadata": {},
   "outputs": [
    {
     "data": {
      "text/plain": [
       "0.7"
      ]
     },
     "execution_count": 112,
     "metadata": {},
     "output_type": "execute_result"
    }
   ],
   "source": [
    "(90+50)/(90+50+10+50)"
   ]
  },
  {
   "cell_type": "code",
   "execution_count": null,
   "id": "46af3dbb-e7a3-4b6f-83f6-46df5313a701",
   "metadata": {},
   "outputs": [],
   "source": [
    "True Negative + True Positive/(True Negative+ TP+ FN+FP)"
   ]
  },
  {
   "cell_type": "code",
   "execution_count": 108,
   "id": "a5eacac6-2472-41ae-8d62-01fee6621298",
   "metadata": {},
   "outputs": [
    {
     "data": {
      "text/plain": [
       "array([[ 9826,  4864],\n",
       "       [ 2790, 14892]])"
      ]
     },
     "execution_count": 108,
     "metadata": {},
     "output_type": "execute_result"
    }
   ],
   "source": [
    "confusion_matrix(y_test,y_pred), 100, True Negative: 90, False Positive = 10"
   ]
  },
  {
   "attachments": {
    "7d86ab0a-1f75-4d43-92ca-baee43776ff8.png": {
     "image/png": "[encoded data removed]"
    },
    "83038d27-4c61-4dde-8d49-292804ada5b2.png": {
     "image/png": "[encoded data removed]"
    }
   },
   "cell_type": "markdown",
   "id": "70be718f-8067-40cb-8a63-48dfae1a5861",
   "metadata": {},
   "source": [
    "![image.png](attachment:7d86ab0a-1f75-4d43-92ca-baee43776ff8.png)![image.png](attachment:83038d27-4c61-4dde-8d49-292804ada5b2.png)"
   ]
  },
  {
   "cell_type": "code",
   "execution_count": null,
   "id": "5f9d8b65-a223-4ccf-9994-ebd05207344a",
   "metadata": {},
   "outputs": [],
   "source": [
    "recall 50, ,recall= 70, 100: True Positive : 70, Fn = 30, specificity_recall_0:90, 100: False Positive = "
   ]
  },
  {
   "cell_type": "code",
   "execution_count": 122,
   "id": "8eff5c69-c2a3-4a55-a915-8f7fbf57b8be",
   "metadata": {},
   "outputs": [],
   "source": [
    "def model_eval(y_true,y_pred):\n",
    "    tn, fp, fn, tp = confusion_matrix(y_true,y_pred).ravel()\n",
    "    accuracy=(tp+tn)/(tp+tn+fp+fn)\n",
    "    error = 1-accuracy\n",
    "    recall=tp/(tp+fn)\n",
    "    specificity=tn/(fp+tn)\n",
    "    result={\"Accuracy\":accuracy,\"Error\":error,\"Recall\":recall,'Specificity':specificity}\n",
    "    return result"
   ]
  },
  {
   "cell_type": "code",
   "execution_count": 124,
   "id": "55dbe605-63df-4f20-9087-3f3ae0673c84",
   "metadata": {},
   "outputs": [
    {
     "data": {
      "text/plain": [
       "{'Accuracy': 0.7635611021870753,\n",
       " 'Error': 0.2364388978129247,\n",
       " 'Recall': 0.842212419409569,\n",
       " 'Specificity': 0.6688904016337645}"
      ]
     },
     "execution_count": 124,
     "metadata": {},
     "output_type": "execute_result"
    }
   ],
   "source": [
    "model_eval(y_test, y_pred)"
   ]
  },
  {
   "cell_type": "code",
   "execution_count": null,
   "id": "706a05c6-e09b-4cda-b723-5b1a419733c1",
   "metadata": {},
   "outputs": [],
   "source": []
  },
  {
   "cell_type": "code",
   "execution_count": null,
   "id": "54fd4b72-870c-404c-bb73-59e479bb0402",
   "metadata": {},
   "outputs": [],
   "source": [
    "from sklearn.feature_selection import RFE"
   ]
  },
  {
   "cell_type": "code",
   "execution_count": 126,
   "id": "89e71b0b-486d-41ec-bb1e-a85edb5119c8",
   "metadata": {},
   "outputs": [
    {
     "data": {
      "text/html": [
       "<div>\n",
       "<style scoped>\n",
       "    .dataframe tbody tr th:only-of-type {\n",
       "        vertical-align: middle;\n",
       "    }\n",
       "\n",
       "    .dataframe tbody tr th {\n",
       "        vertical-align: top;\n",
       "    }\n",
       "\n",
       "    .dataframe thead th {\n",
       "        text-align: right;\n",
       "    }\n",
       "</style>\n",
       "<table border=\"1\" class=\"dataframe\">\n",
       "  <thead>\n",
       "    <tr style=\"text-align: right;\">\n",
       "      <th></th>\n",
       "      <th>Customer Type</th>\n",
       "      <th>Age</th>\n",
       "      <th>Type of Travel</th>\n",
       "      <th>Class</th>\n",
       "      <th>Flight Distance</th>\n",
       "      <th>Seat comfort</th>\n",
       "      <th>Departure/Arrival time convenient</th>\n",
       "      <th>Food and drink</th>\n",
       "      <th>Gate location</th>\n",
       "      <th>Inflight wifi service</th>\n",
       "      <th>Inflight entertainment</th>\n",
       "      <th>Online support</th>\n",
       "      <th>Ease of Online booking</th>\n",
       "      <th>On-board service</th>\n",
       "      <th>Leg room service</th>\n",
       "      <th>Baggage handling</th>\n",
       "      <th>Checkin service</th>\n",
       "      <th>Cleanliness</th>\n",
       "      <th>Online boarding</th>\n",
       "      <th>Departure Delay in Minutes</th>\n",
       "      <th>Arrival Delay in Minutes</th>\n",
       "    </tr>\n",
       "  </thead>\n",
       "  <tbody>\n",
       "    <tr>\n",
       "      <th>10318</th>\n",
       "      <td>1</td>\n",
       "      <td>57</td>\n",
       "      <td>0</td>\n",
       "      <td>1</td>\n",
       "      <td>454</td>\n",
       "      <td>2</td>\n",
       "      <td>2</td>\n",
       "      <td>2</td>\n",
       "      <td>2</td>\n",
       "      <td>3</td>\n",
       "      <td>4</td>\n",
       "      <td>1</td>\n",
       "      <td>4</td>\n",
       "      <td>4</td>\n",
       "      <td>4</td>\n",
       "      <td>4</td>\n",
       "      <td>5</td>\n",
       "      <td>4</td>\n",
       "      <td>4</td>\n",
       "      <td>3</td>\n",
       "      <td>3.0</td>\n",
       "    </tr>\n",
       "    <tr>\n",
       "      <th>86437</th>\n",
       "      <td>1</td>\n",
       "      <td>20</td>\n",
       "      <td>1</td>\n",
       "      <td>2</td>\n",
       "      <td>2048</td>\n",
       "      <td>1</td>\n",
       "      <td>1</td>\n",
       "      <td>3</td>\n",
       "      <td>1</td>\n",
       "      <td>3</td>\n",
       "      <td>3</td>\n",
       "      <td>3</td>\n",
       "      <td>3</td>\n",
       "      <td>5</td>\n",
       "      <td>4</td>\n",
       "      <td>5</td>\n",
       "      <td>3</td>\n",
       "      <td>4</td>\n",
       "      <td>3</td>\n",
       "      <td>0</td>\n",
       "      <td>0.0</td>\n",
       "    </tr>\n",
       "    <tr>\n",
       "      <th>86757</th>\n",
       "      <td>1</td>\n",
       "      <td>40</td>\n",
       "      <td>1</td>\n",
       "      <td>0</td>\n",
       "      <td>1790</td>\n",
       "      <td>4</td>\n",
       "      <td>1</td>\n",
       "      <td>1</td>\n",
       "      <td>1</td>\n",
       "      <td>4</td>\n",
       "      <td>3</td>\n",
       "      <td>4</td>\n",
       "      <td>4</td>\n",
       "      <td>4</td>\n",
       "      <td>5</td>\n",
       "      <td>1</td>\n",
       "      <td>1</td>\n",
       "      <td>1</td>\n",
       "      <td>4</td>\n",
       "      <td>0</td>\n",
       "      <td>0.0</td>\n",
       "    </tr>\n",
       "    <tr>\n",
       "      <th>30993</th>\n",
       "      <td>1</td>\n",
       "      <td>60</td>\n",
       "      <td>0</td>\n",
       "      <td>1</td>\n",
       "      <td>1008</td>\n",
       "      <td>3</td>\n",
       "      <td>5</td>\n",
       "      <td>3</td>\n",
       "      <td>4</td>\n",
       "      <td>4</td>\n",
       "      <td>5</td>\n",
       "      <td>5</td>\n",
       "      <td>1</td>\n",
       "      <td>1</td>\n",
       "      <td>3</td>\n",
       "      <td>1</td>\n",
       "      <td>3</td>\n",
       "      <td>1</td>\n",
       "      <td>3</td>\n",
       "      <td>0</td>\n",
       "      <td>0.0</td>\n",
       "    </tr>\n",
       "    <tr>\n",
       "      <th>107523</th>\n",
       "      <td>1</td>\n",
       "      <td>54</td>\n",
       "      <td>1</td>\n",
       "      <td>2</td>\n",
       "      <td>1883</td>\n",
       "      <td>5</td>\n",
       "      <td>5</td>\n",
       "      <td>5</td>\n",
       "      <td>5</td>\n",
       "      <td>5</td>\n",
       "      <td>4</td>\n",
       "      <td>5</td>\n",
       "      <td>4</td>\n",
       "      <td>4</td>\n",
       "      <td>4</td>\n",
       "      <td>4</td>\n",
       "      <td>4</td>\n",
       "      <td>4</td>\n",
       "      <td>4</td>\n",
       "      <td>0</td>\n",
       "      <td>5.0</td>\n",
       "    </tr>\n",
       "    <tr>\n",
       "      <th>...</th>\n",
       "      <td>...</td>\n",
       "      <td>...</td>\n",
       "      <td>...</td>\n",
       "      <td>...</td>\n",
       "      <td>...</td>\n",
       "      <td>...</td>\n",
       "      <td>...</td>\n",
       "      <td>...</td>\n",
       "      <td>...</td>\n",
       "      <td>...</td>\n",
       "      <td>...</td>\n",
       "      <td>...</td>\n",
       "      <td>...</td>\n",
       "      <td>...</td>\n",
       "      <td>...</td>\n",
       "      <td>...</td>\n",
       "      <td>...</td>\n",
       "      <td>...</td>\n",
       "      <td>...</td>\n",
       "      <td>...</td>\n",
       "      <td>...</td>\n",
       "    </tr>\n",
       "    <tr>\n",
       "      <th>51760</th>\n",
       "      <td>0</td>\n",
       "      <td>36</td>\n",
       "      <td>1</td>\n",
       "      <td>2</td>\n",
       "      <td>1695</td>\n",
       "      <td>3</td>\n",
       "      <td>2</td>\n",
       "      <td>2</td>\n",
       "      <td>4</td>\n",
       "      <td>2</td>\n",
       "      <td>2</td>\n",
       "      <td>2</td>\n",
       "      <td>2</td>\n",
       "      <td>3</td>\n",
       "      <td>2</td>\n",
       "      <td>5</td>\n",
       "      <td>4</td>\n",
       "      <td>4</td>\n",
       "      <td>2</td>\n",
       "      <td>3</td>\n",
       "      <td>0.0</td>\n",
       "    </tr>\n",
       "    <tr>\n",
       "      <th>39790</th>\n",
       "      <td>1</td>\n",
       "      <td>70</td>\n",
       "      <td>0</td>\n",
       "      <td>0</td>\n",
       "      <td>428</td>\n",
       "      <td>5</td>\n",
       "      <td>5</td>\n",
       "      <td>5</td>\n",
       "      <td>3</td>\n",
       "      <td>5</td>\n",
       "      <td>4</td>\n",
       "      <td>2</td>\n",
       "      <td>5</td>\n",
       "      <td>5</td>\n",
       "      <td>5</td>\n",
       "      <td>5</td>\n",
       "      <td>5</td>\n",
       "      <td>5</td>\n",
       "      <td>4</td>\n",
       "      <td>14</td>\n",
       "      <td>11.0</td>\n",
       "    </tr>\n",
       "    <tr>\n",
       "      <th>77252</th>\n",
       "      <td>1</td>\n",
       "      <td>60</td>\n",
       "      <td>1</td>\n",
       "      <td>2</td>\n",
       "      <td>282</td>\n",
       "      <td>2</td>\n",
       "      <td>3</td>\n",
       "      <td>3</td>\n",
       "      <td>3</td>\n",
       "      <td>3</td>\n",
       "      <td>3</td>\n",
       "      <td>4</td>\n",
       "      <td>2</td>\n",
       "      <td>2</td>\n",
       "      <td>2</td>\n",
       "      <td>2</td>\n",
       "      <td>1</td>\n",
       "      <td>2</td>\n",
       "      <td>2</td>\n",
       "      <td>0</td>\n",
       "      <td>15.0</td>\n",
       "    </tr>\n",
       "    <tr>\n",
       "      <th>28104</th>\n",
       "      <td>1</td>\n",
       "      <td>39</td>\n",
       "      <td>0</td>\n",
       "      <td>0</td>\n",
       "      <td>3854</td>\n",
       "      <td>3</td>\n",
       "      <td>4</td>\n",
       "      <td>4</td>\n",
       "      <td>3</td>\n",
       "      <td>4</td>\n",
       "      <td>4</td>\n",
       "      <td>4</td>\n",
       "      <td>4</td>\n",
       "      <td>3</td>\n",
       "      <td>3</td>\n",
       "      <td>4</td>\n",
       "      <td>3</td>\n",
       "      <td>5</td>\n",
       "      <td>4</td>\n",
       "      <td>0</td>\n",
       "      <td>0.0</td>\n",
       "    </tr>\n",
       "    <tr>\n",
       "      <th>112063</th>\n",
       "      <td>1</td>\n",
       "      <td>60</td>\n",
       "      <td>1</td>\n",
       "      <td>2</td>\n",
       "      <td>1897</td>\n",
       "      <td>2</td>\n",
       "      <td>2</td>\n",
       "      <td>2</td>\n",
       "      <td>2</td>\n",
       "      <td>2</td>\n",
       "      <td>4</td>\n",
       "      <td>5</td>\n",
       "      <td>4</td>\n",
       "      <td>4</td>\n",
       "      <td>5</td>\n",
       "      <td>4</td>\n",
       "      <td>3</td>\n",
       "      <td>4</td>\n",
       "      <td>4</td>\n",
       "      <td>0</td>\n",
       "      <td>3.0</td>\n",
       "    </tr>\n",
       "  </tbody>\n",
       "</table>\n",
       "<p>97115 rows × 21 columns</p>\n",
       "</div>"
      ],
      "text/plain": [
       "        Customer Type  Age  Type of Travel  Class  Flight Distance  \\\n",
       "10318               1   57               0      1              454   \n",
       "86437               1   20               1      2             2048   \n",
       "86757               1   40               1      0             1790   \n",
       "30993               1   60               0      1             1008   \n",
       "107523              1   54               1      2             1883   \n",
       "...               ...  ...             ...    ...              ...   \n",
       "51760               0   36               1      2             1695   \n",
       "39790               1   70               0      0              428   \n",
       "77252               1   60               1      2              282   \n",
       "28104               1   39               0      0             3854   \n",
       "112063              1   60               1      2             1897   \n",
       "\n",
       "        Seat comfort  Departure/Arrival time convenient  Food and drink  \\\n",
       "10318              2                                  2               2   \n",
       "86437              1                                  1               3   \n",
       "86757              4                                  1               1   \n",
       "30993              3                                  5               3   \n",
       "107523             5                                  5               5   \n",
       "...              ...                                ...             ...   \n",
       "51760              3                                  2               2   \n",
       "39790              5                                  5               5   \n",
       "77252              2                                  3               3   \n",
       "28104              3                                  4               4   \n",
       "112063             2                                  2               2   \n",
       "\n",
       "        Gate location  Inflight wifi service  Inflight entertainment  \\\n",
       "10318               2                      3                       4   \n",
       "86437               1                      3                       3   \n",
       "86757               1                      4                       3   \n",
       "30993               4                      4                       5   \n",
       "107523              5                      5                       4   \n",
       "...               ...                    ...                     ...   \n",
       "51760               4                      2                       2   \n",
       "39790               3                      5                       4   \n",
       "77252               3                      3                       3   \n",
       "28104               3                      4                       4   \n",
       "112063              2                      2                       4   \n",
       "\n",
       "        Online support  Ease of Online booking  On-board service  \\\n",
       "10318                1                       4                 4   \n",
       "86437                3                       3                 5   \n",
       "86757                4                       4                 4   \n",
       "30993                5                       1                 1   \n",
       "107523               5                       4                 4   \n",
       "...                ...                     ...               ...   \n",
       "51760                2                       2                 3   \n",
       "39790                2                       5                 5   \n",
       "77252                4                       2                 2   \n",
       "28104                4                       4                 3   \n",
       "112063               5                       4                 4   \n",
       "\n",
       "        Leg room service  Baggage handling  Checkin service  Cleanliness  \\\n",
       "10318                  4                 4                5            4   \n",
       "86437                  4                 5                3            4   \n",
       "86757                  5                 1                1            1   \n",
       "30993                  3                 1                3            1   \n",
       "107523                 4                 4                4            4   \n",
       "...                  ...               ...              ...          ...   \n",
       "51760                  2                 5                4            4   \n",
       "39790                  5                 5                5            5   \n",
       "77252                  2                 2                1            2   \n",
       "28104                  3                 4                3            5   \n",
       "112063                 5                 4                3            4   \n",
       "\n",
       "        Online boarding  Departure Delay in Minutes  Arrival Delay in Minutes  \n",
       "10318                 4                           3                       3.0  \n",
       "86437                 3                           0                       0.0  \n",
       "86757                 4                           0                       0.0  \n",
       "30993                 3                           0                       0.0  \n",
       "107523                4                           0                       5.0  \n",
       "...                 ...                         ...                       ...  \n",
       "51760                 2                           3                       0.0  \n",
       "39790                 4                          14                      11.0  \n",
       "77252                 2                           0                      15.0  \n",
       "28104                 4                           0                       0.0  \n",
       "112063                4                           0                       3.0  \n",
       "\n",
       "[97115 rows x 21 columns]"
      ]
     },
     "execution_count": 126,
     "metadata": {},
     "output_type": "execute_result"
    }
   ],
   "source": [
    "x_train"
   ]
  },
  {
   "cell_type": "code",
   "execution_count": 91,
   "id": "78a283ab-1594-4f0a-a2c0-749bed821795",
   "metadata": {},
   "outputs": [],
   "source": [
    "# !pip install explainerdashboard"
   ]
  },
  {
   "cell_type": "code",
   "execution_count": 95,
   "id": "908736e2-b922-42de-a009-b92051579bbc",
   "metadata": {},
   "outputs": [
    {
     "name": "stdout",
     "output_type": "stream",
     "text": [
      "WARNING: For shap='linear', shap interaction values can unfortunately not be calculated!\n",
      "Note: model_output='probability' is currently not supported for linear classifiers models with shap. So defaulting to model_output='logodds' If you really need probability outputs use shap='kernel' instead.\n",
      "Note: shap values for shap='linear' get calculated against X_background, but paramater X_background=None, so using X instead...\n",
      "Generating self.shap_explainer = shap.LinearExplainer(model, X)...\n",
      "Building ExplainerDashboard..\n",
      "WARNING: the number of idxs (=97115) > max_idxs_in_dropdown(=1000). However with your installed version of dash(2.16.1) dropdown search may not work smoothly. You can downgrade to `pip install dash==2.6.2` which should work better for now...\n",
      "Detected notebook environment, consider setting mode='external', mode='inline' or mode='jupyterlab' to keep the notebook interactive while the dashboard is running...\n",
      "For this type of model and model_output interactions don't work, so setting shap_interaction=False...\n",
      "The explainer object has no decision_trees property. so setting decision_trees=False...\n",
      "Generating layout...\n",
      "Calculating shap values...\n",
      "Calculating prediction probabilities...\n",
      "Calculating metrics...\n",
      "Calculating confusion matrices...\n",
      "Calculating classification_dfs...\n",
      "Calculating roc auc curves...\n",
      "Calculating pr auc curves...\n",
      "Calculating liftcurve_dfs...\n",
      "Calculating dependencies...\n",
      "Calculating permutation importances (if slow, try setting n_jobs parameter)...\n",
      "Calculating predictions...\n",
      "Calculating pred_percentiles...\n",
      "Reminder: you can store the explainer (including calculated dependencies) with explainer.dump('explainer.joblib') and reload with e.g. ClassifierExplainer.from_file('explainer.joblib')\n",
      "Registering callbacks...\n",
      "Starting ExplainerDashboard on http://192.168.100.38:434\n"
     ]
    },
    {
     "data": {
      "text/html": [
       "\n",
       "        <iframe\n",
       "            width=\"100%\"\n",
       "            height=\"650\"\n",
       "            src=\"http://0.0.0.0:434/\"\n",
       "            frameborder=\"0\"\n",
       "            allowfullscreen\n",
       "            \n",
       "        ></iframe>\n",
       "        "
      ],
      "text/plain": [
       "<IPython.lib.display.IFrame at 0x337ebcdd0>"
      ]
     },
     "metadata": {},
     "output_type": "display_data"
    }
   ],
   "source": [
    "from explainerdashboard import ClassifierExplainer, ExplainerDashboard\n",
    "explainer = ClassifierExplainer(Logit, x_train, y_train)\n",
    "ExplainerDashboard(explainer, port=434).run()"
   ]
  },
  {
   "cell_type": "markdown",
   "id": "8d0c8b49-21bf-4505-8b38-21c1c28be536",
   "metadata": {},
   "source": [
    "#### Feature Selection"
   ]
  },
  {
   "cell_type": "code",
   "execution_count": 98,
   "id": "d6e3fdfd-0db0-4c69-8853-5284d6401304",
   "metadata": {},
   "outputs": [],
   "source": [
    "from sklearn.feature_selection import RFE"
   ]
  },
  {
   "cell_type": "code",
   "execution_count": 102,
   "id": "8e7f113d-dfbe-4a9f-9db6-d87ca073dd1f",
   "metadata": {},
   "outputs": [
    {
     "name": "stdout",
     "output_type": "stream",
     "text": [
      "Input the number of features you want to predict:  12\n"
     ]
    },
    {
     "name": "stderr",
     "output_type": "stream",
     "text": [
      "/opt/anaconda3/lib/python3.11/site-packages/sklearn/linear_model/_logistic.py:458: ConvergenceWarning:\n",
      "\n",
      "lbfgs failed to converge (status=1):\n",
      "STOP: TOTAL NO. of ITERATIONS REACHED LIMIT.\n",
      "\n",
      "Increase the number of iterations (max_iter) or scale the data as shown in:\n",
      "    https://scikit-learn.org/stable/modules/preprocessing.html\n",
      "Please also refer to the documentation for alternative solver options:\n",
      "    https://scikit-learn.org/stable/modules/linear_model.html#logistic-regression\n",
      "\n",
      "/opt/anaconda3/lib/python3.11/site-packages/sklearn/linear_model/_logistic.py:458: ConvergenceWarning:\n",
      "\n",
      "lbfgs failed to converge (status=1):\n",
      "STOP: TOTAL NO. of ITERATIONS REACHED LIMIT.\n",
      "\n",
      "Increase the number of iterations (max_iter) or scale the data as shown in:\n",
      "    https://scikit-learn.org/stable/modules/preprocessing.html\n",
      "Please also refer to the documentation for alternative solver options:\n",
      "    https://scikit-learn.org/stable/modules/linear_model.html#logistic-regression\n",
      "\n",
      "/opt/anaconda3/lib/python3.11/site-packages/sklearn/linear_model/_logistic.py:458: ConvergenceWarning:\n",
      "\n",
      "lbfgs failed to converge (status=1):\n",
      "STOP: TOTAL NO. of ITERATIONS REACHED LIMIT.\n",
      "\n",
      "Increase the number of iterations (max_iter) or scale the data as shown in:\n",
      "    https://scikit-learn.org/stable/modules/preprocessing.html\n",
      "Please also refer to the documentation for alternative solver options:\n",
      "    https://scikit-learn.org/stable/modules/linear_model.html#logistic-regression\n",
      "\n",
      "/opt/anaconda3/lib/python3.11/site-packages/sklearn/linear_model/_logistic.py:458: ConvergenceWarning:\n",
      "\n",
      "lbfgs failed to converge (status=1):\n",
      "STOP: TOTAL NO. of ITERATIONS REACHED LIMIT.\n",
      "\n",
      "Increase the number of iterations (max_iter) or scale the data as shown in:\n",
      "    https://scikit-learn.org/stable/modules/preprocessing.html\n",
      "Please also refer to the documentation for alternative solver options:\n",
      "    https://scikit-learn.org/stable/modules/linear_model.html#logistic-regression\n",
      "\n",
      "/opt/anaconda3/lib/python3.11/site-packages/sklearn/linear_model/_logistic.py:458: ConvergenceWarning:\n",
      "\n",
      "lbfgs failed to converge (status=1):\n",
      "STOP: TOTAL NO. of ITERATIONS REACHED LIMIT.\n",
      "\n",
      "Increase the number of iterations (max_iter) or scale the data as shown in:\n",
      "    https://scikit-learn.org/stable/modules/preprocessing.html\n",
      "Please also refer to the documentation for alternative solver options:\n",
      "    https://scikit-learn.org/stable/modules/linear_model.html#logistic-regression\n",
      "\n",
      "/opt/anaconda3/lib/python3.11/site-packages/sklearn/linear_model/_logistic.py:458: ConvergenceWarning:\n",
      "\n",
      "lbfgs failed to converge (status=1):\n",
      "STOP: TOTAL NO. of ITERATIONS REACHED LIMIT.\n",
      "\n",
      "Increase the number of iterations (max_iter) or scale the data as shown in:\n",
      "    https://scikit-learn.org/stable/modules/preprocessing.html\n",
      "Please also refer to the documentation for alternative solver options:\n",
      "    https://scikit-learn.org/stable/modules/linear_model.html#logistic-regression\n",
      "\n",
      "/opt/anaconda3/lib/python3.11/site-packages/sklearn/linear_model/_logistic.py:458: ConvergenceWarning:\n",
      "\n",
      "lbfgs failed to converge (status=1):\n",
      "STOP: TOTAL NO. of ITERATIONS REACHED LIMIT.\n",
      "\n",
      "Increase the number of iterations (max_iter) or scale the data as shown in:\n",
      "    https://scikit-learn.org/stable/modules/preprocessing.html\n",
      "Please also refer to the documentation for alternative solver options:\n",
      "    https://scikit-learn.org/stable/modules/linear_model.html#logistic-regression\n",
      "\n"
     ]
    },
    {
     "data": {
      "text/html": [
       "<style>#sk-container-id-2 {color: black;background-color: white;}#sk-container-id-2 pre{padding: 0;}#sk-container-id-2 div.sk-toggleable {background-color: white;}#sk-container-id-2 label.sk-toggleable__label {cursor: pointer;display: block;width: 100%;margin-bottom: 0;padding: 0.3em;box-sizing: border-box;text-align: center;}#sk-container-id-2 label.sk-toggleable__label-arrow:before {content: \"▸\";float: left;margin-right: 0.25em;color: #696969;}#sk-container-id-2 label.sk-toggleable__label-arrow:hover:before {color: black;}#sk-container-id-2 div.sk-estimator:hover label.sk-toggleable__label-arrow:before {color: black;}#sk-container-id-2 div.sk-toggleable__content {max-height: 0;max-width: 0;overflow: hidden;text-align: left;background-color: #f0f8ff;}#sk-container-id-2 div.sk-toggleable__content pre {margin: 0.2em;color: black;border-radius: 0.25em;background-color: #f0f8ff;}#sk-container-id-2 input.sk-toggleable__control:checked~div.sk-toggleable__content {max-height: 200px;max-width: 100%;overflow: auto;}#sk-container-id-2 input.sk-toggleable__control:checked~label.sk-toggleable__label-arrow:before {content: \"▾\";}#sk-container-id-2 div.sk-estimator input.sk-toggleable__control:checked~label.sk-toggleable__label {background-color: #d4ebff;}#sk-container-id-2 div.sk-label input.sk-toggleable__control:checked~label.sk-toggleable__label {background-color: #d4ebff;}#sk-container-id-2 input.sk-hidden--visually {border: 0;clip: rect(1px 1px 1px 1px);clip: rect(1px, 1px, 1px, 1px);height: 1px;margin: -1px;overflow: hidden;padding: 0;position: absolute;width: 1px;}#sk-container-id-2 div.sk-estimator {font-family: monospace;background-color: #f0f8ff;border: 1px dotted black;border-radius: 0.25em;box-sizing: border-box;margin-bottom: 0.5em;}#sk-container-id-2 div.sk-estimator:hover {background-color: #d4ebff;}#sk-container-id-2 div.sk-parallel-item::after {content: \"\";width: 100%;border-bottom: 1px solid gray;flex-grow: 1;}#sk-container-id-2 div.sk-label:hover label.sk-toggleable__label {background-color: #d4ebff;}#sk-container-id-2 div.sk-serial::before {content: \"\";position: absolute;border-left: 1px solid gray;box-sizing: border-box;top: 0;bottom: 0;left: 50%;z-index: 0;}#sk-container-id-2 div.sk-serial {display: flex;flex-direction: column;align-items: center;background-color: white;padding-right: 0.2em;padding-left: 0.2em;position: relative;}#sk-container-id-2 div.sk-item {position: relative;z-index: 1;}#sk-container-id-2 div.sk-parallel {display: flex;align-items: stretch;justify-content: center;background-color: white;position: relative;}#sk-container-id-2 div.sk-item::before, #sk-container-id-2 div.sk-parallel-item::before {content: \"\";position: absolute;border-left: 1px solid gray;box-sizing: border-box;top: 0;bottom: 0;left: 50%;z-index: -1;}#sk-container-id-2 div.sk-parallel-item {display: flex;flex-direction: column;z-index: 1;position: relative;background-color: white;}#sk-container-id-2 div.sk-parallel-item:first-child::after {align-self: flex-end;width: 50%;}#sk-container-id-2 div.sk-parallel-item:last-child::after {align-self: flex-start;width: 50%;}#sk-container-id-2 div.sk-parallel-item:only-child::after {width: 0;}#sk-container-id-2 div.sk-dashed-wrapped {border: 1px dashed gray;margin: 0 0.4em 0.5em 0.4em;box-sizing: border-box;padding-bottom: 0.4em;background-color: white;}#sk-container-id-2 div.sk-label label {font-family: monospace;font-weight: bold;display: inline-block;line-height: 1.2em;}#sk-container-id-2 div.sk-label-container {text-align: center;}#sk-container-id-2 div.sk-container {/* jupyter's `normalize.less` sets `[hidden] { display: none; }` but bootstrap.min.css set `[hidden] { display: none !important; }` so we also need the `!important` here to be able to override the default hidden behavior on the sphinx rendered scikit-learn.org. See: https://github.com/scikit-learn/scikit-learn/issues/21755 */display: inline-block !important;position: relative;}#sk-container-id-2 div.sk-text-repr-fallback {display: none;}</style><div id=\"sk-container-id-2\" class=\"sk-top-container\"><div class=\"sk-text-repr-fallback\"><pre>RFE(estimator=LogisticRegression(), n_features_to_select=12)</pre><b>In a Jupyter environment, please rerun this cell to show the HTML representation or trust the notebook. <br />On GitHub, the HTML representation is unable to render, please try loading this page with nbviewer.org.</b></div><div class=\"sk-container\" hidden><div class=\"sk-item sk-dashed-wrapped\"><div class=\"sk-label-container\"><div class=\"sk-label sk-toggleable\"><input class=\"sk-toggleable__control sk-hidden--visually\" id=\"sk-estimator-id-2\" type=\"checkbox\" ><label for=\"sk-estimator-id-2\" class=\"sk-toggleable__label sk-toggleable__label-arrow\">RFE</label><div class=\"sk-toggleable__content\"><pre>RFE(estimator=LogisticRegression(), n_features_to_select=12)</pre></div></div></div><div class=\"sk-parallel\"><div class=\"sk-parallel-item\"><div class=\"sk-item\"><div class=\"sk-label-container\"><div class=\"sk-label sk-toggleable\"><input class=\"sk-toggleable__control sk-hidden--visually\" id=\"sk-estimator-id-3\" type=\"checkbox\" ><label for=\"sk-estimator-id-3\" class=\"sk-toggleable__label sk-toggleable__label-arrow\">estimator: LogisticRegression</label><div class=\"sk-toggleable__content\"><pre>LogisticRegression()</pre></div></div></div><div class=\"sk-serial\"><div class=\"sk-item\"><div class=\"sk-estimator sk-toggleable\"><input class=\"sk-toggleable__control sk-hidden--visually\" id=\"sk-estimator-id-4\" type=\"checkbox\" ><label for=\"sk-estimator-id-4\" class=\"sk-toggleable__label sk-toggleable__label-arrow\">LogisticRegression</label><div class=\"sk-toggleable__content\"><pre>LogisticRegression()</pre></div></div></div></div></div></div></div></div></div></div>"
      ],
      "text/plain": [
       "RFE(estimator=LogisticRegression(), n_features_to_select=12)"
      ]
     },
     "execution_count": 102,
     "metadata": {},
     "output_type": "execute_result"
    }
   ],
   "source": [
    "n = int(input('Input the number of features you want to predict: '))\n",
    "\n",
    "rfe = RFE(Logit, n_features_to_select= n)\n",
    "rfe.fit(x_train, y_train)"
   ]
  },
  {
   "cell_type": "code",
   "execution_count": 104,
   "id": "3c4563c7-9c84-41b8-aee5-e56a09249a7a",
   "metadata": {},
   "outputs": [],
   "source": [
    "\n",
    "selected_features = x_train[x_train.columns[rfe.support_]]"
   ]
  },
  {
   "cell_type": "code",
   "execution_count": 106,
   "id": "4f30e2fa-f00f-439e-b041-f580e087ecea",
   "metadata": {},
   "outputs": [
    {
     "data": {
      "text/html": [
       "<div>\n",
       "<style scoped>\n",
       "    .dataframe tbody tr th:only-of-type {\n",
       "        vertical-align: middle;\n",
       "    }\n",
       "\n",
       "    .dataframe tbody tr th {\n",
       "        vertical-align: top;\n",
       "    }\n",
       "\n",
       "    .dataframe thead th {\n",
       "        text-align: right;\n",
       "    }\n",
       "</style>\n",
       "<table border=\"1\" class=\"dataframe\">\n",
       "  <thead>\n",
       "    <tr style=\"text-align: right;\">\n",
       "      <th></th>\n",
       "      <th>Customer Type</th>\n",
       "      <th>Class</th>\n",
       "      <th>Seat comfort</th>\n",
       "      <th>Departure/Arrival time convenient</th>\n",
       "      <th>Food and drink</th>\n",
       "      <th>Gate location</th>\n",
       "      <th>Inflight entertainment</th>\n",
       "      <th>Online support</th>\n",
       "      <th>Ease of Online booking</th>\n",
       "      <th>On-board service</th>\n",
       "      <th>Leg room service</th>\n",
       "      <th>Checkin service</th>\n",
       "    </tr>\n",
       "  </thead>\n",
       "  <tbody>\n",
       "    <tr>\n",
       "      <th>30760</th>\n",
       "      <td>1</td>\n",
       "      <td>0</td>\n",
       "      <td>2</td>\n",
       "      <td>2</td>\n",
       "      <td>4</td>\n",
       "      <td>2</td>\n",
       "      <td>5</td>\n",
       "      <td>4</td>\n",
       "      <td>5</td>\n",
       "      <td>5</td>\n",
       "      <td>5</td>\n",
       "      <td>3</td>\n",
       "    </tr>\n",
       "    <tr>\n",
       "      <th>47129</th>\n",
       "      <td>0</td>\n",
       "      <td>0</td>\n",
       "      <td>2</td>\n",
       "      <td>2</td>\n",
       "      <td>2</td>\n",
       "      <td>3</td>\n",
       "      <td>2</td>\n",
       "      <td>4</td>\n",
       "      <td>4</td>\n",
       "      <td>3</td>\n",
       "      <td>1</td>\n",
       "      <td>3</td>\n",
       "    </tr>\n",
       "    <tr>\n",
       "      <th>105912</th>\n",
       "      <td>1</td>\n",
       "      <td>2</td>\n",
       "      <td>4</td>\n",
       "      <td>3</td>\n",
       "      <td>1</td>\n",
       "      <td>3</td>\n",
       "      <td>4</td>\n",
       "      <td>3</td>\n",
       "      <td>4</td>\n",
       "      <td>4</td>\n",
       "      <td>4</td>\n",
       "      <td>3</td>\n",
       "    </tr>\n",
       "    <tr>\n",
       "      <th>82165</th>\n",
       "      <td>1</td>\n",
       "      <td>2</td>\n",
       "      <td>3</td>\n",
       "      <td>4</td>\n",
       "      <td>4</td>\n",
       "      <td>4</td>\n",
       "      <td>4</td>\n",
       "      <td>4</td>\n",
       "      <td>3</td>\n",
       "      <td>3</td>\n",
       "      <td>3</td>\n",
       "      <td>4</td>\n",
       "    </tr>\n",
       "    <tr>\n",
       "      <th>118678</th>\n",
       "      <td>1</td>\n",
       "      <td>2</td>\n",
       "      <td>1</td>\n",
       "      <td>1</td>\n",
       "      <td>1</td>\n",
       "      <td>1</td>\n",
       "      <td>5</td>\n",
       "      <td>5</td>\n",
       "      <td>5</td>\n",
       "      <td>5</td>\n",
       "      <td>2</td>\n",
       "      <td>4</td>\n",
       "    </tr>\n",
       "    <tr>\n",
       "      <th>...</th>\n",
       "      <td>...</td>\n",
       "      <td>...</td>\n",
       "      <td>...</td>\n",
       "      <td>...</td>\n",
       "      <td>...</td>\n",
       "      <td>...</td>\n",
       "      <td>...</td>\n",
       "      <td>...</td>\n",
       "      <td>...</td>\n",
       "      <td>...</td>\n",
       "      <td>...</td>\n",
       "      <td>...</td>\n",
       "    </tr>\n",
       "    <tr>\n",
       "      <th>16857</th>\n",
       "      <td>1</td>\n",
       "      <td>0</td>\n",
       "      <td>2</td>\n",
       "      <td>5</td>\n",
       "      <td>2</td>\n",
       "      <td>1</td>\n",
       "      <td>2</td>\n",
       "      <td>4</td>\n",
       "      <td>4</td>\n",
       "      <td>4</td>\n",
       "      <td>4</td>\n",
       "      <td>5</td>\n",
       "    </tr>\n",
       "    <tr>\n",
       "      <th>51462</th>\n",
       "      <td>0</td>\n",
       "      <td>0</td>\n",
       "      <td>3</td>\n",
       "      <td>1</td>\n",
       "      <td>3</td>\n",
       "      <td>4</td>\n",
       "      <td>3</td>\n",
       "      <td>3</td>\n",
       "      <td>4</td>\n",
       "      <td>2</td>\n",
       "      <td>5</td>\n",
       "      <td>4</td>\n",
       "    </tr>\n",
       "    <tr>\n",
       "      <th>118730</th>\n",
       "      <td>1</td>\n",
       "      <td>1</td>\n",
       "      <td>5</td>\n",
       "      <td>1</td>\n",
       "      <td>1</td>\n",
       "      <td>1</td>\n",
       "      <td>5</td>\n",
       "      <td>5</td>\n",
       "      <td>5</td>\n",
       "      <td>5</td>\n",
       "      <td>1</td>\n",
       "      <td>1</td>\n",
       "    </tr>\n",
       "    <tr>\n",
       "      <th>58673</th>\n",
       "      <td>0</td>\n",
       "      <td>2</td>\n",
       "      <td>4</td>\n",
       "      <td>4</td>\n",
       "      <td>4</td>\n",
       "      <td>1</td>\n",
       "      <td>4</td>\n",
       "      <td>1</td>\n",
       "      <td>1</td>\n",
       "      <td>5</td>\n",
       "      <td>2</td>\n",
       "      <td>3</td>\n",
       "    </tr>\n",
       "    <tr>\n",
       "      <th>32910</th>\n",
       "      <td>1</td>\n",
       "      <td>1</td>\n",
       "      <td>4</td>\n",
       "      <td>2</td>\n",
       "      <td>4</td>\n",
       "      <td>3</td>\n",
       "      <td>3</td>\n",
       "      <td>4</td>\n",
       "      <td>4</td>\n",
       "      <td>4</td>\n",
       "      <td>4</td>\n",
       "      <td>3</td>\n",
       "    </tr>\n",
       "  </tbody>\n",
       "</table>\n",
       "<p>97115 rows × 12 columns</p>\n",
       "</div>"
      ],
      "text/plain": [
       "        Customer Type  Class  Seat comfort  Departure/Arrival time convenient  \\\n",
       "30760               1      0             2                                  2   \n",
       "47129               0      0             2                                  2   \n",
       "105912              1      2             4                                  3   \n",
       "82165               1      2             3                                  4   \n",
       "118678              1      2             1                                  1   \n",
       "...               ...    ...           ...                                ...   \n",
       "16857               1      0             2                                  5   \n",
       "51462               0      0             3                                  1   \n",
       "118730              1      1             5                                  1   \n",
       "58673               0      2             4                                  4   \n",
       "32910               1      1             4                                  2   \n",
       "\n",
       "        Food and drink  Gate location  Inflight entertainment  Online support  \\\n",
       "30760                4              2                       5               4   \n",
       "47129                2              3                       2               4   \n",
       "105912               1              3                       4               3   \n",
       "82165                4              4                       4               4   \n",
       "118678               1              1                       5               5   \n",
       "...                ...            ...                     ...             ...   \n",
       "16857                2              1                       2               4   \n",
       "51462                3              4                       3               3   \n",
       "118730               1              1                       5               5   \n",
       "58673                4              1                       4               1   \n",
       "32910                4              3                       3               4   \n",
       "\n",
       "        Ease of Online booking  On-board service  Leg room service  \\\n",
       "30760                        5                 5                 5   \n",
       "47129                        4                 3                 1   \n",
       "105912                       4                 4                 4   \n",
       "82165                        3                 3                 3   \n",
       "118678                       5                 5                 2   \n",
       "...                        ...               ...               ...   \n",
       "16857                        4                 4                 4   \n",
       "51462                        4                 2                 5   \n",
       "118730                       5                 5                 1   \n",
       "58673                        1                 5                 2   \n",
       "32910                        4                 4                 4   \n",
       "\n",
       "        Checkin service  \n",
       "30760                 3  \n",
       "47129                 3  \n",
       "105912                3  \n",
       "82165                 4  \n",
       "118678                4  \n",
       "...                 ...  \n",
       "16857                 5  \n",
       "51462                 4  \n",
       "118730                1  \n",
       "58673                 3  \n",
       "32910                 3  \n",
       "\n",
       "[97115 rows x 12 columns]"
      ]
     },
     "execution_count": 106,
     "metadata": {},
     "output_type": "execute_result"
    }
   ],
   "source": [
    "selected_features\n"
   ]
  },
  {
   "cell_type": "code",
   "execution_count": 108,
   "id": "c3705ceb-1a61-4dd6-86dc-6492f3bf7c30",
   "metadata": {},
   "outputs": [],
   "source": [
    "Logistic2 = LogisticRegression()"
   ]
  },
  {
   "cell_type": "code",
   "execution_count": 110,
   "id": "9088df9b-868b-4c78-95d1-4aebc71431f1",
   "metadata": {},
   "outputs": [
    {
     "data": {
      "text/html": [
       "<style>#sk-container-id-3 {color: black;background-color: white;}#sk-container-id-3 pre{padding: 0;}#sk-container-id-3 div.sk-toggleable {background-color: white;}#sk-container-id-3 label.sk-toggleable__label {cursor: pointer;display: block;width: 100%;margin-bottom: 0;padding: 0.3em;box-sizing: border-box;text-align: center;}#sk-container-id-3 label.sk-toggleable__label-arrow:before {content: \"▸\";float: left;margin-right: 0.25em;color: #696969;}#sk-container-id-3 label.sk-toggleable__label-arrow:hover:before {color: black;}#sk-container-id-3 div.sk-estimator:hover label.sk-toggleable__label-arrow:before {color: black;}#sk-container-id-3 div.sk-toggleable__content {max-height: 0;max-width: 0;overflow: hidden;text-align: left;background-color: #f0f8ff;}#sk-container-id-3 div.sk-toggleable__content pre {margin: 0.2em;color: black;border-radius: 0.25em;background-color: #f0f8ff;}#sk-container-id-3 input.sk-toggleable__control:checked~div.sk-toggleable__content {max-height: 200px;max-width: 100%;overflow: auto;}#sk-container-id-3 input.sk-toggleable__control:checked~label.sk-toggleable__label-arrow:before {content: \"▾\";}#sk-container-id-3 div.sk-estimator input.sk-toggleable__control:checked~label.sk-toggleable__label {background-color: #d4ebff;}#sk-container-id-3 div.sk-label input.sk-toggleable__control:checked~label.sk-toggleable__label {background-color: #d4ebff;}#sk-container-id-3 input.sk-hidden--visually {border: 0;clip: rect(1px 1px 1px 1px);clip: rect(1px, 1px, 1px, 1px);height: 1px;margin: -1px;overflow: hidden;padding: 0;position: absolute;width: 1px;}#sk-container-id-3 div.sk-estimator {font-family: monospace;background-color: #f0f8ff;border: 1px dotted black;border-radius: 0.25em;box-sizing: border-box;margin-bottom: 0.5em;}#sk-container-id-3 div.sk-estimator:hover {background-color: #d4ebff;}#sk-container-id-3 div.sk-parallel-item::after {content: \"\";width: 100%;border-bottom: 1px solid gray;flex-grow: 1;}#sk-container-id-3 div.sk-label:hover label.sk-toggleable__label {background-color: #d4ebff;}#sk-container-id-3 div.sk-serial::before {content: \"\";position: absolute;border-left: 1px solid gray;box-sizing: border-box;top: 0;bottom: 0;left: 50%;z-index: 0;}#sk-container-id-3 div.sk-serial {display: flex;flex-direction: column;align-items: center;background-color: white;padding-right: 0.2em;padding-left: 0.2em;position: relative;}#sk-container-id-3 div.sk-item {position: relative;z-index: 1;}#sk-container-id-3 div.sk-parallel {display: flex;align-items: stretch;justify-content: center;background-color: white;position: relative;}#sk-container-id-3 div.sk-item::before, #sk-container-id-3 div.sk-parallel-item::before {content: \"\";position: absolute;border-left: 1px solid gray;box-sizing: border-box;top: 0;bottom: 0;left: 50%;z-index: -1;}#sk-container-id-3 div.sk-parallel-item {display: flex;flex-direction: column;z-index: 1;position: relative;background-color: white;}#sk-container-id-3 div.sk-parallel-item:first-child::after {align-self: flex-end;width: 50%;}#sk-container-id-3 div.sk-parallel-item:last-child::after {align-self: flex-start;width: 50%;}#sk-container-id-3 div.sk-parallel-item:only-child::after {width: 0;}#sk-container-id-3 div.sk-dashed-wrapped {border: 1px dashed gray;margin: 0 0.4em 0.5em 0.4em;box-sizing: border-box;padding-bottom: 0.4em;background-color: white;}#sk-container-id-3 div.sk-label label {font-family: monospace;font-weight: bold;display: inline-block;line-height: 1.2em;}#sk-container-id-3 div.sk-label-container {text-align: center;}#sk-container-id-3 div.sk-container {/* jupyter's `normalize.less` sets `[hidden] { display: none; }` but bootstrap.min.css set `[hidden] { display: none !important; }` so we also need the `!important` here to be able to override the default hidden behavior on the sphinx rendered scikit-learn.org. See: https://github.com/scikit-learn/scikit-learn/issues/21755 */display: inline-block !important;position: relative;}#sk-container-id-3 div.sk-text-repr-fallback {display: none;}</style><div id=\"sk-container-id-3\" class=\"sk-top-container\"><div class=\"sk-text-repr-fallback\"><pre>LogisticRegression()</pre><b>In a Jupyter environment, please rerun this cell to show the HTML representation or trust the notebook. <br />On GitHub, the HTML representation is unable to render, please try loading this page with nbviewer.org.</b></div><div class=\"sk-container\" hidden><div class=\"sk-item\"><div class=\"sk-estimator sk-toggleable\"><input class=\"sk-toggleable__control sk-hidden--visually\" id=\"sk-estimator-id-5\" type=\"checkbox\" checked><label for=\"sk-estimator-id-5\" class=\"sk-toggleable__label sk-toggleable__label-arrow\">LogisticRegression</label><div class=\"sk-toggleable__content\"><pre>LogisticRegression()</pre></div></div></div></div></div>"
      ],
      "text/plain": [
       "LogisticRegression()"
      ]
     },
     "execution_count": 110,
     "metadata": {},
     "output_type": "execute_result"
    }
   ],
   "source": [
    "Logistic2.fit(selected_features, y_train)"
   ]
  },
  {
   "cell_type": "code",
   "execution_count": 114,
   "id": "47fa6f4b-174f-4bd5-85e6-d04c8e2ac87a",
   "metadata": {},
   "outputs": [],
   "source": [
    "y_pred1 = Logistic2.predict(x_test[selected_features.columns])"
   ]
  },
  {
   "cell_type": "code",
   "execution_count": 116,
   "id": "f0eac928-c0f6-44b8-9fc1-d15a6643f98e",
   "metadata": {},
   "outputs": [
    {
     "data": {
      "text/plain": [
       "{'Accuracy': 0.8240763622883974,\n",
       " 'Error': 0.17592363771160258,\n",
       " 'Precision': 0.8373349674112863,\n",
       " 'Recall': 0.8441536560709874,\n",
       " 'Specificity': 0.79953315941233}"
      ]
     },
     "execution_count": 116,
     "metadata": {},
     "output_type": "execute_result"
    }
   ],
   "source": [
    "model_eval(y_test, y_pred1)"
   ]
  },
  {
   "cell_type": "code",
   "execution_count": 118,
   "id": "64ada8b0-7745-4169-9716-96671cfbbe50",
   "metadata": {},
   "outputs": [],
   "source": [
    "from sklearn.metrics import classification_report"
   ]
  },
  {
   "cell_type": "code",
   "execution_count": 126,
   "id": "b873d929-ae37-48a9-888b-3efe7b56ba7d",
   "metadata": {
    "scrolled": true
   },
   "outputs": [],
   "source": [
    "report = classification_report(y_test, y_pred1,output_dict=True )"
   ]
  },
  {
   "cell_type": "code",
   "execution_count": 130,
   "id": "4dbe8e53-e5b6-4861-9d2b-c1a6524b840a",
   "metadata": {},
   "outputs": [
    {
     "data": {
      "text/plain": [
       "0.807572290409819"
      ]
     },
     "execution_count": 130,
     "metadata": {},
     "output_type": "execute_result"
    }
   ],
   "source": [
    "report['0']['precision']"
   ]
  },
  {
   "cell_type": "code",
   "execution_count": 132,
   "id": "c0ec643a-33dc-4216-a513-d5f04df122bf",
   "metadata": {},
   "outputs": [],
   "source": [
    "import mlflow"
   ]
  },
  {
   "cell_type": "code",
   "execution_count": null,
   "id": "019e363f-52ae-4e1e-bcb1-df3ed388a16b",
   "metadata": {},
   "outputs": [],
   "source": [
    "mlflow.set_experiment('Testing Experiment')\n",
    "mlflow.set_registry_uri('http://127.0.0.1:5000/')\n",
    "\n",
    "with mlflow.start_run():\n",
    "    mlflow.log_params"
   ]
  },
  {
   "cell_type": "code",
   "execution_count": 81,
   "id": "f1d30560-474e-4cc1-a54d-c7ce5d70f856",
   "metadata": {},
   "outputs": [
    {
     "name": "stdout",
     "output_type": "stream",
     "text": [
      "Optimization terminated successfully.\n",
      "         Current function value: 0.404260\n",
      "         Iterations 7\n"
     ]
    }
   ],
   "source": [
    "import statsmodels.api as sm\n",
    "x_train_con = sm.add_constant(x_train)\n",
    "Logit1 = sm.Logit(y_train, x_train_con).fit()"
   ]
  },
  {
   "cell_type": "code",
   "execution_count": 83,
   "id": "4e61e9a7-7be4-4b7e-a5a3-167083f58bba",
   "metadata": {},
   "outputs": [
    {
     "data": {
      "text/html": [
       "<table class=\"simpletable\">\n",
       "<caption>Logit Regression Results</caption>\n",
       "<tr>\n",
       "  <th>Dep. Variable:</th>     <td>satisfaction</td>   <th>  No. Observations:  </th>  <td> 97115</td> \n",
       "</tr>\n",
       "<tr>\n",
       "  <th>Model:</th>                 <td>Logit</td>      <th>  Df Residuals:      </th>  <td> 97094</td> \n",
       "</tr>\n",
       "<tr>\n",
       "  <th>Method:</th>                 <td>MLE</td>       <th>  Df Model:          </th>  <td>    20</td> \n",
       "</tr>\n",
       "<tr>\n",
       "  <th>Date:</th>            <td>Tue, 03 Sep 2024</td> <th>  Pseudo R-squ.:     </th>  <td>0.4131</td> \n",
       "</tr>\n",
       "<tr>\n",
       "  <th>Time:</th>                <td>21:35:25</td>     <th>  Log-Likelihood:    </th> <td> -39260.</td>\n",
       "</tr>\n",
       "<tr>\n",
       "  <th>converged:</th>             <td>True</td>       <th>  LL-Null:           </th> <td> -66894.</td>\n",
       "</tr>\n",
       "<tr>\n",
       "  <th>Covariance Type:</th>     <td>nonrobust</td>    <th>  LLR p-value:       </th>  <td> 0.000</td> \n",
       "</tr>\n",
       "</table>\n",
       "<table class=\"simpletable\">\n",
       "<tr>\n",
       "                  <td></td>                     <th>coef</th>     <th>std err</th>      <th>z</th>      <th>P>|z|</th>  <th>[0.025</th>    <th>0.975]</th>  \n",
       "</tr>\n",
       "<tr>\n",
       "  <th>Customer Type</th>                     <td>    1.5093</td> <td>    0.026</td> <td>   58.528</td> <td> 0.000</td> <td>    1.459</td> <td>    1.560</td>\n",
       "</tr>\n",
       "<tr>\n",
       "  <th>Age</th>                               <td>   -0.0065</td> <td>    0.001</td> <td>  -10.266</td> <td> 0.000</td> <td>   -0.008</td> <td>   -0.005</td>\n",
       "</tr>\n",
       "<tr>\n",
       "  <th>Type of Travel</th>                    <td>   -7.8191</td> <td>    0.070</td> <td> -111.615</td> <td> 0.000</td> <td>   -7.956</td> <td>   -7.682</td>\n",
       "</tr>\n",
       "<tr>\n",
       "  <th>Class</th>                             <td>    0.5507</td> <td>    0.010</td> <td>   55.647</td> <td> 0.000</td> <td>    0.531</td> <td>    0.570</td>\n",
       "</tr>\n",
       "<tr>\n",
       "  <th>Flight Distance</th>                   <td>   -0.0001</td> <td> 9.48e-06</td> <td>  -15.076</td> <td> 0.000</td> <td>   -0.000</td> <td>   -0.000</td>\n",
       "</tr>\n",
       "<tr>\n",
       "  <th>Seat comfort</th>                      <td>    0.2999</td> <td>    0.010</td> <td>   28.915</td> <td> 0.000</td> <td>    0.280</td> <td>    0.320</td>\n",
       "</tr>\n",
       "<tr>\n",
       "  <th>Departure/Arrival time convenient</th> <td>   -0.2487</td> <td>    0.008</td> <td>  -32.871</td> <td> 0.000</td> <td>   -0.264</td> <td>   -0.234</td>\n",
       "</tr>\n",
       "<tr>\n",
       "  <th>Food and drink</th>                    <td>   -0.2090</td> <td>    0.011</td> <td>  -19.723</td> <td> 0.000</td> <td>   -0.230</td> <td>   -0.188</td>\n",
       "</tr>\n",
       "<tr>\n",
       "  <th>Gate location</th>                     <td>    0.1431</td> <td>    0.009</td> <td>   16.692</td> <td> 0.000</td> <td>    0.126</td> <td>    0.160</td>\n",
       "</tr>\n",
       "<tr>\n",
       "  <th>Inflight wifi service</th>             <td>   -0.1043</td> <td>    0.010</td> <td>  -10.398</td> <td> 0.000</td> <td>   -0.124</td> <td>   -0.085</td>\n",
       "</tr>\n",
       "<tr>\n",
       "  <th>Inflight entertainment</th>            <td>    0.7216</td> <td>    0.009</td> <td>   77.513</td> <td> 0.000</td> <td>    0.703</td> <td>    0.740</td>\n",
       "</tr>\n",
       "<tr>\n",
       "  <th>Online support</th>                    <td>    0.1121</td> <td>    0.010</td> <td>   11.154</td> <td> 0.000</td> <td>    0.092</td> <td>    0.132</td>\n",
       "</tr>\n",
       "<tr>\n",
       "  <th>Ease of Online booking</th>            <td>    0.2947</td> <td>    0.013</td> <td>   22.713</td> <td> 0.000</td> <td>    0.269</td> <td>    0.320</td>\n",
       "</tr>\n",
       "<tr>\n",
       "  <th>On-board service</th>                  <td>    0.2947</td> <td>    0.009</td> <td>   31.908</td> <td> 0.000</td> <td>    0.277</td> <td>    0.313</td>\n",
       "</tr>\n",
       "<tr>\n",
       "  <th>Leg room service</th>                  <td>    0.2337</td> <td>    0.008</td> <td>   29.561</td> <td> 0.000</td> <td>    0.218</td> <td>    0.249</td>\n",
       "</tr>\n",
       "<tr>\n",
       "  <th>Baggage handling</th>                  <td>    0.0601</td> <td>    0.010</td> <td>    5.779</td> <td> 0.000</td> <td>    0.040</td> <td>    0.080</td>\n",
       "</tr>\n",
       "<tr>\n",
       "  <th>Checkin service</th>                   <td>    0.2669</td> <td>    0.008</td> <td>   34.531</td> <td> 0.000</td> <td>    0.252</td> <td>    0.282</td>\n",
       "</tr>\n",
       "<tr>\n",
       "  <th>Cleanliness</th>                       <td>    0.0324</td> <td>    0.011</td> <td>    3.004</td> <td> 0.003</td> <td>    0.011</td> <td>    0.054</td>\n",
       "</tr>\n",
       "<tr>\n",
       "  <th>Online boarding</th>                   <td>    0.1211</td> <td>    0.011</td> <td>   10.881</td> <td> 0.000</td> <td>    0.099</td> <td>    0.143</td>\n",
       "</tr>\n",
       "<tr>\n",
       "  <th>Departure Delay in Minutes</th>        <td>    0.0024</td> <td>    0.001</td> <td>    2.600</td> <td> 0.009</td> <td>    0.001</td> <td>    0.004</td>\n",
       "</tr>\n",
       "<tr>\n",
       "  <th>Arrival Delay in Minutes</th>          <td>   -0.0073</td> <td>    0.001</td> <td>   -8.196</td> <td> 0.000</td> <td>   -0.009</td> <td>   -0.006</td>\n",
       "</tr>\n",
       "</table>"
      ],
      "text/latex": [
       "\\begin{center}\n",
       "\\begin{tabular}{lclc}\n",
       "\\toprule\n",
       "\\textbf{Dep. Variable:}                    &   satisfaction   & \\textbf{  No. Observations:  } &    97115    \\\\\n",
       "\\textbf{Model:}                            &      Logit       & \\textbf{  Df Residuals:      } &    97094    \\\\\n",
       "\\textbf{Method:}                           &       MLE        & \\textbf{  Df Model:          } &       20    \\\\\n",
       "\\textbf{Date:}                             & Tue, 03 Sep 2024 & \\textbf{  Pseudo R-squ.:     } &   0.4131    \\\\\n",
       "\\textbf{Time:}                             &     21:35:25     & \\textbf{  Log-Likelihood:    } &   -39260.   \\\\\n",
       "\\textbf{converged:}                        &       True       & \\textbf{  LL-Null:           } &   -66894.   \\\\\n",
       "\\textbf{Covariance Type:}                  &    nonrobust     & \\textbf{  LLR p-value:       } &    0.000    \\\\\n",
       "\\bottomrule\n",
       "\\end{tabular}\n",
       "\\begin{tabular}{lcccccc}\n",
       "                                           & \\textbf{coef} & \\textbf{std err} & \\textbf{z} & \\textbf{P$> |$z$|$} & \\textbf{[0.025} & \\textbf{0.975]}  \\\\\n",
       "\\midrule\n",
       "\\textbf{Customer Type}                     &       1.5093  &        0.026     &    58.528  &         0.000        &        1.459    &        1.560     \\\\\n",
       "\\textbf{Age}                               &      -0.0065  &        0.001     &   -10.266  &         0.000        &       -0.008    &       -0.005     \\\\\n",
       "\\textbf{Type of Travel}                    &      -7.8191  &        0.070     &  -111.615  &         0.000        &       -7.956    &       -7.682     \\\\\n",
       "\\textbf{Class}                             &       0.5507  &        0.010     &    55.647  &         0.000        &        0.531    &        0.570     \\\\\n",
       "\\textbf{Flight Distance}                   &      -0.0001  &     9.48e-06     &   -15.076  &         0.000        &       -0.000    &       -0.000     \\\\\n",
       "\\textbf{Seat comfort}                      &       0.2999  &        0.010     &    28.915  &         0.000        &        0.280    &        0.320     \\\\\n",
       "\\textbf{Departure/Arrival time convenient} &      -0.2487  &        0.008     &   -32.871  &         0.000        &       -0.264    &       -0.234     \\\\\n",
       "\\textbf{Food and drink}                    &      -0.2090  &        0.011     &   -19.723  &         0.000        &       -0.230    &       -0.188     \\\\\n",
       "\\textbf{Gate location}                     &       0.1431  &        0.009     &    16.692  &         0.000        &        0.126    &        0.160     \\\\\n",
       "\\textbf{Inflight wifi service}             &      -0.1043  &        0.010     &   -10.398  &         0.000        &       -0.124    &       -0.085     \\\\\n",
       "\\textbf{Inflight entertainment}            &       0.7216  &        0.009     &    77.513  &         0.000        &        0.703    &        0.740     \\\\\n",
       "\\textbf{Online support}                    &       0.1121  &        0.010     &    11.154  &         0.000        &        0.092    &        0.132     \\\\\n",
       "\\textbf{Ease of Online booking}            &       0.2947  &        0.013     &    22.713  &         0.000        &        0.269    &        0.320     \\\\\n",
       "\\textbf{On-board service}                  &       0.2947  &        0.009     &    31.908  &         0.000        &        0.277    &        0.313     \\\\\n",
       "\\textbf{Leg room service}                  &       0.2337  &        0.008     &    29.561  &         0.000        &        0.218    &        0.249     \\\\\n",
       "\\textbf{Baggage handling}                  &       0.0601  &        0.010     &     5.779  &         0.000        &        0.040    &        0.080     \\\\\n",
       "\\textbf{Checkin service}                   &       0.2669  &        0.008     &    34.531  &         0.000        &        0.252    &        0.282     \\\\\n",
       "\\textbf{Cleanliness}                       &       0.0324  &        0.011     &     3.004  &         0.003        &        0.011    &        0.054     \\\\\n",
       "\\textbf{Online boarding}                   &       0.1211  &        0.011     &    10.881  &         0.000        &        0.099    &        0.143     \\\\\n",
       "\\textbf{Departure Delay in Minutes}        &       0.0024  &        0.001     &     2.600  &         0.009        &        0.001    &        0.004     \\\\\n",
       "\\textbf{Arrival Delay in Minutes}          &      -0.0073  &        0.001     &    -8.196  &         0.000        &       -0.009    &       -0.006     \\\\\n",
       "\\bottomrule\n",
       "\\end{tabular}\n",
       "%\\caption{Logit Regression Results}\n",
       "\\end{center}"
      ],
      "text/plain": [
       "<class 'statsmodels.iolib.summary.Summary'>\n",
       "\"\"\"\n",
       "                           Logit Regression Results                           \n",
       "==============================================================================\n",
       "Dep. Variable:           satisfaction   No. Observations:                97115\n",
       "Model:                          Logit   Df Residuals:                    97094\n",
       "Method:                           MLE   Df Model:                           20\n",
       "Date:                Tue, 03 Sep 2024   Pseudo R-squ.:                  0.4131\n",
       "Time:                        21:35:25   Log-Likelihood:                -39260.\n",
       "converged:                       True   LL-Null:                       -66894.\n",
       "Covariance Type:            nonrobust   LLR p-value:                     0.000\n",
       "=====================================================================================================\n",
       "                                        coef    std err          z      P>|z|      [0.025      0.975]\n",
       "-----------------------------------------------------------------------------------------------------\n",
       "Customer Type                         1.5093      0.026     58.528      0.000       1.459       1.560\n",
       "Age                                  -0.0065      0.001    -10.266      0.000      -0.008      -0.005\n",
       "Type of Travel                       -7.8191      0.070   -111.615      0.000      -7.956      -7.682\n",
       "Class                                 0.5507      0.010     55.647      0.000       0.531       0.570\n",
       "Flight Distance                      -0.0001   9.48e-06    -15.076      0.000      -0.000      -0.000\n",
       "Seat comfort                          0.2999      0.010     28.915      0.000       0.280       0.320\n",
       "Departure/Arrival time convenient    -0.2487      0.008    -32.871      0.000      -0.264      -0.234\n",
       "Food and drink                       -0.2090      0.011    -19.723      0.000      -0.230      -0.188\n",
       "Gate location                         0.1431      0.009     16.692      0.000       0.126       0.160\n",
       "Inflight wifi service                -0.1043      0.010    -10.398      0.000      -0.124      -0.085\n",
       "Inflight entertainment                0.7216      0.009     77.513      0.000       0.703       0.740\n",
       "Online support                        0.1121      0.010     11.154      0.000       0.092       0.132\n",
       "Ease of Online booking                0.2947      0.013     22.713      0.000       0.269       0.320\n",
       "On-board service                      0.2947      0.009     31.908      0.000       0.277       0.313\n",
       "Leg room service                      0.2337      0.008     29.561      0.000       0.218       0.249\n",
       "Baggage handling                      0.0601      0.010      5.779      0.000       0.040       0.080\n",
       "Checkin service                       0.2669      0.008     34.531      0.000       0.252       0.282\n",
       "Cleanliness                           0.0324      0.011      3.004      0.003       0.011       0.054\n",
       "Online boarding                       0.1211      0.011     10.881      0.000       0.099       0.143\n",
       "Departure Delay in Minutes            0.0024      0.001      2.600      0.009       0.001       0.004\n",
       "Arrival Delay in Minutes             -0.0073      0.001     -8.196      0.000      -0.009      -0.006\n",
       "=====================================================================================================\n",
       "\"\"\""
      ]
     },
     "execution_count": 83,
     "metadata": {},
     "output_type": "execute_result"
    }
   ],
   "source": [
    "Logit1.summary()"
   ]
  },
  {
   "cell_type": "code",
   "execution_count": 87,
   "id": "0c9c107d-b239-4019-8a88-79e7aaae2e4b",
   "metadata": {},
   "outputs": [
    {
     "data": {
      "text/html": [
       "<div>\n",
       "<style scoped>\n",
       "    .dataframe tbody tr th:only-of-type {\n",
       "        vertical-align: middle;\n",
       "    }\n",
       "\n",
       "    .dataframe tbody tr th {\n",
       "        vertical-align: top;\n",
       "    }\n",
       "\n",
       "    .dataframe thead th {\n",
       "        text-align: right;\n",
       "    }\n",
       "</style>\n",
       "<table border=\"1\" class=\"dataframe\">\n",
       "  <thead>\n",
       "    <tr style=\"text-align: right;\">\n",
       "      <th></th>\n",
       "      <th>Age</th>\n",
       "      <th>Flight Distance</th>\n",
       "      <th>Departure Delay in Minutes</th>\n",
       "      <th>Arrival Delay in Minutes</th>\n",
       "    </tr>\n",
       "  </thead>\n",
       "  <tbody>\n",
       "    <tr>\n",
       "      <th>0</th>\n",
       "      <td>65</td>\n",
       "      <td>265</td>\n",
       "      <td>0</td>\n",
       "      <td>0.0</td>\n",
       "    </tr>\n",
       "    <tr>\n",
       "      <th>1</th>\n",
       "      <td>47</td>\n",
       "      <td>2464</td>\n",
       "      <td>310</td>\n",
       "      <td>305.0</td>\n",
       "    </tr>\n",
       "    <tr>\n",
       "      <th>2</th>\n",
       "      <td>15</td>\n",
       "      <td>2138</td>\n",
       "      <td>0</td>\n",
       "      <td>0.0</td>\n",
       "    </tr>\n",
       "    <tr>\n",
       "      <th>3</th>\n",
       "      <td>60</td>\n",
       "      <td>623</td>\n",
       "      <td>0</td>\n",
       "      <td>0.0</td>\n",
       "    </tr>\n",
       "    <tr>\n",
       "      <th>4</th>\n",
       "      <td>70</td>\n",
       "      <td>354</td>\n",
       "      <td>0</td>\n",
       "      <td>0.0</td>\n",
       "    </tr>\n",
       "    <tr>\n",
       "      <th>...</th>\n",
       "      <td>...</td>\n",
       "      <td>...</td>\n",
       "      <td>...</td>\n",
       "      <td>...</td>\n",
       "    </tr>\n",
       "    <tr>\n",
       "      <th>129875</th>\n",
       "      <td>29</td>\n",
       "      <td>1731</td>\n",
       "      <td>0</td>\n",
       "      <td>0.0</td>\n",
       "    </tr>\n",
       "    <tr>\n",
       "      <th>129876</th>\n",
       "      <td>63</td>\n",
       "      <td>2087</td>\n",
       "      <td>174</td>\n",
       "      <td>172.0</td>\n",
       "    </tr>\n",
       "    <tr>\n",
       "      <th>129877</th>\n",
       "      <td>69</td>\n",
       "      <td>2320</td>\n",
       "      <td>155</td>\n",
       "      <td>163.0</td>\n",
       "    </tr>\n",
       "    <tr>\n",
       "      <th>129878</th>\n",
       "      <td>66</td>\n",
       "      <td>2450</td>\n",
       "      <td>193</td>\n",
       "      <td>205.0</td>\n",
       "    </tr>\n",
       "    <tr>\n",
       "      <th>129879</th>\n",
       "      <td>38</td>\n",
       "      <td>4307</td>\n",
       "      <td>185</td>\n",
       "      <td>186.0</td>\n",
       "    </tr>\n",
       "  </tbody>\n",
       "</table>\n",
       "<p>129487 rows × 4 columns</p>\n",
       "</div>"
      ],
      "text/plain": [
       "        Age  Flight Distance  Departure Delay in Minutes  \\\n",
       "0        65              265                           0   \n",
       "1        47             2464                         310   \n",
       "2        15             2138                           0   \n",
       "3        60              623                           0   \n",
       "4        70              354                           0   \n",
       "...     ...              ...                         ...   \n",
       "129875   29             1731                           0   \n",
       "129876   63             2087                         174   \n",
       "129877   69             2320                         155   \n",
       "129878   66             2450                         193   \n",
       "129879   38             4307                         185   \n",
       "\n",
       "        Arrival Delay in Minutes  \n",
       "0                            0.0  \n",
       "1                          305.0  \n",
       "2                            0.0  \n",
       "3                            0.0  \n",
       "4                            0.0  \n",
       "...                          ...  \n",
       "129875                       0.0  \n",
       "129876                     172.0  \n",
       "129877                     163.0  \n",
       "129878                     205.0  \n",
       "129879                     186.0  \n",
       "\n",
       "[129487 rows x 4 columns]"
      ]
     },
     "execution_count": 87,
     "metadata": {},
     "output_type": "execute_result"
    }
   ],
   "source": [
    "df[num_columns]"
   ]
  },
  {
   "cell_type": "markdown",
   "id": "dd192efa-8134-49da-be1b-c28dfa110915",
   "metadata": {},
   "source": [
    "##### Detecting Multicollinearity\n",
    "A statistical technique called the **variance inflation factor (VIF)** can detect and measure the amount of collinearity in a multiple regression model.\n",
    "- A VIF of 1 will mean that the variables are not correlated.\n",
    "- A VIF between 1 and 5 shows that variables are moderately correlated.\n",
    "- A VIF between 5 and 10 will mean that variables are highly correlated.\n",
    "  \n",
    "In practice, a VIF greater than 10 is often used as a rule of thumb to identify variables that may need to be removed or transformed to reduce multicollinearity."
   ]
  },
  {
   "cell_type": "markdown",
   "id": "20bc9319",
   "metadata": {
    "id": "381c04eb"
   },
   "source": [
    "**Check the number of satisfied customers in the dataset**\n",
    "\n",
    "To predict customer satisfaction, check how many customers in the dataset are satisfied before modeling."
   ]
  },
  {
   "cell_type": "markdown",
   "id": "3325e6fb",
   "metadata": {
    "id": "71398f5e"
   },
   "source": [
    "**Question:** How many satisfied and dissatisfied customers were there?"
   ]
  },
  {
   "cell_type": "markdown",
   "id": "550ad04d",
   "metadata": {
    "id": "17c736c2"
   },
   "source": [
    "**Question:** What percentage of customers were satisfied?"
   ]
  },
  {
   "cell_type": "markdown",
   "id": "eacffa95",
   "metadata": {
    "id": "5c11852b"
   },
   "source": [
    "**Question:** Should you remove rows where the `Arrival Delay in Minutes` column has missing values, even though the airline is more interested in the `inflight entertainment` column?"
   ]
  },
  {
   "cell_type": "markdown",
   "id": "be759cc8",
   "metadata": {
    "id": "0aaf5733"
   },
   "source": [
    "#### 3.2 Create the training and testing data\n",
    "\n",
    "Put 70% of the data into a training set and the remaining 30% into a testing set. Create an X and y DataFrame with only the necessary variables.\n"
   ]
  },
  {
   "cell_type": "markdown",
   "id": "07766529",
   "metadata": {
    "id": "e5c9ad09"
   },
   "source": [
    "**Question:** If you want to consider customer satisfaction with your model, should you train your model to use `inflight entertainment` as your sole independent variable? "
   ]
  },
  {
   "cell_type": "markdown",
   "id": "79d51117",
   "metadata": {
    "id": "58bb9bf2"
   },
   "source": [
    "### 4. Model building"
   ]
  },
  {
   "cell_type": "markdown",
   "id": "587d8d26",
   "metadata": {
    "id": "a81f66ae"
   },
   "source": [
    "#### 4.1 Fit a LogisticRegression model with sklearn to the data\n",
    "\n",
    "Build a logistic regression model and fit the model to the training data. "
   ]
  },
  {
   "cell_type": "markdown",
   "id": "ff2ddb95-c747-47b3-b5da-0fc260d769f6",
   "metadata": {},
   "source": [
    "#### 4.2 Building with statsmodel"
   ]
  },
  {
   "cell_type": "markdown",
   "id": "8807310d",
   "metadata": {
    "id": "ez_akxj1FuUF"
   },
   "source": [
    "### 5. Results and evaluation\n"
   ]
  },
  {
   "cell_type": "markdown",
   "id": "c01123b8",
   "metadata": {
    "id": "80a02386"
   },
   "source": [
    "##### Predict the outcome for the test dataset\n",
    "Save these predictions as a variable called `y_pred`."
   ]
  },
  {
   "cell_type": "markdown",
   "id": "14e361d9",
   "metadata": {
    "id": "7d7eb725"
   },
   "source": [
    "##### Print out `y_pred`\n",
    "\n",
    "In order to examine the predictions, print out `y_pred`. "
   ]
  },
  {
   "cell_type": "markdown",
   "id": "183e1d0c",
   "metadata": {
    "id": "0948e464"
   },
   "source": [
    " Use the `predict_proba` and `predict` functions on `X_test`"
   ]
  },
  {
   "cell_type": "markdown",
   "id": "64242c1d",
   "metadata": {
    "id": "2d63fb90"
   },
   "source": [
    "**Produce a confusion matrix**"
   ]
  },
  {
   "cell_type": "markdown",
   "id": "769895cd",
   "metadata": {
    "id": "0524c798"
   },
   "source": [
    "Data professionals often like to know the types of errors made by an algorithm. To obtain this information, produce a confusion matrix."
   ]
  },
  {
   "cell_type": "markdown",
   "id": "7aeaf028",
   "metadata": {
    "id": "8xxXOVM8JV9o"
   },
   "source": [
    "**Question:** What stands out to you about the confusion matrix?"
   ]
  },
  {
   "cell_type": "markdown",
   "id": "3a0a7967",
   "metadata": {
    "id": "fd4b3546"
   },
   "source": [
    "**Question:** Did you notice any difference in the number of false positives or false negatives that the model produced?"
   ]
  },
  {
   "cell_type": "markdown",
   "id": "7873e81d",
   "metadata": {
    "id": "287993f0"
   },
   "source": [
    "**Question:** What do you think could be done to improve model performance?"
   ]
  },
  {
   "cell_type": "markdown",
   "id": "963a9e68",
   "metadata": {
    "id": "e3075324"
   },
   "source": [
    "## Considerations\n",
    "**What findings would you share with others?**\n",
    "**What would you recommend to stakeholders?**"
   ]
  }
 ],
 "metadata": {
  "colab": {
   "collapsed_sections": [],
   "provenance": [],
   "toc_visible": true
  },
  "gpuClass": "standard",
  "kernelspec": {
   "display_name": "Python 3 (ipykernel)",
   "language": "python",
   "name": "python3"
  },
  "language_info": {
   "codemirror_mode": {
    "name": "ipython",
    "version": 3
   },
   "file_extension": ".py",
   "mimetype": "text/x-python",
   "name": "python",
   "nbconvert_exporter": "python",
   "pygments_lexer": "ipython3",
   "version": "3.11.5"
  }
 },
 "nbformat": 4,
 "nbformat_minor": 5
}
