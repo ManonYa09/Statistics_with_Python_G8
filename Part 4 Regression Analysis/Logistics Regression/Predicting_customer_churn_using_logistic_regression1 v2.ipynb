{
 "cells": [
  {
   "cell_type": "markdown",
   "id": "5d333000",
   "metadata": {},
   "source": [
    "<div style=\"padding:20px;\n",
    "            color:white;\n",
    "            margin:10;\n",
    "            font-size:170%;\n",
    "            text-align:left;\n",
    "            display:fill;\n",
    "            border-radius:5px;\n",
    "            background-color:#CA6F1E;\n",
    "            overflow:hidden;\n",
    "            font-weight:700\"><span style='color:#283747'></span>\"Predict behavior to retain customers.\" </div>"
   ]
  },
  {
   "cell_type": "markdown",
   "id": "4a1f56c1",
   "metadata": {},
   "source": [
    "> * Information **DATA**\n",
    "> https://community.ibm.com/community/user/businessanalytics/blogs/steven-macko/2019/07/11/telco-customer-churn-1113"
   ]
  },
  {
   "cell_type": "markdown",
   "id": "348dc012",
   "metadata": {},
   "source": [
    "- [1. Exploring The Dataset](#a)\n",
    "    - [1.1 Load The Datset](#1.1)\n",
    "    - [1.2 Data Description](#1.2)\n",
    "    - [1.3 Data Cleaning](#1.3)\n",
    "        - [1.3.1 Missing Value](#1.3.1)\n",
    "        - [1.3.2 Duplicated](#1.3.2)\n",
    "        - [1.3.3 Outliter](#1.3.3)\n",
    "- [2.Data Visualization and Exploratory Data Anlysis(EDA)](#2)\n",
    "    - [2.1 Gender, Seniority, Partner and Pependends](#2.1)\n",
    "    - [2.2 Services](#2.2)\n",
    "    - [2.3 Security_support](#2.3)\n",
    "    - [2.4 Contract type](#2.4)\n",
    "    - [2.5 Churn analysis based on paying options](#2.5)\n",
    "    - [2.6 Churn analysis based on tenure group](#2.6)\n",
    "    - [2.7 Charges](#2.7)\n",
    "- [3. Data preprocessing and feature engineering](#4)\n",
    "    - [3.1 Min-Max Scaling or Standardization?](#4.1)\n",
    "    - [3.2 Encoding Categorical Variables](#4.2)\n",
    "        - [3.2.1 Label Encoding](#4.2.1)\n",
    "        - [3.2.2 One hot Encoding](#4.2.2)\n",
    "        - [3.2.3 Multicolinearity](#4.2.3)\n",
    "- [4. Data Splitting and Model Building](#5)\n",
    "   - [4.1 Data Splitting](#5.1)\n",
    "   - [4.2 Model Buiding](#5.2)\n",
    "       - [4.2.1 Feature selection](#5.2.1)\n",
    "           - [4.2.1.1 Recursive Feature Elimination (RFE)](#5.2.1.1)\n",
    "           - [4.2.1.2 Model building using L1 Regularization](#5.2.1.2)\n",
    "       - [4.2.2 Feature importance](#5.2.2)\n",
    "- [5. Model Evaluation](#6) \n"
   ]
  },
  {
   "cell_type": "markdown",
   "id": "9a5ab6aa",
   "metadata": {},
   "source": [
    "<a id=\"a\"></a>\n",
    "<div style=\"padding:20px;\n",
    "            color:white;\n",
    "            margin:10;\n",
    "            font-size:170%;\n",
    "            text-align:left;\n",
    "            display:fill;\n",
    "            border-radius:5px;\n",
    "            background-color:#222222;\n",
    "            overflow:hidden;\n",
    "            font-weight:700\">1 <span style='color:#CDA63A'>|</span>Exploring The Dataset</div>"
   ]
  },
  {
   "cell_type": "code",
   "execution_count": 2,
   "id": "11926a3d",
   "metadata": {},
   "outputs": [],
   "source": [
    "import pandas as pd, numpy as np, seaborn as sns, matplotlib.pyplot as plt\n",
    "# import statsmodels.api as sm \n",
    "from sklearn import metrics\n",
    "from sklearn.model_selection import train_test_split\n",
    "from sklearn.linear_model import LogisticRegression\n",
    "from sklearn.metrics import confusion_matrix, accuracy_score\n",
    "\n",
    "### check multicorre\n",
    "from statsmodels.stats.outliers_influence import variance_inflation_factor\n",
    "## Feature selection\n",
    "from sklearn.feature_selection import RFE\n",
    "\n",
    "# from sklearn.preprocessing import LabelEncoder \n",
    "\n",
    "import warnings\n",
    "warnings.filterwarnings(\"ignore\")\n",
    "# Display all the column of the dataframes\n",
    "pd.set_option('display.max_columns', None)"
   ]
  },
  {
   "cell_type": "markdown",
   "id": "4cf15240",
   "metadata": {},
   "source": [
    "<a id=\"1.1\"></a>\n",
    "## <b>1.1 <span style='color:#00008B'>Load The dataset</span></b>"
   ]
  },
  {
   "cell_type": "code",
   "execution_count": null,
   "id": "41245239-1a32-4794-92bb-a9f6ed535afe",
   "metadata": {},
   "outputs": [],
   "source": []
  },
  {
   "cell_type": "code",
   "execution_count": 45,
   "id": "37474f88",
   "metadata": {},
   "outputs": [
    {
     "data": {
      "text/html": [
       "<div>\n",
       "<style scoped>\n",
       "    .dataframe tbody tr th:only-of-type {\n",
       "        vertical-align: middle;\n",
       "    }\n",
       "\n",
       "    .dataframe tbody tr th {\n",
       "        vertical-align: top;\n",
       "    }\n",
       "\n",
       "    .dataframe thead th {\n",
       "        text-align: right;\n",
       "    }\n",
       "</style>\n",
       "<table border=\"1\" class=\"dataframe\">\n",
       "  <thead>\n",
       "    <tr style=\"text-align: right;\">\n",
       "      <th></th>\n",
       "      <th>customerID</th>\n",
       "      <th>gender</th>\n",
       "      <th>SeniorCitizen</th>\n",
       "      <th>Partner</th>\n",
       "      <th>Dependents</th>\n",
       "      <th>tenure</th>\n",
       "      <th>PhoneService</th>\n",
       "      <th>MultipleLines</th>\n",
       "      <th>InternetService</th>\n",
       "      <th>OnlineSecurity</th>\n",
       "      <th>OnlineBackup</th>\n",
       "      <th>DeviceProtection</th>\n",
       "      <th>TechSupport</th>\n",
       "      <th>StreamingTV</th>\n",
       "      <th>StreamingMovies</th>\n",
       "      <th>Contract</th>\n",
       "      <th>PaperlessBilling</th>\n",
       "      <th>PaymentMethod</th>\n",
       "      <th>MonthlyCharges</th>\n",
       "      <th>TotalCharges</th>\n",
       "      <th>Churn</th>\n",
       "    </tr>\n",
       "  </thead>\n",
       "  <tbody>\n",
       "    <tr>\n",
       "      <th>0</th>\n",
       "      <td>7590-VHVEG</td>\n",
       "      <td>Female</td>\n",
       "      <td>0</td>\n",
       "      <td>Yes</td>\n",
       "      <td>No</td>\n",
       "      <td>1</td>\n",
       "      <td>No</td>\n",
       "      <td>No phone service</td>\n",
       "      <td>DSL</td>\n",
       "      <td>No</td>\n",
       "      <td>Yes</td>\n",
       "      <td>No</td>\n",
       "      <td>No</td>\n",
       "      <td>No</td>\n",
       "      <td>No</td>\n",
       "      <td>Month-to-month</td>\n",
       "      <td>Yes</td>\n",
       "      <td>Electronic check</td>\n",
       "      <td>29.85</td>\n",
       "      <td>29.85</td>\n",
       "      <td>No</td>\n",
       "    </tr>\n",
       "    <tr>\n",
       "      <th>1</th>\n",
       "      <td>5575-GNVDE</td>\n",
       "      <td>Male</td>\n",
       "      <td>0</td>\n",
       "      <td>No</td>\n",
       "      <td>No</td>\n",
       "      <td>34</td>\n",
       "      <td>Yes</td>\n",
       "      <td>No</td>\n",
       "      <td>DSL</td>\n",
       "      <td>Yes</td>\n",
       "      <td>No</td>\n",
       "      <td>Yes</td>\n",
       "      <td>No</td>\n",
       "      <td>No</td>\n",
       "      <td>No</td>\n",
       "      <td>One year</td>\n",
       "      <td>No</td>\n",
       "      <td>Mailed check</td>\n",
       "      <td>56.95</td>\n",
       "      <td>1889.5</td>\n",
       "      <td>No</td>\n",
       "    </tr>\n",
       "    <tr>\n",
       "      <th>2</th>\n",
       "      <td>3668-QPYBK</td>\n",
       "      <td>Male</td>\n",
       "      <td>0</td>\n",
       "      <td>No</td>\n",
       "      <td>No</td>\n",
       "      <td>2</td>\n",
       "      <td>Yes</td>\n",
       "      <td>No</td>\n",
       "      <td>DSL</td>\n",
       "      <td>Yes</td>\n",
       "      <td>Yes</td>\n",
       "      <td>No</td>\n",
       "      <td>No</td>\n",
       "      <td>No</td>\n",
       "      <td>No</td>\n",
       "      <td>Month-to-month</td>\n",
       "      <td>Yes</td>\n",
       "      <td>Mailed check</td>\n",
       "      <td>53.85</td>\n",
       "      <td>108.15</td>\n",
       "      <td>Yes</td>\n",
       "    </tr>\n",
       "    <tr>\n",
       "      <th>3</th>\n",
       "      <td>7795-CFOCW</td>\n",
       "      <td>Male</td>\n",
       "      <td>0</td>\n",
       "      <td>No</td>\n",
       "      <td>No</td>\n",
       "      <td>45</td>\n",
       "      <td>No</td>\n",
       "      <td>No phone service</td>\n",
       "      <td>DSL</td>\n",
       "      <td>Yes</td>\n",
       "      <td>No</td>\n",
       "      <td>Yes</td>\n",
       "      <td>Yes</td>\n",
       "      <td>No</td>\n",
       "      <td>No</td>\n",
       "      <td>One year</td>\n",
       "      <td>No</td>\n",
       "      <td>Bank transfer (automatic)</td>\n",
       "      <td>42.30</td>\n",
       "      <td>1840.75</td>\n",
       "      <td>No</td>\n",
       "    </tr>\n",
       "    <tr>\n",
       "      <th>4</th>\n",
       "      <td>9237-HQITU</td>\n",
       "      <td>Female</td>\n",
       "      <td>0</td>\n",
       "      <td>No</td>\n",
       "      <td>No</td>\n",
       "      <td>2</td>\n",
       "      <td>Yes</td>\n",
       "      <td>No</td>\n",
       "      <td>Fiber optic</td>\n",
       "      <td>No</td>\n",
       "      <td>No</td>\n",
       "      <td>No</td>\n",
       "      <td>No</td>\n",
       "      <td>No</td>\n",
       "      <td>No</td>\n",
       "      <td>Month-to-month</td>\n",
       "      <td>Yes</td>\n",
       "      <td>Electronic check</td>\n",
       "      <td>70.70</td>\n",
       "      <td>151.65</td>\n",
       "      <td>Yes</td>\n",
       "    </tr>\n",
       "  </tbody>\n",
       "</table>\n",
       "</div>"
      ],
      "text/plain": [
       "   customerID  gender  SeniorCitizen Partner Dependents  tenure PhoneService  \\\n",
       "0  7590-VHVEG  Female              0     Yes         No       1           No   \n",
       "1  5575-GNVDE    Male              0      No         No      34          Yes   \n",
       "2  3668-QPYBK    Male              0      No         No       2          Yes   \n",
       "3  7795-CFOCW    Male              0      No         No      45           No   \n",
       "4  9237-HQITU  Female              0      No         No       2          Yes   \n",
       "\n",
       "      MultipleLines InternetService OnlineSecurity OnlineBackup  \\\n",
       "0  No phone service             DSL             No          Yes   \n",
       "1                No             DSL            Yes           No   \n",
       "2                No             DSL            Yes          Yes   \n",
       "3  No phone service             DSL            Yes           No   \n",
       "4                No     Fiber optic             No           No   \n",
       "\n",
       "  DeviceProtection TechSupport StreamingTV StreamingMovies        Contract  \\\n",
       "0               No          No          No              No  Month-to-month   \n",
       "1              Yes          No          No              No        One year   \n",
       "2               No          No          No              No  Month-to-month   \n",
       "3              Yes         Yes          No              No        One year   \n",
       "4               No          No          No              No  Month-to-month   \n",
       "\n",
       "  PaperlessBilling              PaymentMethod  MonthlyCharges TotalCharges  \\\n",
       "0              Yes           Electronic check           29.85        29.85   \n",
       "1               No               Mailed check           56.95       1889.5   \n",
       "2              Yes               Mailed check           53.85       108.15   \n",
       "3               No  Bank transfer (automatic)           42.30      1840.75   \n",
       "4              Yes           Electronic check           70.70       151.65   \n",
       "\n",
       "  Churn  \n",
       "0    No  \n",
       "1    No  \n",
       "2   Yes  \n",
       "3    No  \n",
       "4   Yes  "
      ]
     },
     "execution_count": 45,
     "metadata": {},
     "output_type": "execute_result"
    }
   ],
   "source": [
    "df = pd.read_csv('https://raw.githubusercontent.com/ManonYa09/Statistics_with_Python_G7/main/Part%204%20Regression%20Analysis/Logistics%20Regression/WA_Fn-UseC_-Telco-Customer-Churn.csv')\n",
    "# df1 = pd.read_csv('https://raw.githubusercontent.com/ManonYa09/Statistics_with_Python_G7/main/Part%204%20Regression%20Analysis/Logistics%20Regression/WA_Fn-UseC_-Telco-Customer-Churn.csv')\n",
    "# df.drop(columns= 'customerID',inplace=True)\n",
    "df.head()"
   ]
  },
  {
   "cell_type": "code",
   "execution_count": 46,
   "id": "6af8151b-ca8c-455f-be10-1b27aaf84290",
   "metadata": {},
   "outputs": [],
   "source": [
    "# df1['TotalCharges'].astype(float)"
   ]
  },
  {
   "cell_type": "code",
   "execution_count": 47,
   "id": "78fde83c-8cfd-444f-a826-729d9b983df2",
   "metadata": {},
   "outputs": [
    {
     "data": {
      "text/plain": [
       "Index(['customerID', 'gender', 'SeniorCitizen', 'Partner', 'Dependents',\n",
       "       'tenure', 'PhoneService', 'MultipleLines', 'InternetService',\n",
       "       'OnlineSecurity', 'OnlineBackup', 'DeviceProtection', 'TechSupport',\n",
       "       'StreamingTV', 'StreamingMovies', 'Contract', 'PaperlessBilling',\n",
       "       'PaymentMethod', 'MonthlyCharges', 'TotalCharges', 'Churn'],\n",
       "      dtype='object')"
      ]
     },
     "execution_count": 47,
     "metadata": {},
     "output_type": "execute_result"
    }
   ],
   "source": [
    "df.columns"
   ]
  },
  {
   "cell_type": "code",
   "execution_count": 51,
   "id": "67b8da72-be28-4e08-ad57-6a12deeff7b0",
   "metadata": {},
   "outputs": [
    {
     "name": "stdout",
     "output_type": "stream",
     "text": [
      "<class 'pandas.core.frame.DataFrame'>\n",
      "RangeIndex: 7043 entries, 0 to 7042\n",
      "Data columns (total 21 columns):\n",
      " #   Column            Non-Null Count  Dtype  \n",
      "---  ------            --------------  -----  \n",
      " 0   customerID        7043 non-null   object \n",
      " 1   gender            7043 non-null   object \n",
      " 2   SeniorCitizen     7043 non-null   int64  \n",
      " 3   Partner           7043 non-null   object \n",
      " 4   Dependents        7043 non-null   object \n",
      " 5   tenure            7043 non-null   int64  \n",
      " 6   PhoneService      7043 non-null   object \n",
      " 7   MultipleLines     7043 non-null   object \n",
      " 8   InternetService   7043 non-null   object \n",
      " 9   OnlineSecurity    7043 non-null   object \n",
      " 10  OnlineBackup      7043 non-null   object \n",
      " 11  DeviceProtection  7043 non-null   object \n",
      " 12  TechSupport       7043 non-null   object \n",
      " 13  StreamingTV       7043 non-null   object \n",
      " 14  StreamingMovies   7043 non-null   object \n",
      " 15  Contract          7043 non-null   object \n",
      " 16  PaperlessBilling  7043 non-null   object \n",
      " 17  PaymentMethod     7043 non-null   object \n",
      " 18  MonthlyCharges    7043 non-null   float64\n",
      " 19  TotalCharges      7043 non-null   object \n",
      " 20  Churn             7043 non-null   object \n",
      "dtypes: float64(1), int64(2), object(18)\n",
      "memory usage: 1.1+ MB\n"
     ]
    }
   ],
   "source": [
    "df.info()"
   ]
  },
  {
   "cell_type": "code",
   "execution_count": 53,
   "id": "1f39823f-622d-4141-9f2a-1f2f73af3916",
   "metadata": {},
   "outputs": [],
   "source": [
    "# df.drop(columns='customerID', inplace=True)"
   ]
  },
  {
   "cell_type": "markdown",
   "id": "e0537a50",
   "metadata": {},
   "source": [
    "<a id=\"1.2\"></a>\n",
    "## <b>1.2 <span style='color:#00008B'>Quick Exploration</span></b>"
   ]
  },
  {
   "cell_type": "code",
   "execution_count": 56,
   "id": "5da14dd7",
   "metadata": {},
   "outputs": [
    {
     "data": {
      "text/plain": [
       "(7043, 21)"
      ]
     },
     "execution_count": 56,
     "metadata": {},
     "output_type": "execute_result"
    }
   ],
   "source": [
    "df.shape"
   ]
  },
  {
   "cell_type": "code",
   "execution_count": 58,
   "id": "32ddae06-5eea-4435-aa78-c4872781d890",
   "metadata": {},
   "outputs": [
    {
     "data": {
      "text/html": [
       "<div>\n",
       "<style scoped>\n",
       "    .dataframe tbody tr th:only-of-type {\n",
       "        vertical-align: middle;\n",
       "    }\n",
       "\n",
       "    .dataframe tbody tr th {\n",
       "        vertical-align: top;\n",
       "    }\n",
       "\n",
       "    .dataframe thead th {\n",
       "        text-align: right;\n",
       "    }\n",
       "</style>\n",
       "<table border=\"1\" class=\"dataframe\">\n",
       "  <thead>\n",
       "    <tr style=\"text-align: right;\">\n",
       "      <th></th>\n",
       "      <th>customerID</th>\n",
       "      <th>gender</th>\n",
       "      <th>SeniorCitizen</th>\n",
       "      <th>Partner</th>\n",
       "      <th>Dependents</th>\n",
       "      <th>tenure</th>\n",
       "      <th>PhoneService</th>\n",
       "      <th>MultipleLines</th>\n",
       "      <th>InternetService</th>\n",
       "      <th>OnlineSecurity</th>\n",
       "      <th>OnlineBackup</th>\n",
       "      <th>DeviceProtection</th>\n",
       "      <th>TechSupport</th>\n",
       "      <th>StreamingTV</th>\n",
       "      <th>StreamingMovies</th>\n",
       "      <th>Contract</th>\n",
       "      <th>PaperlessBilling</th>\n",
       "      <th>PaymentMethod</th>\n",
       "      <th>MonthlyCharges</th>\n",
       "      <th>TotalCharges</th>\n",
       "      <th>Churn</th>\n",
       "    </tr>\n",
       "  </thead>\n",
       "  <tbody>\n",
       "    <tr>\n",
       "      <th>488</th>\n",
       "      <td>4472-LVYGI</td>\n",
       "      <td>Female</td>\n",
       "      <td>0</td>\n",
       "      <td>Yes</td>\n",
       "      <td>Yes</td>\n",
       "      <td>0</td>\n",
       "      <td>No</td>\n",
       "      <td>No phone service</td>\n",
       "      <td>DSL</td>\n",
       "      <td>Yes</td>\n",
       "      <td>No</td>\n",
       "      <td>Yes</td>\n",
       "      <td>Yes</td>\n",
       "      <td>Yes</td>\n",
       "      <td>No</td>\n",
       "      <td>Two year</td>\n",
       "      <td>Yes</td>\n",
       "      <td>Bank transfer (automatic)</td>\n",
       "      <td>52.55</td>\n",
       "      <td></td>\n",
       "      <td>No</td>\n",
       "    </tr>\n",
       "    <tr>\n",
       "      <th>753</th>\n",
       "      <td>3115-CZMZD</td>\n",
       "      <td>Male</td>\n",
       "      <td>0</td>\n",
       "      <td>No</td>\n",
       "      <td>Yes</td>\n",
       "      <td>0</td>\n",
       "      <td>Yes</td>\n",
       "      <td>No</td>\n",
       "      <td>No</td>\n",
       "      <td>No internet service</td>\n",
       "      <td>No internet service</td>\n",
       "      <td>No internet service</td>\n",
       "      <td>No internet service</td>\n",
       "      <td>No internet service</td>\n",
       "      <td>No internet service</td>\n",
       "      <td>Two year</td>\n",
       "      <td>No</td>\n",
       "      <td>Mailed check</td>\n",
       "      <td>20.25</td>\n",
       "      <td></td>\n",
       "      <td>No</td>\n",
       "    </tr>\n",
       "    <tr>\n",
       "      <th>936</th>\n",
       "      <td>5709-LVOEQ</td>\n",
       "      <td>Female</td>\n",
       "      <td>0</td>\n",
       "      <td>Yes</td>\n",
       "      <td>Yes</td>\n",
       "      <td>0</td>\n",
       "      <td>Yes</td>\n",
       "      <td>No</td>\n",
       "      <td>DSL</td>\n",
       "      <td>Yes</td>\n",
       "      <td>Yes</td>\n",
       "      <td>Yes</td>\n",
       "      <td>No</td>\n",
       "      <td>Yes</td>\n",
       "      <td>Yes</td>\n",
       "      <td>Two year</td>\n",
       "      <td>No</td>\n",
       "      <td>Mailed check</td>\n",
       "      <td>80.85</td>\n",
       "      <td></td>\n",
       "      <td>No</td>\n",
       "    </tr>\n",
       "    <tr>\n",
       "      <th>1082</th>\n",
       "      <td>4367-NUYAO</td>\n",
       "      <td>Male</td>\n",
       "      <td>0</td>\n",
       "      <td>Yes</td>\n",
       "      <td>Yes</td>\n",
       "      <td>0</td>\n",
       "      <td>Yes</td>\n",
       "      <td>Yes</td>\n",
       "      <td>No</td>\n",
       "      <td>No internet service</td>\n",
       "      <td>No internet service</td>\n",
       "      <td>No internet service</td>\n",
       "      <td>No internet service</td>\n",
       "      <td>No internet service</td>\n",
       "      <td>No internet service</td>\n",
       "      <td>Two year</td>\n",
       "      <td>No</td>\n",
       "      <td>Mailed check</td>\n",
       "      <td>25.75</td>\n",
       "      <td></td>\n",
       "      <td>No</td>\n",
       "    </tr>\n",
       "    <tr>\n",
       "      <th>1340</th>\n",
       "      <td>1371-DWPAZ</td>\n",
       "      <td>Female</td>\n",
       "      <td>0</td>\n",
       "      <td>Yes</td>\n",
       "      <td>Yes</td>\n",
       "      <td>0</td>\n",
       "      <td>No</td>\n",
       "      <td>No phone service</td>\n",
       "      <td>DSL</td>\n",
       "      <td>Yes</td>\n",
       "      <td>Yes</td>\n",
       "      <td>Yes</td>\n",
       "      <td>Yes</td>\n",
       "      <td>Yes</td>\n",
       "      <td>No</td>\n",
       "      <td>Two year</td>\n",
       "      <td>No</td>\n",
       "      <td>Credit card (automatic)</td>\n",
       "      <td>56.05</td>\n",
       "      <td></td>\n",
       "      <td>No</td>\n",
       "    </tr>\n",
       "    <tr>\n",
       "      <th>3331</th>\n",
       "      <td>7644-OMVMY</td>\n",
       "      <td>Male</td>\n",
       "      <td>0</td>\n",
       "      <td>Yes</td>\n",
       "      <td>Yes</td>\n",
       "      <td>0</td>\n",
       "      <td>Yes</td>\n",
       "      <td>No</td>\n",
       "      <td>No</td>\n",
       "      <td>No internet service</td>\n",
       "      <td>No internet service</td>\n",
       "      <td>No internet service</td>\n",
       "      <td>No internet service</td>\n",
       "      <td>No internet service</td>\n",
       "      <td>No internet service</td>\n",
       "      <td>Two year</td>\n",
       "      <td>No</td>\n",
       "      <td>Mailed check</td>\n",
       "      <td>19.85</td>\n",
       "      <td></td>\n",
       "      <td>No</td>\n",
       "    </tr>\n",
       "    <tr>\n",
       "      <th>3826</th>\n",
       "      <td>3213-VVOLG</td>\n",
       "      <td>Male</td>\n",
       "      <td>0</td>\n",
       "      <td>Yes</td>\n",
       "      <td>Yes</td>\n",
       "      <td>0</td>\n",
       "      <td>Yes</td>\n",
       "      <td>Yes</td>\n",
       "      <td>No</td>\n",
       "      <td>No internet service</td>\n",
       "      <td>No internet service</td>\n",
       "      <td>No internet service</td>\n",
       "      <td>No internet service</td>\n",
       "      <td>No internet service</td>\n",
       "      <td>No internet service</td>\n",
       "      <td>Two year</td>\n",
       "      <td>No</td>\n",
       "      <td>Mailed check</td>\n",
       "      <td>25.35</td>\n",
       "      <td></td>\n",
       "      <td>No</td>\n",
       "    </tr>\n",
       "    <tr>\n",
       "      <th>4380</th>\n",
       "      <td>2520-SGTTA</td>\n",
       "      <td>Female</td>\n",
       "      <td>0</td>\n",
       "      <td>Yes</td>\n",
       "      <td>Yes</td>\n",
       "      <td>0</td>\n",
       "      <td>Yes</td>\n",
       "      <td>No</td>\n",
       "      <td>No</td>\n",
       "      <td>No internet service</td>\n",
       "      <td>No internet service</td>\n",
       "      <td>No internet service</td>\n",
       "      <td>No internet service</td>\n",
       "      <td>No internet service</td>\n",
       "      <td>No internet service</td>\n",
       "      <td>Two year</td>\n",
       "      <td>No</td>\n",
       "      <td>Mailed check</td>\n",
       "      <td>20.00</td>\n",
       "      <td></td>\n",
       "      <td>No</td>\n",
       "    </tr>\n",
       "    <tr>\n",
       "      <th>5218</th>\n",
       "      <td>2923-ARZLG</td>\n",
       "      <td>Male</td>\n",
       "      <td>0</td>\n",
       "      <td>Yes</td>\n",
       "      <td>Yes</td>\n",
       "      <td>0</td>\n",
       "      <td>Yes</td>\n",
       "      <td>No</td>\n",
       "      <td>No</td>\n",
       "      <td>No internet service</td>\n",
       "      <td>No internet service</td>\n",
       "      <td>No internet service</td>\n",
       "      <td>No internet service</td>\n",
       "      <td>No internet service</td>\n",
       "      <td>No internet service</td>\n",
       "      <td>One year</td>\n",
       "      <td>Yes</td>\n",
       "      <td>Mailed check</td>\n",
       "      <td>19.70</td>\n",
       "      <td></td>\n",
       "      <td>No</td>\n",
       "    </tr>\n",
       "    <tr>\n",
       "      <th>6670</th>\n",
       "      <td>4075-WKNIU</td>\n",
       "      <td>Female</td>\n",
       "      <td>0</td>\n",
       "      <td>Yes</td>\n",
       "      <td>Yes</td>\n",
       "      <td>0</td>\n",
       "      <td>Yes</td>\n",
       "      <td>Yes</td>\n",
       "      <td>DSL</td>\n",
       "      <td>No</td>\n",
       "      <td>Yes</td>\n",
       "      <td>Yes</td>\n",
       "      <td>Yes</td>\n",
       "      <td>Yes</td>\n",
       "      <td>No</td>\n",
       "      <td>Two year</td>\n",
       "      <td>No</td>\n",
       "      <td>Mailed check</td>\n",
       "      <td>73.35</td>\n",
       "      <td></td>\n",
       "      <td>No</td>\n",
       "    </tr>\n",
       "    <tr>\n",
       "      <th>6754</th>\n",
       "      <td>2775-SEFEE</td>\n",
       "      <td>Male</td>\n",
       "      <td>0</td>\n",
       "      <td>No</td>\n",
       "      <td>Yes</td>\n",
       "      <td>0</td>\n",
       "      <td>Yes</td>\n",
       "      <td>Yes</td>\n",
       "      <td>DSL</td>\n",
       "      <td>Yes</td>\n",
       "      <td>Yes</td>\n",
       "      <td>No</td>\n",
       "      <td>Yes</td>\n",
       "      <td>No</td>\n",
       "      <td>No</td>\n",
       "      <td>Two year</td>\n",
       "      <td>Yes</td>\n",
       "      <td>Bank transfer (automatic)</td>\n",
       "      <td>61.90</td>\n",
       "      <td></td>\n",
       "      <td>No</td>\n",
       "    </tr>\n",
       "  </tbody>\n",
       "</table>\n",
       "</div>"
      ],
      "text/plain": [
       "      customerID  gender  SeniorCitizen Partner Dependents  tenure  \\\n",
       "488   4472-LVYGI  Female              0     Yes        Yes       0   \n",
       "753   3115-CZMZD    Male              0      No        Yes       0   \n",
       "936   5709-LVOEQ  Female              0     Yes        Yes       0   \n",
       "1082  4367-NUYAO    Male              0     Yes        Yes       0   \n",
       "1340  1371-DWPAZ  Female              0     Yes        Yes       0   \n",
       "3331  7644-OMVMY    Male              0     Yes        Yes       0   \n",
       "3826  3213-VVOLG    Male              0     Yes        Yes       0   \n",
       "4380  2520-SGTTA  Female              0     Yes        Yes       0   \n",
       "5218  2923-ARZLG    Male              0     Yes        Yes       0   \n",
       "6670  4075-WKNIU  Female              0     Yes        Yes       0   \n",
       "6754  2775-SEFEE    Male              0      No        Yes       0   \n",
       "\n",
       "     PhoneService     MultipleLines InternetService       OnlineSecurity  \\\n",
       "488            No  No phone service             DSL                  Yes   \n",
       "753           Yes                No              No  No internet service   \n",
       "936           Yes                No             DSL                  Yes   \n",
       "1082          Yes               Yes              No  No internet service   \n",
       "1340           No  No phone service             DSL                  Yes   \n",
       "3331          Yes                No              No  No internet service   \n",
       "3826          Yes               Yes              No  No internet service   \n",
       "4380          Yes                No              No  No internet service   \n",
       "5218          Yes                No              No  No internet service   \n",
       "6670          Yes               Yes             DSL                   No   \n",
       "6754          Yes               Yes             DSL                  Yes   \n",
       "\n",
       "             OnlineBackup     DeviceProtection          TechSupport  \\\n",
       "488                    No                  Yes                  Yes   \n",
       "753   No internet service  No internet service  No internet service   \n",
       "936                   Yes                  Yes                   No   \n",
       "1082  No internet service  No internet service  No internet service   \n",
       "1340                  Yes                  Yes                  Yes   \n",
       "3331  No internet service  No internet service  No internet service   \n",
       "3826  No internet service  No internet service  No internet service   \n",
       "4380  No internet service  No internet service  No internet service   \n",
       "5218  No internet service  No internet service  No internet service   \n",
       "6670                  Yes                  Yes                  Yes   \n",
       "6754                  Yes                   No                  Yes   \n",
       "\n",
       "              StreamingTV      StreamingMovies  Contract PaperlessBilling  \\\n",
       "488                   Yes                   No  Two year              Yes   \n",
       "753   No internet service  No internet service  Two year               No   \n",
       "936                   Yes                  Yes  Two year               No   \n",
       "1082  No internet service  No internet service  Two year               No   \n",
       "1340                  Yes                   No  Two year               No   \n",
       "3331  No internet service  No internet service  Two year               No   \n",
       "3826  No internet service  No internet service  Two year               No   \n",
       "4380  No internet service  No internet service  Two year               No   \n",
       "5218  No internet service  No internet service  One year              Yes   \n",
       "6670                  Yes                   No  Two year               No   \n",
       "6754                   No                   No  Two year              Yes   \n",
       "\n",
       "                  PaymentMethod  MonthlyCharges TotalCharges Churn  \n",
       "488   Bank transfer (automatic)           52.55                 No  \n",
       "753                Mailed check           20.25                 No  \n",
       "936                Mailed check           80.85                 No  \n",
       "1082               Mailed check           25.75                 No  \n",
       "1340    Credit card (automatic)           56.05                 No  \n",
       "3331               Mailed check           19.85                 No  \n",
       "3826               Mailed check           25.35                 No  \n",
       "4380               Mailed check           20.00                 No  \n",
       "5218               Mailed check           19.70                 No  \n",
       "6670               Mailed check           73.35                 No  \n",
       "6754  Bank transfer (automatic)           61.90                 No  "
      ]
     },
     "execution_count": 58,
     "metadata": {},
     "output_type": "execute_result"
    }
   ],
   "source": [
    "df.loc[df[df['TotalCharges']==' '].index]"
   ]
  },
  {
   "cell_type": "code",
   "execution_count": null,
   "id": "f84c10c7-7bae-4757-b050-058cea6004d3",
   "metadata": {},
   "outputs": [],
   "source": []
  },
  {
   "cell_type": "code",
   "execution_count": 61,
   "id": "8f84ec74-946e-4b2b-94c3-6cce0574ae41",
   "metadata": {},
   "outputs": [],
   "source": [
    "df.drop(index = df[df['TotalCharges']==' '].index, inplace=True) ## "
   ]
  },
  {
   "cell_type": "code",
   "execution_count": 63,
   "id": "26da0528-9e16-4bf9-84cb-be2f4447c69d",
   "metadata": {},
   "outputs": [
    {
     "data": {
      "text/plain": [
       "(7032, 21)"
      ]
     },
     "execution_count": 63,
     "metadata": {},
     "output_type": "execute_result"
    }
   ],
   "source": [
    "df.shape ### 7043=> 7032"
   ]
  },
  {
   "cell_type": "code",
   "execution_count": 65,
   "id": "6fddb8ce-d1ec-4db3-ba06-f3072f550c81",
   "metadata": {},
   "outputs": [
    {
     "name": "stdout",
     "output_type": "stream",
     "text": [
      "<class 'pandas.core.frame.DataFrame'>\n",
      "Index: 7032 entries, 0 to 7042\n",
      "Data columns (total 21 columns):\n",
      " #   Column            Non-Null Count  Dtype  \n",
      "---  ------            --------------  -----  \n",
      " 0   customerID        7032 non-null   object \n",
      " 1   gender            7032 non-null   object \n",
      " 2   SeniorCitizen     7032 non-null   int64  \n",
      " 3   Partner           7032 non-null   object \n",
      " 4   Dependents        7032 non-null   object \n",
      " 5   tenure            7032 non-null   int64  \n",
      " 6   PhoneService      7032 non-null   object \n",
      " 7   MultipleLines     7032 non-null   object \n",
      " 8   InternetService   7032 non-null   object \n",
      " 9   OnlineSecurity    7032 non-null   object \n",
      " 10  OnlineBackup      7032 non-null   object \n",
      " 11  DeviceProtection  7032 non-null   object \n",
      " 12  TechSupport       7032 non-null   object \n",
      " 13  StreamingTV       7032 non-null   object \n",
      " 14  StreamingMovies   7032 non-null   object \n",
      " 15  Contract          7032 non-null   object \n",
      " 16  PaperlessBilling  7032 non-null   object \n",
      " 17  PaymentMethod     7032 non-null   object \n",
      " 18  MonthlyCharges    7032 non-null   float64\n",
      " 19  TotalCharges      7032 non-null   object \n",
      " 20  Churn             7032 non-null   object \n",
      "dtypes: float64(1), int64(2), object(18)\n",
      "memory usage: 1.2+ MB\n"
     ]
    }
   ],
   "source": [
    "df.info()"
   ]
  },
  {
   "cell_type": "code",
   "execution_count": 73,
   "id": "35bca69b-d86c-45aa-ad71-4a3274b44e83",
   "metadata": {},
   "outputs": [],
   "source": [
    "df['TotalCharges'] = pd.to_numeric(df['TotalCharges'], errors='coerce')"
   ]
  },
  {
   "cell_type": "code",
   "execution_count": 81,
   "id": "613f9574-1548-4f32-ac81-aeb0b7b2e262",
   "metadata": {},
   "outputs": [
    {
     "data": {
      "text/plain": [
       "count    7032.000000\n",
       "mean     2283.300441\n",
       "std      2266.771362\n",
       "min        18.800000\n",
       "25%       401.450000\n",
       "50%      1397.475000\n",
       "75%      3794.737500\n",
       "max      8684.800000\n",
       "Name: TotalCharges, dtype: float64"
      ]
     },
     "execution_count": 81,
     "metadata": {},
     "output_type": "execute_result"
    }
   ],
   "source": [
    "df['TotalCharges'].describe()"
   ]
  },
  {
   "cell_type": "code",
   "execution_count": 83,
   "id": "adc8efca-2c7c-4cf4-89b6-74063f840796",
   "metadata": {},
   "outputs": [
    {
     "data": {
      "text/plain": [
       "Churn\n",
       "No     5163\n",
       "Yes    1869\n",
       "Name: count, dtype: int64"
      ]
     },
     "execution_count": 83,
     "metadata": {},
     "output_type": "execute_result"
    }
   ],
   "source": [
    "df['Churn'].value_counts()"
   ]
  },
  {
   "cell_type": "markdown",
   "id": "346055ff",
   "metadata": {},
   "source": [
    "<a id=\"1.3\"></a>\n",
    "## <b>1.3 <span style='color:#00008B'>Data Cleaning</span></b>\n"
   ]
  },
  {
   "cell_type": "code",
   "execution_count": 90,
   "id": "f7eedc70-13d8-473a-94c7-4b59b0360636",
   "metadata": {},
   "outputs": [
    {
     "name": "stdout",
     "output_type": "stream",
     "text": [
      "<class 'pandas.core.frame.DataFrame'>\n",
      "Index: 7032 entries, 0 to 7042\n",
      "Data columns (total 21 columns):\n",
      " #   Column            Non-Null Count  Dtype  \n",
      "---  ------            --------------  -----  \n",
      " 0   customerID        7032 non-null   object \n",
      " 1   gender            7032 non-null   object \n",
      " 2   SeniorCitizen     7032 non-null   int64  \n",
      " 3   Partner           7032 non-null   object \n",
      " 4   Dependents        7032 non-null   object \n",
      " 5   tenure            7032 non-null   int64  \n",
      " 6   PhoneService      7032 non-null   object \n",
      " 7   MultipleLines     7032 non-null   object \n",
      " 8   InternetService   7032 non-null   object \n",
      " 9   OnlineSecurity    7032 non-null   object \n",
      " 10  OnlineBackup      7032 non-null   object \n",
      " 11  DeviceProtection  7032 non-null   object \n",
      " 12  TechSupport       7032 non-null   object \n",
      " 13  StreamingTV       7032 non-null   object \n",
      " 14  StreamingMovies   7032 non-null   object \n",
      " 15  Contract          7032 non-null   object \n",
      " 16  PaperlessBilling  7032 non-null   object \n",
      " 17  PaymentMethod     7032 non-null   object \n",
      " 18  MonthlyCharges    7032 non-null   float64\n",
      " 19  TotalCharges      7032 non-null   float64\n",
      " 20  Churn             7032 non-null   object \n",
      "dtypes: float64(2), int64(2), object(17)\n",
      "memory usage: 1.2+ MB\n"
     ]
    }
   ],
   "source": [
    "df.info()"
   ]
  },
  {
   "cell_type": "markdown",
   "id": "4a053c7a",
   "metadata": {},
   "source": [
    "<a id=\"1.3.1\"></a>\n",
    "### <b>1.3.1 <span style='color:#00008B'>Missing Value</span></b>\n"
   ]
  },
  {
   "cell_type": "code",
   "execution_count": 88,
   "id": "5b2baa88-8385-401c-b447-6bc78bde4e1c",
   "metadata": {},
   "outputs": [
    {
     "data": {
      "text/plain": [
       "customerID          0\n",
       "gender              0\n",
       "SeniorCitizen       0\n",
       "Partner             0\n",
       "Dependents          0\n",
       "tenure              0\n",
       "PhoneService        0\n",
       "MultipleLines       0\n",
       "InternetService     0\n",
       "OnlineSecurity      0\n",
       "OnlineBackup        0\n",
       "DeviceProtection    0\n",
       "TechSupport         0\n",
       "StreamingTV         0\n",
       "StreamingMovies     0\n",
       "Contract            0\n",
       "PaperlessBilling    0\n",
       "PaymentMethod       0\n",
       "MonthlyCharges      0\n",
       "TotalCharges        0\n",
       "Churn               0\n",
       "dtype: int64"
      ]
     },
     "execution_count": 88,
     "metadata": {},
     "output_type": "execute_result"
    }
   ],
   "source": [
    "df.isnull().sum()"
   ]
  },
  {
   "cell_type": "code",
   "execution_count": null,
   "id": "63a44e06",
   "metadata": {},
   "outputs": [],
   "source": [
    "# df['TotalCharges'] = pd.to_numeric(df['TotalCharges'], errors='coerce')"
   ]
  },
  {
   "cell_type": "code",
   "execution_count": null,
   "id": "63457c5c",
   "metadata": {},
   "outputs": [],
   "source": [
    "# df.isnu ll().sum()"
   ]
  },
  {
   "cell_type": "code",
   "execution_count": null,
   "id": "f0e750ac",
   "metadata": {},
   "outputs": [],
   "source": [
    "# df.dropna(inplace = True)"
   ]
  },
  {
   "cell_type": "code",
   "execution_count": null,
   "id": "2a093b7f",
   "metadata": {},
   "outputs": [],
   "source": [
    "# df['TotalCharges'] = df['TotalCharges'].astype(float)"
   ]
  },
  {
   "cell_type": "markdown",
   "id": "f21f3873",
   "metadata": {},
   "source": [
    "<a id=\"1.3.2\"></a>\n",
    "### <b>1.3.2 <span style='color:#00008B'>Duplicated</span></b>\n"
   ]
  },
  {
   "cell_type": "code",
   "execution_count": 94,
   "id": "6071046d-05a1-41ca-a472-618f8e09466c",
   "metadata": {},
   "outputs": [
    {
     "data": {
      "text/html": [
       "<div>\n",
       "<style scoped>\n",
       "    .dataframe tbody tr th:only-of-type {\n",
       "        vertical-align: middle;\n",
       "    }\n",
       "\n",
       "    .dataframe tbody tr th {\n",
       "        vertical-align: top;\n",
       "    }\n",
       "\n",
       "    .dataframe thead th {\n",
       "        text-align: right;\n",
       "    }\n",
       "</style>\n",
       "<table border=\"1\" class=\"dataframe\">\n",
       "  <thead>\n",
       "    <tr style=\"text-align: right;\">\n",
       "      <th></th>\n",
       "      <th>customerID</th>\n",
       "      <th>gender</th>\n",
       "      <th>SeniorCitizen</th>\n",
       "      <th>Partner</th>\n",
       "      <th>Dependents</th>\n",
       "      <th>tenure</th>\n",
       "      <th>PhoneService</th>\n",
       "      <th>MultipleLines</th>\n",
       "      <th>InternetService</th>\n",
       "      <th>OnlineSecurity</th>\n",
       "      <th>OnlineBackup</th>\n",
       "      <th>DeviceProtection</th>\n",
       "      <th>TechSupport</th>\n",
       "      <th>StreamingTV</th>\n",
       "      <th>StreamingMovies</th>\n",
       "      <th>Contract</th>\n",
       "      <th>PaperlessBilling</th>\n",
       "      <th>PaymentMethod</th>\n",
       "      <th>MonthlyCharges</th>\n",
       "      <th>TotalCharges</th>\n",
       "      <th>Churn</th>\n",
       "    </tr>\n",
       "  </thead>\n",
       "  <tbody>\n",
       "    <tr>\n",
       "      <th>0</th>\n",
       "      <td>7590-VHVEG</td>\n",
       "      <td>Female</td>\n",
       "      <td>0</td>\n",
       "      <td>Yes</td>\n",
       "      <td>No</td>\n",
       "      <td>1</td>\n",
       "      <td>No</td>\n",
       "      <td>No phone service</td>\n",
       "      <td>DSL</td>\n",
       "      <td>No</td>\n",
       "      <td>Yes</td>\n",
       "      <td>No</td>\n",
       "      <td>No</td>\n",
       "      <td>No</td>\n",
       "      <td>No</td>\n",
       "      <td>Month-to-month</td>\n",
       "      <td>Yes</td>\n",
       "      <td>Electronic check</td>\n",
       "      <td>29.85</td>\n",
       "      <td>29.85</td>\n",
       "      <td>No</td>\n",
       "    </tr>\n",
       "    <tr>\n",
       "      <th>1</th>\n",
       "      <td>5575-GNVDE</td>\n",
       "      <td>Male</td>\n",
       "      <td>0</td>\n",
       "      <td>No</td>\n",
       "      <td>No</td>\n",
       "      <td>34</td>\n",
       "      <td>Yes</td>\n",
       "      <td>No</td>\n",
       "      <td>DSL</td>\n",
       "      <td>Yes</td>\n",
       "      <td>No</td>\n",
       "      <td>Yes</td>\n",
       "      <td>No</td>\n",
       "      <td>No</td>\n",
       "      <td>No</td>\n",
       "      <td>One year</td>\n",
       "      <td>No</td>\n",
       "      <td>Mailed check</td>\n",
       "      <td>56.95</td>\n",
       "      <td>1889.50</td>\n",
       "      <td>No</td>\n",
       "    </tr>\n",
       "    <tr>\n",
       "      <th>2</th>\n",
       "      <td>3668-QPYBK</td>\n",
       "      <td>Male</td>\n",
       "      <td>0</td>\n",
       "      <td>No</td>\n",
       "      <td>No</td>\n",
       "      <td>2</td>\n",
       "      <td>Yes</td>\n",
       "      <td>No</td>\n",
       "      <td>DSL</td>\n",
       "      <td>Yes</td>\n",
       "      <td>Yes</td>\n",
       "      <td>No</td>\n",
       "      <td>No</td>\n",
       "      <td>No</td>\n",
       "      <td>No</td>\n",
       "      <td>Month-to-month</td>\n",
       "      <td>Yes</td>\n",
       "      <td>Mailed check</td>\n",
       "      <td>53.85</td>\n",
       "      <td>108.15</td>\n",
       "      <td>Yes</td>\n",
       "    </tr>\n",
       "    <tr>\n",
       "      <th>3</th>\n",
       "      <td>7795-CFOCW</td>\n",
       "      <td>Male</td>\n",
       "      <td>0</td>\n",
       "      <td>No</td>\n",
       "      <td>No</td>\n",
       "      <td>45</td>\n",
       "      <td>No</td>\n",
       "      <td>No phone service</td>\n",
       "      <td>DSL</td>\n",
       "      <td>Yes</td>\n",
       "      <td>No</td>\n",
       "      <td>Yes</td>\n",
       "      <td>Yes</td>\n",
       "      <td>No</td>\n",
       "      <td>No</td>\n",
       "      <td>One year</td>\n",
       "      <td>No</td>\n",
       "      <td>Bank transfer (automatic)</td>\n",
       "      <td>42.30</td>\n",
       "      <td>1840.75</td>\n",
       "      <td>No</td>\n",
       "    </tr>\n",
       "    <tr>\n",
       "      <th>4</th>\n",
       "      <td>9237-HQITU</td>\n",
       "      <td>Female</td>\n",
       "      <td>0</td>\n",
       "      <td>No</td>\n",
       "      <td>No</td>\n",
       "      <td>2</td>\n",
       "      <td>Yes</td>\n",
       "      <td>No</td>\n",
       "      <td>Fiber optic</td>\n",
       "      <td>No</td>\n",
       "      <td>No</td>\n",
       "      <td>No</td>\n",
       "      <td>No</td>\n",
       "      <td>No</td>\n",
       "      <td>No</td>\n",
       "      <td>Month-to-month</td>\n",
       "      <td>Yes</td>\n",
       "      <td>Electronic check</td>\n",
       "      <td>70.70</td>\n",
       "      <td>151.65</td>\n",
       "      <td>Yes</td>\n",
       "    </tr>\n",
       "  </tbody>\n",
       "</table>\n",
       "</div>"
      ],
      "text/plain": [
       "   customerID  gender  SeniorCitizen Partner Dependents  tenure PhoneService  \\\n",
       "0  7590-VHVEG  Female              0     Yes         No       1           No   \n",
       "1  5575-GNVDE    Male              0      No         No      34          Yes   \n",
       "2  3668-QPYBK    Male              0      No         No       2          Yes   \n",
       "3  7795-CFOCW    Male              0      No         No      45           No   \n",
       "4  9237-HQITU  Female              0      No         No       2          Yes   \n",
       "\n",
       "      MultipleLines InternetService OnlineSecurity OnlineBackup  \\\n",
       "0  No phone service             DSL             No          Yes   \n",
       "1                No             DSL            Yes           No   \n",
       "2                No             DSL            Yes          Yes   \n",
       "3  No phone service             DSL            Yes           No   \n",
       "4                No     Fiber optic             No           No   \n",
       "\n",
       "  DeviceProtection TechSupport StreamingTV StreamingMovies        Contract  \\\n",
       "0               No          No          No              No  Month-to-month   \n",
       "1              Yes          No          No              No        One year   \n",
       "2               No          No          No              No  Month-to-month   \n",
       "3              Yes         Yes          No              No        One year   \n",
       "4               No          No          No              No  Month-to-month   \n",
       "\n",
       "  PaperlessBilling              PaymentMethod  MonthlyCharges  TotalCharges  \\\n",
       "0              Yes           Electronic check           29.85         29.85   \n",
       "1               No               Mailed check           56.95       1889.50   \n",
       "2              Yes               Mailed check           53.85        108.15   \n",
       "3               No  Bank transfer (automatic)           42.30       1840.75   \n",
       "4              Yes           Electronic check           70.70        151.65   \n",
       "\n",
       "  Churn  \n",
       "0    No  \n",
       "1    No  \n",
       "2   Yes  \n",
       "3    No  \n",
       "4   Yes  "
      ]
     },
     "execution_count": 94,
     "metadata": {},
     "output_type": "execute_result"
    }
   ],
   "source": [
    "df.head()"
   ]
  },
  {
   "cell_type": "code",
   "execution_count": 92,
   "id": "959f2e9c",
   "metadata": {},
   "outputs": [
    {
     "data": {
      "text/plain": [
       "0"
      ]
     },
     "execution_count": 92,
     "metadata": {},
     "output_type": "execute_result"
    }
   ],
   "source": [
    "df.duplicated().sum()"
   ]
  },
  {
   "cell_type": "markdown",
   "id": "41815d94",
   "metadata": {},
   "source": [
    "<a id=\"1.3.3\"></a>\n",
    "### <b>1.3.3 <span style='color:#00008B'>Outlier</span></b>"
   ]
  },
  {
   "cell_type": "markdown",
   "id": "2a95ba77-e9a0-47e2-b56f-239ba5bbdd78",
   "metadata": {},
   "source": [
    "#### Numerical\n"
   ]
  },
  {
   "cell_type": "code",
   "execution_count": 97,
   "id": "3aeb0f76-f4b9-4974-b755-b5ef0b012fca",
   "metadata": {},
   "outputs": [
    {
     "data": {
      "text/plain": [
       "count    7032.000000\n",
       "mean       32.421786\n",
       "std        24.545260\n",
       "min         1.000000\n",
       "25%         9.000000\n",
       "50%        29.000000\n",
       "75%        55.000000\n",
       "max        72.000000\n",
       "Name: tenure, dtype: float64"
      ]
     },
     "execution_count": 97,
     "metadata": {},
     "output_type": "execute_result"
    }
   ],
   "source": [
    "df['tenure'].describe()"
   ]
  },
  {
   "cell_type": "code",
   "execution_count": 101,
   "id": "e7b9c940-65d2-4fec-9eec-96164d85a4d4",
   "metadata": {},
   "outputs": [
    {
     "data": {
      "image/png": "[encoded data removed]",
      "text/plain": [
       "<Figure size 640x480 with 1 Axes>"
      ]
     },
     "metadata": {},
     "output_type": "display_data"
    }
   ],
   "source": [
    "sns.boxplot(df['tenure']);"
   ]
  },
  {
   "cell_type": "code",
   "execution_count": 117,
   "id": "f4983640-0d2a-4b9f-99ca-bb981ae1d4b8",
   "metadata": {},
   "outputs": [
    {
     "data": {
      "image/png": "[encoded data removed]",
      "text/plain": [
       "<Figure size 1200x500 with 1 Axes>"
      ]
     },
     "metadata": {},
     "output_type": "display_data"
    }
   ],
   "source": [
    "fig, ax = plt.subplots(figsize = (12, 5))\n",
    "sns.histplot(x= df['tenure'], bins = np.arange(0, 76, 2.5))\n",
    "ax.set_xticks(np.arange(0, 76, 5))\n",
    "ax.bar_label(ax.containers[1], color = 'r')\n",
    "sns.despine()"
   ]
  },
  {
   "cell_type": "code",
   "execution_count": 123,
   "id": "dc0cd26f-5b8d-4f1f-a3c3-34d0634f3fd6",
   "metadata": {},
   "outputs": [],
   "source": [
    "# df.columns"
   ]
  },
  {
   "cell_type": "code",
   "execution_count": 125,
   "id": "c9b914d5-fe0b-487d-87ef-6cb49a50c29c",
   "metadata": {},
   "outputs": [],
   "source": [
    "numeric_columns = ['tenure','MonthlyCharges', 'TotalCharges']"
   ]
  },
  {
   "cell_type": "code",
   "execution_count": 131,
   "id": "967c6a70-9c75-497c-8657-e7a6ddfcd16b",
   "metadata": {},
   "outputs": [],
   "source": [
    "# df[numeric_columns]"
   ]
  },
  {
   "cell_type": "code",
   "execution_count": 129,
   "id": "592cf333-1354-4113-af9d-3db6406a625f",
   "metadata": {},
   "outputs": [],
   "source": [
    "# plt.boxplot(df[numeric_columns])\n",
    "# plt.show()"
   ]
  },
  {
   "cell_type": "code",
   "execution_count": 155,
   "id": "a5e8cfb0",
   "metadata": {},
   "outputs": [
    {
     "data": {
      "image/png": "[encoded data removed]",
      "text/plain": [
       "<Figure size 1200x400 with 1 Axes>"
      ]
     },
     "metadata": {},
     "output_type": "display_data"
    }
   ],
   "source": [
    "fig, ax = plt.subplots(figsize=(12, 4))\n",
    "sns.histplot(df['TotalCharges'],bins = np.arange(0, 9000, 250), kde=True, color='teal')\n",
    "ax.set_xlabel('Total Charges')\n",
    "ax.set_xticks(np.arange(0, 9000, 1000))\n",
    "ax.set_title('Histogram of Total Charges')\n",
    "ax.axvline(x = df['TotalCharges'].median())\n",
    "plt.show()\n"
   ]
  },
  {
   "cell_type": "code",
   "execution_count": 177,
   "id": "d66435e9-2de0-4566-aff1-1cdbc7939064",
   "metadata": {},
   "outputs": [
    {
     "data": {
      "image/png": "[encoded data removed]",
      "text/plain": [
       "<Figure size 1200x500 with 2 Axes>"
      ]
     },
     "metadata": {},
     "output_type": "display_data"
    }
   ],
   "source": [
    "fig, ax =plt.subplots(1, 2, figsize = (12, 5))\n",
    "sns.boxplot(df['MonthlyCharges'], ax = ax[0])\n",
    "sns.histplot(df['MonthlyCharges'], ax = ax[1], bins = np.arange(15, 120, 10))\n",
    "ax[1].set_xticks(np.arange(15, 120, 10))\n",
    "ax[1].bar_label(ax[1].containers[1], color = 'r')\n",
    "sns.despine()"
   ]
  },
  {
   "cell_type": "code",
   "execution_count": 139,
   "id": "b26389f4-11bf-45ac-a42e-e6351ed6cb58",
   "metadata": {},
   "outputs": [
    {
     "data": {
      "image/png": "[encoded data removed]",
      "text/plain": [
       "<Figure size 640x480 with 1 Axes>"
      ]
     },
     "metadata": {},
     "output_type": "display_data"
    }
   ],
   "source": [
    "sns.boxplot(y = df['TotalCharges']);"
   ]
  },
  {
   "cell_type": "markdown",
   "id": "8fe9ee36-89ab-4366-8019-b08ce6545a9e",
   "metadata": {},
   "source": [
    "<a id=\"2\"></a>\n",
    "<div style=\"padding:20px;\n",
    "            color:white;\n",
    "            margin:10;\n",
    "            font-size:170%;\n",
    "            text-align:left;\n",
    "            display:fill;\n",
    "            border-radius:5px;\n",
    "            background-color:#222222;\n",
    "            overflow:hidden;\n",
    "            font-weight:700\">2 <span style='color:#CDA63A'>|</span>Exploratory Data Anlysis(EDA) with Data Visualization</div>"
   ]
  },
  {
   "cell_type": "markdown",
   "id": "381fea82-8505-4e17-aa51-66983f7d8b0d",
   "metadata": {},
   "source": [
    "<div style=\"padding:20px;\n",
    "            color:white;\n",
    "            margin:10;\n",
    "            font-size:170%;\n",
    "            text-align:left;\n",
    "            display:fill;\n",
    "            border-radius:5px;\n",
    "            background-color:blue;\n",
    "            overflow:hidden;\n",
    "            font-weight:700\">Now, let's understand dataset based on:</div>\n"
   ]
  },
  {
   "cell_type": "markdown",
   "id": "4337e53f",
   "metadata": {},
   "source": [
    "#### Gender, Senoirity, Parnter and Dependents\n",
    "#### Services\n",
    "#### Security_support\n",
    "#### Contract type\n",
    "#### Churn analysis based on paying options\n",
    "#### Charges"
   ]
  },
  {
   "cell_type": "markdown",
   "id": "d4b567ea-6058-42ea-9267-4c723508855d",
   "metadata": {},
   "source": [
    "<a id=\"2.1\"></a>\n",
    "# <b>2.1 <span style='color:#00008B'>Gender, Seniority, Partner and Dependends(Customer)</span></b>"
   ]
  },
  {
   "cell_type": "code",
   "execution_count": null,
   "id": "00247fd3-ed04-4b77-8542-b66eacebae78",
   "metadata": {},
   "outputs": [],
   "source": [
    "df['Dependents'].value_counts()"
   ]
  },
  {
   "cell_type": "code",
   "execution_count": null,
   "id": "a47ae8c7-ba0f-4b3d-a542-aedbedba4e43",
   "metadata": {},
   "outputs": [],
   "source": [
    "sns.countplot(x = df['Dependents'], hue = df['Churn']);"
   ]
  },
  {
   "cell_type": "code",
   "execution_count": null,
   "id": "312ff98f-7e44-4d7b-baa2-edee918a33bd",
   "metadata": {
    "tags": []
   },
   "outputs": [],
   "source": [
    "cols = ['gender', 'SeniorCitizen', 'Partner', 'Dependents']\n",
    "fig, axes = plt.subplots(nrows=2, ncols=2, figsize=(8, 6)) # 2x2 grid of plot\n",
    "\n",
    "for i, ax in enumerate(axes.flat): # enumerate function is used to loop through each subplot in the grid\n",
    "    if i < len(cols):\n",
    "        sns.countplot(data=df, x=cols[i], hue='Churn', ax=ax)\n",
    "        ax.set_title(f'Churn vs {cols[i]}')\n",
    "        ax.set_xlabel(cols[i])\n",
    "        ax.set_ylabel('Count')\n",
    "        \n",
    "plt.tight_layout() # ensuring that each plot is evenly spaced within the figure\n",
    "plt.show()"
   ]
  },
  {
   "cell_type": "markdown",
   "id": "60e8f533-9c03-49bf-b1a2-62fd59bc7d2c",
   "metadata": {},
   "source": [
    "- **Gender** has **no influence** on whether the customer will churn or not. \n",
    "- **Non-senior** citizens **churn more** than non-senior in **absolute term** but in **relative term senior citizens churn more** often.\n",
    "- **Customers without partner churn more** often than their counterparts.<br>\n",
    "and finally, \n",
    "- **customers without dependants churn more** than customers with dependents.\n"
   ]
  },
  {
   "cell_type": "markdown",
   "id": "0d2100a6-2f34-4c25-ac34-cbfaaa120ec0",
   "metadata": {},
   "source": [
    "<a id=\"2.2\"></a>\n",
    "# <b>2.2 <span style='color:#00008B'>Services</span></b>\n"
   ]
  },
  {
   "cell_type": "code",
   "execution_count": null,
   "id": "ff04a533-79a0-4687-bf96-265f952adc93",
   "metadata": {
    "tags": []
   },
   "outputs": [],
   "source": [
    "services = df[['Churn', 'PhoneService', 'MultipleLines', 'InternetService','StreamingTV', 'StreamingMovies']]\n",
    "cols = services.columns[1:]\n",
    "\n",
    "fig, axes = plt.subplots(nrows=3, ncols=2, figsize=(8,8))\n",
    "\n",
    "for i, ax in enumerate(axes.flat):\n",
    "        \n",
    "    if i < len(cols):\n",
    "        sns.countplot(data=services, x=cols[i], hue='Churn', ax=ax)\n",
    "        ax.set_title(f'Churn vs {cols[i]}')\n",
    "        ax.set_xlabel(cols[i])\n",
    "        ax.set_ylabel('Count')\n",
    "\n",
    "plt.tight_layout()\n",
    "plt.show()\n"
   ]
  },
  {
   "cell_type": "markdown",
   "id": "dcbb6025-de86-4302-81c6-56ab0649dc84",
   "metadata": {},
   "source": [
    "- Streaming TV, Streaming Movies, Multiple Lines have **no impact** on churn rate.\n",
    "- Customers who have **fiber optic** tend to **churn** significantly more than ones that have DSL.\n",
    "\n",
    "Now let's dive deeper into that finding.\n",
    "We need gender, partner status, dependents status and senior status."
   ]
  },
  {
   "cell_type": "code",
   "execution_count": null,
   "id": "56aa912b-237e-4fbc-b030-914131b19f78",
   "metadata": {
    "tags": []
   },
   "outputs": [],
   "source": [
    "phone_churn = df[(df['PhoneService']=='Yes') & (df['Churn']=='Yes')]\n",
    "\n",
    "cols = ['gender', 'SeniorCitizen', 'Partner', 'Dependents']\n",
    "fig, axes = plt.subplots(nrows=2, ncols=2, figsize=(8, 6))\n",
    "\n",
    "for i, ax in enumerate(axes.flat):\n",
    "    if i < len(cols):\n",
    "        sns.countplot(data=phone_churn, x=cols[i], hue='Churn', ax=ax)\n",
    "        ax.set_title(f'Churn vs {cols[i]}')\n",
    "        ax.set_xlabel(cols[i])\n",
    "        ax.set_ylabel('Count')\n",
    "\n",
    "plt.tight_layout()\n",
    "plt.show()"
   ]
  },
  {
   "cell_type": "markdown",
   "id": "e4280a80-ec77-4c4f-b4aa-4a0a71248f0b",
   "metadata": {},
   "source": [
    "We can conclude that customers who have churned and use phone service are likely to be **non-seniors, without partners and dependents.** We had got the same conclusion when analyzing the same variables regardless of customers' services.\n",
    "\n",
    "Now let's investigate the customers who have fiber optic and who have churned."
   ]
  },
  {
   "cell_type": "code",
   "execution_count": null,
   "id": "b5d00a33-39c5-40db-a650-464fad681992",
   "metadata": {
    "tags": []
   },
   "outputs": [],
   "source": [
    "fiber_churn = df[(df['InternetService']=='Fiber optic') & (df['Churn'] == 'Yes')]\n",
    "fig, axes = plt.subplots(nrows=2, ncols=2, figsize=(8, 6))\n",
    "cols = ['gender', 'SeniorCitizen', 'Partner', 'Dependents']\n",
    "\n",
    "for k, ax in enumerate(axes.flat):\n",
    "    if k < len(cols):\n",
    "        sns.countplot(data=fiber_churn, x=cols[k], hue='Churn', ax=ax)\n",
    "        ax.set_title(f'Churn vs {cols[k]}')\n",
    "        ax.set_xlabel(cols[k])\n",
    "        ax.set_ylabel('Count')\n",
    "plt.tight_layout()\n",
    "plt.show()"
   ]
  },
  {
   "cell_type": "markdown",
   "id": "831d0c22-32c7-45ed-a05e-91eace171b62",
   "metadata": {},
   "source": [
    "The same conclusion applies for the customers that have churned and have fiber optic."
   ]
  },
  {
   "cell_type": "markdown",
   "id": "e4630e72-ca74-4921-a5ac-e86db34b813d",
   "metadata": {},
   "source": [
    "<a id=\"2.3\"></a>\n",
    "# <b>2.3 <span style='color:#00008B'>Security_support</span></b>\n"
   ]
  },
  {
   "cell_type": "code",
   "execution_count": null,
   "id": "af092ad0-f995-42b2-b11f-aee773385324",
   "metadata": {
    "tags": []
   },
   "outputs": [],
   "source": [
    "security_support = df[['Churn', 'OnlineSecurity', 'OnlineBackup','DeviceProtection', 'TechSupport']]\n",
    "cols = security_support.columns[1:]\n",
    "\n",
    "fig, axes = plt.subplots(nrows=2, ncols=2, figsize=(8,8))\n",
    "\n",
    "for i, ax in enumerate(axes.flat):\n",
    "    if i < len(cols):\n",
    "        sns.countplot(data=security_support, x=cols[i], hue='Churn', ax=ax)\n",
    "        ax.set_title(f'Churn vs {cols[i]}')\n",
    "        ax.set_xlabel(cols[i])\n",
    "        ax.set_ylabel('Count')\n",
    "\n",
    "plt.tight_layout()\n",
    "plt.show()"
   ]
  },
  {
   "cell_type": "markdown",
   "id": "2d1318f9-6b97-4181-b011-52ec35111074",
   "metadata": {},
   "source": [
    "<a id=\"2.4\"></a>\n",
    "# <b>2.4 <span style='color:#00008B'>Contract type</span></b>\n"
   ]
  },
  {
   "cell_type": "code",
   "execution_count": null,
   "id": "81093dd2-1c62-47ed-b290-1b55923f9e74",
   "metadata": {
    "tags": []
   },
   "outputs": [],
   "source": [
    "sns.countplot(data=df, x=df['Contract'], hue='Churn')\n",
    "plt.show()"
   ]
  },
  {
   "cell_type": "markdown",
   "id": "6d68f85d-98e5-49a5-bfbe-8aa4ecc55093",
   "metadata": {},
   "source": [
    "Customers with **Month-to-month contracts** tend to **churn significantly more** often then customers with one year and two year contracts"
   ]
  },
  {
   "cell_type": "markdown",
   "id": "eb272b0b-d336-402c-8b4e-23ef4e1cd5cf",
   "metadata": {},
   "source": [
    "<a id=\"2.5\"></a>\n",
    "# <b>2.5 <span style='color:#00008B'>Churn analysis based on paying options</span></b>\n",
    " "
   ]
  },
  {
   "cell_type": "code",
   "execution_count": null,
   "id": "aa30559c-3b4b-4c56-984c-6cefc9b5cde4",
   "metadata": {
    "tags": []
   },
   "outputs": [],
   "source": [
    "paying_options = df[['Churn', 'PaperlessBilling', 'PaymentMethod']]\n",
    "cols = paying_options.columns[1:]\n",
    "\n",
    "fig, axes = plt.subplots(nrows=1, ncols=2, figsize=(8,6))\n",
    "\n",
    "for i, ax in enumerate(axes.flat):\n",
    "    if i < len(cols):\n",
    "        sns.countplot(data=paying_options, x=cols[i], hue='Churn', ax=ax)\n",
    "        ax.set_title(f'Churn vs {cols[i]}')\n",
    "        ax.set_xlabel(cols[i])\n",
    "        ax.set_ylabel('Count')\n",
    "        ax.set_xticklabels(ax.get_xticklabels(), rotation=90)\n",
    "\n",
    "plt.tight_layout()\n",
    "plt.show()\n"
   ]
  },
  {
   "cell_type": "markdown",
   "id": "85e12fcb-c85f-4ecd-ac55-267912ce75b6",
   "metadata": {},
   "source": [
    "<a id=\"2.6\"></a>\n",
    "# <b>2.6 <span style='color:#00008B'>Churn analysis based on tenure group</span></b>\n"
   ]
  },
  {
   "cell_type": "markdown",
   "id": "1e441487-2026-44fc-87b1-a53fc9b8694b",
   "metadata": {},
   "source": [
    "Customers with **paperless billing and electronic checks** are more likely to **churn** than customers without paperless billing and than the customers with other payment methods."
   ]
  },
  {
   "cell_type": "code",
   "execution_count": null,
   "id": "69b39606-4ef1-46fa-850b-3ea09c8a74ba",
   "metadata": {
    "tags": []
   },
   "outputs": [],
   "source": [
    "plt.figure(figsize=(20, 10))\n",
    "sns.countplot(data = df, x = 'tenure', hue = 'Churn')\n",
    "plt.show()"
   ]
  },
  {
   "cell_type": "markdown",
   "id": "3722fe60-ab81-4d41-8ea2-7cd4c1cfa4c1",
   "metadata": {},
   "source": [
    "Customers who **spent less than 1 year** using our services tend to **churn substantially more** than the customers of other tenure groups.\n",
    "\n",
    "As the **tenure increases**, the **churn rate decreases**"
   ]
  },
  {
   "cell_type": "markdown",
   "id": "76259af1-7d3e-4cce-bfe2-794d23215e46",
   "metadata": {},
   "source": [
    "<a id=\"2.7\"></a>\n",
    "# <b>2.7 <span style='color:#00008B'>Charges</span></b>"
   ]
  },
  {
   "cell_type": "code",
   "execution_count": null,
   "id": "72807a30-c701-4200-bd14-a57f706dd315",
   "metadata": {
    "tags": []
   },
   "outputs": [],
   "source": [
    "import seaborn as sns\n",
    "\n",
    "sns.lmplot(data=df, x='TotalCharges', y='MonthlyCharges', hue='Churn', ci=None, height=6, aspect=1.2, palette='Set1', line_kws={'linewidth': 2})\n",
    "sns.despine()\n",
    "plt.show()\n"
   ]
  },
  {
   "cell_type": "code",
   "execution_count": null,
   "id": "70061608-dcca-43d0-badb-4f13875d421e",
   "metadata": {
    "tags": []
   },
   "outputs": [],
   "source": [
    "sns.kdeplot(df['TotalCharges'][df['Churn']=='No'], label='Churn - No', shade = True)\n",
    "sns.kdeplot(df['TotalCharges'][df['Churn']=='Yes'], label='Churn - Yes', shade = True)\n",
    "plt.legend([\"No Churn\",\"Churn\"],loc='upper right')\n",
    "plt.xlabel('TotalCharges')\n",
    "plt.title('TotalCharges distribution by churned outcome')\n",
    "plt.show()"
   ]
  },
  {
   "cell_type": "code",
   "execution_count": null,
   "id": "614b9b05-690b-4442-a563-f031ea4fef66",
   "metadata": {
    "tags": []
   },
   "outputs": [],
   "source": [
    "sns.kdeplot(df['MonthlyCharges'][df['Churn']=='No'], label='Churn - No', shade = True)\n",
    "sns.kdeplot(df['MonthlyCharges'][df['Churn']=='Yes'], label='Churn - Yes', shade = True)\n",
    "plt.legend([\"No Churn\",\"Churn\"],loc='upper right')\n",
    "plt.xlabel('MonthlyCharges')\n",
    "plt.title('MonthlyCharges distribution by churned outcome')\n",
    "plt.show()"
   ]
  },
  {
   "cell_type": "code",
   "execution_count": null,
   "id": "44b2fa57-a4e7-4935-a8fb-908ce5e8b864",
   "metadata": {
    "tags": []
   },
   "outputs": [],
   "source": [
    "churn_monthly = pd.Series([df[df['Churn'] == 'Yes']['MonthlyCharges'].mean(),\n",
    "                           df[df['Churn'] == 'No']['MonthlyCharges'].mean()],\n",
    "                          index=['Churned', 'Non-Churned'])\n",
    "churn_total = pd.Series([df[df['Churn'] == 'Yes']['TotalCharges'].mean(),\n",
    "                       df[df['Churn'] == 'No']['TotalCharges'].mean()],\n",
    "                       index = ['Churned', 'Non-Churned'])\n",
    "print(churn_monthly)\n",
    "print(churn_total)"
   ]
  },
  {
   "cell_type": "markdown",
   "id": "be0fea4f-7c85-4bd4-9ffc-a830195c147a",
   "metadata": {},
   "source": [
    "<!-- <a id=\"3\"></a>\n",
    "<div style=\"padding:20px;\n",
    "            color:white;\n",
    "            margin:10;\n",
    "            font-size:170%;\n",
    "            text-align:left;\n",
    "            display:fill;\n",
    "            border-radius:5px;\n",
    "            background-color:#222222;\n",
    "            overflow:hidden;\n",
    "            font-weight:700\">3 <span style='color:#CDA63A'>|</span>Data Visualization</div>\n",
    " -->"
   ]
  },
  {
   "cell_type": "markdown",
   "id": "531eb55c-23d3-442a-9838-57aa5be1c005",
   "metadata": {},
   "source": [
    "1. **High Churn rate** is seen for the customers **without dependants, online security, tech support**. Also customers who use **electronic checks** as a payment method, who use **our services less than 1 year** and who have **month-to-month contracts** are likely to churn frequently. \n",
    "Factors that also contribute to the high churn rate (although their impact is  less significant then the aforementioned variables) are:\n",
    "Non-seniority, no partners, no phone service, no online backup, no device protection and paperless billing.\n",
    "\n",
    "2. **Low Churn rate** is seen for the customers that **use our services more than 4 years**, that have **one-year / two-years contracts** and for the customers **without internet service, streamingTV and streamingMovies**.\n",
    "\n",
    "\n",
    "3. Almost **no impact on churn** have the variables such as **gender, streamingTV, streamingMovies and MultipleLines**"
   ]
  },
  {
   "cell_type": "markdown",
   "id": "86f78a6e",
   "metadata": {},
   "source": [
    "\n",
    "<a id=\"4\"></a>\n",
    "<div style=\"padding:20px;\n",
    "            color:white;\n",
    "            margin:10;\n",
    "            font-size:170%;\n",
    "            text-align:left;\n",
    "            display:fill;\n",
    "            border-radius:5px;\n",
    "            background-color:#222222;\n",
    "            overflow:hidden;\n",
    "            font-weight:700\">4 <span style='color:#CDA63A'>|</span>Data preprocessing and feature engineering</div>\n"
   ]
  },
  {
   "cell_type": "markdown",
   "id": "1bd67de2",
   "metadata": {},
   "source": [
    "##### the columns have no internet service or no phone service, that can be replaced with a simple No"
   ]
  },
  {
   "cell_type": "code",
   "execution_count": null,
   "id": "84fc413a",
   "metadata": {},
   "outputs": [],
   "source": [
    "df.head()"
   ]
  },
  {
   "cell_type": "code",
   "execution_count": null,
   "id": "ec82d94a-5993-4b70-96d9-0de96a0714ab",
   "metadata": {},
   "outputs": [],
   "source": [
    "df['InternetService'].value_counts()"
   ]
  },
  {
   "cell_type": "code",
   "execution_count": null,
   "id": "b048a916-d834-488a-a412-fa3f44064603",
   "metadata": {},
   "outputs": [],
   "source": [
    "sns.countplot(x = df['InternetService'], hue = df['Churn']);"
   ]
  },
  {
   "cell_type": "code",
   "execution_count": null,
   "id": "09eab705-5189-4a37-b688-e3cd0f310c6f",
   "metadata": {},
   "outputs": [],
   "source": [
    " sns.countplot(y= df['PaymentMethod'], hue = df['Churn']);"
   ]
  },
  {
   "cell_type": "code",
   "execution_count": null,
   "id": "b743e295-597c-4033-b859-55b9a3852255",
   "metadata": {},
   "outputs": [],
   "source": [
    "df['gender'].value_counts()"
   ]
  },
  {
   "cell_type": "code",
   "execution_count": null,
   "id": "bb405cf3-b4f2-423f-a4f1-8c1960f82437",
   "metadata": {},
   "outputs": [],
   "source": [
    " sns.countplot(x= df['gender'], hue = df['Churn']);"
   ]
  },
  {
   "cell_type": "code",
   "execution_count": null,
   "id": "f007edf4-d82f-4a5b-b67d-cfe5aad6b026",
   "metadata": {},
   "outputs": [],
   "source": [
    "df.head()"
   ]
  },
  {
   "cell_type": "code",
   "execution_count": null,
   "id": "222a0df2-d70b-4885-b78a-610817177773",
   "metadata": {},
   "outputs": [],
   "source": []
  },
  {
   "cell_type": "code",
   "execution_count": null,
   "id": "85c917ca",
   "metadata": {},
   "outputs": [],
   "source": [
    "df.replace('No internet service','No',inplace=True)\n",
    "df.replace('No phone service','No',inplace=True)"
   ]
  },
  {
   "cell_type": "code",
   "execution_count": null,
   "id": "9f965fc4-8612-4d49-aa8f-6d0ae5f776f2",
   "metadata": {},
   "outputs": [],
   "source": [
    "columns = list(df.columns)\n",
    "columns"
   ]
  },
  {
   "cell_type": "code",
   "execution_count": null,
   "id": "f5db3a37-0a20-4cb2-aaa9-1c15d94d0638",
   "metadata": {},
   "outputs": [],
   "source": [
    "len(df['tenure'].unique())"
   ]
  },
  {
   "cell_type": "code",
   "execution_count": null,
   "id": "535b0f9a-8ead-43eb-8982-1c76ee821c88",
   "metadata": {},
   "outputs": [],
   "source": [
    "yes_no_columns = []\n",
    "numeric_columns = []\n",
    "categorical_columns = []\n",
    "columns = list(df.columns)\n",
    "for i in columns:\n",
    "    if len(df[i].unique()) == 2:\n",
    "        yes_no_columns.append(i)\n",
    "    elif len(df[i].unique()) >= 10:\n",
    "        numeric_columns.append(i)\n",
    "    else:\n",
    "        categorical_columns.append(i)"
   ]
  },
  {
   "cell_type": "code",
   "execution_count": null,
   "id": "abe90e7a-fceb-4351-a1d4-0055908a865c",
   "metadata": {},
   "outputs": [],
   "source": [
    "categorical_columns"
   ]
  },
  {
   "cell_type": "code",
   "execution_count": null,
   "id": "21f4fc1c-1b6a-4012-849a-d4384ab080d8",
   "metadata": {},
   "outputs": [],
   "source": [
    "df[yes_no_columns]"
   ]
  },
  {
   "cell_type": "code",
   "execution_count": null,
   "id": "8251169b-21ac-4204-9a3f-a4e67a920d2f",
   "metadata": {},
   "outputs": [],
   "source": [
    "df2 = df.copy()"
   ]
  },
  {
   "cell_type": "code",
   "execution_count": null,
   "id": "90cdc439-df44-4885-97b2-320e93e69cfc",
   "metadata": {},
   "outputs": [],
   "source": [
    "df2"
   ]
  },
  {
   "cell_type": "code",
   "execution_count": null,
   "id": "d56d8e39-0343-46e0-b9d7-0c0e1b639c23",
   "metadata": {},
   "outputs": [],
   "source": [
    "df[yes_no_columns].replace({'Yes':1,\n",
    "                           'No':0}, inplace=True)"
   ]
  },
  {
   "cell_type": "code",
   "execution_count": null,
   "id": "1c98e52f-1c24-4a1f-acaa-37898ccf90c1",
   "metadata": {},
   "outputs": [],
   "source": [
    "df['gender'] = df['gender'].replace({'Female':0,\n",
    "                                    'Male':1})"
   ]
  },
  {
   "cell_type": "code",
   "execution_count": null,
   "id": "b6b686da-80a6-462c-97e1-12994c817d04",
   "metadata": {},
   "outputs": [],
   "source": [
    "df[categorical_columns]"
   ]
  },
  {
   "cell_type": "code",
   "execution_count": null,
   "id": "bc776a40-212c-40a9-a20f-ff717c180aec",
   "metadata": {},
   "outputs": [],
   "source": [
    "sns."
   ]
  },
  {
   "cell_type": "code",
   "execution_count": null,
   "id": "7600c409-7b8e-46aa-9509-9fcbf13ca317",
   "metadata": {},
   "outputs": [],
   "source": [
    "df[yes_no_columns] = df[yes_no_columns].replace({'Yes':1,\n",
    "                           'No':0})"
   ]
  },
  {
   "cell_type": "code",
   "execution_count": null,
   "id": "30f2c084-907b-4cdb-bdce-bd51d26abb53",
   "metadata": {},
   "outputs": [],
   "source": [
    "df"
   ]
  },
  {
   "cell_type": "code",
   "execution_count": null,
   "id": "9cbeb374-e04d-4de8-83f5-1992d94fdf4f",
   "metadata": {},
   "outputs": [],
   "source": [
    "# df['PhoneService']"
   ]
  },
  {
   "cell_type": "code",
   "execution_count": null,
   "id": "2d5e9646-8241-4541-90d1-ff45317bb616",
   "metadata": {},
   "outputs": [],
   "source": [
    "df[categorical_columns]"
   ]
  },
  {
   "cell_type": "code",
   "execution_count": null,
   "id": "5957801d-f5ce-4b78-8311-815f75f3af43",
   "metadata": {},
   "outputs": [],
   "source": [
    "numeric_columns"
   ]
  },
  {
   "cell_type": "code",
   "execution_count": null,
   "id": "acf61ee8-40a6-4a05-8e5c-d021dc57b731",
   "metadata": {},
   "outputs": [],
   "source": [
    "yes_no_columns"
   ]
  },
  {
   "cell_type": "code",
   "execution_count": null,
   "id": "1766075b-5584-4f18-8b08-a7b2dec4f92e",
   "metadata": {},
   "outputs": [],
   "source": [
    "list_1 =  [1, 2, 3, 4]"
   ]
  },
  {
   "cell_type": "code",
   "execution_count": null,
   "id": "d3315668-0996-4ca7-a991-a126edc24506",
   "metadata": {},
   "outputs": [],
   "source": [
    "list_1.append(2)"
   ]
  },
  {
   "cell_type": "code",
   "execution_count": null,
   "id": "52d647b8-413f-4f58-8695-f684aaa1f36c",
   "metadata": {},
   "outputs": [],
   "source": [
    "list_1"
   ]
  },
  {
   "cell_type": "code",
   "execution_count": null,
   "id": "76707ff7",
   "metadata": {},
   "outputs": [],
   "source": [
    "df['MultipleLines'].unique()"
   ]
  },
  {
   "cell_type": "code",
   "execution_count": null,
   "id": "6cd81305",
   "metadata": {},
   "outputs": [],
   "source": [
    "# categoric_columns = []\n",
    "# yes_no_columns = []\n",
    "# numeric_columns = []\n",
    "\n",
    "# columns = list(df.columns)\n",
    "    \n",
    "# for i in columns:\n",
    "#     if len(df[i].unique()) > 6:\n",
    "#         numeric_columns.append(i)\n",
    "#     elif len(df[i].unique()) == 2:\n",
    "#         yes_no_columns.append(i)\n",
    "#     else:\n",
    "#         categoric_columns.append(i)"
   ]
  },
  {
   "cell_type": "code",
   "execution_count": null,
   "id": "b022975e",
   "metadata": {},
   "outputs": [],
   "source": [
    "# numeric_columns"
   ]
  },
  {
   "cell_type": "code",
   "execution_count": null,
   "id": "19f182f5",
   "metadata": {},
   "outputs": [],
   "source": [
    "# yes_no_columns"
   ]
  },
  {
   "cell_type": "markdown",
   "id": "ef347234",
   "metadata": {},
   "source": [
    "<a id=\"4.1\"></a>\n",
    "# <b>4.1 <span style='color:#00008B'>Scaling</span></b>\n",
    "**feature scaling** is not required for logistic regression\n"
   ]
  },
  {
   "cell_type": "markdown",
   "id": "2e38452f",
   "metadata": {},
   "source": [
    "<a id=\"4.2\"></a>\n",
    "# <b>4.2 <span style='color:#00008B'>Encoding Categorical Variables</span></b>\n"
   ]
  },
  {
   "cell_type": "markdown",
   "id": "4673d19e",
   "metadata": {},
   "source": [
    "We will use **One-Hot Encoding** and **Label Encoding**"
   ]
  },
  {
   "cell_type": "code",
   "execution_count": null,
   "id": "e2f456a9",
   "metadata": {},
   "outputs": [],
   "source": [
    "print('Numeric features:', numeric_columns)\n",
    "print(\"---\"*10)\n",
    "print('Yes/No columns:', yes_no_columns)\n",
    "print(\"---\"*10)\n",
    "print('Categorical features:', categorical_columns)\n"
   ]
  },
  {
   "cell_type": "code",
   "execution_count": null,
   "id": "05ca8190-db90-4da3-8f30-fe3f5338c694",
   "metadata": {},
   "outputs": [],
   "source": [
    "df"
   ]
  },
  {
   "cell_type": "markdown",
   "id": "cb719bd2",
   "metadata": {},
   "source": [
    "<a id=\"4.2.1\"></a>\n",
    "## <b>4.2.1 <span style='color:#00008B'>Label Encoding or two Hot encoding</span></b>"
   ]
  },
  {
   "cell_type": "code",
   "execution_count": null,
   "id": "a3ceca0c-cee7-49ca-8a26-c8adf8631a39",
   "metadata": {},
   "outputs": [],
   "source": [
    "df['PaymentMethod'].value_counts()"
   ]
  },
  {
   "cell_type": "code",
   "execution_count": null,
   "id": "8b8944ab",
   "metadata": {},
   "outputs": [],
   "source": [
    "df[categorical_columns]"
   ]
  },
  {
   "cell_type": "code",
   "execution_count": null,
   "id": "2c5e15c2-2eef-4a77-8b5c-11a7430e8f35",
   "metadata": {},
   "outputs": [],
   "source": [
    "df2"
   ]
  },
  {
   "cell_type": "code",
   "execution_count": null,
   "id": "0e99e2d5-6f43-4a50-951a-368286521c04",
   "metadata": {},
   "outputs": [],
   "source": [
    "sns.countplot(x = df1['Contract'], hue = df1['Churn'])"
   ]
  },
  {
   "cell_type": "code",
   "execution_count": null,
   "id": "498d53d0",
   "metadata": {},
   "outputs": [],
   "source": [
    "df = pd.get_dummies(df, columns=categorical_columns)"
   ]
  },
  {
   "cell_type": "code",
   "execution_count": null,
   "id": "5971cf5a",
   "metadata": {},
   "outputs": [],
   "source": [
    "df"
   ]
  },
  {
   "cell_type": "code",
   "execution_count": null,
   "id": "c16e6739",
   "metadata": {},
   "outputs": [],
   "source": [
    "# # df\n",
    "# df.replace('No', 0, inplace=True)\n",
    "# df.replace('Yes',1, inplace=True)\n"
   ]
  },
  {
   "cell_type": "code",
   "execution_count": null,
   "id": "03d41752",
   "metadata": {},
   "outputs": [],
   "source": []
  },
  {
   "cell_type": "code",
   "execution_count": null,
   "id": "ac6d9f5b",
   "metadata": {},
   "outputs": [],
   "source": [
    "# le = LabelEncoder()\n",
    "# for col in yes_no_columns:\n",
    "#     dataset[col] = le.fit_transform(dataset[col])"
   ]
  },
  {
   "cell_type": "code",
   "execution_count": null,
   "id": "5205d1e6",
   "metadata": {},
   "outputs": [],
   "source": [
    "df[yes_no_columns]"
   ]
  },
  {
   "cell_type": "code",
   "execution_count": null,
   "id": "580edf5e",
   "metadata": {},
   "outputs": [],
   "source": [
    "df"
   ]
  },
  {
   "cell_type": "markdown",
   "id": "c6f47815",
   "metadata": {},
   "source": [
    "<a id=\"4.2.2\"></a>\n",
    "## <b>4.2.2 <span style='color:#00008B'>One-Hot Encoding</span></b>\n"
   ]
  },
  {
   "cell_type": "code",
   "execution_count": null,
   "id": "4835e32d-cdd3-43af-ac4b-cd20752e6e5f",
   "metadata": {
    "tags": []
   },
   "outputs": [],
   "source": [
    "# df = pd.get_dummies(df, columns=categoric_columns)"
   ]
  },
  {
   "cell_type": "code",
   "execution_count": null,
   "id": "0ae4f068",
   "metadata": {},
   "outputs": [],
   "source": [
    "# df"
   ]
  },
  {
   "cell_type": "code",
   "execution_count": null,
   "id": "9e5d2f60",
   "metadata": {},
   "outputs": [],
   "source": [
    "# df[numeric_columns]"
   ]
  },
  {
   "cell_type": "code",
   "execution_count": null,
   "id": "42530522",
   "metadata": {},
   "outputs": [],
   "source": [
    "# df[numeric_columns].corr()"
   ]
  },
  {
   "cell_type": "code",
   "execution_count": null,
   "id": "51497d96-f7df-4e72-aadb-1354b81a8b6c",
   "metadata": {
    "tags": []
   },
   "outputs": [],
   "source": [
    "# #Correlation between all columns and Churn\n",
    "# plt.figure(figsize=(16,5))\n",
    "# df.corr()['Churn'].sort_values(ascending = False).plot(kind='bar')"
   ]
  },
  {
   "cell_type": "code",
   "execution_count": null,
   "id": "6fa637bd",
   "metadata": {},
   "outputs": [],
   "source": [
    "# 10000/1000"
   ]
  },
  {
   "cell_type": "code",
   "execution_count": null,
   "id": "6272d011-62e0-4912-8b97-68e01a97d3e1",
   "metadata": {
    "tags": []
   },
   "outputs": [],
   "source": [
    "# churn_counts = df['Churn'].value_counts()\n",
    "# churn_ratio = churn_counts[0] / churn_counts[1]"
   ]
  },
  {
   "cell_type": "code",
   "execution_count": null,
   "id": "b9ab3073-23bd-4ccc-a03d-6878b8c359e6",
   "metadata": {
    "tags": []
   },
   "outputs": [],
   "source": [
    "# print(\"The ratio between retained customers and churners is\",churn_ratio)"
   ]
  },
  {
   "cell_type": "code",
   "execution_count": null,
   "id": "20289539",
   "metadata": {},
   "outputs": [],
   "source": [
    "df['Churn'].value_counts()"
   ]
  },
  {
   "cell_type": "markdown",
   "id": "e55d7142",
   "metadata": {},
   "source": [
    "<a id=\"4.2.2\"></a>\n",
    "## <b>4.2.2 <span style='color:#00008B'>Multicollinearity</span></b>"
   ]
  },
  {
   "cell_type": "markdown",
   "id": "a2c43a52",
   "metadata": {},
   "source": [
    "### Detecting Multicollinearity"
   ]
  },
  {
   "cell_type": "markdown",
   "id": "637dc217",
   "metadata": {},
   "source": [
    "A statistical technique called the **variance inflation factor (VIF)** can detect and measure the amount of collinearity in a multiple regression model.\n",
    "- A VIF of 1 will mean that the variables are not correlated.\n",
    "- A VIF between 1 and 5 shows that variables are moderately correlated.\n",
    "- A VIF between 5 and 10 will mean that variables are highly correlated."
   ]
  },
  {
   "cell_type": "code",
   "execution_count": null,
   "id": "02383324-aa53-4e2e-9315-f989fdbb95d8",
   "metadata": {},
   "outputs": [],
   "source": [
    "df[numeric_columns].corr()"
   ]
  },
  {
   "cell_type": "markdown",
   "id": "2a94bfea",
   "metadata": {},
   "source": [
    "\n",
    "[More about Multicollinearity](https://www.investopedia.com/terms/m/multicollinearity.asp#:~:text=Multicollinearity%20is%20a%20statistical%20concept,in%20less%20reliable%20statistical%20inferences.)"
   ]
  },
  {
   "cell_type": "code",
   "execution_count": null,
   "id": "15bd9203",
   "metadata": {},
   "outputs": [],
   "source": [
    "def VIF(x):\n",
    "    vif = pd.DataFrame({\n",
    "        'Features': x.columns,\n",
    "        'VIF': [variance_inflation_factor(x.values, i) for i in range(x.shape[1])]\n",
    "    })\n",
    "    vif['VIF'] = vif['VIF'].round(2)\n",
    "    vif = vif.sort_values(by='VIF', ascending=False).reset_index(drop=True)\n",
    "    return vif"
   ]
  },
  {
   "cell_type": "code",
   "execution_count": null,
   "id": "6b913c70",
   "metadata": {},
   "outputs": [],
   "source": [
    "numeric_columns"
   ]
  },
  {
   "cell_type": "code",
   "execution_count": null,
   "id": "4bca95b9",
   "metadata": {},
   "outputs": [],
   "source": [
    "VIF(df[numeric_columns])"
   ]
  },
  {
   "cell_type": "code",
   "execution_count": null,
   "id": "575460fd",
   "metadata": {},
   "outputs": [],
   "source": [
    "df1 = df.drop(columns = 'TotalCharges')"
   ]
  },
  {
   "cell_type": "code",
   "execution_count": null,
   "id": "8705a3d1",
   "metadata": {},
   "outputs": [],
   "source": [
    "VIF(df1[['tenure', 'MonthlyCharges']])"
   ]
  },
  {
   "cell_type": "code",
   "execution_count": null,
   "id": "7b95cd90",
   "metadata": {},
   "outputs": [],
   "source": [
    "# sns.scatterplot(x = df1['tenure'], y =df1['MonthlyCharges'])\n",
    "# plt.show()"
   ]
  },
  {
   "cell_type": "code",
   "execution_count": null,
   "id": "dc75c9f3",
   "metadata": {},
   "outputs": [],
   "source": [
    "dataset =df1.copy()"
   ]
  },
  {
   "cell_type": "code",
   "execution_count": null,
   "id": "72ddd868-6292-4ea1-b459-8b4b771eae91",
   "metadata": {},
   "outputs": [],
   "source": [
    "dataset"
   ]
  },
  {
   "cell_type": "markdown",
   "id": "6b8383c3",
   "metadata": {},
   "source": [
    "<a id=\"5\"></a>\n",
    "<div style=\"padding:20px;\n",
    "            color:white;\n",
    "            margin:10;\n",
    "            font-size:170%;\n",
    "            text-align:left;\n",
    "            display:fill;\n",
    "            border-radius:5px;\n",
    "            background-color:#222222;\n",
    "            overflow:hidden;\n",
    "            font-weight:700\">4 <span style='color:#CDA63A'>|</span>Data Splitting and Model Building</div>"
   ]
  },
  {
   "cell_type": "markdown",
   "id": "85851cc3",
   "metadata": {},
   "source": [
    "<a id=\"5.1\"></a>\n",
    "# <b>4.1 <span style='color:#00008B'>Data Splitting Or Cross Validation</span></b>\n"
   ]
  },
  {
   "cell_type": "markdown",
   "id": "de62c7d0",
   "metadata": {},
   "source": [
    "**splitting** our dataset into training and testing sets to avoid bias in your model.<br>\n",
    "**Overfitting**"
   ]
  },
  {
   "cell_type": "code",
   "execution_count": null,
   "id": "c8bb91bc",
   "metadata": {},
   "outputs": [],
   "source": [
    "X = dataset.drop(columns='Churn')\n",
    "y = dataset['Churn']"
   ]
  },
  {
   "cell_type": "code",
   "execution_count": null,
   "id": "d307b492-3549-451a-b38a-18461e6d236e",
   "metadata": {},
   "outputs": [],
   "source": [
    "from sklearn.model_selection import train_test_split "
   ]
  },
  {
   "cell_type": "code",
   "execution_count": null,
   "id": "1b5bc420-f809-42e5-8e37-b807e7c0b728",
   "metadata": {
    "tags": []
   },
   "outputs": [],
   "source": [
    "x_train, x_test, y_train, y_test = train_test_split(X, y, test_size = 0.20, random_state = 0)"
   ]
  },
  {
   "cell_type": "code",
   "execution_count": null,
   "id": "58ce146d-1ec3-43f9-aa95-19ee70b6d206",
   "metadata": {},
   "outputs": [],
   "source": [
    "x_train"
   ]
  },
  {
   "cell_type": "markdown",
   "id": "d48a03b1-7595-4fae-b53d-60dbca2f8efe",
   "metadata": {},
   "source": [
    "<a id=\"5.2\"></a>\n",
    "# <b>5.2 <span style='color:#00008B'>Model Buiding and Model Evaluation</span></b>"
   ]
  },
  {
   "cell_type": "markdown",
   "id": "822f75ce",
   "metadata": {},
   "source": [
    "**LogisticRegression**\n",
    "<img src=\"https://raw.githubusercontent.com/ManonYa09/Statistics_with_Python_G7/main/Part%204%20Regression%20Analysis/Photos/Logistics.png\" alt=\"Logistics\" width=\"50%\" style=\"display: block; margin: 0 auto;\">\n",
    "<img src=\"https://raw.githubusercontent.com/ManonYa09/Statistics_with_Python_G7/main/Part%204%20Regression%20Analysis/Photos/Sigmoid_function.png\" alt=\"Logistics\" width=\"50%\" style=\"display: block; margin: 0 auto;\">"
   ]
  },
  {
   "cell_type": "code",
   "execution_count": null,
   "id": "a6d3aa30",
   "metadata": {},
   "outputs": [],
   "source": [
    "Logistic = LogisticRegression()"
   ]
  },
  {
   "cell_type": "code",
   "execution_count": null,
   "id": "978e7acd-1ce8-4235-bf36-2658a31957fd",
   "metadata": {},
   "outputs": [],
   "source": [
    "# Logistic"
   ]
  },
  {
   "cell_type": "code",
   "execution_count": null,
   "id": "f2198126",
   "metadata": {},
   "outputs": [],
   "source": [
    "Logistic.fit(x_train, y_train)"
   ]
  },
  {
   "cell_type": "code",
   "execution_count": null,
   "id": "12279b74",
   "metadata": {},
   "outputs": [],
   "source": [
    "y_pred = Logistic.predict(x_test)"
   ]
  },
  {
   "cell_type": "code",
   "execution_count": null,
   "id": "1ce9ab94-a009-4751-90bf-87644419fd81",
   "metadata": {},
   "outputs": [],
   "source": [
    "y_test"
   ]
  },
  {
   "cell_type": "code",
   "execution_count": null,
   "id": "fd2e1b35",
   "metadata": {},
   "outputs": [],
   "source": [
    "y_pred"
   ]
  },
  {
   "cell_type": "code",
   "execution_count": null,
   "id": "d2cf282f",
   "metadata": {},
   "outputs": [],
   "source": [
    "y_test"
   ]
  },
  {
   "cell_type": "code",
   "execution_count": null,
   "id": "70228c70",
   "metadata": {},
   "outputs": [],
   "source": [
    "confusion_matrix(y_test, y_pred)"
   ]
  },
  {
   "cell_type": "code",
   "execution_count": null,
   "id": "99e8465c",
   "metadata": {},
   "outputs": [],
   "source": [
    "def model_eval(y_true,y_pred):\n",
    "    tn, fp, fn, tp = confusion_matrix(y_true,y_pred).ravel()\n",
    "    accuracy=(tp+tn)/(tp+tn+fp+fn)\n",
    "    error = 1-accuracy\n",
    "    precision=tp/(tp+fp)\n",
    "    recall=tp/(tp+fn)\n",
    "    specificity=tn/(fp+tn)\n",
    "    result={\"Accuracy\":accuracy,\"Error\":error, \"Precision\":precision,\"Recall\":recall,'Specificity':specificity}\n",
    "    return result"
   ]
  },
  {
   "cell_type": "code",
   "execution_count": null,
   "id": "2459546c-e3fd-4034-8679-f2f8650a53b3",
   "metadata": {},
   "outputs": [],
   "source": [
    "model_eval(y_test, y_pred)"
   ]
  },
  {
   "cell_type": "markdown",
   "id": "43064b78",
   "metadata": {},
   "source": [
    "<img src=\"Photos/confusion_matrix.webp\" alt=\"Logistics\" width=\"50%\" style=\"display: block; margin: 0 auto;\">"
   ]
  },
  {
   "cell_type": "code",
   "execution_count": null,
   "id": "eb8d3cab",
   "metadata": {},
   "outputs": [],
   "source": []
  },
  {
   "cell_type": "code",
   "execution_count": null,
   "id": "29d211be",
   "metadata": {},
   "outputs": [],
   "source": [
    "# churn_yes.shape"
   ]
  },
  {
   "cell_type": "code",
   "execution_count": null,
   "id": "0184357c",
   "metadata": {},
   "outputs": [],
   "source": [
    "# churn_yes"
   ]
  },
  {
   "cell_type": "code",
   "execution_count": null,
   "id": "b8530b35",
   "metadata": {},
   "outputs": [],
   "source": [
    "churn_no = df[df['Churn']==0]"
   ]
  },
  {
   "cell_type": "code",
   "execution_count": null,
   "id": "45422888",
   "metadata": {},
   "outputs": [],
   "source": [
    "churn_no = churn_no.sample(n = 2000 )"
   ]
  },
  {
   "cell_type": "code",
   "execution_count": null,
   "id": "0cc0a764",
   "metadata": {},
   "outputs": [],
   "source": [
    "churn_yes = df[df['Churn']==1]"
   ]
  },
  {
   "cell_type": "code",
   "execution_count": null,
   "id": "fdf6e078",
   "metadata": {},
   "outputs": [],
   "source": [
    "df1 = pd.concat([churn_no, churn_yes])"
   ]
  },
  {
   "cell_type": "code",
   "execution_count": null,
   "id": "994702aa",
   "metadata": {},
   "outputs": [],
   "source": [
    "df1"
   ]
  },
  {
   "cell_type": "code",
   "execution_count": null,
   "id": "7f440b7f",
   "metadata": {},
   "outputs": [],
   "source": [
    "X_1 = df1.drop(columns=['Churn'])\n",
    "Y_1 = df1.Churn"
   ]
  },
  {
   "cell_type": "code",
   "execution_count": null,
   "id": "cebc850a-39db-46ab-a96b-29020a89f6d0",
   "metadata": {},
   "outputs": [],
   "source": [
    "x_train2 , x_test2, y_train2, y_test2 = train_test_split(X_1, Y_1, test_size= 0.2)"
   ]
  },
  {
   "cell_type": "code",
   "execution_count": null,
   "id": "5a27ee5f-cba8-4691-b159-fc02c6985825",
   "metadata": {},
   "outputs": [],
   "source": [
    "Logistic2 = LogisticRegression()"
   ]
  },
  {
   "cell_type": "code",
   "execution_count": null,
   "id": "d94a79bb-decd-47fc-8be6-8c6d8e475b96",
   "metadata": {},
   "outputs": [],
   "source": [
    "Logistic2.fit(x_train2, y_train2)"
   ]
  },
  {
   "cell_type": "code",
   "execution_count": null,
   "id": "f6f76528-43db-4a83-866a-94c88349b45a",
   "metadata": {},
   "outputs": [],
   "source": [
    "y_pred2 = Logistic2.predict(x_test2)"
   ]
  },
  {
   "cell_type": "code",
   "execution_count": null,
   "id": "4f9168fc",
   "metadata": {},
   "outputs": [],
   "source": [
    "model_eval(y_test2, y_pred2)"
   ]
  },
  {
   "cell_type": "markdown",
   "id": "e9a96963",
   "metadata": {},
   "source": [
    "<a id=\"5.2.1\"></a>\n",
    "## <b>5.2.1 <span style='color:#00008B'>Feature selection</span></b>\n"
   ]
  },
  {
   "cell_type": "markdown",
   "id": "daaa4357",
   "metadata": {},
   "source": [
    "<a id=\"5.2.1.1\"></a>\n",
    "### <b>5.2.1.1 <span style='color:#00008B'>Recursive Feature Elimination (RFE)</span></b>\n",
    "\n",
    "[More about RFE](https://www.analyticsvidhya.com/blog/2023/05/recursive-feature-elimination/#:~:text=Recursive%20Feature%20Elimination%20is%20a,number%20of%20features%20is%20obtained.)\n",
    "```python\n",
    "from sklearn.feature_selection import RFE\n",
    "from sklearn.linear_model import LogisticRegression\n",
    "\n",
    "# Create a logistic regression model\n",
    "model = LogisticRegression()\n",
    "\n",
    "# Initialize RFE with desired number of features\n",
    "n_features = 10\n",
    "rfe = RFE(estimator=model, n_features_to_select=n_features)\n",
    "\n",
    "# Fit RFE on the training data\n",
    "X_train_selected = rfe.fit_transform(X_train, y_train)\n",
    "X_test_selected = rfe.transform(X_test)\n",
    "\n",
    "# Get selected feature indices\n",
    "selected_feature_indices = rfe.support_\n",
    "selected_features = X.columns[selected_feature_indices]\n",
    "\n",
    "```\n"
   ]
  },
  {
   "cell_type": "markdown",
   "id": "6da74e3f",
   "metadata": {},
   "source": [
    "## Model building using RFE\n",
    "---\n",
    "**Recursive Feature Elimination** algorithm works in the following steps:\n",
    "1. Rank the importance of all features using the chosen RFE machine learning algorithm.\n",
    "2. Eliminate the least important feature.\n",
    "3. Build a model using the remaining features."
   ]
  },
  {
   "cell_type": "code",
   "execution_count": null,
   "id": "4abad1ca",
   "metadata": {},
   "outputs": [],
   "source": [
    "n = int(input('Input the number of features you want to predict: '))\n",
    "\n",
    "rfe = RFE(Logistic2, n_features_to_select= n)\n",
    "rfe.fit(x_train, y_train)"
   ]
  },
  {
   "cell_type": "code",
   "execution_count": null,
   "id": "c10b7ee3",
   "metadata": {},
   "outputs": [],
   "source": [
    "len(x_train2.columns)"
   ]
  },
  {
   "cell_type": "code",
   "execution_count": null,
   "id": "8fbefa54",
   "metadata": {},
   "outputs": [],
   "source": [
    "rfe.support_"
   ]
  },
  {
   "cell_type": "code",
   "execution_count": null,
   "id": "c7d3ebf0",
   "metadata": {},
   "outputs": [],
   "source": [
    "\n",
    "selected_features = x_train[x_train.columns[rfe.support_]]"
   ]
  },
  {
   "cell_type": "code",
   "execution_count": null,
   "id": "8460f3e7",
   "metadata": {},
   "outputs": [],
   "source": [
    "selected_features"
   ]
  },
  {
   "cell_type": "code",
   "execution_count": null,
   "id": "b9ed967b",
   "metadata": {},
   "outputs": [],
   "source": [
    "# selected_features"
   ]
  },
  {
   "cell_type": "code",
   "execution_count": null,
   "id": "a06dc1d5",
   "metadata": {},
   "outputs": [],
   "source": [
    "Logistic3 = LogisticRegression()"
   ]
  },
  {
   "cell_type": "code",
   "execution_count": null,
   "id": "43efad36",
   "metadata": {},
   "outputs": [],
   "source": [
    "# "
   ]
  },
  {
   "cell_type": "code",
   "execution_count": null,
   "id": "deb86b9a",
   "metadata": {},
   "outputs": [],
   "source": [
    "# x_train = x_train[selected_features]"
   ]
  },
  {
   "cell_type": "code",
   "execution_count": null,
   "id": "c061b51c",
   "metadata": {},
   "outputs": [],
   "source": [
    "Logistic3.fit(selected_features, y_train)"
   ]
  },
  {
   "cell_type": "code",
   "execution_count": null,
   "id": "6c780658",
   "metadata": {},
   "outputs": [],
   "source": [
    "selected_features.columns"
   ]
  },
  {
   "cell_type": "code",
   "execution_count": null,
   "id": "081bc98d",
   "metadata": {},
   "outputs": [],
   "source": [
    "x_test2[selected_features.columns]"
   ]
  },
  {
   "cell_type": "code",
   "execution_count": null,
   "id": "91dcd0a7",
   "metadata": {},
   "outputs": [],
   "source": [
    "y_pred3 = Logistic3.predict(x_test2[selected_features.columns])"
   ]
  },
  {
   "cell_type": "code",
   "execution_count": null,
   "id": "8346d6f2-3cb7-4e18-838e-d1d30c1bbb72",
   "metadata": {},
   "outputs": [],
   "source": [
    "len(y_pred3)"
   ]
  },
  {
   "cell_type": "code",
   "execution_count": null,
   "id": "544621d8",
   "metadata": {},
   "outputs": [],
   "source": [
    "model_eval(y_test2, y_pred3)"
   ]
  },
  {
   "cell_type": "code",
   "execution_count": null,
   "id": "790e74f3-f47f-47f5-933a-c82863d76c3b",
   "metadata": {},
   "outputs": [],
   "source": [
    "x_test2[selected_features.columns]"
   ]
  },
  {
   "cell_type": "code",
   "execution_count": null,
   "id": "2f62fb33",
   "metadata": {},
   "outputs": [],
   "source": [
    "Logistic3.coef_"
   ]
  },
  {
   "cell_type": "code",
   "execution_count": null,
   "id": "3f49e0f5",
   "metadata": {},
   "outputs": [],
   "source": [
    "# selected_features.isnull().sum()"
   ]
  },
  {
   "cell_type": "code",
   "execution_count": null,
   "id": "eb4051d8",
   "metadata": {},
   "outputs": [],
   "source": [
    "# y_train.isnull().sum()"
   ]
  },
  {
   "cell_type": "code",
   "execution_count": null,
   "id": "75c56287",
   "metadata": {},
   "outputs": [],
   "source": [
    "# selected_features = selected_features.astype(int)"
   ]
  },
  {
   "cell_type": "code",
   "execution_count": null,
   "id": "d3c97770",
   "metadata": {},
   "outputs": [],
   "source": [
    "# y_train"
   ]
  },
  {
   "cell_type": "code",
   "execution_count": null,
   "id": "b833213a",
   "metadata": {},
   "outputs": [],
   "source": [
    "# Logistic1.coef_"
   ]
  },
  {
   "cell_type": "code",
   "execution_count": null,
   "id": "40d956be",
   "metadata": {},
   "outputs": [],
   "source": [
    "selected_features"
   ]
  },
  {
   "cell_type": "code",
   "execution_count": null,
   "id": "3a88df3e",
   "metadata": {},
   "outputs": [],
   "source": [
    "coefficients1 = Logistic3.coef_\n",
    "coefficients1"
   ]
  },
  {
   "cell_type": "code",
   "execution_count": null,
   "id": "8357b63b",
   "metadata": {},
   "outputs": [],
   "source": [
    "coefficients1 = coefficients1[0].tolist()"
   ]
  },
  {
   "cell_type": "code",
   "execution_count": null,
   "id": "8cbc8736",
   "metadata": {},
   "outputs": [],
   "source": [
    "feature_names=selected_features.columns.tolist()"
   ]
  },
  {
   "cell_type": "code",
   "execution_count": null,
   "id": "a2f2ac1f",
   "metadata": {},
   "outputs": [],
   "source": [
    "final_featureimportance = pd.DataFrame({'Coefficient':coefficients1,\n",
    "                          'feature_names1':feature_names})\n",
    "final_featureimportance"
   ]
  },
  {
   "cell_type": "code",
   "execution_count": null,
   "id": "530b24fb-e016-42e1-809f-07b9f5943076",
   "metadata": {},
   "outputs": [],
   "source": [
    "data = pd.read_csv('WA_Fn-UseC_-Telco-Customer-Churn.csv')"
   ]
  },
  {
   "cell_type": "code",
   "execution_count": null,
   "id": "072df064-79d8-4352-9b4b-bcc2753c95d1",
   "metadata": {},
   "outputs": [],
   "source": [
    "sns.countplot(x = data['Contract'], hue = data['Churn'])"
   ]
  },
  {
   "cell_type": "code",
   "execution_count": null,
   "id": "ad0c280a-06db-4c8d-bb5a-5b5e3df8ae38",
   "metadata": {},
   "outputs": [],
   "source": [
    "sns.countplot(x = data['InternetService'], hue = data['Churn'])"
   ]
  },
  {
   "cell_type": "code",
   "execution_count": null,
   "id": "fbeefd94",
   "metadata": {},
   "outputs": [],
   "source": [
    "final_featureimportance.sort_values(by = 'Coefficient', ascending=False)"
   ]
  },
  {
   "cell_type": "code",
   "execution_count": null,
   "id": "891a371c",
   "metadata": {},
   "outputs": [],
   "source": [
    "# Logistic1.intercept_"
   ]
  },
  {
   "cell_type": "code",
   "execution_count": null,
   "id": "c1781cc4",
   "metadata": {},
   "outputs": [],
   "source": [
    "from explainerdashboard import ClassifierExplainer , ExplainerDashboard\n",
    "\n"
   ]
  },
  {
   "cell_type": "code",
   "execution_count": null,
   "id": "a38ae6c5",
   "metadata": {},
   "outputs": [],
   "source": [
    "explainer = ClassifierExplainer(Logistic3, selected_features, y_train)\n",
    "ExplainerDashboard(explainer, port=433).run()"
   ]
  },
  {
   "cell_type": "code",
   "execution_count": null,
   "id": "03244864",
   "metadata": {},
   "outputs": [],
   "source": []
  }
 ],
 "metadata": {
  "celltoolbar": "Raw Cell Format",
  "kernelspec": {
   "display_name": "Python 3 (ipykernel)",
   "language": "python",
   "name": "python3"
  },
  "language_info": {
   "codemirror_mode": {
    "name": "ipython",
    "version": 3
   },
   "file_extension": ".py",
   "mimetype": "text/x-python",
   "name": "python",
   "nbconvert_exporter": "python",
   "pygments_lexer": "ipython3",
   "version": "3.11.5"
  }
 },
 "nbformat": 4,
 "nbformat_minor": 5
}
