{
 "cells": [
  {
   "cell_type": "code",
   "execution_count": 1,
   "id": "cc8ec89b-c69b-4c24-accc-27112db2393c",
   "metadata": {},
   "outputs": [],
   "source": [
    "import pandas as pd\n",
    "import numpy as np\n",
    "import matplotlib.pyplot as plt\n",
    "import seaborn as sns\n",
    "import warnings \n",
    "warnings.filterwarnings('ignore')"
   ]
  },
  {
   "cell_type": "code",
   "execution_count": null,
   "id": "92eff9c6-4c70-48e9-9ba3-d1a0c4541112",
   "metadata": {},
   "outputs": [],
   "source": [
    "# !pip install --upgrade openpyxl"
   ]
  },
  {
   "cell_type": "code",
   "execution_count": null,
   "id": "9af4cf45-24a6-4fdc-b2ea-1c4f110ea56e",
   "metadata": {},
   "outputs": [],
   "source": []
  },
  {
   "cell_type": "code",
   "execution_count": 43,
   "id": "080a57b0-8581-496a-86d7-28dbe5a3cd14",
   "metadata": {},
   "outputs": [],
   "source": [
    "df = pd.read_excel('/Users/macbook/Documents/GitHub/Statistics_with_Python_G7/Dataset/_205a7d5b6310faf94aa3fc51b5fd16ca_OrderList.xlsx')"
   ]
  },
  {
   "cell_type": "code",
   "execution_count": 5,
   "id": "c75172af-6014-4937-af6a-889031797131",
   "metadata": {},
   "outputs": [
    {
     "data": {
      "text/html": [
       "<div>\n",
       "<style scoped>\n",
       "    .dataframe tbody tr th:only-of-type {\n",
       "        vertical-align: middle;\n",
       "    }\n",
       "\n",
       "    .dataframe tbody tr th {\n",
       "        vertical-align: top;\n",
       "    }\n",
       "\n",
       "    .dataframe thead th {\n",
       "        text-align: right;\n",
       "    }\n",
       "</style>\n",
       "<table border=\"1\" class=\"dataframe\">\n",
       "  <thead>\n",
       "    <tr style=\"text-align: right;\">\n",
       "      <th></th>\n",
       "      <th>Order</th>\n",
       "      <th>Region</th>\n",
       "      <th>Age</th>\n",
       "      <th>Total Sale $</th>\n",
       "    </tr>\n",
       "  </thead>\n",
       "  <tbody>\n",
       "    <tr>\n",
       "      <th>0</th>\n",
       "      <td>1000319</td>\n",
       "      <td>South</td>\n",
       "      <td>39</td>\n",
       "      <td>543.95</td>\n",
       "    </tr>\n",
       "    <tr>\n",
       "      <th>1</th>\n",
       "      <td>1002323</td>\n",
       "      <td>South</td>\n",
       "      <td>31</td>\n",
       "      <td>253.78</td>\n",
       "    </tr>\n",
       "    <tr>\n",
       "      <th>2</th>\n",
       "      <td>1005101</td>\n",
       "      <td>West</td>\n",
       "      <td>35</td>\n",
       "      <td>556.82</td>\n",
       "    </tr>\n",
       "    <tr>\n",
       "      <th>3</th>\n",
       "      <td>1008529</td>\n",
       "      <td>East</td>\n",
       "      <td>41</td>\n",
       "      <td>430.50</td>\n",
       "    </tr>\n",
       "    <tr>\n",
       "      <th>4</th>\n",
       "      <td>1008768</td>\n",
       "      <td>East</td>\n",
       "      <td>29</td>\n",
       "      <td>552.30</td>\n",
       "    </tr>\n",
       "  </tbody>\n",
       "</table>\n",
       "</div>"
      ],
      "text/plain": [
       "     Order Region  Age  Total Sale $\n",
       "0  1000319  South   39        543.95\n",
       "1  1002323  South   31        253.78\n",
       "2  1005101   West   35        556.82\n",
       "3  1008529   East   41        430.50\n",
       "4  1008768   East   29        552.30"
      ]
     },
     "execution_count": 5,
     "metadata": {},
     "output_type": "execute_result"
    }
   ],
   "source": [
    "df.head()"
   ]
  },
  {
   "cell_type": "code",
   "execution_count": 7,
   "id": "04561fea-266b-4cc6-8bad-37bb8df6b525",
   "metadata": {},
   "outputs": [
    {
     "name": "stdout",
     "output_type": "stream",
     "text": [
      "<class 'pandas.core.frame.DataFrame'>\n",
      "RangeIndex: 3000 entries, 0 to 2999\n",
      "Data columns (total 4 columns):\n",
      " #   Column        Non-Null Count  Dtype  \n",
      "---  ------        --------------  -----  \n",
      " 0   Order         3000 non-null   int64  \n",
      " 1   Region        3000 non-null   object \n",
      " 2   Age           3000 non-null   int64  \n",
      " 3   Total Sale $  3000 non-null   float64\n",
      "dtypes: float64(1), int64(2), object(1)\n",
      "memory usage: 93.9+ KB\n"
     ]
    }
   ],
   "source": [
    "df.info()"
   ]
  },
  {
   "cell_type": "code",
   "execution_count": 13,
   "id": "d09c6324-622b-43e2-9b91-96681a1dc354",
   "metadata": {},
   "outputs": [
    {
     "data": {
      "text/plain": [
       "0"
      ]
     },
     "execution_count": 13,
     "metadata": {},
     "output_type": "execute_result"
    }
   ],
   "source": [
    "df.duplicated(subset='Order').sum()"
   ]
  },
  {
   "cell_type": "code",
   "execution_count": null,
   "id": "e5c2bdd7-3b86-4611-921b-df48e946909f",
   "metadata": {},
   "outputs": [],
   "source": [
    "df.duplicated(subset='Order').sum()"
   ]
  },
  {
   "cell_type": "code",
   "execution_count": 15,
   "id": "df365208-f265-4d78-a6d6-29872b4e7da1",
   "metadata": {},
   "outputs": [
    {
     "data": {
      "text/plain": [
       "0"
      ]
     },
     "execution_count": 15,
     "metadata": {},
     "output_type": "execute_result"
    }
   ],
   "source": [
    "df['Order'].duplicated().sum()"
   ]
  },
  {
   "cell_type": "code",
   "execution_count": 17,
   "id": "2f168edf-7408-476a-86a3-e7f14b1c6692",
   "metadata": {},
   "outputs": [
    {
     "data": {
      "text/plain": [
       "3000"
      ]
     },
     "execution_count": 17,
     "metadata": {},
     "output_type": "execute_result"
    }
   ],
   "source": [
    "df['Order'].nunique()"
   ]
  },
  {
   "cell_type": "code",
   "execution_count": 23,
   "id": "6a2d9eef-e891-4021-bb0d-0e87f25ffdc9",
   "metadata": {},
   "outputs": [],
   "source": [
    "a = 343.3342431452354543"
   ]
  },
  {
   "cell_type": "code",
   "execution_count": 25,
   "id": "e52155a1-15df-47b7-bf85-c5c708b16605",
   "metadata": {},
   "outputs": [
    {
     "data": {
      "text/plain": [
       "343.334"
      ]
     },
     "execution_count": 25,
     "metadata": {},
     "output_type": "execute_result"
    }
   ],
   "source": [
    "round(a, 3)"
   ]
  },
  {
   "cell_type": "code",
   "execution_count": 21,
   "id": "eaf7e8eb-fec2-4ff2-913c-5b7eabe9f738",
   "metadata": {},
   "outputs": [
    {
     "data": {
      "text/plain": [
       "count    3000.00\n",
       "mean      476.69\n",
       "std       120.27\n",
       "min         0.22\n",
       "25%       400.80\n",
       "50%       479.50\n",
       "75%       552.81\n",
       "max       938.31\n",
       "Name: Total Sale $, dtype: float64"
      ]
     },
     "execution_count": 21,
     "metadata": {},
     "output_type": "execute_result"
    }
   ],
   "source": [
    "round(df['Total Sale $'].describe(), 2)"
   ]
  },
  {
   "cell_type": "markdown",
   "id": "97fabc46-edb4-445d-821e-af9fa71aa348",
   "metadata": {},
   "source": [
    "### 2. The median of \"Total Sale $\" is larger than the mean. By how much? Round to 2 decimal places.\n"
   ]
  },
  {
   "cell_type": "code",
   "execution_count": 19,
   "id": "36cf5d39-30e9-453f-9ab3-71676fb73e99",
   "metadata": {},
   "outputs": [
    {
     "data": {
      "text/plain": [
       "2.8144133333333343"
      ]
     },
     "execution_count": 19,
     "metadata": {},
     "output_type": "execute_result"
    }
   ],
   "source": [
    "df['Total Sale $'].median()-df['Total Sale $'].mean()"
   ]
  },
  {
   "cell_type": "markdown",
   "id": "66624600-86f3-4d2c-9683-d7fb04ec7565",
   "metadata": {},
   "source": [
    "### 3. What is the standard deviation of Total Sale? Round to 2 decimal places."
   ]
  },
  {
   "cell_type": "code",
   "execution_count": 29,
   "id": "20e498fc-a339-44f2-9bb6-4fd930305061",
   "metadata": {},
   "outputs": [
    {
     "data": {
      "text/plain": [
       "120.2674590181762"
      ]
     },
     "execution_count": 29,
     "metadata": {},
     "output_type": "execute_result"
    }
   ],
   "source": [
    "df['Total Sale $'].std()"
   ]
  },
  {
   "cell_type": "markdown",
   "id": "5cb6c06c-88cf-44c0-b1c9-eeb1ea607d66",
   "metadata": {},
   "source": [
    "### 4. What percentage of orders fell within the interquartile range of Total Sale?\n",
    "\n"
   ]
  },
  {
   "cell_type": "code",
   "execution_count": null,
   "id": "75f665ab-5e89-4160-9a71-6c9763f610a5",
   "metadata": {},
   "outputs": [],
   "source": [
    "50%"
   ]
  },
  {
   "cell_type": "code",
   "execution_count": null,
   "id": "d61d51b2-73e9-4baf-8cde-b2d4b523de52",
   "metadata": {},
   "outputs": [],
   "source": [
    "sns.palettes.SEABORN_PALETTES"
   ]
  },
  {
   "cell_type": "code",
   "execution_count": 35,
   "id": "302bb73c-2870-469f-ae84-23be592c0be3",
   "metadata": {},
   "outputs": [
    {
     "data": {
      "text/plain": [
       "count    3000.000000\n",
       "mean      476.690587\n",
       "std       120.267459\n",
       "min         0.220000\n",
       "25%       400.795000\n",
       "50%       479.505000\n",
       "75%       552.805000\n",
       "max       938.310000\n",
       "Name: Total Sale $, dtype: float64"
      ]
     },
     "execution_count": 35,
     "metadata": {},
     "output_type": "execute_result"
    }
   ],
   "source": [
    "df['Total Sale $'].describe()"
   ]
  },
  {
   "cell_type": "code",
   "execution_count": 33,
   "id": "3329abe2-bb20-4666-8d4d-f63103e588e1",
   "metadata": {},
   "outputs": [
    {
     "data": {
      "image/png": "[encoded data removed]",
      "text/plain": [
       "<Figure size 1200x600 with 1 Axes>"
      ]
     },
     "metadata": {},
     "output_type": "display_data"
    }
   ],
   "source": [
    "fig, ax = plt.subplots(figsize = (12, 6))\n",
    "sns.histplot(x = df['Total Sale $'], hue = df['Region'],\n",
    "             \n",
    "             bins = np.arange(0, 901, 25),)\n",
    "ax.set_xticks(np.arange(0, 901, 50))\n",
    "ax.set_xlim(0, 901)\n",
    "sns.despine()"
   ]
  },
  {
   "cell_type": "code",
   "execution_count": 39,
   "id": "24ffd6d2-7650-47ae-a33e-e2762393c976",
   "metadata": {},
   "outputs": [
    {
     "data": {
      "image/png": "[encoded data removed]",
      "text/plain": [
       "<Figure size 640x480 with 1 Axes>"
      ]
     },
     "metadata": {},
     "output_type": "display_data"
    }
   ],
   "source": [
    "sns.boxplot(y = df['Total Sale $']);"
   ]
  },
  {
   "cell_type": "markdown",
   "id": "76c586b5-8dbf-4381-a843-f742d11fe489",
   "metadata": {},
   "source": [
    "#### 5. Given the limited information you have, your boss wants you to group customers in a meaningful way. You decide to take a look at how the order region impacts things. Calculate the average total sales from the North region only. What is the difference between the North region average total sales and the average total sales across all regions (including the North)? Round to 2 decimal places."
   ]
  },
  {
   "cell_type": "code",
   "execution_count": null,
   "id": "402dcca7-da01-4584-bf76-a7ba9c02af33",
   "metadata": {},
   "outputs": [],
   "source": [
    "df['Total Sale $']"
   ]
  },
  {
   "cell_type": "code",
   "execution_count": 59,
   "id": "268f3a0d-f6ba-4bc6-af36-504247e42532",
   "metadata": {},
   "outputs": [
    {
     "data": {
      "text/plain": [
       "1.44"
      ]
     },
     "execution_count": 59,
     "metadata": {},
     "output_type": "execute_result"
    }
   ],
   "source": [
    "round(df[df['Region']=='North']['Total Sale $'].mean() - df['Total Sale $'].mean(), 2)"
   ]
  },
  {
   "cell_type": "code",
   "execution_count": 79,
   "id": "b37f6aa6-f942-47ae-a900-8532a2d8b3d3",
   "metadata": {},
   "outputs": [
    {
     "data": {
      "text/plain": [
       "5       North\n",
       "7       North\n",
       "10      North\n",
       "13      North\n",
       "14      North\n",
       "        ...  \n",
       "2988    North\n",
       "2989    North\n",
       "2994    North\n",
       "2995    North\n",
       "2997    North\n",
       "Name: Region, Length: 744, dtype: object"
      ]
     },
     "execution_count": 79,
     "metadata": {},
     "output_type": "execute_result"
    }
   ],
   "source": [
    "df[df['Region']=='North']['Region']"
   ]
  },
  {
   "cell_type": "code",
   "execution_count": 73,
   "id": "8eeee15d-927a-49b0-9aaa-6ba99467cd1b",
   "metadata": {},
   "outputs": [
    {
     "data": {
      "text/plain": [
       "[2, 3, 4, 5, 2, 3, 4, 5]"
      ]
     },
     "execution_count": 73,
     "metadata": {},
     "output_type": "execute_result"
    }
   ],
   "source": [
    "[2, 3,4, 5]*2"
   ]
  },
  {
   "cell_type": "code",
   "execution_count": 75,
   "id": "69235358-22bf-40f5-a9db-234996463a2b",
   "metadata": {},
   "outputs": [
    {
     "data": {
      "text/plain": [
       "0       False\n",
       "1       False\n",
       "2       False\n",
       "3       False\n",
       "4       False\n",
       "        ...  \n",
       "2995     True\n",
       "2996    False\n",
       "2997     True\n",
       "2998    False\n",
       "2999    False\n",
       "Name: Region, Length: 3000, dtype: bool"
      ]
     },
     "execution_count": 75,
     "metadata": {},
     "output_type": "execute_result"
    }
   ],
   "source": [
    "df['Region']=='North'"
   ]
  },
  {
   "cell_type": "code",
   "execution_count": null,
   "id": "ee269206-b80a-41e7-9e41-de36d252c6bc",
   "metadata": {},
   "outputs": [],
   "source": [
    "df.groupby(df['Region']=='North')['Total Sale $'].mean()"
   ]
  },
  {
   "cell_type": "code",
   "execution_count": 67,
   "id": "17c69866-9840-4a28-9fb8-d415a6ab4afc",
   "metadata": {},
   "outputs": [
    {
     "data": {
      "text/plain": [
       "Region\n",
       "East    -0.676838\n",
       "North    1.443365\n",
       "South   -2.367095\n",
       "West     1.646541\n",
       "Name: Total Sale $, dtype: float64"
      ]
     },
     "execution_count": 67,
     "metadata": {},
     "output_type": "execute_result"
    }
   ],
   "source": [
    "df.groupby(df['Region'])['Total Sale $'].mean()- df['Total Sale $'].mean()"
   ]
  },
  {
   "cell_type": "code",
   "execution_count": 81,
   "id": "a629a948-0896-4221-8070-4c65a75a59a4",
   "metadata": {},
   "outputs": [
    {
     "data": {
      "text/html": [
       "<div>\n",
       "<style scoped>\n",
       "    .dataframe tbody tr th:only-of-type {\n",
       "        vertical-align: middle;\n",
       "    }\n",
       "\n",
       "    .dataframe tbody tr th {\n",
       "        vertical-align: top;\n",
       "    }\n",
       "\n",
       "    .dataframe thead th {\n",
       "        text-align: right;\n",
       "    }\n",
       "</style>\n",
       "<table border=\"1\" class=\"dataframe\">\n",
       "  <thead>\n",
       "    <tr style=\"text-align: right;\">\n",
       "      <th></th>\n",
       "      <th>count</th>\n",
       "      <th>mean</th>\n",
       "      <th>std</th>\n",
       "      <th>min</th>\n",
       "      <th>25%</th>\n",
       "      <th>50%</th>\n",
       "      <th>75%</th>\n",
       "      <th>max</th>\n",
       "    </tr>\n",
       "    <tr>\n",
       "      <th>Region</th>\n",
       "      <th></th>\n",
       "      <th></th>\n",
       "      <th></th>\n",
       "      <th></th>\n",
       "      <th></th>\n",
       "      <th></th>\n",
       "      <th></th>\n",
       "      <th></th>\n",
       "    </tr>\n",
       "  </thead>\n",
       "  <tbody>\n",
       "    <tr>\n",
       "      <th>East</th>\n",
       "      <td>755.0</td>\n",
       "      <td>476.013748</td>\n",
       "      <td>124.851016</td>\n",
       "      <td>72.31</td>\n",
       "      <td>402.61</td>\n",
       "      <td>473.050</td>\n",
       "      <td>551.9550</td>\n",
       "      <td>935.69</td>\n",
       "    </tr>\n",
       "    <tr>\n",
       "      <th>North</th>\n",
       "      <td>744.0</td>\n",
       "      <td>478.133952</td>\n",
       "      <td>116.507786</td>\n",
       "      <td>0.22</td>\n",
       "      <td>408.69</td>\n",
       "      <td>478.925</td>\n",
       "      <td>552.3125</td>\n",
       "      <td>848.93</td>\n",
       "    </tr>\n",
       "    <tr>\n",
       "      <th>South</th>\n",
       "      <td>756.0</td>\n",
       "      <td>474.323492</td>\n",
       "      <td>123.661023</td>\n",
       "      <td>43.45</td>\n",
       "      <td>392.42</td>\n",
       "      <td>478.035</td>\n",
       "      <td>559.5875</td>\n",
       "      <td>937.20</td>\n",
       "    </tr>\n",
       "    <tr>\n",
       "      <th>West</th>\n",
       "      <td>745.0</td>\n",
       "      <td>478.337128</td>\n",
       "      <td>115.853308</td>\n",
       "      <td>67.19</td>\n",
       "      <td>401.73</td>\n",
       "      <td>483.530</td>\n",
       "      <td>549.5800</td>\n",
       "      <td>938.31</td>\n",
       "    </tr>\n",
       "  </tbody>\n",
       "</table>\n",
       "</div>"
      ],
      "text/plain": [
       "        count        mean         std    min     25%      50%       75%  \\\n",
       "Region                                                                    \n",
       "East    755.0  476.013748  124.851016  72.31  402.61  473.050  551.9550   \n",
       "North   744.0  478.133952  116.507786   0.22  408.69  478.925  552.3125   \n",
       "South   756.0  474.323492  123.661023  43.45  392.42  478.035  559.5875   \n",
       "West    745.0  478.337128  115.853308  67.19  401.73  483.530  549.5800   \n",
       "\n",
       "           max  \n",
       "Region          \n",
       "East    935.69  \n",
       "North   848.93  \n",
       "South   937.20  \n",
       "West    938.31  "
      ]
     },
     "execution_count": 81,
     "metadata": {},
     "output_type": "execute_result"
    }
   ],
   "source": [
    "df.groupby(df['Region'])['Total Sale $'].describe()"
   ]
  },
  {
   "cell_type": "markdown",
   "id": "b14d7375-7863-4aaa-baab-424479bc3745",
   "metadata": {},
   "source": [
    "#### 6. What is the absolute value of difference between the North region median total sales and all orders median total sales (across all regions including the North)?\n"
   ]
  },
  {
   "cell_type": "code",
   "execution_count": 99,
   "id": "bc668657-3769-4650-89f2-956c5e40ff59",
   "metadata": {},
   "outputs": [
    {
     "data": {
      "text/plain": [
       "0.5799999999999841"
      ]
     },
     "execution_count": 99,
     "metadata": {},
     "output_type": "execute_result"
    }
   ],
   "source": [
    "abs(df[df['Region']=='North']['Total Sale $'].median()-df['Total Sale $'].median())"
   ]
  },
  {
   "cell_type": "markdown",
   "id": "60ac6438-a992-4f8c-a556-3a0445a9240b",
   "metadata": {},
   "source": [
    "#### 7. Next, take a look at customer age. Create 3 age groups: 21-30, 31-40, 41-50. What is the average total sales for the age group with the highest average? Round to 2 decimal places."
   ]
  },
  {
   "cell_type": "code",
   "execution_count": 83,
   "id": "a0ad0300-4951-4d5c-afe0-f6ace1c791a1",
   "metadata": {},
   "outputs": [
    {
     "data": {
      "text/plain": [
       "count    3000.000000\n",
       "mean       35.416333\n",
       "std         8.675603\n",
       "min        21.000000\n",
       "25%        28.000000\n",
       "50%        35.000000\n",
       "75%        43.000000\n",
       "max        50.000000\n",
       "Name: Age, dtype: float64"
      ]
     },
     "execution_count": 83,
     "metadata": {},
     "output_type": "execute_result"
    }
   ],
   "source": [
    "df['Age'].describe()"
   ]
  },
  {
   "cell_type": "code",
   "execution_count": 87,
   "id": "cccf536a-b3ce-4a3c-a533-063e2329d602",
   "metadata": {},
   "outputs": [],
   "source": [
    "age_21_30 = df[(df['Age']>=21) & (df['Age']<=30)]\n",
    "age_31_40 = df[(df['Age']>=31) & (df['Age']<=40)]\n",
    "age_41_50 = df[(df['Age']>=41) & (df['Age']<=50)]"
   ]
  },
  {
   "cell_type": "code",
   "execution_count": 93,
   "id": "8104ee98-1557-4890-8863-d571451d308a",
   "metadata": {},
   "outputs": [
    {
     "name": "stdout",
     "output_type": "stream",
     "text": [
      "494.62254\n",
      "459.09028\n",
      "476.35894\n"
     ]
    }
   ],
   "source": [
    "print(age_21_30['Total Sale $'].mean())\n",
    "print(age_31_40['Total Sale $'].mean())\n",
    "print(age_41_50['Total Sale $'].mean())"
   ]
  },
  {
   "cell_type": "code",
   "execution_count": 107,
   "id": "9ec20cac-8780-4f56-acd0-83ca6822e573",
   "metadata": {},
   "outputs": [
    {
     "data": {
      "image/png": "[encoded data removed]",
      "text/plain": [
       "<Figure size 640x480 with 1 Axes>"
      ]
     },
     "metadata": {},
     "output_type": "display_data"
    }
   ],
   "source": [
    "sns.histplot(x = df['Age'], bins = [20, 30, 50, ]);\n"
   ]
  },
  {
   "cell_type": "code",
   "execution_count": 121,
   "id": "8b82e806-65de-4b97-8635-95ba9e57f138",
   "metadata": {},
   "outputs": [
    {
     "data": {
      "text/plain": [
       "array([20, 25, 30, 35, 40, 45, 50])"
      ]
     },
     "execution_count": 121,
     "metadata": {},
     "output_type": "execute_result"
    }
   ],
   "source": [
    "np.arange(20,51  , 5)"
   ]
  },
  {
   "cell_type": "code",
   "execution_count": 129,
   "id": "f0515c9d-a2ad-477d-aece-3b119e812960",
   "metadata": {},
   "outputs": [
    {
     "data": {
      "text/plain": [
       "1000"
      ]
     },
     "execution_count": 129,
     "metadata": {},
     "output_type": "execute_result"
    }
   ],
   "source": [
    "age_31_40.shape[0]"
   ]
  },
  {
   "cell_type": "code",
   "execution_count": 127,
   "id": "11e49972-ecf4-4dfa-840a-3238cc460f2d",
   "metadata": {},
   "outputs": [
    {
     "data": {
      "text/plain": [
       "1000"
      ]
     },
     "execution_count": 127,
     "metadata": {},
     "output_type": "execute_result"
    }
   ],
   "source": [
    "age_21_30.shape[0]"
   ]
  },
  {
   "cell_type": "code",
   "execution_count": 135,
   "id": "e581adb2-f46d-4fba-8577-a678234aefa9",
   "metadata": {},
   "outputs": [
    {
     "data": {
      "image/png": "[encoded data removed]",
      "text/plain": [
       "<Figure size 1200x400 with 1 Axes>"
      ]
     },
     "metadata": {},
     "output_type": "display_data"
    }
   ],
   "source": [
    "fig, ax = plt.subplots(figsize = (12, 4))\n",
    "sns.histplot(x = df['Age'], bins = np.arange(21,52, 10));\n",
    "ax.bar_label(ax.containers[1]);"
   ]
  },
  {
   "cell_type": "code",
   "execution_count": 141,
   "id": "f7d697c2-846a-49bb-9a70-6788243f2cda",
   "metadata": {},
   "outputs": [
    {
     "data": {
      "text/plain": [
       "0       39\n",
       "1       31\n",
       "2       35\n",
       "3       41\n",
       "4       29\n",
       "        ..\n",
       "2995    41\n",
       "2996    42\n",
       "2997    23\n",
       "2998    24\n",
       "2999    31\n",
       "Name: Age, Length: 3000, dtype: int64"
      ]
     },
     "execution_count": 141,
     "metadata": {},
     "output_type": "execute_result"
    }
   ],
   "source": [
    "df['Age']"
   ]
  },
  {
   "cell_type": "code",
   "execution_count": 159,
   "id": "e589532c-0816-4939-8b27-06d6001567ff",
   "metadata": {},
   "outputs": [],
   "source": [
    "df['age_group'] = pd.cut(df['Age'], bins = np.arange(20,52, 10),\n",
    "       labels =['21-30', '31-40', '41-50'] )"
   ]
  },
  {
   "cell_type": "code",
   "execution_count": 165,
   "id": "f7f50f0d-ef07-46f6-bf6f-65622edee5fe",
   "metadata": {},
   "outputs": [
    {
     "data": {
      "text/html": [
       "<div>\n",
       "<style scoped>\n",
       "    .dataframe tbody tr th:only-of-type {\n",
       "        vertical-align: middle;\n",
       "    }\n",
       "\n",
       "    .dataframe tbody tr th {\n",
       "        vertical-align: top;\n",
       "    }\n",
       "\n",
       "    .dataframe thead th {\n",
       "        text-align: right;\n",
       "    }\n",
       "</style>\n",
       "<table border=\"1\" class=\"dataframe\">\n",
       "  <thead>\n",
       "    <tr style=\"text-align: right;\">\n",
       "      <th></th>\n",
       "      <th>Order</th>\n",
       "      <th>Region</th>\n",
       "      <th>Age</th>\n",
       "      <th>Total Sale $</th>\n",
       "      <th>age_group</th>\n",
       "    </tr>\n",
       "  </thead>\n",
       "  <tbody>\n",
       "    <tr>\n",
       "      <th>0</th>\n",
       "      <td>1000319</td>\n",
       "      <td>South</td>\n",
       "      <td>39</td>\n",
       "      <td>543.95</td>\n",
       "      <td>31-40</td>\n",
       "    </tr>\n",
       "    <tr>\n",
       "      <th>1</th>\n",
       "      <td>1002323</td>\n",
       "      <td>South</td>\n",
       "      <td>31</td>\n",
       "      <td>253.78</td>\n",
       "      <td>31-40</td>\n",
       "    </tr>\n",
       "    <tr>\n",
       "      <th>2</th>\n",
       "      <td>1005101</td>\n",
       "      <td>West</td>\n",
       "      <td>35</td>\n",
       "      <td>556.82</td>\n",
       "      <td>31-40</td>\n",
       "    </tr>\n",
       "    <tr>\n",
       "      <th>3</th>\n",
       "      <td>1008529</td>\n",
       "      <td>East</td>\n",
       "      <td>41</td>\n",
       "      <td>430.50</td>\n",
       "      <td>41-50</td>\n",
       "    </tr>\n",
       "    <tr>\n",
       "      <th>4</th>\n",
       "      <td>1008768</td>\n",
       "      <td>East</td>\n",
       "      <td>29</td>\n",
       "      <td>552.30</td>\n",
       "      <td>21-30</td>\n",
       "    </tr>\n",
       "    <tr>\n",
       "      <th>...</th>\n",
       "      <td>...</td>\n",
       "      <td>...</td>\n",
       "      <td>...</td>\n",
       "      <td>...</td>\n",
       "      <td>...</td>\n",
       "    </tr>\n",
       "    <tr>\n",
       "      <th>2995</th>\n",
       "      <td>9986453</td>\n",
       "      <td>North</td>\n",
       "      <td>41</td>\n",
       "      <td>295.27</td>\n",
       "      <td>41-50</td>\n",
       "    </tr>\n",
       "    <tr>\n",
       "      <th>2996</th>\n",
       "      <td>9987889</td>\n",
       "      <td>West</td>\n",
       "      <td>42</td>\n",
       "      <td>671.26</td>\n",
       "      <td>41-50</td>\n",
       "    </tr>\n",
       "    <tr>\n",
       "      <th>2997</th>\n",
       "      <td>9988584</td>\n",
       "      <td>North</td>\n",
       "      <td>23</td>\n",
       "      <td>624.41</td>\n",
       "      <td>21-30</td>\n",
       "    </tr>\n",
       "    <tr>\n",
       "      <th>2998</th>\n",
       "      <td>9992389</td>\n",
       "      <td>West</td>\n",
       "      <td>24</td>\n",
       "      <td>743.35</td>\n",
       "      <td>21-30</td>\n",
       "    </tr>\n",
       "    <tr>\n",
       "      <th>2999</th>\n",
       "      <td>9998727</td>\n",
       "      <td>South</td>\n",
       "      <td>31</td>\n",
       "      <td>476.61</td>\n",
       "      <td>31-40</td>\n",
       "    </tr>\n",
       "  </tbody>\n",
       "</table>\n",
       "<p>3000 rows × 5 columns</p>\n",
       "</div>"
      ],
      "text/plain": [
       "        Order Region  Age  Total Sale $ age_group\n",
       "0     1000319  South   39        543.95     31-40\n",
       "1     1002323  South   31        253.78     31-40\n",
       "2     1005101   West   35        556.82     31-40\n",
       "3     1008529   East   41        430.50     41-50\n",
       "4     1008768   East   29        552.30     21-30\n",
       "...       ...    ...  ...           ...       ...\n",
       "2995  9986453  North   41        295.27     41-50\n",
       "2996  9987889   West   42        671.26     41-50\n",
       "2997  9988584  North   23        624.41     21-30\n",
       "2998  9992389   West   24        743.35     21-30\n",
       "2999  9998727  South   31        476.61     31-40\n",
       "\n",
       "[3000 rows x 5 columns]"
      ]
     },
     "execution_count": 165,
     "metadata": {},
     "output_type": "execute_result"
    }
   ],
   "source": [
    "df"
   ]
  },
  {
   "cell_type": "code",
   "execution_count": 163,
   "id": "cc34aa37-4374-4708-93a6-1281b0529017",
   "metadata": {},
   "outputs": [
    {
     "data": {
      "text/html": [
       "<div>\n",
       "<style scoped>\n",
       "    .dataframe tbody tr th:only-of-type {\n",
       "        vertical-align: middle;\n",
       "    }\n",
       "\n",
       "    .dataframe tbody tr th {\n",
       "        vertical-align: top;\n",
       "    }\n",
       "\n",
       "    .dataframe thead th {\n",
       "        text-align: right;\n",
       "    }\n",
       "</style>\n",
       "<table border=\"1\" class=\"dataframe\">\n",
       "  <thead>\n",
       "    <tr style=\"text-align: right;\">\n",
       "      <th></th>\n",
       "      <th>count</th>\n",
       "      <th>mean</th>\n",
       "      <th>std</th>\n",
       "      <th>min</th>\n",
       "      <th>25%</th>\n",
       "      <th>50%</th>\n",
       "      <th>75%</th>\n",
       "      <th>max</th>\n",
       "    </tr>\n",
       "    <tr>\n",
       "      <th>age_group</th>\n",
       "      <th></th>\n",
       "      <th></th>\n",
       "      <th></th>\n",
       "      <th></th>\n",
       "      <th></th>\n",
       "      <th></th>\n",
       "      <th></th>\n",
       "      <th></th>\n",
       "    </tr>\n",
       "  </thead>\n",
       "  <tbody>\n",
       "    <tr>\n",
       "      <th>21-30</th>\n",
       "      <td>1000.0</td>\n",
       "      <td>494.62254</td>\n",
       "      <td>110.598146</td>\n",
       "      <td>267.98</td>\n",
       "      <td>413.6625</td>\n",
       "      <td>479.265</td>\n",
       "      <td>561.4200</td>\n",
       "      <td>938.31</td>\n",
       "    </tr>\n",
       "    <tr>\n",
       "      <th>31-40</th>\n",
       "      <td>1000.0</td>\n",
       "      <td>459.09028</td>\n",
       "      <td>104.344349</td>\n",
       "      <td>0.22</td>\n",
       "      <td>403.1775</td>\n",
       "      <td>479.820</td>\n",
       "      <td>538.4575</td>\n",
       "      <td>675.09</td>\n",
       "    </tr>\n",
       "    <tr>\n",
       "      <th>41-50</th>\n",
       "      <td>1000.0</td>\n",
       "      <td>476.35894</td>\n",
       "      <td>140.249711</td>\n",
       "      <td>1.38</td>\n",
       "      <td>386.1750</td>\n",
       "      <td>479.065</td>\n",
       "      <td>571.3400</td>\n",
       "      <td>937.20</td>\n",
       "    </tr>\n",
       "  </tbody>\n",
       "</table>\n",
       "</div>"
      ],
      "text/plain": [
       "            count       mean         std     min       25%      50%       75%  \\\n",
       "age_group                                                                       \n",
       "21-30      1000.0  494.62254  110.598146  267.98  413.6625  479.265  561.4200   \n",
       "31-40      1000.0  459.09028  104.344349    0.22  403.1775  479.820  538.4575   \n",
       "41-50      1000.0  476.35894  140.249711    1.38  386.1750  479.065  571.3400   \n",
       "\n",
       "              max  \n",
       "age_group          \n",
       "21-30      938.31  \n",
       "31-40      675.09  \n",
       "41-50      937.20  "
      ]
     },
     "execution_count": 163,
     "metadata": {},
     "output_type": "execute_result"
    }
   ],
   "source": [
    "df.groupby(df['age_group'])['Total Sale $'].describe()"
   ]
  },
  {
   "cell_type": "code",
   "execution_count": null,
   "id": "3fcdff18-2d26-4427-a6ca-2b09c4a98c30",
   "metadata": {},
   "outputs": [],
   "source": [
    "pd.cut(df['Age'], bins = [20, 30, 40, 50 ], labels = ['21-30', '31-40', '41-50']).value_counts()"
   ]
  },
  {
   "cell_type": "code",
   "execution_count": null,
   "id": "4a8450ec-4e36-4150-991f-6da0b94e3173",
   "metadata": {},
   "outputs": [],
   "source": [
    "age_21_30 = df[(df['Age']>=21) & (df['Age']<=30)]\n",
    "age_31_40 = df[(df['Age']>=31) & (df['Age']<=40)]\n",
    "age_41_50 = df[(df['Age']>=41) & (df['Age']<=50)]"
   ]
  },
  {
   "cell_type": "code",
   "execution_count": null,
   "id": "92e3bd6c-1d15-4b2e-8c8e-84184ba2b970",
   "metadata": {},
   "outputs": [],
   "source": [
    "df_East = df[df['Region']=='East']\n",
    "df_North = df[df['Region']=='North']\n",
    "df_South = [df['Region']=='South']\n",
    "df_West = df[df['Region']=='West']"
   ]
  },
  {
   "cell_type": "code",
   "execution_count": null,
   "id": "a2e34f38-ef9f-4e6e-ba01-cd920ce283d8",
   "metadata": {},
   "outputs": [],
   "source": [
    "def categorize_age(age):\n",
    "    if 21 <= age <= 30:\n",
    "        return '21-30'\n",
    "    elif 31 <= age <= 40:\n",
    "        return '31-40'\n",
    "    elif 41 <= age <= 50:\n",
    "        return '41-50'\n",
    "    else:\n",
    "        return np.nan\n",
    "\n",
    "# Create the 'age_group' column using apply\n",
    "df['age_group1'] = df['Age'].apply(categorize_age)"
   ]
  },
  {
   "cell_type": "code",
   "execution_count": null,
   "id": "aff8496b-1a59-45a4-ad6a-6f7219085535",
   "metadata": {},
   "outputs": [],
   "source": [
    "df"
   ]
  },
  {
   "cell_type": "code",
   "execution_count": null,
   "id": "c56ed58e-6154-486f-9319-5f896e659d32",
   "metadata": {},
   "outputs": [],
   "source": [
    "df.groupby(df['age_group1'])['Total Sale $'].describe()"
   ]
  },
  {
   "cell_type": "code",
   "execution_count": null,
   "id": "b9931b66-770e-44cf-90c6-25f1c49023c4",
   "metadata": {},
   "outputs": [],
   "source": [
    "fig, ax = plt.subplots(figsize = (12, 6))\n",
    "sns.histplot(x = df['Total Sale $'], hue = df['age_group1'],\n",
    "             palette = [\"#FF6347\", \"#4682B4\", \"#32CD32\", \"#FFD700\"], \n",
    "             bins = np.arange(0, 901, 25),)\n",
    "ax.set_xticks(np.arange(0, 901, 50))\n",
    "ax.set_xlim(0, 901)\n",
    "for i in ax.containers:\n",
    "    ax.bar_label(i)\n",
    "# ax.bar_label(ax.containers[1])\n",
    "sns.despine()"
   ]
  },
  {
   "cell_type": "code",
   "execution_count": null,
   "id": "91343d82-1559-4f1b-a868-1a16520f9027",
   "metadata": {},
   "outputs": [],
   "source": []
  }
 ],
 "metadata": {
  "kernelspec": {
   "display_name": "Python 3 (ipykernel)",
   "language": "python",
   "name": "python3"
  },
  "language_info": {
   "codemirror_mode": {
    "name": "ipython",
    "version": 3
   },
   "file_extension": ".py",
   "mimetype": "text/x-python",
   "name": "python",
   "nbconvert_exporter": "python",
   "pygments_lexer": "ipython3",
   "version": "3.11.5"
  }
 },
 "nbformat": 4,
 "nbformat_minor": 5
}
