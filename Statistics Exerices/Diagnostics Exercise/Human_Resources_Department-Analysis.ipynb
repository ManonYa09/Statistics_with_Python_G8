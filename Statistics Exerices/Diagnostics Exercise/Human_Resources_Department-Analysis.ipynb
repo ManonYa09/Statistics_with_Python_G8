{
 "cells": [
  {
   "cell_type": "markdown",
   "metadata": {},
   "source": [
    "<div style=\"padding:20px;\n",
    "            color:white;\n",
    "            margin:10;\n",
    "            font-size:170%;\n",
    "            text-align:left;\n",
    "            display:fill;\n",
    "            border-radius:5px;\n",
    "            background-color:#CA6F1E;\n",
    "            overflow:hidden;\n",
    "            font-weight:700\"><span style='color:#283747'></span>\"UNDERSTAND THE PROBLEM STATEMENT AND BUSINESS CASE\" </div>"
   ]
  },
  {
   "cell_type": "markdown",
   "metadata": {
    "id": "M27qF7CTrBqc"
   },
   "source": [
    "### Problem Statement:\n",
    "\n",
    "1. Hiring and retaining top talent within a company is a complex and time-consuming task.\n",
    "2. The cost of recruiting new candidates is high, with companies spending a significant portion of an employee's salary on recruitment.\n",
    "3. The time it takes to bring a new hire up to speed can result in a loss of revenue for the company.\n",
    "4. Hiring a new employee costs approximately $7,600 on average, and it takes around 52 days to fill a position."
   ]
  },
  {
   "cell_type": "markdown",
   "metadata": {},
   "source": [
    "- [1. Import librarie and Datasets](#1)\n",
    "\n",
    "- [2.Exploratory Data Anlysis(EDA)](#2)\n",
    "    - [2.1 Exploring the dataset](#1.1)\n",
    "    - [2.2 Data Cleaning](#1.3)\n",
    "        - [2.3 Missing Value](#1.3.1)\n",
    "        - [2.3.2 Duplicated](#1.3.2)\n",
    "        - [2.3.3 Outliter](#1.3.3)\n",
    "     \n",
    "    - [2.3 Diagnostics Analytics](#2.3)"
   ]
  },
  {
   "cell_type": "markdown",
   "metadata": {
    "id": "Z2ZMlH-gtOxf"
   },
   "source": [
    "<!-- \n",
    "<table>\n",
    "  <tr><td>\n",
    "    <img src=\"https://drive.google.com/uc?id=1yJKgmHrRFnBk987HJfeDrMcTEXtk0z7W\"\n",
    "         alt=\"Fashion MNIST sprite\"  width=\"1000\">\n",
    "  </td></tr>\n",
    "  <tr><td align=\"center\">\n",
    "    <b>Figure 1. Employee Retention Prediction\n",
    "  </td></tr>\n",
    "</table>\n",
    " -->"
   ]
  },
  {
   "cell_type": "markdown",
   "metadata": {
    "id": "uAE6Icc0uylP"
   },
   "source": [
    "## 1. IMPORT LIBRARIES AND DATASETS"
   ]
  },
  {
   "cell_type": "code",
   "execution_count": 1,
   "metadata": {
    "id": "YBp2qDPb8pDo"
   },
   "outputs": [],
   "source": [
    "import pandas as pd\n",
    "import numpy as np\n",
    "import seaborn as sns\n",
    "import matplotlib.pyplot as plt\n",
    "import warnings\n",
    "warnings.filterwarnings('ignore')\n",
    "pd.set_option('display.max_columns', None)"
   ]
  },
  {
   "cell_type": "code",
   "execution_count": 3,
   "metadata": {
    "id": "q4_wPDKCu5Uc"
   },
   "outputs": [],
   "source": [
    "df = pd.read_csv('Human_Resources.csv')"
   ]
  },
  {
   "cell_type": "code",
   "execution_count": null,
   "metadata": {},
   "outputs": [],
   "source": []
  }
 ],
 "metadata": {
  "colab": {
   "provenance": []
  },
  "kernelspec": {
   "display_name": "Python 3 (ipykernel)",
   "language": "python",
   "name": "python3"
  },
  "language_info": {
   "codemirror_mode": {
    "name": "ipython",
    "version": 3
   },
   "file_extension": ".py",
   "mimetype": "text/x-python",
   "name": "python",
   "nbconvert_exporter": "python",
   "pygments_lexer": "ipython3",
   "version": "3.11.5"
  }
 },
 "nbformat": 4,
 "nbformat_minor": 4
}
