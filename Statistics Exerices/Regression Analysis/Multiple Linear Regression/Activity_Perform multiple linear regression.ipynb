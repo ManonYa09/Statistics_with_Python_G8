{
 "cells": [
  {
   "cell_type": "markdown",
   "id": "d7b92cb8",
   "metadata": {
    "id": "3efad4c7-d34f-44b0-a48d-94651f931bae"
   },
   "source": [
    "\n",
    "\n",
    "<div style=\"padding:20px;\n",
    "            color:white;\n",
    "            margin:10;\n",
    "            font-size:170%;\n",
    "            text-align:left;\n",
    "            display:fill;\n",
    "            border-radius:5px;\n",
    "            background-color:#CA6F1E;\n",
    "            overflow:hidden;\n",
    "            font-weight:700\"><span style='color:#283747'></span>\"Activity: Perform multiple linear regression\" </div>"
   ]
  },
  {
   "cell_type": "markdown",
   "id": "d70c83ea-ee72-4d23-8d02-7c2340abd148",
   "metadata": {},
   "source": [
    "- [0. Import Library]()\n",
    "- [1. Load the dataset](#1)\n",
    "\n",
    "- [2.Exploratory Data Anlysis(EDA)](#2)\n",
    "    - [2.1 Quick Exploring the dataset](#1.1)\n",
    "    - [2.2 Data Cleaning](#1.3)\n",
    "        - [2.3 Missing Value](#1.3.1)\n",
    "        - [2.3.2 Duplicated](#1.3.2)\n",
    "        - [2.3.3 Outliter](#1.3.3)\n",
    "     \n",
    "    - [2.3 Diagnostics Analytics](#2.3)\n",
    "- [3. Data preprocessing](#4)\n",
    "  \n",
    "    <!-- - [3.1 Min-Max Scaling or Standardization?](#4.1) -->\n",
    "    - [3.2 Encoding Categorical Variables](#4.2)\n",
    "        - [3.2.1 Label Encoding](#4.2.1)\n",
    "        - [3.2.2 One hot Encoding](#4.2.2)\n",
    "        - [3.2.3 Multicolinearity](#4.2.3)\n",
    "- [4. Data Splitting and Model Building](#5)\n",
    "   - [4.1 Model Buiding with sklearn](#5.2)\n",
    "   - [4.2 Model Building with Statsmodel](#4.2)\n",
    "       - [4.1.1 Feature selection](#5.2.1)\n",
    "- [5. Model Evaluation](#6) \n"
   ]
  },
  {
   "cell_type": "markdown",
   "id": "dba35f35",
   "metadata": {
    "id": "2ca9aca5-33e0-4aa7-acdb-05832b05e5a9"
   },
   "source": [
    "**Multiple linear regression** helps estimate the relationship between one continuous dependent variable and multiple independent variables. This is a valuable skill for data science professionals, enabling them to analyze several factors simultaneously for more comprehensive insights.\n",
    "\n",
    "In this **activity**, you’ll analyze a small business’s historical marketing data, where each row represents a different promotion involving **TV**, **social media**, **radio**, and **influencers**. Previously, you identified a single predictor for **sales** (**target variable**); now, the business wants to expand the analysis to include multiple variables to better target their marketing efforts.\n",
    "\n",
    "To address the business' request, you will conduct a multiple linear regression analysis to estimate sales from a combination of independent variables. This will include:\n",
    "\n",
    "* Exploring and cleaning data\n",
    "* Using plots and descriptive statistics to select the independent variables\n",
    "* Creating a fitting multiple linear regression model\n",
    "* Checking model assumptions\n",
    "* Interpreting model outputs and communicating the results to non-technical stakeholders"
   ]
  },
  {
   "cell_type": "markdown",
   "id": "7c297230",
   "metadata": {
    "id": "bfcf5ec2-e48b-4443-9bf6-72670bd60041"
   },
   "source": [
    "#### 0. Imports"
   ]
  },
  {
   "cell_type": "markdown",
   "id": "967f4198",
   "metadata": {
    "id": "7dcaa8a0-4fe8-4816-9ef5-5fc665a4638f"
   },
   "source": [
    "Import relevant Python libraries and modules."
   ]
  },
  {
   "cell_type": "code",
   "execution_count": null,
   "id": "490a9af8",
   "metadata": {
    "id": "b2f4b9fa-b7bd-4b88-8c71-d3af5ddcb906"
   },
   "outputs": [],
   "source": []
  },
  {
   "cell_type": "markdown",
   "id": "6f48eedf",
   "metadata": {
    "id": "84d9d20a-4ea9-4f2d-a633-b21420f47eeb"
   },
   "source": [
    "#### 1. Load dataset"
   ]
  },
  {
   "cell_type": "markdown",
   "id": "6a70f781-d0d0-4e1f-bad7-357c60e1ff50",
   "metadata": {},
   "source": [
    "You can get the data from this [link](https://raw.githubusercontent.com/ManonYa09/Statistics_with_Python_G8/main/Dataset/eD_9bdg7RlSR5iJ-kDuc0g_c91ef0ef2c5241f582c8e81efc9b72f1_marketing_sales_data.csv)"
   ]
  },
  {
   "cell_type": "code",
   "execution_count": null,
   "id": "7683954d",
   "metadata": {
    "id": "32d46d82-2bd6-4433-b56e-cfa5542949ca"
   },
   "outputs": [],
   "source": [
    "data = pd.read_csv('')"
   ]
  },
  {
   "cell_type": "markdown",
   "id": "83f07e39",
   "metadata": {
    "id": "fd47ede7-63ff-4fe5-aeb0-b8f909e9ecbe"
   },
   "source": [
    "#### 2. Exploratory Data Analysis"
   ]
  },
  {
   "cell_type": "markdown",
   "id": "50c4fd43-ea76-4dc5-9652-94a109091de4",
   "metadata": {},
   "source": [
    "##### 2.1 Quick Data Exploration"
   ]
  },
  {
   "cell_type": "markdown",
   "id": "69837ce2",
   "metadata": {},
   "source": [
    "**Familiarize yourself with the data's features**\n",
    "\n",
    "Start with an exploratory data analysis to familiarize yourself with the data and prepare it for modeling.\n",
    "\n",
    "The features in the data are:\n",
    "\n",
    "* TV promotional budget (in \"Low,\" \"Medium,\" and \"High\" categories)\n",
    "* Social media promotional budget (in millions of dollars)\n",
    "* Radio promotional budget (in millions of dollars)\n",
    "* Sales (in millions of dollars)\n",
    "* Influencer size (in \"Mega,\" \"Macro,\" \"Micro,\" and \"Nano\" categories)\n"
   ]
  },
  {
   "cell_type": "markdown",
   "id": "6e3f533f",
   "metadata": {},
   "source": [
    "**Question:** What are some purposes of EDA before constructing a multiple linear regression model?"
   ]
  },
  {
   "cell_type": "markdown",
   "id": "4f8f1269",
   "metadata": {
    "id": "0f4adbee-9d13-400a-99e6-6d4c482b8e17"
   },
   "source": [
    "**Remove missing data**\n",
    "\n",
    "This dataset contains rows with missing values. To correct this, drop all rows that contain missing data."
   ]
  },
  {
   "cell_type": "markdown",
   "id": "eafd02a3-ad43-4d43-b636-efdc3804622b",
   "metadata": {},
   "source": [
    "#### 3.2 Diagnostics Analysis"
   ]
  },
  {
   "cell_type": "markdown",
   "id": "093a94e8",
   "metadata": {
    "id": "3f63f855-1dac-415b-a303-4f66fc39322c"
   },
   "source": [
    "**Create a pairplot of the data**\n",
    "\n",
    "Create a pairplot to visualize the relationship between the continous variables in `data`."
   ]
  },
  {
   "cell_type": "code",
   "execution_count": null,
   "id": "a7b2ac92",
   "metadata": {
    "id": "518254a6-44d5-45bf-9b57-13ce3a4deab3"
   },
   "outputs": [],
   "source": [
    "# Create a pairplot of the data."
   ]
  },
  {
   "cell_type": "markdown",
   "id": "1058d579",
   "metadata": {
    "id": "043e38a8-35fe-4c4e-b278-f3dab9b897da"
   },
   "source": [
    "**Question:** Which variables have a linear relationship with `Sales`? Why are some variables in the data excluded from the preceding plot?\n",
    "\n"
   ]
  },
  {
   "cell_type": "markdown",
   "id": "8c1a2913",
   "metadata": {
    "id": "af82ed3e-be07-47a2-8531-ac759b607dd7"
   },
   "source": [
    "Calculate the describe (mean, min, ...) sales for each categorical variable"
   ]
  },
  {
   "cell_type": "markdown",
   "id": "6be7c05f",
   "metadata": {
    "id": "63116e2d-3453-478e-a98e-8564ff72829c"
   },
   "source": [
    "There are two categorical variables: `TV` and `Influencer`. To characterize the relationship between the categorical variables and `Sales`, find the mean `Sales` for each category in `TV` and the mean `Sales` for each category in `Influencer`. "
   ]
  },
  {
   "cell_type": "markdown",
   "id": "10b27a8c",
   "metadata": {
    "id": "e415aa95-0650-47e0-9efd-2770b8dfcb3d"
   },
   "source": [
    "**Question:** What do you notice about the categorical variables? Could they be useful predictors of `Sales`?\n",
    "\n"
   ]
  },
  {
   "cell_type": "markdown",
   "id": "ec1d4cd8-77e5-4331-8a78-37bfacf32ddf",
   "metadata": {},
   "source": [
    "#### 3. Data Preprocessing"
   ]
  },
  {
   "cell_type": "markdown",
   "id": "09831685",
   "metadata": {
    "id": "6c77f884-a459-4083-ac2f-abfd2d476f28"
   },
   "source": [
    "**Clean column names**"
   ]
  },
  {
   "cell_type": "markdown",
   "id": "4ca22d46",
   "metadata": {
    "id": "f1235ced-59ff-46e0-9120-c52517ec89d1"
   },
   "source": [
    "The `ols()` function doesn't run when variable names contain a space. Check that the column names in `data` do not contain spaces and fix them, if needed."
   ]
  },
  {
   "cell_type": "markdown",
   "id": "5af17a36",
   "metadata": {
    "id": "888c90fa-d800-43e4-a692-9fdd576c9b9c"
   },
   "source": [
    "#### 4. Model building"
   ]
  },
  {
   "cell_type": "markdown",
   "id": "fc776a2b-3972-4823-b178-4b2a147c36e2",
   "metadata": {},
   "source": [
    "##### 4.1 Building with Sklearn"
   ]
  },
  {
   "cell_type": "markdown",
   "id": "74451d78-918a-4587-9b9d-5bb1e5f70dd2",
   "metadata": {},
   "source": [
    "##### 4.2 Building with Statsmodel"
   ]
  },
  {
   "cell_type": "markdown",
   "id": "3700b1c0",
   "metadata": {
    "id": "9c906193-db62-4af0-83fa-dffafc347554"
   },
   "source": [
    "**Fit a multiple linear regression model that predicts sales**\n",
    "\n",
    "Using the independent variables of your choice, fit a multiple linear regression model that predicts `Sales` using two or more independent variables from `data`."
   ]
  },
  {
   "cell_type": "code",
   "execution_count": null,
   "id": "021eb631",
   "metadata": {
    "id": "76f99341-1ea0-4f1d-a2c7-54e56bd57e38"
   },
   "outputs": [],
   "source": [
    "# Define the OLS formula.\n",
    "# Create an OLS model.\n",
    "# Fit the model.\n",
    "# Save the results summary.\n",
    "# Display the model results."
   ]
  },
  {
   "cell_type": "markdown",
   "id": "8dc54c43",
   "metadata": {
    "id": "1d889a8b-76f5-4f27-833f-a19af27ed8ca",
    "tags": []
   },
   "source": [
    "**Question:** Which independent variables did you choose for the model, and why?\n",
    "\n"
   ]
  },
  {
   "cell_type": "markdown",
   "id": "a2dc5f73",
   "metadata": {
    "id": "b4987bee-40ae-4513-95c3-1bec1acdbba9",
    "tags": []
   },
   "source": [
    "#### 5. Check model assumptions"
   ]
  },
  {
   "cell_type": "markdown",
   "id": "7bbce065",
   "metadata": {
    "id": "72eeb1c7-2f17-44fe-ac3f-71d555c2d81e"
   },
   "source": [
    "##### 5.1 Model assumption: Linearity"
   ]
  },
  {
   "cell_type": "markdown",
   "id": "d99c7f69",
   "metadata": {
    "id": "6f042e3e-ba44-4f93-b37d-421cf93d560f"
   },
   "source": [
    "Create scatterplots comparing the continuous independent variable(s) you selected previously with `Sales` to check the linearity assumption. Use the pairplot you created earlier to verify the linearity assumption or create new scatterplots comparing the variables of interest."
   ]
  },
  {
   "cell_type": "code",
   "execution_count": null,
   "id": "4555b58d",
   "metadata": {
    "id": "52036579-1a91-4250-966e-035fc0371f8f"
   },
   "outputs": [],
   "source": [
    "# Create a scatterplot for each independent variable and the dependent variable.\n",
    "\n",
    "### YOUR CODE HERE ### \n",
    "\n"
   ]
  },
  {
   "cell_type": "markdown",
   "id": "97711222",
   "metadata": {
    "id": "66de8f0b-fd6b-456f-add6-f893dc33d911"
   },
   "source": [
    "**Question:** Is the linearity assumption met?\n"
   ]
  },
  {
   "cell_type": "markdown",
   "id": "86d04752",
   "metadata": {
    "id": "892bb8a6-c4e1-4439-96bb-53125d509492"
   },
   "source": [
    "###### 5.2 Model assumption: Independence"
   ]
  },
  {
   "cell_type": "markdown",
   "id": "9c32ff14",
   "metadata": {
    "id": "feeb314a-bbbe-4e9a-8561-2f8af0cd172e"
   },
   "source": [
    "The **independent observation assumption** states that each observation in the dataset is independent. As each marketing promotion (i.e., row) is independent from one another, the independence assumption is not violated."
   ]
  },
  {
   "cell_type": "markdown",
   "id": "a65b080c",
   "metadata": {
    "id": "59e4bb03-4ea6-4954-9ebc-3cc0d98eb0b0"
   },
   "source": [
    "##### 5.3 Model assumption: Normality"
   ]
  },
  {
   "cell_type": "markdown",
   "id": "39125072",
   "metadata": {
    "id": "bcccf5c8-3325-4b1e-b491-f151bea5ab1c"
   },
   "source": [
    "Create the following plots to check the **normality assumption**:\n",
    "\n",
    "* **Plot 1**: Histogram of the residuals"
   ]
  },
  {
   "cell_type": "code",
   "execution_count": 65,
   "id": "3786f9a7",
   "metadata": {
    "id": "cce8f99b-33e2-4723-9266-4f009e7a15dd"
   },
   "outputs": [],
   "source": [
    "# Calculate the residuals.\n",
    "\n",
    "# Create a histogram with the residuals. \n"
   ]
  },
  {
   "cell_type": "markdown",
   "id": "721c5df9",
   "metadata": {
    "id": "e41f4dd7-5501-43b7-b684-58bad8ff61fb"
   },
   "source": [
    "**Question:** Is the normality assumption met?\n",
    "\n"
   ]
  },
  {
   "cell_type": "markdown",
   "id": "220312e4",
   "metadata": {
    "id": "aee36b49-b0e4-4d86-9ca0-c12ec6ffe74d"
   },
   "source": [
    "##### 5.4 Model assumption: Constant variance"
   ]
  },
  {
   "cell_type": "markdown",
   "id": "661ebc16",
   "metadata": {
    "id": "be83ac10-d1d0-4b94-88de-5de424528547"
   },
   "source": [
    "Check that the **constant variance assumption** is not violated by creating a scatterplot with the fitted values and residuals. Add a line at $y = 0$ to visualize the variance of residuals above and below $y = 0$."
   ]
  },
  {
   "cell_type": "code",
   "execution_count": null,
   "id": "d46f34b5",
   "metadata": {
    "id": "efcd0325-b3a0-42d1-ad57-38f10800c35e"
   },
   "outputs": [],
   "source": [
    "# Create a scatterplot with the fitted values from the model and the residuals.\n",
    "\n",
    "# Add a line at y = 0 to visualize the variance of residuals above and below 0.\n"
   ]
  },
  {
   "cell_type": "markdown",
   "id": "0df023c6",
   "metadata": {
    "id": "8318f726-369c-446a-acad-85117e43459b"
   },
   "source": [
    "**Question:** Is the constant variance assumption met?\n",
    "\n",
    "\n"
   ]
  },
  {
   "cell_type": "markdown",
   "id": "be8f580a",
   "metadata": {
    "id": "1689e730-9973-4574-bf9f-6fba303c4cc4"
   },
   "source": [
    "### Model assumption: No multicollinearity"
   ]
  },
  {
   "cell_type": "markdown",
   "id": "2d0d8adb",
   "metadata": {
    "id": "f53a057f-7f7a-446e-826f-4f3383145453"
   },
   "source": [
    "The **no multicollinearity assumption** states that no two independent variables ($X_i$ and $X_j$) can be highly correlated with each other. \n",
    "\n",
    "Two common ways to check for multicollinearity are to:\n",
    "\n",
    "* Create scatterplots to show the relationship between pairs of independent variables\n",
    "* Use the variance inflation factor to detect multicollinearity\n",
    "\n",
    "Use one of these two methods to check your model's no multicollinearity assumption."
   ]
  },
  {
   "cell_type": "code",
   "execution_count": null,
   "id": "1f642b5a",
   "metadata": {
    "id": "0609c527-fb44-4b79-927d-6e75c4510e8d"
   },
   "outputs": [],
   "source": [
    "# Create a pairplot of the data.\n"
   ]
  },
  {
   "cell_type": "markdown",
   "id": "c500b03d-e97a-452b-9d26-7aa98e300725",
   "metadata": {},
   "source": [
    "##### Detecting Multicollinearity\n",
    "A statistical technique called the **variance inflation factor (VIF)** can detect and measure the amount of collinearity in a multiple regression model.\n",
    "- A VIF of 1 will mean that the variables are not correlated.\n",
    "- A VIF between 1 and 5 shows that variables are moderately correlated.\n",
    "- A VIF between 5 and 10 will mean that variables are highly correlated.\n",
    "  \n",
    "In practice, a VIF greater than 10 is often used as a rule of thumb to identify variables that may need to be removed or transformed to reduce multicollinearity."
   ]
  },
  {
   "cell_type": "code",
   "execution_count": null,
   "id": "6859004d",
   "metadata": {
    "id": "607a7bd6-4480-48f2-ba71-81a412b336ce"
   },
   "outputs": [],
   "source": [
    "# Calculate the variance inflation factor (optional).\n"
   ]
  },
  {
   "cell_type": "markdown",
   "id": "8e948c5e",
   "metadata": {
    "id": "742acde3-9164-4b55-b711-6339e874a37c"
   },
   "source": [
    "**Question 8:** Is the no multicollinearity assumption met?\n",
    "\n"
   ]
  },
  {
   "cell_type": "markdown",
   "id": "9999eb51",
   "metadata": {
    "id": "84373d80-2129-4124-85fa-85871671004b"
   },
   "source": [
    "#### Results and evaluation"
   ]
  },
  {
   "cell_type": "markdown",
   "id": "29a485c5",
   "metadata": {
    "id": "30f5a3e8-a446-4a64-a0cb-4a512a367111"
   },
   "source": [
    "###### Display the OLS regression results\n",
    "\n",
    "If the model assumptions are met, you can interpret the model results accurately.\n",
    "\n",
    "First, display the OLS regression results."
   ]
  },
  {
   "cell_type": "code",
   "execution_count": null,
   "id": "ea1aadce",
   "metadata": {
    "id": "7d0bfc27-05f7-4cfa-9aa1-8e2110eabd69"
   },
   "outputs": [],
   "source": [
    "# Display the model results summary."
   ]
  },
  {
   "cell_type": "markdown",
   "id": "ad4490c6",
   "metadata": {
    "id": "b29062e1-5c7f-4a78-b782-a07236bbcc28"
   },
   "source": [
    "**Question:** What is your interpretation of the model's R-squared?\n"
   ]
  },
  {
   "cell_type": "markdown",
   "id": "891f3a35",
   "metadata": {
    "id": "39504539-44c5-4d88-bfb1-7fd9a8c0c8d9"
   },
   "source": [
    "###### Interpret model coefficients"
   ]
  },
  {
   "cell_type": "markdown",
   "id": "4abff894",
   "metadata": {
    "id": "d1bcd73c-449d-4bd8-8f70-91e27e577c2f"
   },
   "source": [
    "With the model fit evaluated, you can look at the coefficient estimates and the uncertainty of these estimates.\n",
    "\n",
    "Again, display the OLS regression results."
   ]
  },
  {
   "cell_type": "code",
   "execution_count": null,
   "id": "e97e1d20",
   "metadata": {
    "id": "083b952e-deca-4532-acdb-e2113880751e"
   },
   "outputs": [],
   "source": [
    "# Display the model results summary.\n"
   ]
  },
  {
   "cell_type": "markdown",
   "id": "461dd663",
   "metadata": {
    "id": "bc293d6c-0e33-4613-8b4c-c6d27b48d903"
   },
   "source": [
    "**Question:** What are the model coefficients?\n",
    "\n"
   ]
  },
  {
   "cell_type": "markdown",
   "id": "f25babdc",
   "metadata": {
    "id": "9826fb29-2740-4f19-b4dc-326cf3de2ca8"
   },
   "source": [
    "**Question:** How would you write the relationship between `Sales` and the independent variables as a linear equation?\n",
    "\n"
   ]
  },
  {
   "cell_type": "markdown",
   "id": "8e3958eb",
   "metadata": {
    "id": "8ca575f3-cbba-4a0a-99d0-b8bf82ea49e4",
    "jp-MarkdownHeadingCollapsed": true,
    "tags": []
   },
   "source": [
    "**Question:** What is your intepretation of the coefficient estimates? Are the coefficients statistically significant?\n",
    "\n"
   ]
  },
  {
   "cell_type": "markdown",
   "id": "24e064d9",
   "metadata": {
    "id": "4affd7d9-656b-4c8a-adaa-69e4e26d13bd"
   },
   "source": [
    "**Question:** Why is it important to interpret the beta coefficients?\n",
    "\n"
   ]
  },
  {
   "cell_type": "markdown",
   "id": "37257c77",
   "metadata": {
    "id": "9aa744ec-f277-4110-b237-6d278f773e15",
    "tags": []
   },
   "source": [
    "**Question:** What are you interested in exploring based on your model?\n",
    "\n"
   ]
  },
  {
   "cell_type": "markdown",
   "id": "a3220ef7",
   "metadata": {
    "id": "e6066524-9394-44d0-8da1-6b72f0dc5f10",
    "tags": []
   },
   "source": [
    "**Question:** Do you think your model could be improved? Why or why not? How?"
   ]
  },
  {
   "cell_type": "markdown",
   "id": "051d9ac2",
   "metadata": {
    "id": "c626bd63-c4d3-4925-86e3-f03113021740"
   },
   "source": [
    "## Conclusion"
   ]
  },
  {
   "cell_type": "markdown",
   "id": "7c63aa67",
   "metadata": {
    "id": "f3d533b2-4491-449d-be3d-7dd5144fa710"
   },
   "source": [
    "**What results can be presented from this lab?**\n",
    "\n",
    "**How would you frame your findings to external stakeholders?**"
   ]
  },
  {
   "cell_type": "markdown",
   "id": "caa2d261",
   "metadata": {
    "id": "88b01fcc-e016-4cd5-aedc-a71e51276fe2"
   },
   "source": [
    "#### **References**\n",
    "\n",
    "Saragih, H.S. (2020). [*Dummy Marketing and Sales Data*](https://www.kaggle.com/datasets/harrimansaragih/dummy-advertising-and-sales-data)."
   ]
  }
 ],
 "metadata": {
  "colab": {
   "collapsed_sections": [],
   "provenance": []
  },
  "kernelspec": {
   "display_name": "Python 3 (ipykernel)",
   "language": "python",
   "name": "python3"
  },
  "language_info": {
   "codemirror_mode": {
    "name": "ipython",
    "version": 3
   },
   "file_extension": ".py",
   "mimetype": "text/x-python",
   "name": "python",
   "nbconvert_exporter": "python",
   "pygments_lexer": "ipython3",
   "version": "3.11.5"
  }
 },
 "nbformat": 4,
 "nbformat_minor": 5
}
