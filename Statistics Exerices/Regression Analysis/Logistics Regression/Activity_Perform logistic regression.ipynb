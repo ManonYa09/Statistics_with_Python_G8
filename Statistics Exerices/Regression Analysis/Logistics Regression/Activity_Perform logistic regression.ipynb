{
 "cells": [
  {
   "cell_type": "markdown",
   "id": "25bd30bd-d1b1-45bd-b91f-b8985774dcb8",
   "metadata": {},
   "source": [
    "<div style=\"padding:20px;\n",
    "            color:white;\n",
    "            margin:10;\n",
    "            font-size:170%;\n",
    "            text-align:left;\n",
    "            display:fill;\n",
    "            border-radius:5px;\n",
    "            background-color:#CA6F1E;\n",
    "            overflow:hidden;\n",
    "            font-weight:700\"><span style='color:#283747'></span>\" Activity: Perform logistic regression \" </div>"
   ]
  },
  {
   "cell_type": "markdown",
   "id": "1ce2553d-cd0d-4395-a81e-b673f664a6eb",
   "metadata": {},
   "source": [
    "- [0. Import Library]()\n",
    "- [1. Load the dataset](#1)\n",
    "\n",
    "- [2.Exploratory Data Anlysis(EDA)](#2)\n",
    "    - [2.1 Quick Exploring the dataset](#1.1)\n",
    "    - [2.2 Data Cleaning](#1.3)\n",
    "        - [2.3 Missing Value](#1.3.1)\n",
    "        - [2.3.2 Duplicated](#1.3.2)\n",
    "        - [2.3.3 Outliter](#1.3.3)\n",
    "     \n",
    "    - [2.3 Diagnostics Analytics](#2.3)\n",
    "- [3. Data preprocessing](#4)\n",
    "  \n",
    "    <!-- - [3.1 Min-Max Scaling or Standardization?](#4.1) -->\n",
    "    - [3.2 Encoding Categorical Variables](#4.2)\n",
    "        - [3.2.1 Label Encoding](#4.2.1)\n",
    "        - [3.2.2 One hot Encoding](#4.2.2)\n",
    "        - [3.2.3 Multicolinearity](#4.2.3)\n",
    "- [4. Data Splitting and Model Building](#5)\n",
    "   - [4.1 Model Buiding with sklearn](#5.2)\n",
    "   - [4.2 Model Building with Statsmodel](#4.2)\n",
    "       - [4.2.1 Feature selection](#5.2.1)\n",
    "- [5. Model Evaluation](#6) \n"
   ]
  },
  {
   "cell_type": "markdown",
   "id": "ee7f0b7d",
   "metadata": {
    "id": "700acefd-8120-42a9-a650-c610467e2a4c",
    "jp-MarkdownHeadingCollapsed": true
   },
   "source": [
    "For this activity, you work as a consultant for an airline. The airline is interested in knowing if a better in-flight entertainment experience leads to higher customer satisfaction. They would like you to construct and evaluate a model that predicts whether a future customer would be satisfied with their services given previous customer feedback about their flight experience.\n",
    "\n",
    "Because this activity uses a dataset from the industry, you will need to conduct basic EDA, data cleaning, and other manipulations to prepare the data for modeling.\n",
    "\n",
    "In this activity, you will practice the following skills:\n",
    "\n",
    "* Importing packages and loading data\n",
    "* Exploring the data and completing the cleaning process\n",
    "* Building a binomial logistic regression model \n",
    "* Evaluating a binomial logistic regression model using a confusion matrix"
   ]
  },
  {
   "cell_type": "markdown",
   "id": "bd8b690b-bf5a-47f3-aa65-c49b552c7ad7",
   "metadata": {},
   "source": [
    "### **Feature Descriptions**\n",
    "\n",
    "| **Column Name**                        | **Type** | **Description**                                                                                       |\n",
    "|----------------------------------------|----------|-------------------------------------------------------------------------------------------------------|\n",
    "| **Satisfaction**                       | `str`    | Customer’s overall assessment of the airline, either “satisfied” or “dissatisfied”                    |\n",
    "| **Gender\\***                           | `str`    | For purposes of this dataset, “Male” or “Female” were the only two responses                          |\n",
    "| **Customer Type**                      | `str`    | Customer’s loyalty status, either “Loyal Customer” or “Disloyal Customer”                             |\n",
    "| **Age**                                | `int`    | Customer’s age                                                                                        |\n",
    "| **Type of Travel**                     | `str`    | Customer’s reason for travel, either “business” or “personal”                                         |\n",
    "| **Class**                              | `str`    | Customer’s purchased seat class, either “Business,” “Eco,” or “Eco Plus”                              |\n",
    "| **Flight Distance**                    | `int`    | How far the flight traveled (in miles/kilometers)                                                     |\n",
    "| **Seat comfort**                       | `int`    | Customer’s rating of seat comfort (1 to 5 scale)                                                      |\n",
    "| **Departure/Arrival time convenient**  | `int`    | Customer’s rating of convenience for departure and arrival time (1 to 5 scale)                        |\n",
    "| **Food and drink**                     | `int`    | Customer’s rating of food and drink (1 to 5 scale)                                                    |\n",
    "| **Gate location**                      | `int`    | Customer’s rating of the convenience of the gate location (1 to 5 scale)                              |\n",
    "| **Inflight wifi service**              | `int`    | Customer’s rating of the inflight wifi/Internet service (1 to 5 scale)                                |\n",
    "| **Inflight entertainment**             | `int`    | Customer’s rating of inflight entertainment (1 to 5 scale)                                            |\n",
    "| **Online support**                     | `int`    | Customer’s rating of online support services of the airline (1 to 5 scale)                            |\n",
    "| **Ease of online booking**             | `int`    | Customer’s rating of the ease of booking tickets online (1 to 5 scale)                                |\n",
    "| **On-board service**                   | `int`    | Customer’s rating of service by airline personnel (1 to 5 scale)                                      |\n",
    "| **Leg room service**                   | `int`    | Customer’s rating of amount of legroom (1 to 5 scale)                                                 |\n",
    "| **Baggage handling**                   | `int`    | Customer’s rating of convenience or ease of baggage handling (1 to 5 scale)                           |\n",
    "| **Checkin service**                    | `int`    | Customer’s rating of checkin service by airline personnel (1 to 5 scale)                              |\n",
    "| **Cleanliness**                        | `int`    | Customer’s rating of cleanliness of the airplane (1 to 5 scale)                                       |\n",
    "| **Online boarding**                    | `int`    | Customer’s rating of the online boarding process (1 to 5 scale)                                       |\n",
    "| **Departure Delay in Minutes**         | `int`    | Length of the departure delay for the flight measured in minutes                                      |\n",
    "| **Arrival Delay in Minutes**           | `int`    | Length of the arrival delay for the flight measured in minutes                                        |\n",
    "\n"
   ]
  },
  {
   "cell_type": "markdown",
   "id": "abe08328",
   "metadata": {
    "id": "b42252b9-b980-4ee0-8cfd-82f4239b6d1a"
   },
   "source": [
    "#### 0. Imports\n",
    "\n",
    "##### Import packages\n",
    "\n",
    "Import relevant Python packages. Use `train_test_split`, `LogisticRegression`, and various imports from `sklearn.metrics` to build, visualize, and evalute the model."
   ]
  },
  {
   "cell_type": "code",
   "execution_count": 76,
   "id": "38f212a0",
   "metadata": {
    "id": "aacf7b0d-d652-46c4-a9fc-f1ff377bdd0c"
   },
   "outputs": [],
   "source": [
    "import pandas as pd\n",
    "pd.set_option('display.max_columns', None)"
   ]
  },
  {
   "cell_type": "markdown",
   "id": "ded35c05",
   "metadata": {
    "id": "6b7f8803-44ee-47cf-b97a-efaf5c0fdd59",
    "tags": []
   },
   "source": [
    "#### 1. Load the dataset"
   ]
  },
  {
   "cell_type": "markdown",
   "id": "6498b1fc-85f8-4ffe-980c-24b42416f7a1",
   "metadata": {},
   "source": [
    "You can get the data from this [link](https://raw.githubusercontent.com/ManonYa09/Statistics_with_Python_G7/main/Dataset/YdGwfiz4Tp2RsH4s-E6d5g_fe6fe3c8cf0d49028b6706bf33f91df1_Invistico_Airline.csv)"
   ]
  },
  {
   "cell_type": "code",
   "execution_count": 78,
   "id": "ad3fac40",
   "metadata": {
    "id": "80535d2f-8b1a-4715-b07a-f3734d8cc4c5"
   },
   "outputs": [],
   "source": [
    "df = pd.read_csv(\"https://raw.githubusercontent.com/ManonYa09/Statistics_with_Python_G7/main/Dataset/YdGwfiz4Tp2RsH4s-E6d5g_fe6fe3c8cf0d49028b6706bf33f91df1_Invistico_Airline.csv\")"
   ]
  },
  {
   "cell_type": "code",
   "execution_count": 79,
   "id": "1686b9e3-630b-48f4-a2be-9ccfe3024eb2",
   "metadata": {},
   "outputs": [
    {
     "data": {
      "text/html": [
       "<div>\n",
       "<style scoped>\n",
       "    .dataframe tbody tr th:only-of-type {\n",
       "        vertical-align: middle;\n",
       "    }\n",
       "\n",
       "    .dataframe tbody tr th {\n",
       "        vertical-align: top;\n",
       "    }\n",
       "\n",
       "    .dataframe thead th {\n",
       "        text-align: right;\n",
       "    }\n",
       "</style>\n",
       "<table border=\"1\" class=\"dataframe\">\n",
       "  <thead>\n",
       "    <tr style=\"text-align: right;\">\n",
       "      <th></th>\n",
       "      <th>satisfaction</th>\n",
       "      <th>Customer Type</th>\n",
       "      <th>Age</th>\n",
       "      <th>Type of Travel</th>\n",
       "      <th>Class</th>\n",
       "      <th>Flight Distance</th>\n",
       "      <th>Seat comfort</th>\n",
       "      <th>Departure/Arrival time convenient</th>\n",
       "      <th>Food and drink</th>\n",
       "      <th>Gate location</th>\n",
       "      <th>Inflight wifi service</th>\n",
       "      <th>Inflight entertainment</th>\n",
       "      <th>Online support</th>\n",
       "      <th>Ease of Online booking</th>\n",
       "      <th>On-board service</th>\n",
       "      <th>Leg room service</th>\n",
       "      <th>Baggage handling</th>\n",
       "      <th>Checkin service</th>\n",
       "      <th>Cleanliness</th>\n",
       "      <th>Online boarding</th>\n",
       "      <th>Departure Delay in Minutes</th>\n",
       "      <th>Arrival Delay in Minutes</th>\n",
       "    </tr>\n",
       "  </thead>\n",
       "  <tbody>\n",
       "    <tr>\n",
       "      <th>0</th>\n",
       "      <td>satisfied</td>\n",
       "      <td>Loyal Customer</td>\n",
       "      <td>65</td>\n",
       "      <td>Personal Travel</td>\n",
       "      <td>Eco</td>\n",
       "      <td>265</td>\n",
       "      <td>0</td>\n",
       "      <td>0</td>\n",
       "      <td>0</td>\n",
       "      <td>2</td>\n",
       "      <td>2</td>\n",
       "      <td>4</td>\n",
       "      <td>2</td>\n",
       "      <td>3</td>\n",
       "      <td>3</td>\n",
       "      <td>0</td>\n",
       "      <td>3</td>\n",
       "      <td>5</td>\n",
       "      <td>3</td>\n",
       "      <td>2</td>\n",
       "      <td>0</td>\n",
       "      <td>0.0</td>\n",
       "    </tr>\n",
       "    <tr>\n",
       "      <th>1</th>\n",
       "      <td>satisfied</td>\n",
       "      <td>Loyal Customer</td>\n",
       "      <td>47</td>\n",
       "      <td>Personal Travel</td>\n",
       "      <td>Business</td>\n",
       "      <td>2464</td>\n",
       "      <td>0</td>\n",
       "      <td>0</td>\n",
       "      <td>0</td>\n",
       "      <td>3</td>\n",
       "      <td>0</td>\n",
       "      <td>2</td>\n",
       "      <td>2</td>\n",
       "      <td>3</td>\n",
       "      <td>4</td>\n",
       "      <td>4</td>\n",
       "      <td>4</td>\n",
       "      <td>2</td>\n",
       "      <td>3</td>\n",
       "      <td>2</td>\n",
       "      <td>310</td>\n",
       "      <td>305.0</td>\n",
       "    </tr>\n",
       "    <tr>\n",
       "      <th>2</th>\n",
       "      <td>satisfied</td>\n",
       "      <td>Loyal Customer</td>\n",
       "      <td>15</td>\n",
       "      <td>Personal Travel</td>\n",
       "      <td>Eco</td>\n",
       "      <td>2138</td>\n",
       "      <td>0</td>\n",
       "      <td>0</td>\n",
       "      <td>0</td>\n",
       "      <td>3</td>\n",
       "      <td>2</td>\n",
       "      <td>0</td>\n",
       "      <td>2</td>\n",
       "      <td>2</td>\n",
       "      <td>3</td>\n",
       "      <td>3</td>\n",
       "      <td>4</td>\n",
       "      <td>4</td>\n",
       "      <td>4</td>\n",
       "      <td>2</td>\n",
       "      <td>0</td>\n",
       "      <td>0.0</td>\n",
       "    </tr>\n",
       "    <tr>\n",
       "      <th>3</th>\n",
       "      <td>satisfied</td>\n",
       "      <td>Loyal Customer</td>\n",
       "      <td>60</td>\n",
       "      <td>Personal Travel</td>\n",
       "      <td>Eco</td>\n",
       "      <td>623</td>\n",
       "      <td>0</td>\n",
       "      <td>0</td>\n",
       "      <td>0</td>\n",
       "      <td>3</td>\n",
       "      <td>3</td>\n",
       "      <td>4</td>\n",
       "      <td>3</td>\n",
       "      <td>1</td>\n",
       "      <td>1</td>\n",
       "      <td>0</td>\n",
       "      <td>1</td>\n",
       "      <td>4</td>\n",
       "      <td>1</td>\n",
       "      <td>3</td>\n",
       "      <td>0</td>\n",
       "      <td>0.0</td>\n",
       "    </tr>\n",
       "    <tr>\n",
       "      <th>4</th>\n",
       "      <td>satisfied</td>\n",
       "      <td>Loyal Customer</td>\n",
       "      <td>70</td>\n",
       "      <td>Personal Travel</td>\n",
       "      <td>Eco</td>\n",
       "      <td>354</td>\n",
       "      <td>0</td>\n",
       "      <td>0</td>\n",
       "      <td>0</td>\n",
       "      <td>3</td>\n",
       "      <td>4</td>\n",
       "      <td>3</td>\n",
       "      <td>4</td>\n",
       "      <td>2</td>\n",
       "      <td>2</td>\n",
       "      <td>0</td>\n",
       "      <td>2</td>\n",
       "      <td>4</td>\n",
       "      <td>2</td>\n",
       "      <td>5</td>\n",
       "      <td>0</td>\n",
       "      <td>0.0</td>\n",
       "    </tr>\n",
       "  </tbody>\n",
       "</table>\n",
       "</div>"
      ],
      "text/plain": [
       "  satisfaction   Customer Type  Age   Type of Travel     Class  \\\n",
       "0    satisfied  Loyal Customer   65  Personal Travel       Eco   \n",
       "1    satisfied  Loyal Customer   47  Personal Travel  Business   \n",
       "2    satisfied  Loyal Customer   15  Personal Travel       Eco   \n",
       "3    satisfied  Loyal Customer   60  Personal Travel       Eco   \n",
       "4    satisfied  Loyal Customer   70  Personal Travel       Eco   \n",
       "\n",
       "   Flight Distance  Seat comfort  Departure/Arrival time convenient  \\\n",
       "0              265             0                                  0   \n",
       "1             2464             0                                  0   \n",
       "2             2138             0                                  0   \n",
       "3              623             0                                  0   \n",
       "4              354             0                                  0   \n",
       "\n",
       "   Food and drink  Gate location  Inflight wifi service  \\\n",
       "0               0              2                      2   \n",
       "1               0              3                      0   \n",
       "2               0              3                      2   \n",
       "3               0              3                      3   \n",
       "4               0              3                      4   \n",
       "\n",
       "   Inflight entertainment  Online support  Ease of Online booking  \\\n",
       "0                       4               2                       3   \n",
       "1                       2               2                       3   \n",
       "2                       0               2                       2   \n",
       "3                       4               3                       1   \n",
       "4                       3               4                       2   \n",
       "\n",
       "   On-board service  Leg room service  Baggage handling  Checkin service  \\\n",
       "0                 3                 0                 3                5   \n",
       "1                 4                 4                 4                2   \n",
       "2                 3                 3                 4                4   \n",
       "3                 1                 0                 1                4   \n",
       "4                 2                 0                 2                4   \n",
       "\n",
       "   Cleanliness  Online boarding  Departure Delay in Minutes  \\\n",
       "0            3                2                           0   \n",
       "1            3                2                         310   \n",
       "2            4                2                           0   \n",
       "3            1                3                           0   \n",
       "4            2                5                           0   \n",
       "\n",
       "   Arrival Delay in Minutes  \n",
       "0                       0.0  \n",
       "1                     305.0  \n",
       "2                       0.0  \n",
       "3                       0.0  \n",
       "4                       0.0  "
      ]
     },
     "execution_count": 79,
     "metadata": {},
     "output_type": "execute_result"
    }
   ],
   "source": [
    "df.head()"
   ]
  },
  {
   "cell_type": "markdown",
   "id": "c125c1c4",
   "metadata": {
    "id": "46448192-f2f8-4f78-9f76-6e4bb699da7b"
   },
   "source": [
    "Output the first 5 rows of data."
   ]
  },
  {
   "cell_type": "markdown",
   "id": "b7937499-d0e9-4f99-b798-781458f9d7f6",
   "metadata": {},
   "source": [
    "#### 2. Exploratory Data Analysis\n",
    "perform Data exploration, data cleaning"
   ]
  },
  {
   "cell_type": "markdown",
   "id": "4e820600-b892-4903-9bc7-e8a4e516269d",
   "metadata": {},
   "source": [
    "#### 2.1 Quick Explorary The Dataset"
   ]
  },
  {
   "cell_type": "markdown",
   "id": "33a059bb-49d3-430a-b39f-afcdebfab3e1",
   "metadata": {},
   "source": [
    "##### 2.2 Data Cleaning"
   ]
  },
  {
   "cell_type": "markdown",
   "id": "dd8e8afe",
   "metadata": {
    "id": "d7ccd368"
   },
   "source": [
    "##### Explore the data\n",
    "\n",
    "Check the data type of each column. Note that logistic regression models expect numeric data. "
   ]
  },
  {
   "cell_type": "markdown",
   "id": "8ae118aa-d1c8-45f4-8f77-bf5324299b4a",
   "metadata": {},
   "source": [
    "##### 2.3 Diagnostics Analytics"
   ]
  },
  {
   "cell_type": "markdown",
   "id": "4e9a319e",
   "metadata": {
    "id": "4c0c5682"
   },
   "source": [
    "**Prepare the data**\n",
    "\n",
    "If you want to create a plot (`sns.regplot`) of your model to visualize results later in the notebook, the independent variable `Inflight entertainment` cannot be \"of type int\" and the dependent variable `satisfaction` cannot be \"of type object.\" \n",
    "\n",
    "Make the `Inflight entertainment` column \"of type float.\" "
   ]
  },
  {
   "cell_type": "markdown",
   "id": "6129d99c-5a5a-41fc-8a24-6d49b8a75b86",
   "metadata": {},
   "source": [
    "### 3. Data Preprocessing"
   ]
  },
  {
   "cell_type": "markdown",
   "id": "ef641e32",
   "metadata": {
    "id": "ec269f85-6622-4f82-bdcd-1874224a4052",
    "tags": []
   },
   "source": [
    "**Prepare the data**\n",
    "\n",
    "After loading the dataset, prepare the data to be suitable for a logistic regression model. This includes: \n",
    "*   Encoding the data\n",
    "*   Renaming a column\n",
    "*   Creating the training and testing data"
   ]
  },
  {
   "cell_type": "markdown",
   "id": "114b20da",
   "metadata": {},
   "source": [
    "**Convert the categorical column `satisfaction` into numeric**\n",
    "\n",
    "Convert the categorical column `satisfaction` into numeric through one-hot encoding."
   ]
  },
  {
   "cell_type": "markdown",
   "id": "cbfc2a30-92a3-4f62-aea1-9f2a85d08eed",
   "metadata": {},
   "source": [
    "#### 3.1 Feature Endcoding\n",
    "##### 3.1.1 One-hot Encoding\n",
    "##### 3.1.2 Two-hot Encoding\n",
    "##### 3.1.2 Multicolinearity"
   ]
  },
  {
   "cell_type": "markdown",
   "id": "dd192efa-8134-49da-be1b-c28dfa110915",
   "metadata": {},
   "source": [
    "##### Detecting Multicollinearity\n",
    "A statistical technique called the **variance inflation factor (VIF)** can detect and measure the amount of collinearity in a multiple regression model.\n",
    "- A VIF of 1 will mean that the variables are not correlated.\n",
    "- A VIF between 1 and 5 shows that variables are moderately correlated.\n",
    "- A VIF between 5 and 10 will mean that variables are highly correlated.\n",
    "  \n",
    "In practice, a VIF greater than 10 is often used as a rule of thumb to identify variables that may need to be removed or transformed to reduce multicollinearity."
   ]
  },
  {
   "cell_type": "markdown",
   "id": "20bc9319",
   "metadata": {
    "id": "381c04eb"
   },
   "source": [
    "**Check the number of satisfied customers in the dataset**\n",
    "\n",
    "To predict customer satisfaction, check how many customers in the dataset are satisfied before modeling."
   ]
  },
  {
   "cell_type": "markdown",
   "id": "3325e6fb",
   "metadata": {
    "id": "71398f5e"
   },
   "source": [
    "**Question:** How many satisfied and dissatisfied customers were there?"
   ]
  },
  {
   "cell_type": "markdown",
   "id": "550ad04d",
   "metadata": {
    "id": "17c736c2"
   },
   "source": [
    "**Question:** What percentage of customers were satisfied?"
   ]
  },
  {
   "cell_type": "markdown",
   "id": "eacffa95",
   "metadata": {
    "id": "5c11852b"
   },
   "source": [
    "**Question:** Should you remove rows where the `Arrival Delay in Minutes` column has missing values, even though the airline is more interested in the `inflight entertainment` column?"
   ]
  },
  {
   "cell_type": "markdown",
   "id": "be759cc8",
   "metadata": {
    "id": "0aaf5733"
   },
   "source": [
    "#### 3.2 Create the training and testing data\n",
    "\n",
    "Put 70% of the data into a training set and the remaining 30% into a testing set. Create an X and y DataFrame with only the necessary variables.\n"
   ]
  },
  {
   "cell_type": "markdown",
   "id": "07766529",
   "metadata": {
    "id": "e5c9ad09"
   },
   "source": [
    "**Question:** If you want to consider customer satisfaction with your model, should you train your model to use `inflight entertainment` as your sole independent variable? "
   ]
  },
  {
   "cell_type": "markdown",
   "id": "79d51117",
   "metadata": {
    "id": "58bb9bf2"
   },
   "source": [
    "### 4. Model building"
   ]
  },
  {
   "cell_type": "markdown",
   "id": "587d8d26",
   "metadata": {
    "id": "a81f66ae"
   },
   "source": [
    "#### 4.1 Fit a LogisticRegression model with sklearn to the data\n",
    "\n",
    "Build a logistic regression model and fit the model to the training data. "
   ]
  },
  {
   "cell_type": "markdown",
   "id": "ff2ddb95-c747-47b3-b5da-0fc260d769f6",
   "metadata": {},
   "source": [
    "#### 4.2 Building with statsmodel"
   ]
  },
  {
   "cell_type": "markdown",
   "id": "8807310d",
   "metadata": {
    "id": "ez_akxj1FuUF"
   },
   "source": [
    "### 5. Results and evaluation\n"
   ]
  },
  {
   "cell_type": "markdown",
   "id": "c01123b8",
   "metadata": {
    "id": "80a02386"
   },
   "source": [
    "##### Predict the outcome for the test dataset\n",
    "Save these predictions as a variable called `y_pred`."
   ]
  },
  {
   "cell_type": "markdown",
   "id": "14e361d9",
   "metadata": {
    "id": "7d7eb725"
   },
   "source": [
    "##### Print out `y_pred`\n",
    "\n",
    "In order to examine the predictions, print out `y_pred`. "
   ]
  },
  {
   "cell_type": "markdown",
   "id": "183e1d0c",
   "metadata": {
    "id": "0948e464"
   },
   "source": [
    " Use the `predict_proba` and `predict` functions on `X_test`"
   ]
  },
  {
   "cell_type": "markdown",
   "id": "64242c1d",
   "metadata": {
    "id": "2d63fb90"
   },
   "source": [
    "**Produce a confusion matrix**"
   ]
  },
  {
   "cell_type": "markdown",
   "id": "769895cd",
   "metadata": {
    "id": "0524c798"
   },
   "source": [
    "Data professionals often like to know the types of errors made by an algorithm. To obtain this information, produce a confusion matrix."
   ]
  },
  {
   "cell_type": "markdown",
   "id": "7aeaf028",
   "metadata": {
    "id": "8xxXOVM8JV9o"
   },
   "source": [
    "**Question:** What stands out to you about the confusion matrix?"
   ]
  },
  {
   "cell_type": "markdown",
   "id": "3a0a7967",
   "metadata": {
    "id": "fd4b3546"
   },
   "source": [
    "**Question:** Did you notice any difference in the number of false positives or false negatives that the model produced?"
   ]
  },
  {
   "cell_type": "markdown",
   "id": "7873e81d",
   "metadata": {
    "id": "287993f0"
   },
   "source": [
    "**Question:** What do you think could be done to improve model performance?"
   ]
  },
  {
   "cell_type": "markdown",
   "id": "963a9e68",
   "metadata": {
    "id": "e3075324"
   },
   "source": [
    "## Considerations\n",
    "**What findings would you share with others?**\n",
    "**What would you recommend to stakeholders?**"
   ]
  }
 ],
 "metadata": {
  "colab": {
   "collapsed_sections": [],
   "provenance": [],
   "toc_visible": true
  },
  "gpuClass": "standard",
  "kernelspec": {
   "display_name": "Python 3 (ipykernel)",
   "language": "python",
   "name": "python3"
  },
  "language_info": {
   "codemirror_mode": {
    "name": "ipython",
    "version": 3
   },
   "file_extension": ".py",
   "mimetype": "text/x-python",
   "name": "python",
   "nbconvert_exporter": "python",
   "pygments_lexer": "ipython3",
   "version": "3.11.5"
  }
 },
 "nbformat": 4,
 "nbformat_minor": 5
}
