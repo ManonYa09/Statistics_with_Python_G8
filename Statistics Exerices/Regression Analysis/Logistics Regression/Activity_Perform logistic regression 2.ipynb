{
 "cells": [
  {
   "cell_type": "markdown",
   "id": "25bd30bd-d1b1-45bd-b91f-b8985774dcb8",
   "metadata": {},
   "source": [
    "<div style=\"padding:20px;\n",
    "            color:white;\n",
    "            margin:10;\n",
    "            font-size:170%;\n",
    "            text-align:left;\n",
    "            display:fill;\n",
    "            border-radius:5px;\n",
    "            background-color:#CA6F1E;\n",
    "            overflow:hidden;\n",
    "            font-weight:700\"><span style='color:#283747'></span>\" Activity: Perform logistic regression \" </div>"
   ]
  },
  {
   "cell_type": "markdown",
   "id": "1ce2553d-cd0d-4395-a81e-b673f664a6eb",
   "metadata": {},
   "source": [
    "- [0. Import Library]()\n",
    "- [1. Load the dataset](#1)\n",
    "\n",
    "- [2.Exploratory Data Anlysis(EDA)](#2)\n",
    "    - [2.1 Quick Exploring the dataset](#1.1)\n",
    "    - [2.2 Data Cleaning](#1.3)\n",
    "        - [2.3 Missing Value](#1.3.1)\n",
    "        - [2.3.2 Duplicated](#1.3.2)\n",
    "        - [2.3.3 Outliter](#1.3.3)\n",
    "     \n",
    "    - [2.3 Diagnostics Analytics](#2.3)\n",
    "- [3. Data preprocessing](#4)\n",
    "  \n",
    "    <!-- - [3.1 Min-Max Scaling or Standardization?](#4.1) -->\n",
    "    - [3.2 Encoding Categorical Variables](#4.2)\n",
    "        - [3.2.1 Label Encoding](#4.2.1)\n",
    "        - [3.2.2 One hot Encoding](#4.2.2)\n",
    "        - [3.2.3 Multicolinearity](#4.2.3)\n",
    "- [4. Data Splitting and Model Building](#5)\n",
    "   - [4.1 Model Buiding with sklearn](#5.2)\n",
    "   - [4.2 Model Building with Statsmodel](#4.2)\n",
    "       - [4.2.1 Feature selection](#5.2.1)\n",
    "- [5. Model Evaluation](#6) \n"
   ]
  },
  {
   "cell_type": "markdown",
   "id": "ee7f0b7d",
   "metadata": {
    "id": "700acefd-8120-42a9-a650-c610467e2a4c",
    "jp-MarkdownHeadingCollapsed": true
   },
   "source": [
    "For this activity, you work as a consultant for an airline. The airline is interested in knowing if a better in-flight entertainment experience leads to higher customer satisfaction. They would like you to construct and evaluate a model that predicts whether a future customer would be satisfied with their services given previous customer feedback about their flight experience.\n",
    "\n",
    "Because this activity uses a dataset from the industry, you will need to conduct basic EDA, data cleaning, and other manipulations to prepare the data for modeling.\n",
    "\n",
    "In this activity, you will practice the following skills:\n",
    "\n",
    "* Importing packages and loading data\n",
    "* Exploring the data and completing the cleaning process\n",
    "* Building a binomial logistic regression model \n",
    "* Evaluating a binomial logistic regression model using a confusion matrix"
   ]
  },
  {
   "cell_type": "markdown",
   "id": "bd8b690b-bf5a-47f3-aa65-c49b552c7ad7",
   "metadata": {},
   "source": [
    "### **Feature Descriptions**\n",
    "\n",
    "| **Column Name**                        | **Type** | **Description**                                                                                       |\n",
    "|----------------------------------------|----------|-------------------------------------------------------------------------------------------------------|\n",
    "| **Satisfaction**                       | `str`    | Customer’s overall assessment of the airline, either “satisfied” or “dissatisfied”                    |\n",
    "| **Gender\\***                           | `str`    | For purposes of this dataset, “Male” or “Female” were the only two responses                          |\n",
    "| **Customer Type**                      | `str`    | Customer’s loyalty status, either “Loyal Customer” or “Disloyal Customer”                             |\n",
    "| **Age**                                | `int`    | Customer’s age                                                                                        |\n",
    "| **Type of Travel**                     | `str`    | Customer’s reason for travel, either “business” or “personal”                                         |\n",
    "| **Class**                              | `str`    | Customer’s purchased seat class, either “Business,” “Eco,” or “Eco Plus”                              |\n",
    "| **Flight Distance**                    | `int`    | How far the flight traveled (in miles/kilometers)                                                     |\n",
    "| **Seat comfort**                       | `int`    | Customer’s rating of seat comfort (1 to 5 scale)                                                      |\n",
    "| **Departure/Arrival time convenient**  | `int`    | Customer’s rating of convenience for departure and arrival time (1 to 5 scale)                        |\n",
    "| **Food and drink**                     | `int`    | Customer’s rating of food and drink (1 to 5 scale)                                                    |\n",
    "| **Gate location**                      | `int`    | Customer’s rating of the convenience of the gate location (1 to 5 scale)                              |\n",
    "| **Inflight wifi service**              | `int`    | Customer’s rating of the inflight wifi/Internet service (1 to 5 scale)                                |\n",
    "| **Inflight entertainment**             | `int`    | Customer’s rating of inflight entertainment (1 to 5 scale)                                            |\n",
    "| **Online support**                     | `int`    | Customer’s rating of online support services of the airline (1 to 5 scale)                            |\n",
    "| **Ease of online booking**             | `int`    | Customer’s rating of the ease of booking tickets online (1 to 5 scale)                                |\n",
    "| **On-board service**                   | `int`    | Customer’s rating of service by airline personnel (1 to 5 scale)                                      |\n",
    "| **Leg room service**                   | `int`    | Customer’s rating of amount of legroom (1 to 5 scale)                                                 |\n",
    "| **Baggage handling**                   | `int`    | Customer’s rating of convenience or ease of baggage handling (1 to 5 scale)                           |\n",
    "| **Checkin service**                    | `int`    | Customer’s rating of checkin service by airline personnel (1 to 5 scale)                              |\n",
    "| **Cleanliness**                        | `int`    | Customer’s rating of cleanliness of the airplane (1 to 5 scale)                                       |\n",
    "| **Online boarding**                    | `int`    | Customer’s rating of the online boarding process (1 to 5 scale)                                       |\n",
    "| **Departure Delay in Minutes**         | `int`    | Length of the departure delay for the flight measured in minutes                                      |\n",
    "| **Arrival Delay in Minutes**           | `int`    | Length of the arrival delay for the flight measured in minutes                                        |\n",
    "\n"
   ]
  },
  {
   "cell_type": "markdown",
   "id": "abe08328",
   "metadata": {
    "id": "b42252b9-b980-4ee0-8cfd-82f4239b6d1a"
   },
   "source": [
    "#### 0. Imports\n",
    "\n",
    "##### Import packages\n",
    "\n",
    "Import relevant Python packages. Use `train_test_split`, `LogisticRegression`, and various imports from `sklearn.metrics` to build, visualize, and evalute the model."
   ]
  },
  {
   "cell_type": "code",
   "execution_count": 2,
   "id": "38f212a0",
   "metadata": {
    "id": "aacf7b0d-d652-46c4-a9fc-f1ff377bdd0c"
   },
   "outputs": [],
   "source": [
    "import pandas as pd\n",
    "pd.set_option('display.max_columns', None)"
   ]
  },
  {
   "cell_type": "markdown",
   "id": "ded35c05",
   "metadata": {
    "id": "6b7f8803-44ee-47cf-b97a-efaf5c0fdd59",
    "tags": []
   },
   "source": [
    "#### 1. Load the dataset"
   ]
  },
  {
   "cell_type": "markdown",
   "id": "6498b1fc-85f8-4ffe-980c-24b42416f7a1",
   "metadata": {},
   "source": [
    "You can get the data from this [link](https://raw.githubusercontent.com/ManonYa09/Statistics_with_Python_G7/main/Dataset/YdGwfiz4Tp2RsH4s-E6d5g_fe6fe3c8cf0d49028b6706bf33f91df1_Invistico_Airline.csv)"
   ]
  },
  {
   "cell_type": "code",
   "execution_count": 6,
   "id": "ad3fac40",
   "metadata": {
    "id": "80535d2f-8b1a-4715-b07a-f3734d8cc4c5"
   },
   "outputs": [],
   "source": [
    "df = pd.read_csv(\"https://raw.githubusercontent.com/ManonYa09/Statistics_with_Python_G7/main/Dataset/YdGwfiz4Tp2RsH4s-E6d5g_fe6fe3c8cf0d49028b6706bf33f91df1_Invistico_Airline.csv\")"
   ]
  },
  {
   "cell_type": "code",
   "execution_count": 7,
   "id": "1686b9e3-630b-48f4-a2be-9ccfe3024eb2",
   "metadata": {},
   "outputs": [
    {
     "data": {
      "text/html": [
       "<div>\n",
       "<style scoped>\n",
       "    .dataframe tbody tr th:only-of-type {\n",
       "        vertical-align: middle;\n",
       "    }\n",
       "\n",
       "    .dataframe tbody tr th {\n",
       "        vertical-align: top;\n",
       "    }\n",
       "\n",
       "    .dataframe thead th {\n",
       "        text-align: right;\n",
       "    }\n",
       "</style>\n",
       "<table border=\"1\" class=\"dataframe\">\n",
       "  <thead>\n",
       "    <tr style=\"text-align: right;\">\n",
       "      <th></th>\n",
       "      <th>satisfaction</th>\n",
       "      <th>Customer Type</th>\n",
       "      <th>Age</th>\n",
       "      <th>Type of Travel</th>\n",
       "      <th>Class</th>\n",
       "      <th>Flight Distance</th>\n",
       "      <th>Seat comfort</th>\n",
       "      <th>Departure/Arrival time convenient</th>\n",
       "      <th>Food and drink</th>\n",
       "      <th>Gate location</th>\n",
       "      <th>Inflight wifi service</th>\n",
       "      <th>Inflight entertainment</th>\n",
       "      <th>Online support</th>\n",
       "      <th>Ease of Online booking</th>\n",
       "      <th>On-board service</th>\n",
       "      <th>Leg room service</th>\n",
       "      <th>Baggage handling</th>\n",
       "      <th>Checkin service</th>\n",
       "      <th>Cleanliness</th>\n",
       "      <th>Online boarding</th>\n",
       "      <th>Departure Delay in Minutes</th>\n",
       "      <th>Arrival Delay in Minutes</th>\n",
       "    </tr>\n",
       "  </thead>\n",
       "  <tbody>\n",
       "    <tr>\n",
       "      <th>0</th>\n",
       "      <td>satisfied</td>\n",
       "      <td>Loyal Customer</td>\n",
       "      <td>65</td>\n",
       "      <td>Personal Travel</td>\n",
       "      <td>Eco</td>\n",
       "      <td>265</td>\n",
       "      <td>0</td>\n",
       "      <td>0</td>\n",
       "      <td>0</td>\n",
       "      <td>2</td>\n",
       "      <td>2</td>\n",
       "      <td>4</td>\n",
       "      <td>2</td>\n",
       "      <td>3</td>\n",
       "      <td>3</td>\n",
       "      <td>0</td>\n",
       "      <td>3</td>\n",
       "      <td>5</td>\n",
       "      <td>3</td>\n",
       "      <td>2</td>\n",
       "      <td>0</td>\n",
       "      <td>0.0</td>\n",
       "    </tr>\n",
       "    <tr>\n",
       "      <th>1</th>\n",
       "      <td>satisfied</td>\n",
       "      <td>Loyal Customer</td>\n",
       "      <td>47</td>\n",
       "      <td>Personal Travel</td>\n",
       "      <td>Business</td>\n",
       "      <td>2464</td>\n",
       "      <td>0</td>\n",
       "      <td>0</td>\n",
       "      <td>0</td>\n",
       "      <td>3</td>\n",
       "      <td>0</td>\n",
       "      <td>2</td>\n",
       "      <td>2</td>\n",
       "      <td>3</td>\n",
       "      <td>4</td>\n",
       "      <td>4</td>\n",
       "      <td>4</td>\n",
       "      <td>2</td>\n",
       "      <td>3</td>\n",
       "      <td>2</td>\n",
       "      <td>310</td>\n",
       "      <td>305.0</td>\n",
       "    </tr>\n",
       "    <tr>\n",
       "      <th>2</th>\n",
       "      <td>satisfied</td>\n",
       "      <td>Loyal Customer</td>\n",
       "      <td>15</td>\n",
       "      <td>Personal Travel</td>\n",
       "      <td>Eco</td>\n",
       "      <td>2138</td>\n",
       "      <td>0</td>\n",
       "      <td>0</td>\n",
       "      <td>0</td>\n",
       "      <td>3</td>\n",
       "      <td>2</td>\n",
       "      <td>0</td>\n",
       "      <td>2</td>\n",
       "      <td>2</td>\n",
       "      <td>3</td>\n",
       "      <td>3</td>\n",
       "      <td>4</td>\n",
       "      <td>4</td>\n",
       "      <td>4</td>\n",
       "      <td>2</td>\n",
       "      <td>0</td>\n",
       "      <td>0.0</td>\n",
       "    </tr>\n",
       "    <tr>\n",
       "      <th>3</th>\n",
       "      <td>satisfied</td>\n",
       "      <td>Loyal Customer</td>\n",
       "      <td>60</td>\n",
       "      <td>Personal Travel</td>\n",
       "      <td>Eco</td>\n",
       "      <td>623</td>\n",
       "      <td>0</td>\n",
       "      <td>0</td>\n",
       "      <td>0</td>\n",
       "      <td>3</td>\n",
       "      <td>3</td>\n",
       "      <td>4</td>\n",
       "      <td>3</td>\n",
       "      <td>1</td>\n",
       "      <td>1</td>\n",
       "      <td>0</td>\n",
       "      <td>1</td>\n",
       "      <td>4</td>\n",
       "      <td>1</td>\n",
       "      <td>3</td>\n",
       "      <td>0</td>\n",
       "      <td>0.0</td>\n",
       "    </tr>\n",
       "    <tr>\n",
       "      <th>4</th>\n",
       "      <td>satisfied</td>\n",
       "      <td>Loyal Customer</td>\n",
       "      <td>70</td>\n",
       "      <td>Personal Travel</td>\n",
       "      <td>Eco</td>\n",
       "      <td>354</td>\n",
       "      <td>0</td>\n",
       "      <td>0</td>\n",
       "      <td>0</td>\n",
       "      <td>3</td>\n",
       "      <td>4</td>\n",
       "      <td>3</td>\n",
       "      <td>4</td>\n",
       "      <td>2</td>\n",
       "      <td>2</td>\n",
       "      <td>0</td>\n",
       "      <td>2</td>\n",
       "      <td>4</td>\n",
       "      <td>2</td>\n",
       "      <td>5</td>\n",
       "      <td>0</td>\n",
       "      <td>0.0</td>\n",
       "    </tr>\n",
       "  </tbody>\n",
       "</table>\n",
       "</div>"
      ],
      "text/plain": [
       "  satisfaction   Customer Type  Age   Type of Travel     Class  \\\n",
       "0    satisfied  Loyal Customer   65  Personal Travel       Eco   \n",
       "1    satisfied  Loyal Customer   47  Personal Travel  Business   \n",
       "2    satisfied  Loyal Customer   15  Personal Travel       Eco   \n",
       "3    satisfied  Loyal Customer   60  Personal Travel       Eco   \n",
       "4    satisfied  Loyal Customer   70  Personal Travel       Eco   \n",
       "\n",
       "   Flight Distance  Seat comfort  Departure/Arrival time convenient  \\\n",
       "0              265             0                                  0   \n",
       "1             2464             0                                  0   \n",
       "2             2138             0                                  0   \n",
       "3              623             0                                  0   \n",
       "4              354             0                                  0   \n",
       "\n",
       "   Food and drink  Gate location  Inflight wifi service  \\\n",
       "0               0              2                      2   \n",
       "1               0              3                      0   \n",
       "2               0              3                      2   \n",
       "3               0              3                      3   \n",
       "4               0              3                      4   \n",
       "\n",
       "   Inflight entertainment  Online support  Ease of Online booking  \\\n",
       "0                       4               2                       3   \n",
       "1                       2               2                       3   \n",
       "2                       0               2                       2   \n",
       "3                       4               3                       1   \n",
       "4                       3               4                       2   \n",
       "\n",
       "   On-board service  Leg room service  Baggage handling  Checkin service  \\\n",
       "0                 3                 0                 3                5   \n",
       "1                 4                 4                 4                2   \n",
       "2                 3                 3                 4                4   \n",
       "3                 1                 0                 1                4   \n",
       "4                 2                 0                 2                4   \n",
       "\n",
       "   Cleanliness  Online boarding  Departure Delay in Minutes  \\\n",
       "0            3                2                           0   \n",
       "1            3                2                         310   \n",
       "2            4                2                           0   \n",
       "3            1                3                           0   \n",
       "4            2                5                           0   \n",
       "\n",
       "   Arrival Delay in Minutes  \n",
       "0                       0.0  \n",
       "1                     305.0  \n",
       "2                       0.0  \n",
       "3                       0.0  \n",
       "4                       0.0  "
      ]
     },
     "execution_count": 7,
     "metadata": {},
     "output_type": "execute_result"
    }
   ],
   "source": [
    "df.head()"
   ]
  },
  {
   "cell_type": "code",
   "execution_count": 12,
   "id": "ec575684-d0e7-44e4-ba39-437aec5dd1fd",
   "metadata": {},
   "outputs": [
    {
     "data": {
      "text/plain": [
       "(129880, 22)"
      ]
     },
     "execution_count": 12,
     "metadata": {},
     "output_type": "execute_result"
    }
   ],
   "source": [
    "df.shape"
   ]
  },
  {
   "cell_type": "code",
   "execution_count": 14,
   "id": "a8bffb55-4912-45bb-8011-ffc32ea92077",
   "metadata": {},
   "outputs": [],
   "source": [
    "df.isnull().sum()\n",
    "df.dropna(inplace=True)"
   ]
  },
  {
   "cell_type": "code",
   "execution_count": null,
   "id": "14904402-a278-4c13-a9b8-17f9be0b0637",
   "metadata": {},
   "outputs": [],
   "source": []
  },
  {
   "cell_type": "markdown",
   "id": "c125c1c4",
   "metadata": {
    "id": "46448192-f2f8-4f78-9f76-6e4bb699da7b"
   },
   "source": [
    "Output the first 5 rows of data."
   ]
  },
  {
   "cell_type": "markdown",
   "id": "b7937499-d0e9-4f99-b798-781458f9d7f6",
   "metadata": {},
   "source": [
    "#### 2. Exploratory Data Analysis\n",
    "perform Data exploration, data cleaning"
   ]
  },
  {
   "cell_type": "markdown",
   "id": "4e820600-b892-4903-9bc7-e8a4e516269d",
   "metadata": {},
   "source": [
    "#### 2.1 Quick Explorary The Dataset"
   ]
  },
  {
   "cell_type": "markdown",
   "id": "33a059bb-49d3-430a-b39f-afcdebfab3e1",
   "metadata": {},
   "source": [
    "##### 2.2 Data Cleaning"
   ]
  },
  {
   "cell_type": "markdown",
   "id": "dd8e8afe",
   "metadata": {
    "id": "d7ccd368"
   },
   "source": [
    "##### Explore the data\n",
    "\n",
    "Check the data type of each column. Note that logistic regression models expect numeric data. "
   ]
  },
  {
   "cell_type": "markdown",
   "id": "8ae118aa-d1c8-45f4-8f77-bf5324299b4a",
   "metadata": {},
   "source": [
    "##### 2.3 Diagnostics Analytics"
   ]
  },
  {
   "cell_type": "markdown",
   "id": "4e9a319e",
   "metadata": {
    "id": "4c0c5682"
   },
   "source": [
    "**Prepare the data**\n",
    "\n",
    "If you want to create a plot (`sns.regplot`) of your model to visualize results later in the notebook, the independent variable `Inflight entertainment` cannot be \"of type int\" and the dependent variable `satisfaction` cannot be \"of type object.\" \n",
    "\n",
    "Make the `Inflight entertainment` column \"of type float.\" "
   ]
  },
  {
   "cell_type": "markdown",
   "id": "6129d99c-5a5a-41fc-8a24-6d49b8a75b86",
   "metadata": {},
   "source": [
    "### 3. Data Preprocessing"
   ]
  },
  {
   "cell_type": "code",
   "execution_count": 18,
   "id": "f883cd2e-860e-4a4b-a976-c9de961db4a6",
   "metadata": {},
   "outputs": [
    {
     "data": {
      "text/html": [
       "<div>\n",
       "<style scoped>\n",
       "    .dataframe tbody tr th:only-of-type {\n",
       "        vertical-align: middle;\n",
       "    }\n",
       "\n",
       "    .dataframe tbody tr th {\n",
       "        vertical-align: top;\n",
       "    }\n",
       "\n",
       "    .dataframe thead th {\n",
       "        text-align: right;\n",
       "    }\n",
       "</style>\n",
       "<table border=\"1\" class=\"dataframe\">\n",
       "  <thead>\n",
       "    <tr style=\"text-align: right;\">\n",
       "      <th></th>\n",
       "      <th>satisfaction</th>\n",
       "      <th>Customer Type</th>\n",
       "      <th>Age</th>\n",
       "      <th>Type of Travel</th>\n",
       "      <th>Class</th>\n",
       "      <th>Flight Distance</th>\n",
       "      <th>Seat comfort</th>\n",
       "      <th>Departure/Arrival time convenient</th>\n",
       "      <th>Food and drink</th>\n",
       "      <th>Gate location</th>\n",
       "      <th>Inflight wifi service</th>\n",
       "      <th>Inflight entertainment</th>\n",
       "      <th>Online support</th>\n",
       "      <th>Ease of Online booking</th>\n",
       "      <th>On-board service</th>\n",
       "      <th>Leg room service</th>\n",
       "      <th>Baggage handling</th>\n",
       "      <th>Checkin service</th>\n",
       "      <th>Cleanliness</th>\n",
       "      <th>Online boarding</th>\n",
       "      <th>Departure Delay in Minutes</th>\n",
       "      <th>Arrival Delay in Minutes</th>\n",
       "    </tr>\n",
       "  </thead>\n",
       "  <tbody>\n",
       "    <tr>\n",
       "      <th>0</th>\n",
       "      <td>satisfied</td>\n",
       "      <td>Loyal Customer</td>\n",
       "      <td>65</td>\n",
       "      <td>Personal Travel</td>\n",
       "      <td>Eco</td>\n",
       "      <td>265</td>\n",
       "      <td>0</td>\n",
       "      <td>0</td>\n",
       "      <td>0</td>\n",
       "      <td>2</td>\n",
       "      <td>2</td>\n",
       "      <td>4</td>\n",
       "      <td>2</td>\n",
       "      <td>3</td>\n",
       "      <td>3</td>\n",
       "      <td>0</td>\n",
       "      <td>3</td>\n",
       "      <td>5</td>\n",
       "      <td>3</td>\n",
       "      <td>2</td>\n",
       "      <td>0</td>\n",
       "      <td>0.0</td>\n",
       "    </tr>\n",
       "    <tr>\n",
       "      <th>1</th>\n",
       "      <td>satisfied</td>\n",
       "      <td>Loyal Customer</td>\n",
       "      <td>47</td>\n",
       "      <td>Personal Travel</td>\n",
       "      <td>Business</td>\n",
       "      <td>2464</td>\n",
       "      <td>0</td>\n",
       "      <td>0</td>\n",
       "      <td>0</td>\n",
       "      <td>3</td>\n",
       "      <td>0</td>\n",
       "      <td>2</td>\n",
       "      <td>2</td>\n",
       "      <td>3</td>\n",
       "      <td>4</td>\n",
       "      <td>4</td>\n",
       "      <td>4</td>\n",
       "      <td>2</td>\n",
       "      <td>3</td>\n",
       "      <td>2</td>\n",
       "      <td>310</td>\n",
       "      <td>305.0</td>\n",
       "    </tr>\n",
       "    <tr>\n",
       "      <th>2</th>\n",
       "      <td>satisfied</td>\n",
       "      <td>Loyal Customer</td>\n",
       "      <td>15</td>\n",
       "      <td>Personal Travel</td>\n",
       "      <td>Eco</td>\n",
       "      <td>2138</td>\n",
       "      <td>0</td>\n",
       "      <td>0</td>\n",
       "      <td>0</td>\n",
       "      <td>3</td>\n",
       "      <td>2</td>\n",
       "      <td>0</td>\n",
       "      <td>2</td>\n",
       "      <td>2</td>\n",
       "      <td>3</td>\n",
       "      <td>3</td>\n",
       "      <td>4</td>\n",
       "      <td>4</td>\n",
       "      <td>4</td>\n",
       "      <td>2</td>\n",
       "      <td>0</td>\n",
       "      <td>0.0</td>\n",
       "    </tr>\n",
       "    <tr>\n",
       "      <th>3</th>\n",
       "      <td>satisfied</td>\n",
       "      <td>Loyal Customer</td>\n",
       "      <td>60</td>\n",
       "      <td>Personal Travel</td>\n",
       "      <td>Eco</td>\n",
       "      <td>623</td>\n",
       "      <td>0</td>\n",
       "      <td>0</td>\n",
       "      <td>0</td>\n",
       "      <td>3</td>\n",
       "      <td>3</td>\n",
       "      <td>4</td>\n",
       "      <td>3</td>\n",
       "      <td>1</td>\n",
       "      <td>1</td>\n",
       "      <td>0</td>\n",
       "      <td>1</td>\n",
       "      <td>4</td>\n",
       "      <td>1</td>\n",
       "      <td>3</td>\n",
       "      <td>0</td>\n",
       "      <td>0.0</td>\n",
       "    </tr>\n",
       "    <tr>\n",
       "      <th>4</th>\n",
       "      <td>satisfied</td>\n",
       "      <td>Loyal Customer</td>\n",
       "      <td>70</td>\n",
       "      <td>Personal Travel</td>\n",
       "      <td>Eco</td>\n",
       "      <td>354</td>\n",
       "      <td>0</td>\n",
       "      <td>0</td>\n",
       "      <td>0</td>\n",
       "      <td>3</td>\n",
       "      <td>4</td>\n",
       "      <td>3</td>\n",
       "      <td>4</td>\n",
       "      <td>2</td>\n",
       "      <td>2</td>\n",
       "      <td>0</td>\n",
       "      <td>2</td>\n",
       "      <td>4</td>\n",
       "      <td>2</td>\n",
       "      <td>5</td>\n",
       "      <td>0</td>\n",
       "      <td>0.0</td>\n",
       "    </tr>\n",
       "  </tbody>\n",
       "</table>\n",
       "</div>"
      ],
      "text/plain": [
       "  satisfaction   Customer Type  Age   Type of Travel     Class  \\\n",
       "0    satisfied  Loyal Customer   65  Personal Travel       Eco   \n",
       "1    satisfied  Loyal Customer   47  Personal Travel  Business   \n",
       "2    satisfied  Loyal Customer   15  Personal Travel       Eco   \n",
       "3    satisfied  Loyal Customer   60  Personal Travel       Eco   \n",
       "4    satisfied  Loyal Customer   70  Personal Travel       Eco   \n",
       "\n",
       "   Flight Distance  Seat comfort  Departure/Arrival time convenient  \\\n",
       "0              265             0                                  0   \n",
       "1             2464             0                                  0   \n",
       "2             2138             0                                  0   \n",
       "3              623             0                                  0   \n",
       "4              354             0                                  0   \n",
       "\n",
       "   Food and drink  Gate location  Inflight wifi service  \\\n",
       "0               0              2                      2   \n",
       "1               0              3                      0   \n",
       "2               0              3                      2   \n",
       "3               0              3                      3   \n",
       "4               0              3                      4   \n",
       "\n",
       "   Inflight entertainment  Online support  Ease of Online booking  \\\n",
       "0                       4               2                       3   \n",
       "1                       2               2                       3   \n",
       "2                       0               2                       2   \n",
       "3                       4               3                       1   \n",
       "4                       3               4                       2   \n",
       "\n",
       "   On-board service  Leg room service  Baggage handling  Checkin service  \\\n",
       "0                 3                 0                 3                5   \n",
       "1                 4                 4                 4                2   \n",
       "2                 3                 3                 4                4   \n",
       "3                 1                 0                 1                4   \n",
       "4                 2                 0                 2                4   \n",
       "\n",
       "   Cleanliness  Online boarding  Departure Delay in Minutes  \\\n",
       "0            3                2                           0   \n",
       "1            3                2                         310   \n",
       "2            4                2                           0   \n",
       "3            1                3                           0   \n",
       "4            2                5                           0   \n",
       "\n",
       "   Arrival Delay in Minutes  \n",
       "0                       0.0  \n",
       "1                     305.0  \n",
       "2                       0.0  \n",
       "3                       0.0  \n",
       "4                       0.0  "
      ]
     },
     "execution_count": 18,
     "metadata": {},
     "output_type": "execute_result"
    }
   ],
   "source": [
    "df.head()"
   ]
  },
  {
   "cell_type": "code",
   "execution_count": 26,
   "id": "7d02e1bb-fbcc-4b2c-8fc1-617126888aac",
   "metadata": {},
   "outputs": [
    {
     "data": {
      "text/plain": [
       "Type of Travel\n",
       "Business travel    89445\n",
       "Personal Travel    40042\n",
       "Name: count, dtype: int64"
      ]
     },
     "execution_count": 26,
     "metadata": {},
     "output_type": "execute_result"
    }
   ],
   "source": [
    "df['Type of Travel'].value_counts()"
   ]
  },
  {
   "cell_type": "code",
   "execution_count": 32,
   "id": "901927a4-3a12-493d-82fa-3094eb01730c",
   "metadata": {},
   "outputs": [
    {
     "data": {
      "text/plain": [
       "Class\n",
       "Business    61990\n",
       "Eco         58117\n",
       "Eco Plus     9380\n",
       "Name: count, dtype: int64"
      ]
     },
     "execution_count": 32,
     "metadata": {},
     "output_type": "execute_result"
    }
   ],
   "source": [
    "df['Class'].value_counts()"
   ]
  },
  {
   "cell_type": "code",
   "execution_count": 40,
   "id": "28e0dd6a-5086-4301-810f-c54acc74d622",
   "metadata": {},
   "outputs": [
    {
     "name": "stderr",
     "output_type": "stream",
     "text": [
      "/var/folders/7h/0019w3h141s2b0z27906x13c0000gn/T/ipykernel_2801/1857799903.py:1: FutureWarning: Downcasting behavior in `replace` is deprecated and will be removed in a future version. To retain the old behavior, explicitly call `result.infer_objects(copy=False)`. To opt-in to the future behavior, set `pd.set_option('future.no_silent_downcasting', True)`\n",
      "  df = df.replace({'Loyal Customer':1,'disloyal Customer':0\n"
     ]
    }
   ],
   "source": [
    "df = df.replace({'Loyal Customer':1,'disloyal Customer':0\n",
    "            ,'Business travel':1,'Personal Travel':1,\n",
    "           'Eco':0,'Eco Plus':1,'Business':2,\n",
    "           'satisfied':1,'dissatisfied':0})"
   ]
  },
  {
   "cell_type": "code",
   "execution_count": 44,
   "id": "0a15368a-0eb7-43a2-b279-21e2ce1ec197",
   "metadata": {},
   "outputs": [
    {
     "data": {
      "text/html": [
       "<div>\n",
       "<style scoped>\n",
       "    .dataframe tbody tr th:only-of-type {\n",
       "        vertical-align: middle;\n",
       "    }\n",
       "\n",
       "    .dataframe tbody tr th {\n",
       "        vertical-align: top;\n",
       "    }\n",
       "\n",
       "    .dataframe thead th {\n",
       "        text-align: right;\n",
       "    }\n",
       "</style>\n",
       "<table border=\"1\" class=\"dataframe\">\n",
       "  <thead>\n",
       "    <tr style=\"text-align: right;\">\n",
       "      <th></th>\n",
       "      <th>satisfaction</th>\n",
       "      <th>Customer Type</th>\n",
       "      <th>Age</th>\n",
       "      <th>Type of Travel</th>\n",
       "      <th>Class</th>\n",
       "      <th>Flight Distance</th>\n",
       "      <th>Seat comfort</th>\n",
       "      <th>Departure/Arrival time convenient</th>\n",
       "      <th>Food and drink</th>\n",
       "      <th>Gate location</th>\n",
       "      <th>Inflight wifi service</th>\n",
       "      <th>Inflight entertainment</th>\n",
       "      <th>Online support</th>\n",
       "      <th>Ease of Online booking</th>\n",
       "      <th>On-board service</th>\n",
       "      <th>Leg room service</th>\n",
       "      <th>Baggage handling</th>\n",
       "      <th>Checkin service</th>\n",
       "      <th>Cleanliness</th>\n",
       "      <th>Online boarding</th>\n",
       "      <th>Departure Delay in Minutes</th>\n",
       "      <th>Arrival Delay in Minutes</th>\n",
       "    </tr>\n",
       "  </thead>\n",
       "  <tbody>\n",
       "    <tr>\n",
       "      <th>0</th>\n",
       "      <td>1</td>\n",
       "      <td>1</td>\n",
       "      <td>65</td>\n",
       "      <td>1</td>\n",
       "      <td>0</td>\n",
       "      <td>265</td>\n",
       "      <td>0</td>\n",
       "      <td>0</td>\n",
       "      <td>0</td>\n",
       "      <td>2</td>\n",
       "      <td>2</td>\n",
       "      <td>4</td>\n",
       "      <td>2</td>\n",
       "      <td>3</td>\n",
       "      <td>3</td>\n",
       "      <td>0</td>\n",
       "      <td>3</td>\n",
       "      <td>5</td>\n",
       "      <td>3</td>\n",
       "      <td>2</td>\n",
       "      <td>0</td>\n",
       "      <td>0.0</td>\n",
       "    </tr>\n",
       "    <tr>\n",
       "      <th>1</th>\n",
       "      <td>1</td>\n",
       "      <td>1</td>\n",
       "      <td>47</td>\n",
       "      <td>1</td>\n",
       "      <td>2</td>\n",
       "      <td>2464</td>\n",
       "      <td>0</td>\n",
       "      <td>0</td>\n",
       "      <td>0</td>\n",
       "      <td>3</td>\n",
       "      <td>0</td>\n",
       "      <td>2</td>\n",
       "      <td>2</td>\n",
       "      <td>3</td>\n",
       "      <td>4</td>\n",
       "      <td>4</td>\n",
       "      <td>4</td>\n",
       "      <td>2</td>\n",
       "      <td>3</td>\n",
       "      <td>2</td>\n",
       "      <td>310</td>\n",
       "      <td>305.0</td>\n",
       "    </tr>\n",
       "    <tr>\n",
       "      <th>2</th>\n",
       "      <td>1</td>\n",
       "      <td>1</td>\n",
       "      <td>15</td>\n",
       "      <td>1</td>\n",
       "      <td>0</td>\n",
       "      <td>2138</td>\n",
       "      <td>0</td>\n",
       "      <td>0</td>\n",
       "      <td>0</td>\n",
       "      <td>3</td>\n",
       "      <td>2</td>\n",
       "      <td>0</td>\n",
       "      <td>2</td>\n",
       "      <td>2</td>\n",
       "      <td>3</td>\n",
       "      <td>3</td>\n",
       "      <td>4</td>\n",
       "      <td>4</td>\n",
       "      <td>4</td>\n",
       "      <td>2</td>\n",
       "      <td>0</td>\n",
       "      <td>0.0</td>\n",
       "    </tr>\n",
       "    <tr>\n",
       "      <th>3</th>\n",
       "      <td>1</td>\n",
       "      <td>1</td>\n",
       "      <td>60</td>\n",
       "      <td>1</td>\n",
       "      <td>0</td>\n",
       "      <td>623</td>\n",
       "      <td>0</td>\n",
       "      <td>0</td>\n",
       "      <td>0</td>\n",
       "      <td>3</td>\n",
       "      <td>3</td>\n",
       "      <td>4</td>\n",
       "      <td>3</td>\n",
       "      <td>1</td>\n",
       "      <td>1</td>\n",
       "      <td>0</td>\n",
       "      <td>1</td>\n",
       "      <td>4</td>\n",
       "      <td>1</td>\n",
       "      <td>3</td>\n",
       "      <td>0</td>\n",
       "      <td>0.0</td>\n",
       "    </tr>\n",
       "    <tr>\n",
       "      <th>4</th>\n",
       "      <td>1</td>\n",
       "      <td>1</td>\n",
       "      <td>70</td>\n",
       "      <td>1</td>\n",
       "      <td>0</td>\n",
       "      <td>354</td>\n",
       "      <td>0</td>\n",
       "      <td>0</td>\n",
       "      <td>0</td>\n",
       "      <td>3</td>\n",
       "      <td>4</td>\n",
       "      <td>3</td>\n",
       "      <td>4</td>\n",
       "      <td>2</td>\n",
       "      <td>2</td>\n",
       "      <td>0</td>\n",
       "      <td>2</td>\n",
       "      <td>4</td>\n",
       "      <td>2</td>\n",
       "      <td>5</td>\n",
       "      <td>0</td>\n",
       "      <td>0.0</td>\n",
       "    </tr>\n",
       "  </tbody>\n",
       "</table>\n",
       "</div>"
      ],
      "text/plain": [
       "   satisfaction  Customer Type  Age  Type of Travel  Class  Flight Distance  \\\n",
       "0             1              1   65               1      0              265   \n",
       "1             1              1   47               1      2             2464   \n",
       "2             1              1   15               1      0             2138   \n",
       "3             1              1   60               1      0              623   \n",
       "4             1              1   70               1      0              354   \n",
       "\n",
       "   Seat comfort  Departure/Arrival time convenient  Food and drink  \\\n",
       "0             0                                  0               0   \n",
       "1             0                                  0               0   \n",
       "2             0                                  0               0   \n",
       "3             0                                  0               0   \n",
       "4             0                                  0               0   \n",
       "\n",
       "   Gate location  Inflight wifi service  Inflight entertainment  \\\n",
       "0              2                      2                       4   \n",
       "1              3                      0                       2   \n",
       "2              3                      2                       0   \n",
       "3              3                      3                       4   \n",
       "4              3                      4                       3   \n",
       "\n",
       "   Online support  Ease of Online booking  On-board service  Leg room service  \\\n",
       "0               2                       3                 3                 0   \n",
       "1               2                       3                 4                 4   \n",
       "2               2                       2                 3                 3   \n",
       "3               3                       1                 1                 0   \n",
       "4               4                       2                 2                 0   \n",
       "\n",
       "   Baggage handling  Checkin service  Cleanliness  Online boarding  \\\n",
       "0                 3                5            3                2   \n",
       "1                 4                2            3                2   \n",
       "2                 4                4            4                2   \n",
       "3                 1                4            1                3   \n",
       "4                 2                4            2                5   \n",
       "\n",
       "   Departure Delay in Minutes  Arrival Delay in Minutes  \n",
       "0                           0                       0.0  \n",
       "1                         310                     305.0  \n",
       "2                           0                       0.0  \n",
       "3                           0                       0.0  \n",
       "4                           0                       0.0  "
      ]
     },
     "execution_count": 44,
     "metadata": {},
     "output_type": "execute_result"
    }
   ],
   "source": [
    "df.head()"
   ]
  },
  {
   "cell_type": "code",
   "execution_count": 46,
   "id": "79341671-2a96-477c-8b6c-f020d7455cb6",
   "metadata": {},
   "outputs": [],
   "source": [
    "# df['Customer Type'].value_counts()"
   ]
  },
  {
   "cell_type": "code",
   "execution_count": 48,
   "id": "33360a89-58cf-4d58-8d9c-8ee25d3ac0ed",
   "metadata": {},
   "outputs": [
    {
     "data": {
      "text/plain": [
       "satisfaction                            2\n",
       "Customer Type                           2\n",
       "Age                                    75\n",
       "Type of Travel                          1\n",
       "Class                                   3\n",
       "Flight Distance                      5397\n",
       "Seat comfort                            6\n",
       "Departure/Arrival time convenient       6\n",
       "Food and drink                          6\n",
       "Gate location                           6\n",
       "Inflight wifi service                   6\n",
       "Inflight entertainment                  6\n",
       "Online support                          6\n",
       "Ease of Online booking                  6\n",
       "On-board service                        6\n",
       "Leg room service                        6\n",
       "Baggage handling                        5\n",
       "Checkin service                         6\n",
       "Cleanliness                             6\n",
       "Online boarding                         6\n",
       "Departure Delay in Minutes            464\n",
       "Arrival Delay in Minutes              472\n",
       "dtype: int64"
      ]
     },
     "execution_count": 48,
     "metadata": {},
     "output_type": "execute_result"
    }
   ],
   "source": [
    "df.nunique()"
   ]
  },
  {
   "cell_type": "markdown",
   "id": "ef641e32",
   "metadata": {
    "id": "ec269f85-6622-4f82-bdcd-1874224a4052",
    "tags": []
   },
   "source": [
    "**Prepare the data**\n",
    "\n",
    "After loading the dataset, prepare the data to be suitable for a logistic regression model. This includes: \n",
    "*   Encoding the data\n",
    "*   Renaming a column\n",
    "*   Creating the training and testing data"
   ]
  },
  {
   "cell_type": "markdown",
   "id": "114b20da",
   "metadata": {},
   "source": [
    "**Convert the categorical column `satisfaction` into numeric**\n",
    "\n",
    "Convert the categorical column `satisfaction` into numeric through one-hot encoding."
   ]
  },
  {
   "cell_type": "markdown",
   "id": "cbfc2a30-92a3-4f62-aea1-9f2a85d08eed",
   "metadata": {},
   "source": [
    "#### 3.1 Feature Endcoding\n",
    "##### 3.1.1 One-hot Encoding\n",
    "##### 3.1.2 Two-hot Encoding\n",
    "##### 3.1.2 Multicolinearity"
   ]
  },
  {
   "cell_type": "code",
   "execution_count": 50,
   "id": "d44b0491-0d7f-4f08-8d47-f1489a7b7f7b",
   "metadata": {},
   "outputs": [
    {
     "data": {
      "text/html": [
       "<div>\n",
       "<style scoped>\n",
       "    .dataframe tbody tr th:only-of-type {\n",
       "        vertical-align: middle;\n",
       "    }\n",
       "\n",
       "    .dataframe tbody tr th {\n",
       "        vertical-align: top;\n",
       "    }\n",
       "\n",
       "    .dataframe thead th {\n",
       "        text-align: right;\n",
       "    }\n",
       "</style>\n",
       "<table border=\"1\" class=\"dataframe\">\n",
       "  <thead>\n",
       "    <tr style=\"text-align: right;\">\n",
       "      <th></th>\n",
       "      <th>satisfaction</th>\n",
       "      <th>Customer Type</th>\n",
       "      <th>Age</th>\n",
       "      <th>Type of Travel</th>\n",
       "      <th>Class</th>\n",
       "      <th>Flight Distance</th>\n",
       "      <th>Seat comfort</th>\n",
       "      <th>Departure/Arrival time convenient</th>\n",
       "      <th>Food and drink</th>\n",
       "      <th>Gate location</th>\n",
       "      <th>Inflight wifi service</th>\n",
       "      <th>Inflight entertainment</th>\n",
       "      <th>Online support</th>\n",
       "      <th>Ease of Online booking</th>\n",
       "      <th>On-board service</th>\n",
       "      <th>Leg room service</th>\n",
       "      <th>Baggage handling</th>\n",
       "      <th>Checkin service</th>\n",
       "      <th>Cleanliness</th>\n",
       "      <th>Online boarding</th>\n",
       "      <th>Departure Delay in Minutes</th>\n",
       "      <th>Arrival Delay in Minutes</th>\n",
       "    </tr>\n",
       "  </thead>\n",
       "  <tbody>\n",
       "    <tr>\n",
       "      <th>0</th>\n",
       "      <td>1</td>\n",
       "      <td>1</td>\n",
       "      <td>65</td>\n",
       "      <td>1</td>\n",
       "      <td>0</td>\n",
       "      <td>265</td>\n",
       "      <td>0</td>\n",
       "      <td>0</td>\n",
       "      <td>0</td>\n",
       "      <td>2</td>\n",
       "      <td>2</td>\n",
       "      <td>4</td>\n",
       "      <td>2</td>\n",
       "      <td>3</td>\n",
       "      <td>3</td>\n",
       "      <td>0</td>\n",
       "      <td>3</td>\n",
       "      <td>5</td>\n",
       "      <td>3</td>\n",
       "      <td>2</td>\n",
       "      <td>0</td>\n",
       "      <td>0.0</td>\n",
       "    </tr>\n",
       "    <tr>\n",
       "      <th>1</th>\n",
       "      <td>1</td>\n",
       "      <td>1</td>\n",
       "      <td>47</td>\n",
       "      <td>1</td>\n",
       "      <td>2</td>\n",
       "      <td>2464</td>\n",
       "      <td>0</td>\n",
       "      <td>0</td>\n",
       "      <td>0</td>\n",
       "      <td>3</td>\n",
       "      <td>0</td>\n",
       "      <td>2</td>\n",
       "      <td>2</td>\n",
       "      <td>3</td>\n",
       "      <td>4</td>\n",
       "      <td>4</td>\n",
       "      <td>4</td>\n",
       "      <td>2</td>\n",
       "      <td>3</td>\n",
       "      <td>2</td>\n",
       "      <td>310</td>\n",
       "      <td>305.0</td>\n",
       "    </tr>\n",
       "    <tr>\n",
       "      <th>2</th>\n",
       "      <td>1</td>\n",
       "      <td>1</td>\n",
       "      <td>15</td>\n",
       "      <td>1</td>\n",
       "      <td>0</td>\n",
       "      <td>2138</td>\n",
       "      <td>0</td>\n",
       "      <td>0</td>\n",
       "      <td>0</td>\n",
       "      <td>3</td>\n",
       "      <td>2</td>\n",
       "      <td>0</td>\n",
       "      <td>2</td>\n",
       "      <td>2</td>\n",
       "      <td>3</td>\n",
       "      <td>3</td>\n",
       "      <td>4</td>\n",
       "      <td>4</td>\n",
       "      <td>4</td>\n",
       "      <td>2</td>\n",
       "      <td>0</td>\n",
       "      <td>0.0</td>\n",
       "    </tr>\n",
       "    <tr>\n",
       "      <th>3</th>\n",
       "      <td>1</td>\n",
       "      <td>1</td>\n",
       "      <td>60</td>\n",
       "      <td>1</td>\n",
       "      <td>0</td>\n",
       "      <td>623</td>\n",
       "      <td>0</td>\n",
       "      <td>0</td>\n",
       "      <td>0</td>\n",
       "      <td>3</td>\n",
       "      <td>3</td>\n",
       "      <td>4</td>\n",
       "      <td>3</td>\n",
       "      <td>1</td>\n",
       "      <td>1</td>\n",
       "      <td>0</td>\n",
       "      <td>1</td>\n",
       "      <td>4</td>\n",
       "      <td>1</td>\n",
       "      <td>3</td>\n",
       "      <td>0</td>\n",
       "      <td>0.0</td>\n",
       "    </tr>\n",
       "    <tr>\n",
       "      <th>4</th>\n",
       "      <td>1</td>\n",
       "      <td>1</td>\n",
       "      <td>70</td>\n",
       "      <td>1</td>\n",
       "      <td>0</td>\n",
       "      <td>354</td>\n",
       "      <td>0</td>\n",
       "      <td>0</td>\n",
       "      <td>0</td>\n",
       "      <td>3</td>\n",
       "      <td>4</td>\n",
       "      <td>3</td>\n",
       "      <td>4</td>\n",
       "      <td>2</td>\n",
       "      <td>2</td>\n",
       "      <td>0</td>\n",
       "      <td>2</td>\n",
       "      <td>4</td>\n",
       "      <td>2</td>\n",
       "      <td>5</td>\n",
       "      <td>0</td>\n",
       "      <td>0.0</td>\n",
       "    </tr>\n",
       "    <tr>\n",
       "      <th>...</th>\n",
       "      <td>...</td>\n",
       "      <td>...</td>\n",
       "      <td>...</td>\n",
       "      <td>...</td>\n",
       "      <td>...</td>\n",
       "      <td>...</td>\n",
       "      <td>...</td>\n",
       "      <td>...</td>\n",
       "      <td>...</td>\n",
       "      <td>...</td>\n",
       "      <td>...</td>\n",
       "      <td>...</td>\n",
       "      <td>...</td>\n",
       "      <td>...</td>\n",
       "      <td>...</td>\n",
       "      <td>...</td>\n",
       "      <td>...</td>\n",
       "      <td>...</td>\n",
       "      <td>...</td>\n",
       "      <td>...</td>\n",
       "      <td>...</td>\n",
       "      <td>...</td>\n",
       "    </tr>\n",
       "    <tr>\n",
       "      <th>129875</th>\n",
       "      <td>1</td>\n",
       "      <td>0</td>\n",
       "      <td>29</td>\n",
       "      <td>1</td>\n",
       "      <td>0</td>\n",
       "      <td>1731</td>\n",
       "      <td>5</td>\n",
       "      <td>5</td>\n",
       "      <td>5</td>\n",
       "      <td>3</td>\n",
       "      <td>2</td>\n",
       "      <td>5</td>\n",
       "      <td>2</td>\n",
       "      <td>2</td>\n",
       "      <td>3</td>\n",
       "      <td>3</td>\n",
       "      <td>4</td>\n",
       "      <td>4</td>\n",
       "      <td>4</td>\n",
       "      <td>2</td>\n",
       "      <td>0</td>\n",
       "      <td>0.0</td>\n",
       "    </tr>\n",
       "    <tr>\n",
       "      <th>129876</th>\n",
       "      <td>0</td>\n",
       "      <td>0</td>\n",
       "      <td>63</td>\n",
       "      <td>1</td>\n",
       "      <td>2</td>\n",
       "      <td>2087</td>\n",
       "      <td>2</td>\n",
       "      <td>3</td>\n",
       "      <td>2</td>\n",
       "      <td>4</td>\n",
       "      <td>2</td>\n",
       "      <td>1</td>\n",
       "      <td>1</td>\n",
       "      <td>3</td>\n",
       "      <td>2</td>\n",
       "      <td>3</td>\n",
       "      <td>3</td>\n",
       "      <td>1</td>\n",
       "      <td>2</td>\n",
       "      <td>1</td>\n",
       "      <td>174</td>\n",
       "      <td>172.0</td>\n",
       "    </tr>\n",
       "    <tr>\n",
       "      <th>129877</th>\n",
       "      <td>0</td>\n",
       "      <td>0</td>\n",
       "      <td>69</td>\n",
       "      <td>1</td>\n",
       "      <td>0</td>\n",
       "      <td>2320</td>\n",
       "      <td>3</td>\n",
       "      <td>0</td>\n",
       "      <td>3</td>\n",
       "      <td>3</td>\n",
       "      <td>3</td>\n",
       "      <td>2</td>\n",
       "      <td>2</td>\n",
       "      <td>4</td>\n",
       "      <td>4</td>\n",
       "      <td>3</td>\n",
       "      <td>4</td>\n",
       "      <td>2</td>\n",
       "      <td>3</td>\n",
       "      <td>2</td>\n",
       "      <td>155</td>\n",
       "      <td>163.0</td>\n",
       "    </tr>\n",
       "    <tr>\n",
       "      <th>129878</th>\n",
       "      <td>0</td>\n",
       "      <td>0</td>\n",
       "      <td>66</td>\n",
       "      <td>1</td>\n",
       "      <td>0</td>\n",
       "      <td>2450</td>\n",
       "      <td>3</td>\n",
       "      <td>2</td>\n",
       "      <td>3</td>\n",
       "      <td>2</td>\n",
       "      <td>3</td>\n",
       "      <td>2</td>\n",
       "      <td>2</td>\n",
       "      <td>3</td>\n",
       "      <td>3</td>\n",
       "      <td>2</td>\n",
       "      <td>3</td>\n",
       "      <td>2</td>\n",
       "      <td>1</td>\n",
       "      <td>2</td>\n",
       "      <td>193</td>\n",
       "      <td>205.0</td>\n",
       "    </tr>\n",
       "    <tr>\n",
       "      <th>129879</th>\n",
       "      <td>0</td>\n",
       "      <td>0</td>\n",
       "      <td>38</td>\n",
       "      <td>1</td>\n",
       "      <td>0</td>\n",
       "      <td>4307</td>\n",
       "      <td>3</td>\n",
       "      <td>4</td>\n",
       "      <td>3</td>\n",
       "      <td>3</td>\n",
       "      <td>3</td>\n",
       "      <td>3</td>\n",
       "      <td>3</td>\n",
       "      <td>4</td>\n",
       "      <td>5</td>\n",
       "      <td>5</td>\n",
       "      <td>5</td>\n",
       "      <td>3</td>\n",
       "      <td>3</td>\n",
       "      <td>3</td>\n",
       "      <td>185</td>\n",
       "      <td>186.0</td>\n",
       "    </tr>\n",
       "  </tbody>\n",
       "</table>\n",
       "<p>129487 rows × 22 columns</p>\n",
       "</div>"
      ],
      "text/plain": [
       "        satisfaction  Customer Type  Age  Type of Travel  Class  \\\n",
       "0                  1              1   65               1      0   \n",
       "1                  1              1   47               1      2   \n",
       "2                  1              1   15               1      0   \n",
       "3                  1              1   60               1      0   \n",
       "4                  1              1   70               1      0   \n",
       "...              ...            ...  ...             ...    ...   \n",
       "129875             1              0   29               1      0   \n",
       "129876             0              0   63               1      2   \n",
       "129877             0              0   69               1      0   \n",
       "129878             0              0   66               1      0   \n",
       "129879             0              0   38               1      0   \n",
       "\n",
       "        Flight Distance  Seat comfort  Departure/Arrival time convenient  \\\n",
       "0                   265             0                                  0   \n",
       "1                  2464             0                                  0   \n",
       "2                  2138             0                                  0   \n",
       "3                   623             0                                  0   \n",
       "4                   354             0                                  0   \n",
       "...                 ...           ...                                ...   \n",
       "129875             1731             5                                  5   \n",
       "129876             2087             2                                  3   \n",
       "129877             2320             3                                  0   \n",
       "129878             2450             3                                  2   \n",
       "129879             4307             3                                  4   \n",
       "\n",
       "        Food and drink  Gate location  Inflight wifi service  \\\n",
       "0                    0              2                      2   \n",
       "1                    0              3                      0   \n",
       "2                    0              3                      2   \n",
       "3                    0              3                      3   \n",
       "4                    0              3                      4   \n",
       "...                ...            ...                    ...   \n",
       "129875               5              3                      2   \n",
       "129876               2              4                      2   \n",
       "129877               3              3                      3   \n",
       "129878               3              2                      3   \n",
       "129879               3              3                      3   \n",
       "\n",
       "        Inflight entertainment  Online support  Ease of Online booking  \\\n",
       "0                            4               2                       3   \n",
       "1                            2               2                       3   \n",
       "2                            0               2                       2   \n",
       "3                            4               3                       1   \n",
       "4                            3               4                       2   \n",
       "...                        ...             ...                     ...   \n",
       "129875                       5               2                       2   \n",
       "129876                       1               1                       3   \n",
       "129877                       2               2                       4   \n",
       "129878                       2               2                       3   \n",
       "129879                       3               3                       4   \n",
       "\n",
       "        On-board service  Leg room service  Baggage handling  Checkin service  \\\n",
       "0                      3                 0                 3                5   \n",
       "1                      4                 4                 4                2   \n",
       "2                      3                 3                 4                4   \n",
       "3                      1                 0                 1                4   \n",
       "4                      2                 0                 2                4   \n",
       "...                  ...               ...               ...              ...   \n",
       "129875                 3                 3                 4                4   \n",
       "129876                 2                 3                 3                1   \n",
       "129877                 4                 3                 4                2   \n",
       "129878                 3                 2                 3                2   \n",
       "129879                 5                 5                 5                3   \n",
       "\n",
       "        Cleanliness  Online boarding  Departure Delay in Minutes  \\\n",
       "0                 3                2                           0   \n",
       "1                 3                2                         310   \n",
       "2                 4                2                           0   \n",
       "3                 1                3                           0   \n",
       "4                 2                5                           0   \n",
       "...             ...              ...                         ...   \n",
       "129875            4                2                           0   \n",
       "129876            2                1                         174   \n",
       "129877            3                2                         155   \n",
       "129878            1                2                         193   \n",
       "129879            3                3                         185   \n",
       "\n",
       "        Arrival Delay in Minutes  \n",
       "0                            0.0  \n",
       "1                          305.0  \n",
       "2                            0.0  \n",
       "3                            0.0  \n",
       "4                            0.0  \n",
       "...                          ...  \n",
       "129875                       0.0  \n",
       "129876                     172.0  \n",
       "129877                     163.0  \n",
       "129878                     205.0  \n",
       "129879                     186.0  \n",
       "\n",
       "[129487 rows x 22 columns]"
      ]
     },
     "execution_count": 50,
     "metadata": {},
     "output_type": "execute_result"
    }
   ],
   "source": [
    "df"
   ]
  },
  {
   "cell_type": "code",
   "execution_count": 60,
   "id": "f3378d22-33b4-44d5-8336-614394af5ede",
   "metadata": {},
   "outputs": [],
   "source": [
    "x = df.drop(columns=['satisfaction'])\n",
    "y = df['satisfaction']"
   ]
  },
  {
   "cell_type": "code",
   "execution_count": 62,
   "id": "07c884da-e369-48b5-90a7-767944ebb2f9",
   "metadata": {},
   "outputs": [],
   "source": [
    "from sklearn.model_selection import train_test_split\n",
    "x_train, x_test, y_train, y_test = train_test_split(x, y)"
   ]
  },
  {
   "cell_type": "code",
   "execution_count": 66,
   "id": "1c11340a-e155-4f1a-ae90-a3649ee9cc14",
   "metadata": {},
   "outputs": [
    {
     "name": "stderr",
     "output_type": "stream",
     "text": [
      "/opt/anaconda3/lib/python3.11/site-packages/sklearn/linear_model/_logistic.py:458: ConvergenceWarning: lbfgs failed to converge (status=1):\n",
      "STOP: TOTAL NO. of ITERATIONS REACHED LIMIT.\n",
      "\n",
      "Increase the number of iterations (max_iter) or scale the data as shown in:\n",
      "    https://scikit-learn.org/stable/modules/preprocessing.html\n",
      "Please also refer to the documentation for alternative solver options:\n",
      "    https://scikit-learn.org/stable/modules/linear_model.html#logistic-regression\n",
      "  n_iter_i = _check_optimize_result(\n"
     ]
    },
    {
     "data": {
      "text/html": [
       "<style>#sk-container-id-2 {color: black;background-color: white;}#sk-container-id-2 pre{padding: 0;}#sk-container-id-2 div.sk-toggleable {background-color: white;}#sk-container-id-2 label.sk-toggleable__label {cursor: pointer;display: block;width: 100%;margin-bottom: 0;padding: 0.3em;box-sizing: border-box;text-align: center;}#sk-container-id-2 label.sk-toggleable__label-arrow:before {content: \"▸\";float: left;margin-right: 0.25em;color: #696969;}#sk-container-id-2 label.sk-toggleable__label-arrow:hover:before {color: black;}#sk-container-id-2 div.sk-estimator:hover label.sk-toggleable__label-arrow:before {color: black;}#sk-container-id-2 div.sk-toggleable__content {max-height: 0;max-width: 0;overflow: hidden;text-align: left;background-color: #f0f8ff;}#sk-container-id-2 div.sk-toggleable__content pre {margin: 0.2em;color: black;border-radius: 0.25em;background-color: #f0f8ff;}#sk-container-id-2 input.sk-toggleable__control:checked~div.sk-toggleable__content {max-height: 200px;max-width: 100%;overflow: auto;}#sk-container-id-2 input.sk-toggleable__control:checked~label.sk-toggleable__label-arrow:before {content: \"▾\";}#sk-container-id-2 div.sk-estimator input.sk-toggleable__control:checked~label.sk-toggleable__label {background-color: #d4ebff;}#sk-container-id-2 div.sk-label input.sk-toggleable__control:checked~label.sk-toggleable__label {background-color: #d4ebff;}#sk-container-id-2 input.sk-hidden--visually {border: 0;clip: rect(1px 1px 1px 1px);clip: rect(1px, 1px, 1px, 1px);height: 1px;margin: -1px;overflow: hidden;padding: 0;position: absolute;width: 1px;}#sk-container-id-2 div.sk-estimator {font-family: monospace;background-color: #f0f8ff;border: 1px dotted black;border-radius: 0.25em;box-sizing: border-box;margin-bottom: 0.5em;}#sk-container-id-2 div.sk-estimator:hover {background-color: #d4ebff;}#sk-container-id-2 div.sk-parallel-item::after {content: \"\";width: 100%;border-bottom: 1px solid gray;flex-grow: 1;}#sk-container-id-2 div.sk-label:hover label.sk-toggleable__label {background-color: #d4ebff;}#sk-container-id-2 div.sk-serial::before {content: \"\";position: absolute;border-left: 1px solid gray;box-sizing: border-box;top: 0;bottom: 0;left: 50%;z-index: 0;}#sk-container-id-2 div.sk-serial {display: flex;flex-direction: column;align-items: center;background-color: white;padding-right: 0.2em;padding-left: 0.2em;position: relative;}#sk-container-id-2 div.sk-item {position: relative;z-index: 1;}#sk-container-id-2 div.sk-parallel {display: flex;align-items: stretch;justify-content: center;background-color: white;position: relative;}#sk-container-id-2 div.sk-item::before, #sk-container-id-2 div.sk-parallel-item::before {content: \"\";position: absolute;border-left: 1px solid gray;box-sizing: border-box;top: 0;bottom: 0;left: 50%;z-index: -1;}#sk-container-id-2 div.sk-parallel-item {display: flex;flex-direction: column;z-index: 1;position: relative;background-color: white;}#sk-container-id-2 div.sk-parallel-item:first-child::after {align-self: flex-end;width: 50%;}#sk-container-id-2 div.sk-parallel-item:last-child::after {align-self: flex-start;width: 50%;}#sk-container-id-2 div.sk-parallel-item:only-child::after {width: 0;}#sk-container-id-2 div.sk-dashed-wrapped {border: 1px dashed gray;margin: 0 0.4em 0.5em 0.4em;box-sizing: border-box;padding-bottom: 0.4em;background-color: white;}#sk-container-id-2 div.sk-label label {font-family: monospace;font-weight: bold;display: inline-block;line-height: 1.2em;}#sk-container-id-2 div.sk-label-container {text-align: center;}#sk-container-id-2 div.sk-container {/* jupyter's `normalize.less` sets `[hidden] { display: none; }` but bootstrap.min.css set `[hidden] { display: none !important; }` so we also need the `!important` here to be able to override the default hidden behavior on the sphinx rendered scikit-learn.org. See: https://github.com/scikit-learn/scikit-learn/issues/21755 */display: inline-block !important;position: relative;}#sk-container-id-2 div.sk-text-repr-fallback {display: none;}</style><div id=\"sk-container-id-2\" class=\"sk-top-container\"><div class=\"sk-text-repr-fallback\"><pre>LogisticRegression()</pre><b>In a Jupyter environment, please rerun this cell to show the HTML representation or trust the notebook. <br />On GitHub, the HTML representation is unable to render, please try loading this page with nbviewer.org.</b></div><div class=\"sk-container\" hidden><div class=\"sk-item\"><div class=\"sk-estimator sk-toggleable\"><input class=\"sk-toggleable__control sk-hidden--visually\" id=\"sk-estimator-id-2\" type=\"checkbox\" checked><label for=\"sk-estimator-id-2\" class=\"sk-toggleable__label sk-toggleable__label-arrow\">LogisticRegression</label><div class=\"sk-toggleable__content\"><pre>LogisticRegression()</pre></div></div></div></div></div>"
      ],
      "text/plain": [
       "LogisticRegression()"
      ]
     },
     "execution_count": 66,
     "metadata": {},
     "output_type": "execute_result"
    }
   ],
   "source": [
    "from sklearn.linear_model import LinearRegression, LogisticRegression\n",
    "Logit = LogisticRegression(\n",
    "    \n",
    ")\n",
    "Logit.fit(x_train, y_train)"
   ]
  },
  {
   "cell_type": "code",
   "execution_count": 68,
   "id": "4e3b6485-94c9-45ce-98e4-95c3f3db63e0",
   "metadata": {},
   "outputs": [
    {
     "data": {
      "text/plain": [
       "array([-0.11910226])"
      ]
     },
     "execution_count": 68,
     "metadata": {},
     "output_type": "execute_result"
    }
   ],
   "source": [
    "Logit.intercept_"
   ]
  },
  {
   "cell_type": "code",
   "execution_count": 70,
   "id": "02359946-8cb1-4362-b6cf-e2ba3f953626",
   "metadata": {},
   "outputs": [
    {
     "data": {
      "text/plain": [
       "array([[ 0.1144154 , -0.02675109, -0.11910122,  0.36081934, -0.00058029,\n",
       "         0.13302262, -0.24544647, -0.047666  , -0.24451845, -0.11708118,\n",
       "         0.54134471,  0.15588566,  0.22204802,  0.16577928,  0.10978409,\n",
       "        -0.05367197,  0.05630529, -0.07106607,  0.06846258,  0.02152899,\n",
       "        -0.02566944]])"
      ]
     },
     "execution_count": 70,
     "metadata": {},
     "output_type": "execute_result"
    }
   ],
   "source": [
    "Logit.coef_"
   ]
  },
  {
   "cell_type": "code",
   "execution_count": 78,
   "id": "6bfa806c-efde-418a-bfce-e000154b184f",
   "metadata": {},
   "outputs": [],
   "source": [
    "from sklearn.metrics import confusion_matrix"
   ]
  },
  {
   "cell_type": "code",
   "execution_count": 82,
   "id": "6d8e2a83-83fd-457c-a178-50f5546655d3",
   "metadata": {},
   "outputs": [],
   "source": [
    "y_pred = Logit.predict(x_test)"
   ]
  },
  {
   "cell_type": "code",
   "execution_count": 84,
   "id": "5b39f310-87db-42b8-9eb3-db2611e158ee",
   "metadata": {},
   "outputs": [
    {
     "data": {
      "text/plain": [
       "11790     0\n",
       "115220    1\n",
       "12022     0\n",
       "66061     0\n",
       "119353    1\n",
       "         ..\n",
       "115832    1\n",
       "114654    1\n",
       "102663    1\n",
       "38279     0\n",
       "127252    1\n",
       "Name: satisfaction, Length: 32372, dtype: int64"
      ]
     },
     "execution_count": 84,
     "metadata": {},
     "output_type": "execute_result"
    }
   ],
   "source": [
    "y_test"
   ]
  },
  {
   "cell_type": "code",
   "execution_count": 86,
   "id": "a5eacac6-2472-41ae-8d62-01fee6621298",
   "metadata": {},
   "outputs": [
    {
     "data": {
      "text/plain": [
       "array([[ 9463,  5134],\n",
       "       [ 2948, 14827]])"
      ]
     },
     "execution_count": 86,
     "metadata": {},
     "output_type": "execute_result"
    }
   ],
   "source": [
    "confusion_matrix(y_test,y_pred)"
   ]
  },
  {
   "cell_type": "code",
   "execution_count": 76,
   "id": "8eff5c69-c2a3-4a55-a915-8f7fbf57b8be",
   "metadata": {},
   "outputs": [],
   "source": [
    "def model_eval(y_true,y_pred):\n",
    "    tn, fp, fn, tp = confusion_matrix(y_true,y_pred).ravel()\n",
    "    accuracy=(tp+tn)/(tp+tn+fp+fn)\n",
    "    error = 1-accuracy\n",
    "    precision=tp/(tp+fp)\n",
    "    recall=tp/(tp+fn)\n",
    "    specificity=tn/(fp+tn)\n",
    "    result={\"Accuracy\":accuracy,\"Error\":error, \"Precision\":precision,\"Recall\":recall,'Specificity':specificity}\n",
    "    return result"
   ]
  },
  {
   "cell_type": "code",
   "execution_count": 88,
   "id": "55dbe605-63df-4f20-9087-3f3ae0673c84",
   "metadata": {},
   "outputs": [
    {
     "data": {
      "text/plain": [
       "{'Accuracy': 0.750339799827011,\n",
       " 'Error': 0.24966020017298896,\n",
       " 'Precision': 0.7427984569911327,\n",
       " 'Recall': 0.8341490857946554,\n",
       " 'Specificity': 0.6482838939508118}"
      ]
     },
     "execution_count": 88,
     "metadata": {},
     "output_type": "execute_result"
    }
   ],
   "source": [
    "model_eval(y_test, y_pred)"
   ]
  },
  {
   "cell_type": "code",
   "execution_count": null,
   "id": "78a283ab-1594-4f0a-a2c0-749bed821795",
   "metadata": {},
   "outputs": [],
   "source": [
    "!pip install explainerdashboard"
   ]
  },
  {
   "cell_type": "code",
   "execution_count": 92,
   "id": "908736e2-b922-42de-a009-b92051579bbc",
   "metadata": {},
   "outputs": [
    {
     "name": "stdout",
     "output_type": "stream",
     "text": [
      "WARNING: For shap='linear', shap interaction values can unfortunately not be calculated!\n",
      "Note: model_output='probability' is currently not supported for linear classifiers models with shap. So defaulting to model_output='logodds' If you really need probability outputs use shap='kernel' instead.\n",
      "Note: shap values for shap='linear' get calculated against X_background, but paramater X_background=None, so using X instead...\n",
      "Generating self.shap_explainer = shap.LinearExplainer(model, X)...\n",
      "Building ExplainerDashboard..\n",
      "WARNING: the number of idxs (=97115) > max_idxs_in_dropdown(=1000). However with your installed version of dash(2.16.1) dropdown search may not work smoothly. You can downgrade to `pip install dash==2.6.2` which should work better for now...\n",
      "Detected notebook environment, consider setting mode='external', mode='inline' or mode='jupyterlab' to keep the notebook interactive while the dashboard is running...\n",
      "For this type of model and model_output interactions don't work, so setting shap_interaction=False...\n",
      "The explainer object has no decision_trees property. so setting decision_trees=False...\n",
      "Generating layout...\n",
      "Calculating shap values...\n",
      "Calculating prediction probabilities...\n",
      "Calculating metrics...\n",
      "Calculating confusion matrices...\n",
      "Calculating classification_dfs...\n",
      "Calculating roc auc curves...\n",
      "Calculating pr auc curves...\n",
      "Calculating liftcurve_dfs...\n",
      "Calculating dependencies...\n",
      "Calculating permutation importances (if slow, try setting n_jobs parameter)...\n",
      "Calculating pred_percentiles...\n",
      "Calculating predictions...\n",
      "Reminder: you can store the explainer (including calculated dependencies) with explainer.dump('explainer.joblib') and reload with e.g. ClassifierExplainer.from_file('explainer.joblib')\n",
      "Registering callbacks...\n",
      "Starting ExplainerDashboard on http://10.5.51.82:434\n"
     ]
    },
    {
     "data": {
      "text/html": [
       "\n",
       "        <iframe\n",
       "            width=\"100%\"\n",
       "            height=\"650\"\n",
       "            src=\"http://0.0.0.0:434/\"\n",
       "            frameborder=\"0\"\n",
       "            allowfullscreen\n",
       "            \n",
       "        ></iframe>\n",
       "        "
      ],
      "text/plain": [
       "<IPython.lib.display.IFrame at 0x348828150>"
      ]
     },
     "metadata": {},
     "output_type": "display_data"
    }
   ],
   "source": [
    "from explainerdashboard import ClassifierExplainer, ExplainerDashboard\n",
    "explainer = ClassifierExplainer(Logit, x_train, y_train)\n",
    "ExplainerDashboard(explainer, port=434).run()"
   ]
  },
  {
   "cell_type": "code",
   "execution_count": 72,
   "id": "f1d30560-474e-4cc1-a54d-c7ce5d70f856",
   "metadata": {},
   "outputs": [
    {
     "name": "stdout",
     "output_type": "stream",
     "text": [
      "Optimization terminated successfully.\n",
      "         Current function value: 0.404606\n",
      "         Iterations 7\n"
     ]
    }
   ],
   "source": [
    "import statsmodels.api as sm\n",
    "x_train_con = sm.add_constant(x_train)\n",
    "Logit1 = sm.Logit(y_train, x_train_con).fit()"
   ]
  },
  {
   "cell_type": "code",
   "execution_count": 74,
   "id": "4e61e9a7-7be4-4b7e-a5a3-167083f58bba",
   "metadata": {},
   "outputs": [
    {
     "data": {
      "text/html": [
       "<table class=\"simpletable\">\n",
       "<caption>Logit Regression Results</caption>\n",
       "<tr>\n",
       "  <th>Dep. Variable:</th>     <td>satisfaction</td>   <th>  No. Observations:  </th>  <td> 97115</td> \n",
       "</tr>\n",
       "<tr>\n",
       "  <th>Model:</th>                 <td>Logit</td>      <th>  Df Residuals:      </th>  <td> 97094</td> \n",
       "</tr>\n",
       "<tr>\n",
       "  <th>Method:</th>                 <td>MLE</td>       <th>  Df Model:          </th>  <td>    20</td> \n",
       "</tr>\n",
       "<tr>\n",
       "  <th>Date:</th>            <td>Sat, 31 Aug 2024</td> <th>  Pseudo R-squ.:     </th>  <td>0.4126</td> \n",
       "</tr>\n",
       "<tr>\n",
       "  <th>Time:</th>                <td>11:41:36</td>     <th>  Log-Likelihood:    </th> <td> -39293.</td>\n",
       "</tr>\n",
       "<tr>\n",
       "  <th>converged:</th>             <td>True</td>       <th>  LL-Null:           </th> <td> -66888.</td>\n",
       "</tr>\n",
       "<tr>\n",
       "  <th>Covariance Type:</th>     <td>nonrobust</td>    <th>  LLR p-value:       </th>  <td> 0.000</td> \n",
       "</tr>\n",
       "</table>\n",
       "<table class=\"simpletable\">\n",
       "<tr>\n",
       "                  <td></td>                     <th>coef</th>     <th>std err</th>      <th>z</th>      <th>P>|z|</th>  <th>[0.025</th>    <th>0.975]</th>  \n",
       "</tr>\n",
       "<tr>\n",
       "  <th>Customer Type</th>                     <td>    1.5136</td> <td>    0.026</td> <td>   58.802</td> <td> 0.000</td> <td>    1.463</td> <td>    1.564</td>\n",
       "</tr>\n",
       "<tr>\n",
       "  <th>Age</th>                               <td>   -0.0065</td> <td>    0.001</td> <td>  -10.428</td> <td> 0.000</td> <td>   -0.008</td> <td>   -0.005</td>\n",
       "</tr>\n",
       "<tr>\n",
       "  <th>Type of Travel</th>                    <td>   -7.7855</td> <td>    0.070</td> <td> -111.537</td> <td> 0.000</td> <td>   -7.922</td> <td>   -7.649</td>\n",
       "</tr>\n",
       "<tr>\n",
       "  <th>Class</th>                             <td>    0.5496</td> <td>    0.010</td> <td>   55.461</td> <td> 0.000</td> <td>    0.530</td> <td>    0.569</td>\n",
       "</tr>\n",
       "<tr>\n",
       "  <th>Flight Distance</th>                   <td>   -0.0002</td> <td> 9.48e-06</td> <td>  -15.867</td> <td> 0.000</td> <td>   -0.000</td> <td>   -0.000</td>\n",
       "</tr>\n",
       "<tr>\n",
       "  <th>Seat comfort</th>                      <td>    0.2949</td> <td>    0.010</td> <td>   28.365</td> <td> 0.000</td> <td>    0.275</td> <td>    0.315</td>\n",
       "</tr>\n",
       "<tr>\n",
       "  <th>Departure/Arrival time convenient</th> <td>   -0.2467</td> <td>    0.008</td> <td>  -32.593</td> <td> 0.000</td> <td>   -0.261</td> <td>   -0.232</td>\n",
       "</tr>\n",
       "<tr>\n",
       "  <th>Food and drink</th>                    <td>   -0.2062</td> <td>    0.011</td> <td>  -19.383</td> <td> 0.000</td> <td>   -0.227</td> <td>   -0.185</td>\n",
       "</tr>\n",
       "<tr>\n",
       "  <th>Gate location</th>                     <td>    0.1350</td> <td>    0.009</td> <td>   15.731</td> <td> 0.000</td> <td>    0.118</td> <td>    0.152</td>\n",
       "</tr>\n",
       "<tr>\n",
       "  <th>Inflight wifi service</th>             <td>   -0.0995</td> <td>    0.010</td> <td>   -9.911</td> <td> 0.000</td> <td>   -0.119</td> <td>   -0.080</td>\n",
       "</tr>\n",
       "<tr>\n",
       "  <th>Inflight entertainment</th>            <td>    0.7298</td> <td>    0.009</td> <td>   77.937</td> <td> 0.000</td> <td>    0.711</td> <td>    0.748</td>\n",
       "</tr>\n",
       "<tr>\n",
       "  <th>Online support</th>                    <td>    0.1103</td> <td>    0.010</td> <td>   10.938</td> <td> 0.000</td> <td>    0.090</td> <td>    0.130</td>\n",
       "</tr>\n",
       "<tr>\n",
       "  <th>Ease of Online booking</th>            <td>    0.2795</td> <td>    0.013</td> <td>   21.566</td> <td> 0.000</td> <td>    0.254</td> <td>    0.305</td>\n",
       "</tr>\n",
       "<tr>\n",
       "  <th>On-board service</th>                  <td>    0.2975</td> <td>    0.009</td> <td>   32.353</td> <td> 0.000</td> <td>    0.279</td> <td>    0.315</td>\n",
       "</tr>\n",
       "<tr>\n",
       "  <th>Leg room service</th>                  <td>    0.2341</td> <td>    0.008</td> <td>   29.730</td> <td> 0.000</td> <td>    0.219</td> <td>    0.250</td>\n",
       "</tr>\n",
       "<tr>\n",
       "  <th>Baggage handling</th>                  <td>    0.0690</td> <td>    0.010</td> <td>    6.692</td> <td> 0.000</td> <td>    0.049</td> <td>    0.089</td>\n",
       "</tr>\n",
       "<tr>\n",
       "  <th>Checkin service</th>                   <td>    0.2522</td> <td>    0.008</td> <td>   32.730</td> <td> 0.000</td> <td>    0.237</td> <td>    0.267</td>\n",
       "</tr>\n",
       "<tr>\n",
       "  <th>Cleanliness</th>                       <td>    0.0324</td> <td>    0.011</td> <td>    3.009</td> <td> 0.003</td> <td>    0.011</td> <td>    0.053</td>\n",
       "</tr>\n",
       "<tr>\n",
       "  <th>Online boarding</th>                   <td>    0.1289</td> <td>    0.011</td> <td>   11.560</td> <td> 0.000</td> <td>    0.107</td> <td>    0.151</td>\n",
       "</tr>\n",
       "<tr>\n",
       "  <th>Departure Delay in Minutes</th>        <td>    0.0033</td> <td>    0.001</td> <td>    3.626</td> <td> 0.000</td> <td>    0.002</td> <td>    0.005</td>\n",
       "</tr>\n",
       "<tr>\n",
       "  <th>Arrival Delay in Minutes</th>          <td>   -0.0081</td> <td>    0.001</td> <td>   -9.083</td> <td> 0.000</td> <td>   -0.010</td> <td>   -0.006</td>\n",
       "</tr>\n",
       "</table>"
      ],
      "text/latex": [
       "\\begin{center}\n",
       "\\begin{tabular}{lclc}\n",
       "\\toprule\n",
       "\\textbf{Dep. Variable:}                    &   satisfaction   & \\textbf{  No. Observations:  } &    97115    \\\\\n",
       "\\textbf{Model:}                            &      Logit       & \\textbf{  Df Residuals:      } &    97094    \\\\\n",
       "\\textbf{Method:}                           &       MLE        & \\textbf{  Df Model:          } &       20    \\\\\n",
       "\\textbf{Date:}                             & Sat, 31 Aug 2024 & \\textbf{  Pseudo R-squ.:     } &   0.4126    \\\\\n",
       "\\textbf{Time:}                             &     11:41:36     & \\textbf{  Log-Likelihood:    } &   -39293.   \\\\\n",
       "\\textbf{converged:}                        &       True       & \\textbf{  LL-Null:           } &   -66888.   \\\\\n",
       "\\textbf{Covariance Type:}                  &    nonrobust     & \\textbf{  LLR p-value:       } &    0.000    \\\\\n",
       "\\bottomrule\n",
       "\\end{tabular}\n",
       "\\begin{tabular}{lcccccc}\n",
       "                                           & \\textbf{coef} & \\textbf{std err} & \\textbf{z} & \\textbf{P$> |$z$|$} & \\textbf{[0.025} & \\textbf{0.975]}  \\\\\n",
       "\\midrule\n",
       "\\textbf{Customer Type}                     &       1.5136  &        0.026     &    58.802  &         0.000        &        1.463    &        1.564     \\\\\n",
       "\\textbf{Age}                               &      -0.0065  &        0.001     &   -10.428  &         0.000        &       -0.008    &       -0.005     \\\\\n",
       "\\textbf{Type of Travel}                    &      -7.7855  &        0.070     &  -111.537  &         0.000        &       -7.922    &       -7.649     \\\\\n",
       "\\textbf{Class}                             &       0.5496  &        0.010     &    55.461  &         0.000        &        0.530    &        0.569     \\\\\n",
       "\\textbf{Flight Distance}                   &      -0.0002  &     9.48e-06     &   -15.867  &         0.000        &       -0.000    &       -0.000     \\\\\n",
       "\\textbf{Seat comfort}                      &       0.2949  &        0.010     &    28.365  &         0.000        &        0.275    &        0.315     \\\\\n",
       "\\textbf{Departure/Arrival time convenient} &      -0.2467  &        0.008     &   -32.593  &         0.000        &       -0.261    &       -0.232     \\\\\n",
       "\\textbf{Food and drink}                    &      -0.2062  &        0.011     &   -19.383  &         0.000        &       -0.227    &       -0.185     \\\\\n",
       "\\textbf{Gate location}                     &       0.1350  &        0.009     &    15.731  &         0.000        &        0.118    &        0.152     \\\\\n",
       "\\textbf{Inflight wifi service}             &      -0.0995  &        0.010     &    -9.911  &         0.000        &       -0.119    &       -0.080     \\\\\n",
       "\\textbf{Inflight entertainment}            &       0.7298  &        0.009     &    77.937  &         0.000        &        0.711    &        0.748     \\\\\n",
       "\\textbf{Online support}                    &       0.1103  &        0.010     &    10.938  &         0.000        &        0.090    &        0.130     \\\\\n",
       "\\textbf{Ease of Online booking}            &       0.2795  &        0.013     &    21.566  &         0.000        &        0.254    &        0.305     \\\\\n",
       "\\textbf{On-board service}                  &       0.2975  &        0.009     &    32.353  &         0.000        &        0.279    &        0.315     \\\\\n",
       "\\textbf{Leg room service}                  &       0.2341  &        0.008     &    29.730  &         0.000        &        0.219    &        0.250     \\\\\n",
       "\\textbf{Baggage handling}                  &       0.0690  &        0.010     &     6.692  &         0.000        &        0.049    &        0.089     \\\\\n",
       "\\textbf{Checkin service}                   &       0.2522  &        0.008     &    32.730  &         0.000        &        0.237    &        0.267     \\\\\n",
       "\\textbf{Cleanliness}                       &       0.0324  &        0.011     &     3.009  &         0.003        &        0.011    &        0.053     \\\\\n",
       "\\textbf{Online boarding}                   &       0.1289  &        0.011     &    11.560  &         0.000        &        0.107    &        0.151     \\\\\n",
       "\\textbf{Departure Delay in Minutes}        &       0.0033  &        0.001     &     3.626  &         0.000        &        0.002    &        0.005     \\\\\n",
       "\\textbf{Arrival Delay in Minutes}          &      -0.0081  &        0.001     &    -9.083  &         0.000        &       -0.010    &       -0.006     \\\\\n",
       "\\bottomrule\n",
       "\\end{tabular}\n",
       "%\\caption{Logit Regression Results}\n",
       "\\end{center}"
      ],
      "text/plain": [
       "<class 'statsmodels.iolib.summary.Summary'>\n",
       "\"\"\"\n",
       "                           Logit Regression Results                           \n",
       "==============================================================================\n",
       "Dep. Variable:           satisfaction   No. Observations:                97115\n",
       "Model:                          Logit   Df Residuals:                    97094\n",
       "Method:                           MLE   Df Model:                           20\n",
       "Date:                Sat, 31 Aug 2024   Pseudo R-squ.:                  0.4126\n",
       "Time:                        11:41:36   Log-Likelihood:                -39293.\n",
       "converged:                       True   LL-Null:                       -66888.\n",
       "Covariance Type:            nonrobust   LLR p-value:                     0.000\n",
       "=====================================================================================================\n",
       "                                        coef    std err          z      P>|z|      [0.025      0.975]\n",
       "-----------------------------------------------------------------------------------------------------\n",
       "Customer Type                         1.5136      0.026     58.802      0.000       1.463       1.564\n",
       "Age                                  -0.0065      0.001    -10.428      0.000      -0.008      -0.005\n",
       "Type of Travel                       -7.7855      0.070   -111.537      0.000      -7.922      -7.649\n",
       "Class                                 0.5496      0.010     55.461      0.000       0.530       0.569\n",
       "Flight Distance                      -0.0002   9.48e-06    -15.867      0.000      -0.000      -0.000\n",
       "Seat comfort                          0.2949      0.010     28.365      0.000       0.275       0.315\n",
       "Departure/Arrival time convenient    -0.2467      0.008    -32.593      0.000      -0.261      -0.232\n",
       "Food and drink                       -0.2062      0.011    -19.383      0.000      -0.227      -0.185\n",
       "Gate location                         0.1350      0.009     15.731      0.000       0.118       0.152\n",
       "Inflight wifi service                -0.0995      0.010     -9.911      0.000      -0.119      -0.080\n",
       "Inflight entertainment                0.7298      0.009     77.937      0.000       0.711       0.748\n",
       "Online support                        0.1103      0.010     10.938      0.000       0.090       0.130\n",
       "Ease of Online booking                0.2795      0.013     21.566      0.000       0.254       0.305\n",
       "On-board service                      0.2975      0.009     32.353      0.000       0.279       0.315\n",
       "Leg room service                      0.2341      0.008     29.730      0.000       0.219       0.250\n",
       "Baggage handling                      0.0690      0.010      6.692      0.000       0.049       0.089\n",
       "Checkin service                       0.2522      0.008     32.730      0.000       0.237       0.267\n",
       "Cleanliness                           0.0324      0.011      3.009      0.003       0.011       0.053\n",
       "Online boarding                       0.1289      0.011     11.560      0.000       0.107       0.151\n",
       "Departure Delay in Minutes            0.0033      0.001      3.626      0.000       0.002       0.005\n",
       "Arrival Delay in Minutes             -0.0081      0.001     -9.083      0.000      -0.010      -0.006\n",
       "=====================================================================================================\n",
       "\"\"\""
      ]
     },
     "execution_count": 74,
     "metadata": {},
     "output_type": "execute_result"
    }
   ],
   "source": [
    "Logit1.summary()"
   ]
  },
  {
   "cell_type": "markdown",
   "id": "dd192efa-8134-49da-be1b-c28dfa110915",
   "metadata": {},
   "source": [
    "##### Detecting Multicollinearity\n",
    "A statistical technique called the **variance inflation factor (VIF)** can detect and measure the amount of collinearity in a multiple regression model.\n",
    "- A VIF of 1 will mean that the variables are not correlated.\n",
    "- A VIF between 1 and 5 shows that variables are moderately correlated.\n",
    "- A VIF between 5 and 10 will mean that variables are highly correlated.\n",
    "  \n",
    "In practice, a VIF greater than 10 is often used as a rule of thumb to identify variables that may need to be removed or transformed to reduce multicollinearity."
   ]
  },
  {
   "cell_type": "markdown",
   "id": "20bc9319",
   "metadata": {
    "id": "381c04eb"
   },
   "source": [
    "**Check the number of satisfied customers in the dataset**\n",
    "\n",
    "To predict customer satisfaction, check how many customers in the dataset are satisfied before modeling."
   ]
  },
  {
   "cell_type": "markdown",
   "id": "3325e6fb",
   "metadata": {
    "id": "71398f5e"
   },
   "source": [
    "**Question:** How many satisfied and dissatisfied customers were there?"
   ]
  },
  {
   "cell_type": "markdown",
   "id": "550ad04d",
   "metadata": {
    "id": "17c736c2"
   },
   "source": [
    "**Question:** What percentage of customers were satisfied?"
   ]
  },
  {
   "cell_type": "markdown",
   "id": "eacffa95",
   "metadata": {
    "id": "5c11852b"
   },
   "source": [
    "**Question:** Should you remove rows where the `Arrival Delay in Minutes` column has missing values, even though the airline is more interested in the `inflight entertainment` column?"
   ]
  },
  {
   "cell_type": "markdown",
   "id": "be759cc8",
   "metadata": {
    "id": "0aaf5733"
   },
   "source": [
    "#### 3.2 Create the training and testing data\n",
    "\n",
    "Put 70% of the data into a training set and the remaining 30% into a testing set. Create an X and y DataFrame with only the necessary variables.\n"
   ]
  },
  {
   "cell_type": "markdown",
   "id": "07766529",
   "metadata": {
    "id": "e5c9ad09"
   },
   "source": [
    "**Question:** If you want to consider customer satisfaction with your model, should you train your model to use `inflight entertainment` as your sole independent variable? "
   ]
  },
  {
   "cell_type": "markdown",
   "id": "79d51117",
   "metadata": {
    "id": "58bb9bf2"
   },
   "source": [
    "### 4. Model building"
   ]
  },
  {
   "cell_type": "markdown",
   "id": "587d8d26",
   "metadata": {
    "id": "a81f66ae"
   },
   "source": [
    "#### 4.1 Fit a LogisticRegression model with sklearn to the data\n",
    "\n",
    "Build a logistic regression model and fit the model to the training data. "
   ]
  },
  {
   "cell_type": "markdown",
   "id": "ff2ddb95-c747-47b3-b5da-0fc260d769f6",
   "metadata": {},
   "source": [
    "#### 4.2 Building with statsmodel"
   ]
  },
  {
   "cell_type": "markdown",
   "id": "8807310d",
   "metadata": {
    "id": "ez_akxj1FuUF"
   },
   "source": [
    "### 5. Results and evaluation\n"
   ]
  },
  {
   "cell_type": "markdown",
   "id": "c01123b8",
   "metadata": {
    "id": "80a02386"
   },
   "source": [
    "##### Predict the outcome for the test dataset\n",
    "Save these predictions as a variable called `y_pred`."
   ]
  },
  {
   "cell_type": "markdown",
   "id": "14e361d9",
   "metadata": {
    "id": "7d7eb725"
   },
   "source": [
    "##### Print out `y_pred`\n",
    "\n",
    "In order to examine the predictions, print out `y_pred`. "
   ]
  },
  {
   "cell_type": "markdown",
   "id": "183e1d0c",
   "metadata": {
    "id": "0948e464"
   },
   "source": [
    " Use the `predict_proba` and `predict` functions on `X_test`"
   ]
  },
  {
   "cell_type": "markdown",
   "id": "64242c1d",
   "metadata": {
    "id": "2d63fb90"
   },
   "source": [
    "**Produce a confusion matrix**"
   ]
  },
  {
   "cell_type": "markdown",
   "id": "769895cd",
   "metadata": {
    "id": "0524c798"
   },
   "source": [
    "Data professionals often like to know the types of errors made by an algorithm. To obtain this information, produce a confusion matrix."
   ]
  },
  {
   "cell_type": "markdown",
   "id": "7aeaf028",
   "metadata": {
    "id": "8xxXOVM8JV9o"
   },
   "source": [
    "**Question:** What stands out to you about the confusion matrix?"
   ]
  },
  {
   "cell_type": "markdown",
   "id": "3a0a7967",
   "metadata": {
    "id": "fd4b3546"
   },
   "source": [
    "**Question:** Did you notice any difference in the number of false positives or false negatives that the model produced?"
   ]
  },
  {
   "cell_type": "markdown",
   "id": "7873e81d",
   "metadata": {
    "id": "287993f0"
   },
   "source": [
    "**Question:** What do you think could be done to improve model performance?"
   ]
  },
  {
   "cell_type": "markdown",
   "id": "963a9e68",
   "metadata": {
    "id": "e3075324"
   },
   "source": [
    "## Considerations\n",
    "**What findings would you share with others?**\n",
    "**What would you recommend to stakeholders?**"
   ]
  }
 ],
 "metadata": {
  "colab": {
   "collapsed_sections": [],
   "provenance": [],
   "toc_visible": true
  },
  "gpuClass": "standard",
  "kernelspec": {
   "display_name": "Python 3 (ipykernel)",
   "language": "python",
   "name": "python3"
  },
  "language_info": {
   "codemirror_mode": {
    "name": "ipython",
    "version": 3
   },
   "file_extension": ".py",
   "mimetype": "text/x-python",
   "name": "python",
   "nbconvert_exporter": "python",
   "pygments_lexer": "ipython3",
   "version": "3.11.5"
  }
 },
 "nbformat": 4,
 "nbformat_minor": 5
}
