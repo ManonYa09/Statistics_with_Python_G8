{
 "cells": [
  {
   "cell_type": "markdown",
   "id": "f8edb5dd-9b1a-4dcb-a97f-4a6085e72197",
   "metadata": {},
   "source": [
    "<div style=\"padding:20px;\n",
    "            color:white;\n",
    "            margin:10;\n",
    "            font-size:170%;\n",
    "            text-align:left;\n",
    "            display:fill;\n",
    "            border-radius:5px;\n",
    "            background-color:#CA6F1E;\n",
    "            overflow:hidden;\n",
    "            font-weight:700\"><span style='color:#283747'></span>\"Predicting Insurance Charges.\" </div>"
   ]
  },
  {
   "cell_type": "markdown",
   "id": "c9b2b5ac-d53f-42d5-927b-46bed2ef3852",
   "metadata": {},
   "source": [
    "<!-- Develop a model to predict the insurance charges (**charges**). This model can help the insurance company in setting premiums more accurately. -->"
   ]
  },
  {
   "cell_type": "markdown",
   "id": "e4470bd2-4d29-467d-80dc-98d6ad4cfd83",
   "metadata": {},
   "source": [
    "- [1. Load the dataset](#1)\n",
    "\n",
    "- [2.Exploratory Data Anlysis(EDA)](#2)\n",
    "    - [2.1 Quick Exploration the dataset](#1.1)\n",
    "    - [2.2 Data Cleaning](#1.3)\n",
    "        - [2.3 Missing Values](#1.3.1)\n",
    "        - [2.3.2 Duplicates](#1.3.2)\n",
    "        - [2.3.3 Outliters](#1.3.3)\n",
    "    - [2.3 Deep Exloration of features in Dataset]()\n",
    "\n",
    "- [3. Diagnostics Analytics](#2.3)\n",
    "\n"
   ]
  },
  {
   "cell_type": "code",
   "execution_count": 1,
   "id": "7a156838",
   "metadata": {},
   "outputs": [],
   "source": [
    "import pandas as pd\n",
    "import numpy as np\n",
    "import matplotlib.pyplot as plt\n",
    "import seaborn as sns\n",
    "import warnings\n",
    "warnings.filterwarnings('ignore')"
   ]
  },
  {
   "cell_type": "markdown",
   "id": "2838a292-3474-41da-964d-68705a9237d5",
   "metadata": {},
   "source": [
    "## 1. Load the dataset"
   ]
  },
  {
   "cell_type": "code",
   "execution_count": 2,
   "id": "2aca2ccd",
   "metadata": {},
   "outputs": [],
   "source": [
    "df = pd.read_csv('https://raw.githubusercontent.com/ManonYa09/Statistics_with_Python_G6/main/Dataset/5.%20insurance.csv')"
   ]
  },
  {
   "cell_type": "code",
   "execution_count": 3,
   "id": "74be3624-b234-4b9b-8268-cc4f30e361d5",
   "metadata": {},
   "outputs": [
    {
     "data": {
      "text/html": [
       "<div>\n",
       "<style scoped>\n",
       "    .dataframe tbody tr th:only-of-type {\n",
       "        vertical-align: middle;\n",
       "    }\n",
       "\n",
       "    .dataframe tbody tr th {\n",
       "        vertical-align: top;\n",
       "    }\n",
       "\n",
       "    .dataframe thead th {\n",
       "        text-align: right;\n",
       "    }\n",
       "</style>\n",
       "<table border=\"1\" class=\"dataframe\">\n",
       "  <thead>\n",
       "    <tr style=\"text-align: right;\">\n",
       "      <th></th>\n",
       "      <th>age</th>\n",
       "      <th>sex</th>\n",
       "      <th>bmi</th>\n",
       "      <th>children</th>\n",
       "      <th>smoker</th>\n",
       "      <th>region</th>\n",
       "      <th>charges</th>\n",
       "    </tr>\n",
       "  </thead>\n",
       "  <tbody>\n",
       "    <tr>\n",
       "      <th>0</th>\n",
       "      <td>19</td>\n",
       "      <td>female</td>\n",
       "      <td>27.900</td>\n",
       "      <td>0</td>\n",
       "      <td>yes</td>\n",
       "      <td>southwest</td>\n",
       "      <td>16884.92400</td>\n",
       "    </tr>\n",
       "    <tr>\n",
       "      <th>1</th>\n",
       "      <td>18</td>\n",
       "      <td>male</td>\n",
       "      <td>33.770</td>\n",
       "      <td>1</td>\n",
       "      <td>no</td>\n",
       "      <td>southeast</td>\n",
       "      <td>1725.55230</td>\n",
       "    </tr>\n",
       "    <tr>\n",
       "      <th>2</th>\n",
       "      <td>28</td>\n",
       "      <td>male</td>\n",
       "      <td>33.000</td>\n",
       "      <td>3</td>\n",
       "      <td>no</td>\n",
       "      <td>southeast</td>\n",
       "      <td>4449.46200</td>\n",
       "    </tr>\n",
       "    <tr>\n",
       "      <th>3</th>\n",
       "      <td>33</td>\n",
       "      <td>male</td>\n",
       "      <td>22.705</td>\n",
       "      <td>0</td>\n",
       "      <td>no</td>\n",
       "      <td>northwest</td>\n",
       "      <td>21984.47061</td>\n",
       "    </tr>\n",
       "    <tr>\n",
       "      <th>4</th>\n",
       "      <td>32</td>\n",
       "      <td>male</td>\n",
       "      <td>28.880</td>\n",
       "      <td>0</td>\n",
       "      <td>no</td>\n",
       "      <td>northwest</td>\n",
       "      <td>3866.85520</td>\n",
       "    </tr>\n",
       "  </tbody>\n",
       "</table>\n",
       "</div>"
      ],
      "text/plain": [
       "   age     sex     bmi  children smoker     region      charges\n",
       "0   19  female  27.900         0    yes  southwest  16884.92400\n",
       "1   18    male  33.770         1     no  southeast   1725.55230\n",
       "2   28    male  33.000         3     no  southeast   4449.46200\n",
       "3   33    male  22.705         0     no  northwest  21984.47061\n",
       "4   32    male  28.880         0     no  northwest   3866.85520"
      ]
     },
     "execution_count": 3,
     "metadata": {},
     "output_type": "execute_result"
    }
   ],
   "source": [
    "df.head()"
   ]
  },
  {
   "cell_type": "markdown",
   "id": "885d665d-cf91-44f8-9be0-d545814ace4d",
   "metadata": {},
   "source": [
    "## 2. Exploratory Data Analysis"
   ]
  },
  {
   "cell_type": "code",
   "execution_count": 4,
   "id": "57ebc865-1c9c-4777-9bf5-3f18a9519eff",
   "metadata": {},
   "outputs": [
    {
     "name": "stdout",
     "output_type": "stream",
     "text": [
      "<class 'pandas.core.frame.DataFrame'>\n",
      "RangeIndex: 1338 entries, 0 to 1337\n",
      "Data columns (total 7 columns):\n",
      " #   Column    Non-Null Count  Dtype  \n",
      "---  ------    --------------  -----  \n",
      " 0   age       1338 non-null   int64  \n",
      " 1   sex       1338 non-null   object \n",
      " 2   bmi       1338 non-null   float64\n",
      " 3   children  1338 non-null   int64  \n",
      " 4   smoker    1338 non-null   object \n",
      " 5   region    1338 non-null   object \n",
      " 6   charges   1338 non-null   float64\n",
      "dtypes: float64(2), int64(2), object(3)\n",
      "memory usage: 73.3+ KB\n"
     ]
    }
   ],
   "source": [
    "df.info()"
   ]
  },
  {
   "cell_type": "code",
   "execution_count": 5,
   "id": "e3e8942a",
   "metadata": {},
   "outputs": [
    {
     "name": "stdout",
     "output_type": "stream",
     "text": [
      "<class 'pandas.core.frame.DataFrame'>\n",
      "RangeIndex: 1338 entries, 0 to 1337\n",
      "Data columns (total 7 columns):\n",
      " #   Column    Non-Null Count  Dtype  \n",
      "---  ------    --------------  -----  \n",
      " 0   age       1338 non-null   int64  \n",
      " 1   sex       1338 non-null   object \n",
      " 2   bmi       1338 non-null   float64\n",
      " 3   children  1338 non-null   int64  \n",
      " 4   smoker    1338 non-null   object \n",
      " 5   region    1338 non-null   object \n",
      " 6   charges   1338 non-null   float64\n",
      "dtypes: float64(2), int64(2), object(3)\n",
      "memory usage: 73.3+ KB\n"
     ]
    }
   ],
   "source": [
    "df.info()\n"
   ]
  },
  {
   "cell_type": "code",
   "execution_count": 6,
   "id": "84901f49-3add-46ac-9234-356ae16b4244",
   "metadata": {},
   "outputs": [
    {
     "data": {
      "text/html": [
       "<div>\n",
       "<style scoped>\n",
       "    .dataframe tbody tr th:only-of-type {\n",
       "        vertical-align: middle;\n",
       "    }\n",
       "\n",
       "    .dataframe tbody tr th {\n",
       "        vertical-align: top;\n",
       "    }\n",
       "\n",
       "    .dataframe thead th {\n",
       "        text-align: right;\n",
       "    }\n",
       "</style>\n",
       "<table border=\"1\" class=\"dataframe\">\n",
       "  <thead>\n",
       "    <tr style=\"text-align: right;\">\n",
       "      <th></th>\n",
       "      <th>age</th>\n",
       "      <th>bmi</th>\n",
       "      <th>children</th>\n",
       "      <th>charges</th>\n",
       "    </tr>\n",
       "  </thead>\n",
       "  <tbody>\n",
       "    <tr>\n",
       "      <th>count</th>\n",
       "      <td>1338.000000</td>\n",
       "      <td>1338.000000</td>\n",
       "      <td>1338.000000</td>\n",
       "      <td>1338.000000</td>\n",
       "    </tr>\n",
       "    <tr>\n",
       "      <th>mean</th>\n",
       "      <td>39.207025</td>\n",
       "      <td>30.663397</td>\n",
       "      <td>1.094918</td>\n",
       "      <td>13270.422265</td>\n",
       "    </tr>\n",
       "    <tr>\n",
       "      <th>std</th>\n",
       "      <td>14.049960</td>\n",
       "      <td>6.098187</td>\n",
       "      <td>1.205493</td>\n",
       "      <td>12110.011237</td>\n",
       "    </tr>\n",
       "    <tr>\n",
       "      <th>min</th>\n",
       "      <td>18.000000</td>\n",
       "      <td>15.960000</td>\n",
       "      <td>0.000000</td>\n",
       "      <td>1121.873900</td>\n",
       "    </tr>\n",
       "    <tr>\n",
       "      <th>25%</th>\n",
       "      <td>27.000000</td>\n",
       "      <td>26.296250</td>\n",
       "      <td>0.000000</td>\n",
       "      <td>4740.287150</td>\n",
       "    </tr>\n",
       "    <tr>\n",
       "      <th>50%</th>\n",
       "      <td>39.000000</td>\n",
       "      <td>30.400000</td>\n",
       "      <td>1.000000</td>\n",
       "      <td>9382.033000</td>\n",
       "    </tr>\n",
       "    <tr>\n",
       "      <th>75%</th>\n",
       "      <td>51.000000</td>\n",
       "      <td>34.693750</td>\n",
       "      <td>2.000000</td>\n",
       "      <td>16639.912515</td>\n",
       "    </tr>\n",
       "    <tr>\n",
       "      <th>max</th>\n",
       "      <td>64.000000</td>\n",
       "      <td>53.130000</td>\n",
       "      <td>5.000000</td>\n",
       "      <td>63770.428010</td>\n",
       "    </tr>\n",
       "  </tbody>\n",
       "</table>\n",
       "</div>"
      ],
      "text/plain": [
       "               age          bmi     children       charges\n",
       "count  1338.000000  1338.000000  1338.000000   1338.000000\n",
       "mean     39.207025    30.663397     1.094918  13270.422265\n",
       "std      14.049960     6.098187     1.205493  12110.011237\n",
       "min      18.000000    15.960000     0.000000   1121.873900\n",
       "25%      27.000000    26.296250     0.000000   4740.287150\n",
       "50%      39.000000    30.400000     1.000000   9382.033000\n",
       "75%      51.000000    34.693750     2.000000  16639.912515\n",
       "max      64.000000    53.130000     5.000000  63770.428010"
      ]
     },
     "execution_count": 6,
     "metadata": {},
     "output_type": "execute_result"
    }
   ],
   "source": [
    "df.describe()"
   ]
  },
  {
   "cell_type": "markdown",
   "id": "d0772d85-4934-4162-b380-e789f2bda6a8",
   "metadata": {},
   "source": [
    "### 2.1 Duplicated"
   ]
  },
  {
   "cell_type": "code",
   "execution_count": 8,
   "id": "44590281-c9f5-4c15-9b61-c53f3433afed",
   "metadata": {},
   "outputs": [
    {
     "data": {
      "text/plain": [
       "1"
      ]
     },
     "execution_count": 8,
     "metadata": {},
     "output_type": "execute_result"
    }
   ],
   "source": [
    "df.duplicated().sum()"
   ]
  },
  {
   "cell_type": "code",
   "execution_count": 9,
   "id": "33829789-1d3a-45a7-876b-3086099eca41",
   "metadata": {},
   "outputs": [
    {
     "data": {
      "text/html": [
       "<div>\n",
       "<style scoped>\n",
       "    .dataframe tbody tr th:only-of-type {\n",
       "        vertical-align: middle;\n",
       "    }\n",
       "\n",
       "    .dataframe tbody tr th {\n",
       "        vertical-align: top;\n",
       "    }\n",
       "\n",
       "    .dataframe thead th {\n",
       "        text-align: right;\n",
       "    }\n",
       "</style>\n",
       "<table border=\"1\" class=\"dataframe\">\n",
       "  <thead>\n",
       "    <tr style=\"text-align: right;\">\n",
       "      <th></th>\n",
       "      <th>age</th>\n",
       "      <th>sex</th>\n",
       "      <th>bmi</th>\n",
       "      <th>children</th>\n",
       "      <th>smoker</th>\n",
       "      <th>region</th>\n",
       "      <th>charges</th>\n",
       "    </tr>\n",
       "  </thead>\n",
       "  <tbody>\n",
       "    <tr>\n",
       "      <th>581</th>\n",
       "      <td>19</td>\n",
       "      <td>male</td>\n",
       "      <td>30.59</td>\n",
       "      <td>0</td>\n",
       "      <td>no</td>\n",
       "      <td>northwest</td>\n",
       "      <td>1639.5631</td>\n",
       "    </tr>\n",
       "  </tbody>\n",
       "</table>\n",
       "</div>"
      ],
      "text/plain": [
       "     age   sex    bmi  children smoker     region    charges\n",
       "581   19  male  30.59         0     no  northwest  1639.5631"
      ]
     },
     "execution_count": 9,
     "metadata": {},
     "output_type": "execute_result"
    }
   ],
   "source": [
    "df[df.duplicated()]"
   ]
  },
  {
   "cell_type": "markdown",
   "id": "3098d337-4444-4b02-8183-c384028ea571",
   "metadata": {},
   "source": [
    "### 2.2 Outlier"
   ]
  },
  {
   "cell_type": "markdown",
   "id": "9f3d10fa-5d4f-4b32-a40c-185ef0093aab",
   "metadata": {},
   "source": [
    "<!-- fig , ax = plt.subplots(1, 3, figsize = (15, 5))\n",
    "sns.boxplot(y = df['bmi'], ax = ax[0])\n",
    "ax[0].set_title('Distribution of BMI', fontsize = 14, color = 'r')\n",
    "ax[0].set_ylabel('bmi', fontsize = 12)\n",
    "\n",
    "sns.boxplot(y = df['charges'], ax = ax[1])\n",
    "sns.boxplot(y = df['age'], ax = ax[2])\n",
    "plt.tight_layout() -->\n"
   ]
  },
  {
   "cell_type": "code",
   "execution_count": 28,
   "id": "e72521ee-dd34-4dc4-8437-bc27f09e71db",
   "metadata": {},
   "outputs": [
    {
     "data": {
      "image/png": "[encoded data removed]",
      "text/plain": [
       "<Figure size 1000x500 with 1 Axes>"
      ]
     },
     "metadata": {},
     "output_type": "display_data"
    }
   ],
   "source": [
    "fig, ax = plt.subplots(figsize = (10, 5))\n",
    "sns.histplot(x = df['charges'], bins =np.arange(0, 70000, 2500))\n",
    "ax.set_xticks(np.arange(0, 70000, 5000))\n",
    "ax.set_xticklabels(ax.get_xticklabels(),rotation = 45)\n",
    "ax.set_title('Distribution of Chaeges', fontsize = 14, color ='r')\n",
    "ax.set_xlabel('Charges', fontsize=12)\n",
    "ax.set_ylabel('Frequency', fontsize=12)\n",
    "ax.bar_label(ax.containers[1])\n",
    "ax.spines[['right', 'top']].set_visible(False)"
   ]
  },
  {
   "cell_type": "markdown",
   "id": "8ac7eff4",
   "metadata": {},
   "source": [
    "### 2.3 Dianostics Analysis"
   ]
  },
  {
   "cell_type": "code",
   "execution_count": 29,
   "id": "5ef599e3",
   "metadata": {},
   "outputs": [
    {
     "data": {
      "text/plain": [
       "age           47\n",
       "sex            2\n",
       "bmi          548\n",
       "children       6\n",
       "smoker         2\n",
       "region         4\n",
       "charges     1337\n",
       "dtype: int64"
      ]
     },
     "execution_count": 29,
     "metadata": {},
     "output_type": "execute_result"
    }
   ],
   "source": [
    "df.nunique()"
   ]
  },
  {
   "cell_type": "code",
   "execution_count": 43,
   "id": "b9d9d7a2-5db7-4466-89db-5af3282ffbcd",
   "metadata": {},
   "outputs": [],
   "source": [
    "cat_column = []\n",
    "num_column = []\n",
    "two_unique = []\n",
    "for column in df.columns:\n",
    "    if df[column].nunique()==2:\n",
    "        two_unique.append(column)\n",
    "    elif df[column].nunique()<=4:\n",
    "        cat_column.append(column)\n",
    "    else:\n",
    "        num_column.append(column)"
   ]
  },
  {
   "cell_type": "code",
   "execution_count": 44,
   "id": "35419593",
   "metadata": {},
   "outputs": [
    {
     "data": {
      "text/plain": [
       "['sex', 'smoker']"
      ]
     },
     "execution_count": 44,
     "metadata": {},
     "output_type": "execute_result"
    }
   ],
   "source": [
    "two_unique\n"
   ]
  },
  {
   "cell_type": "markdown",
   "id": "e139f1b9-9378-4c4e-a7aa-e86917733a9b",
   "metadata": {},
   "source": [
    "#### 2.3.1 Exploring Categorical Data with Target"
   ]
  },
  {
   "cell_type": "code",
   "execution_count": 46,
   "id": "715dbf61-cc27-47d6-9663-3a456d2d8f51",
   "metadata": {},
   "outputs": [
    {
     "data": {
      "text/html": [
       "<div>\n",
       "<style scoped>\n",
       "    .dataframe tbody tr th:only-of-type {\n",
       "        vertical-align: middle;\n",
       "    }\n",
       "\n",
       "    .dataframe tbody tr th {\n",
       "        vertical-align: top;\n",
       "    }\n",
       "\n",
       "    .dataframe thead th {\n",
       "        text-align: right;\n",
       "    }\n",
       "</style>\n",
       "<table border=\"1\" class=\"dataframe\">\n",
       "  <thead>\n",
       "    <tr style=\"text-align: right;\">\n",
       "      <th></th>\n",
       "      <th></th>\n",
       "      <th>count</th>\n",
       "      <th>mean</th>\n",
       "      <th>std</th>\n",
       "      <th>min</th>\n",
       "      <th>25%</th>\n",
       "      <th>50%</th>\n",
       "      <th>75%</th>\n",
       "      <th>max</th>\n",
       "    </tr>\n",
       "    <tr>\n",
       "      <th>sex</th>\n",
       "      <th>smoker</th>\n",
       "      <th></th>\n",
       "      <th></th>\n",
       "      <th></th>\n",
       "      <th></th>\n",
       "      <th></th>\n",
       "      <th></th>\n",
       "      <th></th>\n",
       "      <th></th>\n",
       "    </tr>\n",
       "  </thead>\n",
       "  <tbody>\n",
       "    <tr>\n",
       "      <th rowspan=\"2\" valign=\"top\">female</th>\n",
       "      <th>no</th>\n",
       "      <td>547.0</td>\n",
       "      <td>8762.297300</td>\n",
       "      <td>6060.775970</td>\n",
       "      <td>1607.5101</td>\n",
       "      <td>4265.599100</td>\n",
       "      <td>7639.41745</td>\n",
       "      <td>11786.16660</td>\n",
       "      <td>36910.60803</td>\n",
       "    </tr>\n",
       "    <tr>\n",
       "      <th>yes</th>\n",
       "      <td>115.0</td>\n",
       "      <td>30678.996276</td>\n",
       "      <td>11907.536381</td>\n",
       "      <td>13844.5060</td>\n",
       "      <td>19696.432100</td>\n",
       "      <td>28950.46920</td>\n",
       "      <td>40918.31450</td>\n",
       "      <td>63770.42801</td>\n",
       "    </tr>\n",
       "    <tr>\n",
       "      <th rowspan=\"2\" valign=\"top\">male</th>\n",
       "      <th>no</th>\n",
       "      <td>517.0</td>\n",
       "      <td>8087.204731</td>\n",
       "      <td>5908.108989</td>\n",
       "      <td>1121.8739</td>\n",
       "      <td>3659.346000</td>\n",
       "      <td>6985.50695</td>\n",
       "      <td>10959.33000</td>\n",
       "      <td>32108.66282</td>\n",
       "    </tr>\n",
       "    <tr>\n",
       "      <th>yes</th>\n",
       "      <td>159.0</td>\n",
       "      <td>33042.005975</td>\n",
       "      <td>11202.670862</td>\n",
       "      <td>12829.4551</td>\n",
       "      <td>21241.526875</td>\n",
       "      <td>36085.21900</td>\n",
       "      <td>41797.58905</td>\n",
       "      <td>62592.87309</td>\n",
       "    </tr>\n",
       "  </tbody>\n",
       "</table>\n",
       "</div>"
      ],
      "text/plain": [
       "               count          mean           std         min           25%  \\\n",
       "sex    smoker                                                                \n",
       "female no      547.0   8762.297300   6060.775970   1607.5101   4265.599100   \n",
       "       yes     115.0  30678.996276  11907.536381  13844.5060  19696.432100   \n",
       "male   no      517.0   8087.204731   5908.108989   1121.8739   3659.346000   \n",
       "       yes     159.0  33042.005975  11202.670862  12829.4551  21241.526875   \n",
       "\n",
       "                       50%          75%          max  \n",
       "sex    smoker                                         \n",
       "female no       7639.41745  11786.16660  36910.60803  \n",
       "       yes     28950.46920  40918.31450  63770.42801  \n",
       "male   no       6985.50695  10959.33000  32108.66282  \n",
       "       yes     36085.21900  41797.58905  62592.87309  "
      ]
     },
     "execution_count": 46,
     "metadata": {},
     "output_type": "execute_result"
    }
   ],
   "source": [
    "df.groupby(two_unique)['charges'].describe()"
   ]
  },
  {
   "cell_type": "markdown",
   "id": "76d1b21a-1ff7-473c-9cfd-1e7b9a052be3",
   "metadata": {},
   "source": [
    "#### 2.3.2 Exploring Numerical Data with Target"
   ]
  },
  {
   "cell_type": "code",
   "execution_count": null,
   "id": "bdd07c1f-64fc-456d-8528-66b03a0e3c28",
   "metadata": {},
   "outputs": [],
   "source": [
    "# sns.pairplot(data = data[num_columns], hue = data['smoker'])"
   ]
  },
  {
   "cell_type": "markdown",
   "id": "0cf0f6c4-3d10-446c-85d2-59c0b7de8f08",
   "metadata": {},
   "source": [
    "#### age with Target"
   ]
  },
  {
   "cell_type": "markdown",
   "id": "39214e92-7fef-4548-bd74-af738af3136e",
   "metadata": {},
   "source": [
    "<!-- fig, ax =plt.subplots(1, 2 , figsize = (16, 6), )\n",
    "sns.boxplot(y = data['age'], ax =ax[0])\n",
    "ax[0].set_title('Distribution of Charges')\n",
    "ax[1].axhline(y = data['charges'].mean(), label = 'Mean of Charges', color = 'r')\n",
    "ax[1].legend()\n",
    "sns.scatterplot(x = data['age'], y = data['charges'], hue = data['smoker'], palette=\"deep\", ax = ax[1])\n",
    "ax[1].set_xticks(np.arange(15, 66, 5))\n",
    "ax[1].set_xlabel(\"Age (Years)\")\n",
    "ax[1].set_ylabel(\"Number of Charges\")\n",
    "ax[1].set_title(\"Relationship Between Age, Charges, and Smoking Status\")\n",
    "ax[1].legend(title=\"Smoking Status\")\n",
    "plt.tight_layout()\n",
    "# plt.savefig('D&Re and Charges.jpg', dpi = 1000)\n",
    "plt.show() -->"
   ]
  },
  {
   "cell_type": "markdown",
   "id": "e232a049-9105-4e4a-92f1-5e0fd0ebbb3f",
   "metadata": {},
   "source": [
    "<!-- fig, ax = plt.subplots(1, 2, figsize=(16, 6))\n",
    "\n",
    "sns.boxplot(y=data['bmi'], ax=ax[0])\n",
    "ax[0].set_title('Distribution of BMI')\n",
    "\n",
    "# Combined plot for 'charges' vs 'bmi' and 'smoker'\n",
    "ax[1].axhline(y=data['charges'].mean(), label='Mean of Charges', color='r')\n",
    "ax[1].legend()\n",
    "sns.scatterplot(x=data['bmi'], y=data['charges'], hue=data['smoker'], palette=\"deep\", ax=ax[1])\n",
    "ax[1].set_xlabel(\"BMI\")  # Update label for 'bmi'\n",
    "ax[1].set_ylabel(\"Number of Charges\")\n",
    "ax[1].set_title(\"Relationship Between BMI, Charges, and Smoking Status\")\n",
    "ax[1].legend(title=\"Smoking Status\")\n",
    "\n",
    "# Adjust layout\n",
    "plt.tight_layout(rect=(0, 0, 1, 1))\n",
    "# plt.savefig('bmi.jpg', dpi = 1000)\n",
    "plt.show() -->"
   ]
  },
  {
   "cell_type": "markdown",
   "id": "bc40348f-13db-4665-aeaf-9898e31609d6",
   "metadata": {},
   "source": [
    "### correlation coefficient"
   ]
  },
  {
   "cell_type": "code",
   "execution_count": 32,
   "id": "3a7bbea3-2970-4b93-b382-ec212e5d6df6",
   "metadata": {},
   "outputs": [
    {
     "data": {
      "text/plain": [
       "age         0.298308\n",
       "children    0.067389\n",
       "bmi         0.198401\n",
       "charges     1.000000\n",
       "Name: charges, dtype: float64"
      ]
     },
     "execution_count": 32,
     "metadata": {},
     "output_type": "execute_result"
    }
   ],
   "source": [
    "data[['age', 'children', 'bmi','charges']].corr()['charges']"
   ]
  }
 ],
 "metadata": {
  "kernelspec": {
   "display_name": "Python 3 (ipykernel)",
   "language": "python",
   "name": "python3"
  },
  "language_info": {
   "codemirror_mode": {
    "name": "ipython",
    "version": 3
   },
   "file_extension": ".py",
   "mimetype": "text/x-python",
   "name": "python",
   "nbconvert_exporter": "python",
   "pygments_lexer": "ipython3",
   "version": "3.11.5"
  }
 },
 "nbformat": 4,
 "nbformat_minor": 5
}
