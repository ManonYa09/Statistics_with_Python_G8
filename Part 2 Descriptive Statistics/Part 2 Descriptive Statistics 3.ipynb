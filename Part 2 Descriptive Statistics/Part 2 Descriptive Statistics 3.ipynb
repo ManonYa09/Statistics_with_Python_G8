{
 "cells": [
  {
   "cell_type": "markdown",
   "id": "dbb3d3fd-56b7-4dbb-8b64-08bfc383f0fb",
   "metadata": {},
   "source": [
    "### About dataset\n",
    "This dataset represents a list of school districts in an anonymous country. The data includes district and state names, total population, and the literacy rate.\n",
    "\n",
    "The dataset contains:\n",
    "\n",
    "680 rows – each row is a different school district\n",
    "\n",
    "| Column Name | Type   | Description                                                |\n",
    "|-------------|--------|------------------------------------------------------------|\n",
    "| DISTNAME    | str    | The names of an anonymous country’s school districts      |\n",
    "| STATNAME    | str    | The names of an anonymous country’s states                 |\n",
    "| BLOCKS      | int64  | The number of blocks in the school district. Blocks are the smallest organizational structure in the education system of the anonymous country.                |\n",
    "| VILLAGES    | int64  | The number of villages in each district                    |\n",
    "| CLUSTERS    | int64  | The number of clusters in the school district              |\n",
    "| TOTPOPULAT  | float64  | The population for each district                           |\n",
    "| OVERALL_LI  | float64  | The literacy rate for each district                        |"
   ]
  },
  {
   "cell_type": "code",
   "execution_count": 1,
   "id": "5505f016-8a6d-43b9-a462-094746d39d19",
   "metadata": {},
   "outputs": [],
   "source": [
    "import pandas as pd\n",
    "import numpy as np\n",
    "import matplotlib.pyplot as plt\n",
    "import seaborn as sns\n",
    "import warnings\n",
    "warnings.filterwarnings('ignore')"
   ]
  },
  {
   "cell_type": "code",
   "execution_count": 3,
   "id": "152d5602-080a-4b4d-8fc3-17c63b00728e",
   "metadata": {},
   "outputs": [],
   "source": [
    "df = pd.read_csv('https://raw.githubusercontent.com/ManonYa09/Statistics_with_Python_G7/main/Dataset/0.%20education_districtwise.csv')"
   ]
  },
  {
   "cell_type": "code",
   "execution_count": 5,
   "id": "9f07c59b-e6f3-454e-8883-66e10570d72a",
   "metadata": {},
   "outputs": [
    {
     "data": {
      "text/html": [
       "<div>\n",
       "<style scoped>\n",
       "    .dataframe tbody tr th:only-of-type {\n",
       "        vertical-align: middle;\n",
       "    }\n",
       "\n",
       "    .dataframe tbody tr th {\n",
       "        vertical-align: top;\n",
       "    }\n",
       "\n",
       "    .dataframe thead th {\n",
       "        text-align: right;\n",
       "    }\n",
       "</style>\n",
       "<table border=\"1\" class=\"dataframe\">\n",
       "  <thead>\n",
       "    <tr style=\"text-align: right;\">\n",
       "      <th></th>\n",
       "      <th>DISTNAME</th>\n",
       "      <th>STATNAME</th>\n",
       "      <th>BLOCKS</th>\n",
       "      <th>VILLAGES</th>\n",
       "      <th>CLUSTERS</th>\n",
       "      <th>TOTPOPULAT</th>\n",
       "      <th>OVERALL_LI</th>\n",
       "    </tr>\n",
       "  </thead>\n",
       "  <tbody>\n",
       "    <tr>\n",
       "      <th>0</th>\n",
       "      <td>DISTRICT32</td>\n",
       "      <td>STATE1</td>\n",
       "      <td>13</td>\n",
       "      <td>391</td>\n",
       "      <td>104</td>\n",
       "      <td>875564.0</td>\n",
       "      <td>66.92</td>\n",
       "    </tr>\n",
       "    <tr>\n",
       "      <th>1</th>\n",
       "      <td>DISTRICT649</td>\n",
       "      <td>STATE1</td>\n",
       "      <td>18</td>\n",
       "      <td>678</td>\n",
       "      <td>144</td>\n",
       "      <td>1015503.0</td>\n",
       "      <td>66.93</td>\n",
       "    </tr>\n",
       "    <tr>\n",
       "      <th>2</th>\n",
       "      <td>DISTRICT229</td>\n",
       "      <td>STATE1</td>\n",
       "      <td>8</td>\n",
       "      <td>94</td>\n",
       "      <td>65</td>\n",
       "      <td>1269751.0</td>\n",
       "      <td>71.21</td>\n",
       "    </tr>\n",
       "    <tr>\n",
       "      <th>3</th>\n",
       "      <td>DISTRICT259</td>\n",
       "      <td>STATE1</td>\n",
       "      <td>13</td>\n",
       "      <td>523</td>\n",
       "      <td>104</td>\n",
       "      <td>735753.0</td>\n",
       "      <td>57.98</td>\n",
       "    </tr>\n",
       "    <tr>\n",
       "      <th>4</th>\n",
       "      <td>DISTRICT486</td>\n",
       "      <td>STATE1</td>\n",
       "      <td>8</td>\n",
       "      <td>359</td>\n",
       "      <td>64</td>\n",
       "      <td>570060.0</td>\n",
       "      <td>65.00</td>\n",
       "    </tr>\n",
       "  </tbody>\n",
       "</table>\n",
       "</div>"
      ],
      "text/plain": [
       "      DISTNAME STATNAME  BLOCKS  VILLAGES  CLUSTERS  TOTPOPULAT  OVERALL_LI\n",
       "0   DISTRICT32   STATE1      13       391       104    875564.0       66.92\n",
       "1  DISTRICT649   STATE1      18       678       144   1015503.0       66.93\n",
       "2  DISTRICT229   STATE1       8        94        65   1269751.0       71.21\n",
       "3  DISTRICT259   STATE1      13       523       104    735753.0       57.98\n",
       "4  DISTRICT486   STATE1       8       359        64    570060.0       65.00"
      ]
     },
     "execution_count": 5,
     "metadata": {},
     "output_type": "execute_result"
    }
   ],
   "source": [
    "df.head()"
   ]
  },
  {
   "cell_type": "code",
   "execution_count": 7,
   "id": "0c19dbd0-7ca3-4b88-9c6a-93b9408162c4",
   "metadata": {},
   "outputs": [
    {
     "data": {
      "text/plain": [
       "634"
      ]
     },
     "execution_count": 7,
     "metadata": {},
     "output_type": "execute_result"
    }
   ],
   "source": [
    "df['TOTPOPULAT'].nunique()"
   ]
  },
  {
   "cell_type": "code",
   "execution_count": 11,
   "id": "8c2f55a3-9288-457e-addc-3e67e5c0afee",
   "metadata": {},
   "outputs": [
    {
     "data": {
      "text/plain": [
       "576"
      ]
     },
     "execution_count": 11,
     "metadata": {},
     "output_type": "execute_result"
    }
   ],
   "source": [
    "df['VILLAGES'].nunique()"
   ]
  },
  {
   "cell_type": "code",
   "execution_count": null,
   "id": "9e0761dc-d362-4855-ae41-a9269a664a6d",
   "metadata": {},
   "outputs": [],
   "source": [
    "# Variable = Column = Feature"
   ]
  },
  {
   "cell_type": "markdown",
   "id": "c30ae22b-0e7e-4745-aa98-452027e5fb54",
   "metadata": {},
   "source": [
    "### 1. Numberical data\n",
    "#### Numberical and Continous \n",
    "TOTPOPULAT,OVERALL_LI \n",
    "#### Numberical Discrete\n",
    "VILLAGES "
   ]
  },
  {
   "cell_type": "code",
   "execution_count": 17,
   "id": "1178a01c-ae1a-4c37-9a8e-ac93bfc8f048",
   "metadata": {},
   "outputs": [
    {
     "name": "stdout",
     "output_type": "stream",
     "text": [
      "<class 'pandas.core.frame.DataFrame'>\n",
      "RangeIndex: 680 entries, 0 to 679\n",
      "Data columns (total 7 columns):\n",
      " #   Column      Non-Null Count  Dtype  \n",
      "---  ------      --------------  -----  \n",
      " 0   DISTNAME    680 non-null    object \n",
      " 1   STATNAME    680 non-null    object \n",
      " 2   BLOCKS      680 non-null    int64  \n",
      " 3   VILLAGES    680 non-null    int64  \n",
      " 4   CLUSTERS    680 non-null    int64  \n",
      " 5   TOTPOPULAT  634 non-null    float64\n",
      " 6   OVERALL_LI  634 non-null    float64\n",
      "dtypes: float64(2), int64(3), object(2)\n",
      "memory usage: 37.3+ KB\n"
     ]
    }
   ],
   "source": [
    "df.info()"
   ]
  },
  {
   "cell_type": "code",
   "execution_count": 15,
   "id": "03bd2261-1947-40f9-9915-df264a9d0ccf",
   "metadata": {},
   "outputs": [],
   "source": [
    "df1 = df.dropna()"
   ]
  },
  {
   "cell_type": "markdown",
   "id": "3c6a5daa-a01c-48d6-835b-e07d331f2647",
   "metadata": {},
   "source": [
    "### 2. Categorical Data"
   ]
  },
  {
   "cell_type": "code",
   "execution_count": null,
   "id": "9e1cf531-fa77-44e4-a3e9-f7505cdbb33e",
   "metadata": {},
   "outputs": [],
   "source": [
    "df1"
   ]
  },
  {
   "cell_type": "markdown",
   "id": "45a2e21a-b703-4298-9def-52d4f5b1837e",
   "metadata": {},
   "source": [
    "### 3. Frequency Distribution"
   ]
  },
  {
   "cell_type": "markdown",
   "id": "2bd4abce-afcd-47c7-a660-029f3a7aee05",
   "metadata": {},
   "source": [
    "#### 3.1 Number Data as continuous "
   ]
  },
  {
   "cell_type": "code",
   "execution_count": null,
   "id": "09fbbee4-a70b-4fb4-954a-d9f7c5790554",
   "metadata": {},
   "outputs": [],
   "source": [
    "sum([300, 400, 500,10000 ])/4"
   ]
  },
  {
   "cell_type": "code",
   "execution_count": null,
   "id": "99d24f05-404d-4e97-a8c1-04d8d968b8f7",
   "metadata": {},
   "outputs": [],
   "source": [
    "(400+500)/2"
   ]
  },
  {
   "cell_type": "code",
   "execution_count": 19,
   "id": "69330dd1-65d6-4667-8835-f4d1e4c055fc",
   "metadata": {},
   "outputs": [
    {
     "data": {
      "text/plain": [
       "count    6.340000e+02\n",
       "mean     1.899024e+06\n",
       "std      1.547475e+06\n",
       "min      7.948000e+03\n",
       "25%      8.226940e+05\n",
       "50%      1.564392e+06\n",
       "75%      2.587520e+06\n",
       "max      1.105413e+07\n",
       "Name: TOTPOPULAT, dtype: float64"
      ]
     },
     "execution_count": 19,
     "metadata": {},
     "output_type": "execute_result"
    }
   ],
   "source": [
    "df1['TOTPOPULAT'].describe()"
   ]
  },
  {
   "cell_type": "code",
   "execution_count": 21,
   "id": "2ae17b95-4bcd-4123-a6fc-cffff2f49d9c",
   "metadata": {},
   "outputs": [
    {
     "data": {
      "text/plain": [
       "count         634\n",
       "unique         36\n",
       "top       STATE21\n",
       "freq           71\n",
       "Name: STATNAME, dtype: object"
      ]
     },
     "execution_count": 21,
     "metadata": {},
     "output_type": "execute_result"
    }
   ],
   "source": [
    "df1['STATNAME'].describe()"
   ]
  },
  {
   "cell_type": "code",
   "execution_count": 23,
   "id": "a0c336cb-2295-4138-a2dd-5bff96da8091",
   "metadata": {},
   "outputs": [
    {
     "data": {
      "image/png": "[encoded data removed]",
      "text/plain": [
       "<Figure size 1200x600 with 1 Axes>"
      ]
     },
     "metadata": {},
     "output_type": "display_data"
    }
   ],
   "source": [
    "fig, ax = plt.subplots(figsize = (12, 6))\n",
    "sns.histplot(x = df1['TOTPOPULAT'], bins = np.arange(0,12e+06, 0.5e+06))\n",
    "ax.set_ylabel('Number of DistName')\n",
    "ax.set_xticks(np.arange(0,11e+06, 1e+06))\n",
    "\n",
    "ax.axvline(x = 1.564392e+06, color = 'b',label = '50%')\n",
    "ax.axvline(x = 1.899024e+06, color = 'teal',label = 'Average')\n",
    "\n",
    "ax.bar_label(ax.containers[1], fontsize = 8, color = 'black')\n",
    "# ax.grid()\n",
    "ax.legend(loc = 'upper left')\n",
    "sns.despine();"
   ]
  },
  {
   "cell_type": "code",
   "execution_count": null,
   "id": "45889f67-e37e-42cf-966c-714d8a5c5c50",
   "metadata": {},
   "outputs": [],
   "source": [
    "# num_rows1 , num_columns1 = df.shape"
   ]
  },
  {
   "cell_type": "code",
   "execution_count": null,
   "id": "3183d9e9-4035-483d-9ce1-7341542db914",
   "metadata": {},
   "outputs": [],
   "source": [
    "# df.shape"
   ]
  },
  {
   "cell_type": "code",
   "execution_count": null,
   "id": "b1f327d4-1b0c-4e69-a297-80f61a5b75d2",
   "metadata": {},
   "outputs": [],
   "source": [
    "# num_rows1"
   ]
  },
  {
   "cell_type": "code",
   "execution_count": null,
   "id": "9b823a68-576c-4b24-b2e1-ada6a580c4d2",
   "metadata": {},
   "outputs": [],
   "source": [
    "# num_columns1"
   ]
  },
  {
   "cell_type": "code",
   "execution_count": 25,
   "id": "7bb7711f-1e24-46bf-aeaf-a90d521fc8af",
   "metadata": {},
   "outputs": [],
   "source": [
    "# num_rows1 ==num_columns1"
   ]
  },
  {
   "cell_type": "code",
   "execution_count": 27,
   "id": "2dd4a65b-f18a-4cb0-9779-3ac847485214",
   "metadata": {},
   "outputs": [],
   "source": [
    "# dataset.shape"
   ]
  },
  {
   "cell_type": "code",
   "execution_count": 29,
   "id": "3bb53496-c49f-4ff5-bf9d-039a13ca8443",
   "metadata": {},
   "outputs": [],
   "source": [
    "# np.arange(0, 10.0001, 2)"
   ]
  },
  {
   "cell_type": "code",
   "execution_count": 31,
   "id": "b59d4705-1dc0-4162-8b2c-87b16bdf8f04",
   "metadata": {},
   "outputs": [],
   "source": [
    "# dataset['DISTNAME'].nunique()"
   ]
  },
  {
   "cell_type": "code",
   "execution_count": null,
   "id": "40b0eab1-9c1c-402e-ac37-dfd58e7a25d9",
   "metadata": {},
   "outputs": [],
   "source": [
    "# fig, ax = plt.subplots(figsize = (12, 6))\n",
    "# sns.histplot(x = df['TOTPOPULAT'], bins= np.arange(0, 12*10**6, 10**6))\n",
    "# ax.set_title('Distribution of Total Population', fontweight = 'bold')\n",
    "# ax.set_xticks(np.arange(0, 12*10**6, 10**6))\n",
    "# ax.set_xlim(0, 11*10**6)\n",
    "# ax.bar_label(ax.containers[1], color = 'r')\n",
    "# sns.despine()\n",
    "# # plt.savefig('testing.jpg', dpi = 2000);"
   ]
  },
  {
   "cell_type": "code",
   "execution_count": null,
   "id": "ffffa6c7-93a6-4029-b20f-2b3afffe071a",
   "metadata": {},
   "outputs": [],
   "source": [
    "dataset['OVERALL_LI'].describe()"
   ]
  },
  {
   "cell_type": "code",
   "execution_count": null,
   "id": "51d52383-b07c-4cc7-952e-09408c71a1c9",
   "metadata": {},
   "outputs": [],
   "source": [
    "sns.despine"
   ]
  },
  {
   "cell_type": "markdown",
   "id": "760fcd2f-9e69-49f4-b632-729a82d9f750",
   "metadata": {},
   "source": [
    "#### 3.2 Discrete"
   ]
  },
  {
   "cell_type": "code",
   "execution_count": null,
   "id": "0ce7e11c-4261-4a62-b048-ccea2f2b4ab7",
   "metadata": {},
   "outputs": [],
   "source": [
    "df['VILLAGES'].describe()"
   ]
  },
  {
   "cell_type": "code",
   "execution_count": null,
   "id": "2ed816bf-b5e0-4c68-941b-b6f65c410ea1",
   "metadata": {},
   "outputs": [],
   "source": [
    "df['VILLAGES'].nunique()"
   ]
  },
  {
   "cell_type": "code",
   "execution_count": null,
   "id": "2e702978-f823-443c-a935-f2bbf61b7875",
   "metadata": {},
   "outputs": [],
   "source": [
    "# df['VILLAGES'].value_counts()"
   ]
  },
  {
   "cell_type": "markdown",
   "id": "edbf1958-f1fd-4370-bbf6-5c30c996a7db",
   "metadata": {},
   "source": [
    "### 3.3 Categorical"
   ]
  },
  {
   "cell_type": "code",
   "execution_count": null,
   "id": "93e92736-192b-49e3-9dd8-80cb18ec3eb0",
   "metadata": {},
   "outputs": [],
   "source": [
    "# df1 = pd.read_csv('/Users/macbook/Desktop/Fundamental Data Science G8/Data Visualization/finall_3data_exericse_with_month.csv')"
   ]
  },
  {
   "cell_type": "code",
   "execution_count": null,
   "id": "74c25bde-cd5e-4407-98c1-2a5c5d20128e",
   "metadata": {},
   "outputs": [],
   "source": [
    "# df1 = df1[['month', 'sum']]"
   ]
  },
  {
   "cell_type": "code",
   "execution_count": null,
   "id": "7f1ec862-5d1c-4d0f-bea9-3799f7e8130f",
   "metadata": {},
   "outputs": [],
   "source": [
    "# df1.rename(columns={'sum':'Frequency'}, inplace=True)"
   ]
  },
  {
   "cell_type": "code",
   "execution_count": null,
   "id": "963e8e80-4ba0-421c-b944-dcd52e9f6a87",
   "metadata": {},
   "outputs": [],
   "source": [
    "# df1.head(2)"
   ]
  },
  {
   "cell_type": "markdown",
   "id": "7d791442-862f-4a0b-af2e-692427c33db1",
   "metadata": {},
   "source": [
    "### 4. Measures of Central Tendency\n",
    "#### 4.1 Mean or Average\n",
    "- It is calculated by dividing the sum of all values by the count of all observations\n",
    "- It can only be applied to numerical variables (not categorical)\n",
    "\n",
    "`Noted` The main limitation of mean is that it is sensitive to outlier (extreme values)"
   ]
  },
  {
   "cell_type": "markdown",
   "id": "76b5ec8d-8442-4b3d-8b94-943db197afbf",
   "metadata": {},
   "source": [
    "<img src=\"https://raw.githubusercontent.com/ManonYa09/Statistics_with_Python_G7/main/Part%201%20Introduction%20to%20Statistics/Distribution%20of%20Literacy%20Rate.jpg\" width=\"100%\" style=\"display: block; margin: 0 auto;\">"
   ]
  },
  {
   "cell_type": "code",
   "execution_count": 37,
   "id": "0f7dbcd5-dc16-4708-be35-ebba023f85b9",
   "metadata": {},
   "outputs": [
    {
     "data": {
      "text/plain": [
       "73.39518927444796"
      ]
     },
     "execution_count": 37,
     "metadata": {},
     "output_type": "execute_result"
    }
   ],
   "source": [
    "df1['OVERALL_LI'].mean()"
   ]
  },
  {
   "cell_type": "code",
   "execution_count": null,
   "id": "f4aae533-5bb7-47d0-a2b5-03d2c0960921",
   "metadata": {},
   "outputs": [],
   "source": [
    "25% of len(df) 680"
   ]
  },
  {
   "cell_type": "code",
   "execution_count": null,
   "id": "02a80284-7170-43b2-b928-7e4bc7049ac0",
   "metadata": {},
   "outputs": [],
   "source": [
    "df['OVERALL_LI'].describe()"
   ]
  },
  {
   "cell_type": "code",
   "execution_count": 35,
   "id": "4f5a3f7d-ff3a-474c-aa33-358610654d3c",
   "metadata": {},
   "outputs": [],
   "source": [
    "# sum([100, 100, 1000000, 1000000, 300, 400, 500])/7"
   ]
  },
  {
   "cell_type": "code",
   "execution_count": null,
   "id": "ac5dfd92-fb06-47e3-a02e-a52a8f58a0ce",
   "metadata": {},
   "outputs": [],
   "source": [
    "df['OVERALL_LI'].mean()"
   ]
  },
  {
   "cell_type": "markdown",
   "id": "a2f34e2e-12f9-404f-b461-8b11c83c0316",
   "metadata": {},
   "source": [
    "#### 4.2 Median"
   ]
  },
  {
   "cell_type": "markdown",
   "id": "2c06af1b-99a5-4fa6-9623-ff43b86f14c0",
   "metadata": {},
   "source": [
    "<img src=\"https://raw.githubusercontent.com/ManonYa09/Statistics_with_Python_G7/main/%20Slides/photos/2.%20Median.jpg\" alt=\"Control Structure\" width=\"65%\" style=\"display: block; margin: 0 auto;\">"
   ]
  },
  {
   "cell_type": "code",
   "execution_count": 41,
   "id": "4f5cd738-819c-40de-8a53-e6f7b9531b16",
   "metadata": {},
   "outputs": [
    {
     "data": {
      "text/plain": [
       "73.49000000000001"
      ]
     },
     "execution_count": 41,
     "metadata": {},
     "output_type": "execute_result"
    }
   ],
   "source": [
    "df1['OVERALL_LI'].median()"
   ]
  },
  {
   "cell_type": "code",
   "execution_count": null,
   "id": "ad2d8425-a054-4c17-9d9c-65c8e207a1ae",
   "metadata": {},
   "outputs": [],
   "source": [
    "# df[(df['VILLAGES']>= df['VILLAGES'].median()) & (df['VILLAGES']<=df['VILLAGES'].max())].shape[0]"
   ]
  },
  {
   "cell_type": "markdown",
   "id": "db5e346b-8201-4568-b1d0-54d55eca4fe5",
   "metadata": {},
   "source": [
    "#### 4.3 Mode "
   ]
  },
  {
   "cell_type": "code",
   "execution_count": 45,
   "id": "20aa1a15-a8d4-4e43-a683-e52e3524a2f3",
   "metadata": {},
   "outputs": [
    {
     "data": {
      "text/plain": [
       "count         680\n",
       "unique         36\n",
       "top       STATE21\n",
       "freq           75\n",
       "Name: STATNAME, dtype: object"
      ]
     },
     "execution_count": 45,
     "metadata": {},
     "output_type": "execute_result"
    }
   ],
   "source": [
    "df['STATNAME'].describe()"
   ]
  },
  {
   "cell_type": "code",
   "execution_count": 47,
   "id": "b5e6c7ca-bdf1-4194-a3b2-da78de156c4a",
   "metadata": {},
   "outputs": [
    {
     "data": {
      "text/plain": [
       "STATNAME\n",
       "STATE21    75\n",
       "STATE22    51\n",
       "STATE28    38\n",
       "STATE17    36\n",
       "STATE20    34\n",
       "STATE9     33\n",
       "STATE13    33\n",
       "STATE6     30\n",
       "STATE24    30\n",
       "STATE33    27\n",
       "STATE31    27\n",
       "STATE23    24\n",
       "STATE1     22\n",
       "STATE26    22\n",
       "STATE34    21\n",
       "STATE25    21\n",
       "STATE3     20\n",
       "STATE5     14\n",
       "STATE15    13\n",
       "STATE7     13\n",
       "STATE16    12\n",
       "STATE27    11\n",
       "STATE4     11\n",
       "STATE29    10\n",
       "STATE35     9\n",
       "STATE2      9\n",
       "STATE14     8\n",
       "STATE12     8\n",
       "STATE18     4\n",
       "STATE32     4\n",
       "STATE11     3\n",
       "STATE10     2\n",
       "STATE30     2\n",
       "STATE19     1\n",
       "STATE36     1\n",
       "STATE8      1\n",
       "Name: count, dtype: int64"
      ]
     },
     "execution_count": 47,
     "metadata": {},
     "output_type": "execute_result"
    }
   ],
   "source": [
    "df['STATNAME'].value_counts()"
   ]
  },
  {
   "cell_type": "code",
   "execution_count": 43,
   "id": "a30422a7-c95b-46dd-b8fd-15bf75e267ad",
   "metadata": {},
   "outputs": [
    {
     "data": {
      "text/plain": [
       "0    STATE21\n",
       "Name: STATNAME, dtype: object"
      ]
     },
     "execution_count": 43,
     "metadata": {},
     "output_type": "execute_result"
    }
   ],
   "source": [
    "df['STATNAME'].mode()"
   ]
  },
  {
   "cell_type": "markdown",
   "id": "e8e62cef-f4e7-48c8-8781-3a50d16a8ac4",
   "metadata": {},
   "source": [
    "## 5. Variability"
   ]
  },
  {
   "cell_type": "markdown",
   "id": "91c4ba0e-2b39-4fe1-92d0-3c4405a6a3d4",
   "metadata": {},
   "source": [
    "### 5.1 Measures of Spread"
   ]
  },
  {
   "cell_type": "markdown",
   "id": "fa003b99-e199-4320-ba54-84927ad5e153",
   "metadata": {},
   "source": [
    "#### 5.1.1 Range "
   ]
  },
  {
   "cell_type": "markdown",
   "id": "7d7c21c1-86be-456f-98c2-b35767fee4a2",
   "metadata": {},
   "source": [
    "The **range** is the difference between the largest and smallest value in a dataset. "
   ]
  },
  {
   "cell_type": "code",
   "execution_count": 51,
   "id": "70d989e3-c568-4180-ba50-5a076cf33159",
   "metadata": {},
   "outputs": [
    {
     "data": {
      "text/plain": [
       "-61.540000000000006"
      ]
     },
     "execution_count": 51,
     "metadata": {},
     "output_type": "execute_result"
    }
   ],
   "source": [
    "-df1['OVERALL_LI'].max() + df1['OVERALL_LI'].min()"
   ]
  },
  {
   "cell_type": "code",
   "execution_count": 57,
   "id": "b7c9c917-e95d-4596-9be2-891c87492335",
   "metadata": {},
   "outputs": [
    {
     "data": {
      "text/plain": [
       "count    6.340000e+02\n",
       "mean     1.899024e+06\n",
       "std      1.547475e+06\n",
       "min      7.948000e+03\n",
       "25%      8.226940e+05\n",
       "50%      1.564392e+06\n",
       "75%      2.587520e+06\n",
       "max      1.105413e+07\n",
       "Name: TOTPOPULAT, dtype: float64"
      ]
     },
     "execution_count": 57,
     "metadata": {},
     "output_type": "execute_result"
    }
   ],
   "source": [
    "df1['TOTPOPULAT'].describe()"
   ]
  },
  {
   "cell_type": "code",
   "execution_count": 55,
   "id": "90f15647-aec6-4424-b372-88dbf434d5eb",
   "metadata": {},
   "outputs": [
    {
     "data": {
      "text/plain": [
       "11046183.0"
      ]
     },
     "execution_count": 55,
     "metadata": {},
     "output_type": "execute_result"
    }
   ],
   "source": [
    "df1['TOTPOPULAT'].max() - df1['TOTPOPULAT'].min()"
   ]
  },
  {
   "cell_type": "markdown",
   "id": "92b4ab38-fb91-4e26-82cf-f4b36c4a225f",
   "metadata": {},
   "source": [
    "#### 5.1.2 Standard Deviation"
   ]
  },
  {
   "cell_type": "markdown",
   "id": "97ef8755-f83b-469f-91e2-0b97891d4ee8",
   "metadata": {},
   "source": [
    "<!-- #### Range\n",
    "The **range** is the difference between the largest and smallest value in a dataset. \n",
    " -->\n",
    "#### Variance \n",
    "The average of the spuared difference of each data point from the mean.\n",
    "#### Standard Deviation\n",
    "Measures how spread out your values are from the mean of your dataset.\n",
    "\n",
    "    - Low, or small, standard deviation indicates data are clustered tightly around the mean, and high, or large, standard deviation indicates data are more spread out.\n",
    "<img src=\"https://raw.githubusercontent.com/ManonYa09/Statistics_with_Python_G8/main/Slides/photos/photo_2023-11-11_10-46-48.jpg\" alt=\"Control Structure\" width=\"75%\" style=\"display: block; margin: 0 auto;\">"
   ]
  },
  {
   "cell_type": "code",
   "execution_count": null,
   "id": "2e12395f-fd49-44d4-b464-1b4bd3b02256",
   "metadata": {},
   "outputs": [],
   "source": [
    "std  = [(average - x1)**2 + (average - x2)**2 + (average - x3)**2 + ... + (average + xn)**2]/n\n"
   ]
  },
  {
   "cell_type": "code",
   "execution_count": 63,
   "id": "bfe96c9a-d7e8-455d-877d-a6f13c1e3db9",
   "metadata": {},
   "outputs": [
    {
     "data": {
      "text/plain": [
       "0      66.92\n",
       "1      66.93\n",
       "2      71.21\n",
       "3      57.98\n",
       "4      65.00\n",
       "       ...  \n",
       "675    78.05\n",
       "676    56.06\n",
       "677    65.05\n",
       "678    66.16\n",
       "679    65.46\n",
       "Name: OVERALL_LI, Length: 634, dtype: float64"
      ]
     },
     "execution_count": 63,
     "metadata": {},
     "output_type": "execute_result"
    }
   ],
   "source": [
    "df1['OVERALL_LI']"
   ]
  },
  {
   "cell_type": "code",
   "execution_count": 65,
   "id": "88d0630d-a561-4c5e-93fa-91a49260c283",
   "metadata": {},
   "outputs": [
    {
     "data": {
      "text/plain": [
       "6.469999999999999"
      ]
     },
     "execution_count": 65,
     "metadata": {},
     "output_type": "execute_result"
    }
   ],
   "source": [
    "73.39-66.92"
   ]
  },
  {
   "cell_type": "code",
   "execution_count": 67,
   "id": "83b93e5b-f946-4dcd-81de-4f716f217451",
   "metadata": {},
   "outputs": [
    {
     "data": {
      "text/plain": [
       "17.33"
      ]
     },
     "execution_count": 67,
     "metadata": {},
     "output_type": "execute_result"
    }
   ],
   "source": [
    "73.39-56.06"
   ]
  },
  {
   "cell_type": "code",
   "execution_count": 61,
   "id": "45f9fb37-f15d-4137-9d23-e8f393670e00",
   "metadata": {},
   "outputs": [
    {
     "data": {
      "text/plain": [
       "count    634.000000\n",
       "mean      73.395189\n",
       "std       10.098460\n",
       "min       37.220000\n",
       "25%       66.437500\n",
       "50%       73.490000\n",
       "75%       80.815000\n",
       "max       98.760000\n",
       "Name: OVERALL_LI, dtype: float64"
      ]
     },
     "execution_count": 61,
     "metadata": {},
     "output_type": "execute_result"
    }
   ],
   "source": [
    "df1['OVERALL_LI'].describe()"
   ]
  },
  {
   "cell_type": "code",
   "execution_count": null,
   "id": "194ba8f4-4996-4fca-97d8-7bf533aa4ccf",
   "metadata": {},
   "outputs": [],
   "source": [
    "df1['OVERALL_LI'].std(ddof=0)"
   ]
  },
  {
   "cell_type": "code",
   "execution_count": null,
   "id": "b5c99b79-62b1-4d0d-b5a0-1c778012f645",
   "metadata": {},
   "outputs": [],
   "source": [
    "df1['OVERALL_LI'].std() # std. Sample"
   ]
  },
  {
   "cell_type": "code",
   "execution_count": null,
   "id": "f343dee5-7761-4cac-8a10-629fb5b729a1",
   "metadata": {},
   "outputs": [],
   "source": [
    "df1['OVERALL_LI']"
   ]
  },
  {
   "cell_type": "code",
   "execution_count": null,
   "id": "8865ed45-afdf-474c-9783-f6d2904c70d0",
   "metadata": {},
   "outputs": [],
   "source": [
    "A-B= 0?"
   ]
  },
  {
   "cell_type": "code",
   "execution_count": null,
   "id": "31f57d64-8e3a-412c-ba6e-8c8f20bdbfaa",
   "metadata": {},
   "outputs": [],
   "source": [
    "std  = [(average - x1)**2 + (average - x2)**2 + (average - x3)**2 + ... + (average + xn)**2]/n\n",
    "xi = "
   ]
  },
  {
   "cell_type": "code",
   "execution_count": null,
   "id": "bfcf3274-5be6-4675-ba20-ec50b515a240",
   "metadata": {},
   "outputs": [],
   "source": [
    "df1['OVERALL_LI'].describe()"
   ]
  },
  {
   "cell_type": "code",
   "execution_count": null,
   "id": "1e512d6b-2a02-4de5-9ac0-fc8997b6a886",
   "metadata": {},
   "outputs": [],
   "source": [
    "mean = 1000000\n",
    "x1 = 1000010, x1 = 1000012, \n",
    "std = 10"
   ]
  },
  {
   "cell_type": "code",
   "execution_count": null,
   "id": "7b2e09ee-e37b-46f6-be1e-ef1fc3d2a951",
   "metadata": {},
   "outputs": [],
   "source": [
    "df1['TOTPOPULAT'].describe()"
   ]
  },
  {
   "cell_type": "markdown",
   "id": "d4bf3149-52f5-410e-9755-20e7c1fcd793",
   "metadata": {},
   "source": [
    "#### 5.1.3 Variance"
   ]
  },
  {
   "cell_type": "code",
   "execution_count": null,
   "id": "212cdbe7-a747-475c-ad07-dfd6350b0890",
   "metadata": {},
   "outputs": [],
   "source": []
  },
  {
   "cell_type": "markdown",
   "id": "7626dc07-a258-4167-b967-bf6a008610fe",
   "metadata": {},
   "source": [
    "### 6. Measures of Position "
   ]
  },
  {
   "cell_type": "markdown",
   "id": "71b65549-81f0-4521-96dd-510946def393",
   "metadata": {},
   "source": [
    "#### 6.1 Perceptile"
   ]
  },
  {
   "cell_type": "code",
   "execution_count": null,
   "id": "075c8a3b-80ef-4880-adf5-234f3cfa6987",
   "metadata": {},
   "outputs": [],
   "source": [
    "df1['OVERALL_LI'].describe()"
   ]
  },
  {
   "cell_type": "markdown",
   "id": "d4499c81-508a-4f06-981d-d87a85a6a565",
   "metadata": {},
   "source": [
    "<img src=\"https://online.stat.psu.edu/public/stat800/lesson04/500%20l1%2025th%20and%2075th%20percentile.png\" width=\"50%\" style=\"display: block; margin: 0 auto;\">"
   ]
  },
  {
   "cell_type": "code",
   "execution_count": null,
   "id": "89da3257-de19-4af3-9f5a-34afabdcfb84",
   "metadata": {},
   "outputs": [],
   "source": [
    "100: 95%   2.5/100 , (100- 2.5)/100"
   ]
  },
  {
   "cell_type": "code",
   "execution_count": null,
   "id": "6539dbef-767f-4191-8826-43aec2252d8b",
   "metadata": {},
   "outputs": [],
   "source": [
    "min -> Q1 : 25%\n",
    "Q1 -> Q2 : 25%\n",
    "Q2 -> Q3: 25\n",
    "Q3 -> max : 25%\n",
    "perceptive : 0->1%, 1->2%, --> 99->100"
   ]
  },
  {
   "cell_type": "code",
   "execution_count": 75,
   "id": "1eecba57-c960-4bb2-8a6f-08fb8a0862d1",
   "metadata": {},
   "outputs": [
    {
     "data": {
      "text/plain": [
       "0.025    52.8365\n",
       "0.975    92.3465\n",
       "Name: OVERALL_LI, dtype: float64"
      ]
     },
     "execution_count": 75,
     "metadata": {},
     "output_type": "execute_result"
    }
   ],
   "source": [
    "df1['OVERALL_LI'].quantile([0.025,0.975])"
   ]
  },
  {
   "cell_type": "code",
   "execution_count": 71,
   "id": "d4b84218-74c6-40c5-872f-f76c88514225",
   "metadata": {},
   "outputs": [
    {
     "data": {
      "text/plain": [
       "0.2    64.93\n",
       "0.3    68.29\n",
       "Name: OVERALL_LI, dtype: float64"
      ]
     },
     "execution_count": 71,
     "metadata": {},
     "output_type": "execute_result"
    }
   ],
   "source": [
    "## [0% -> 30%]\n",
    "df1['OVERALL_LI'].quantile([0.2,0.3])"
   ]
  },
  {
   "cell_type": "code",
   "execution_count": 79,
   "id": "c13a9864-0e91-441d-9d8c-6c0572106acf",
   "metadata": {},
   "outputs": [
    {
     "data": {
      "text/plain": [
       "count    6.340000e+02\n",
       "mean     1.899024e+06\n",
       "std      1.547475e+06\n",
       "min      7.948000e+03\n",
       "25%      8.226940e+05\n",
       "50%      1.564392e+06\n",
       "75%      2.587520e+06\n",
       "max      1.105413e+07\n",
       "Name: TOTPOPULAT, dtype: float64"
      ]
     },
     "execution_count": 79,
     "metadata": {},
     "output_type": "execute_result"
    }
   ],
   "source": [
    "df1['TOTPOPULAT'].describe()"
   ]
  },
  {
   "cell_type": "code",
   "execution_count": 83,
   "id": "038106e9-5457-4e5b-889c-757a130ff7c2",
   "metadata": {},
   "outputs": [
    {
     "data": {
      "text/plain": [
       "0.025      77646.500\n",
       "0.975    5335594.775\n",
       "Name: TOTPOPULAT, dtype: float64"
      ]
     },
     "execution_count": 83,
     "metadata": {},
     "output_type": "execute_result"
    }
   ],
   "source": [
    "df1['TOTPOPULAT'].quantile([0.025, 0.975])"
   ]
  },
  {
   "cell_type": "code",
   "execution_count": 87,
   "id": "775aaeaa-88b0-44ab-92a9-0297231ba08f",
   "metadata": {},
   "outputs": [
    {
     "data": {
      "image/png": "[encoded data removed]",
      "text/plain": [
       "<Figure size 1200x600 with 1 Axes>"
      ]
     },
     "metadata": {},
     "output_type": "display_data"
    }
   ],
   "source": [
    "fig, ax = plt.subplots(figsize = (12, 6))\n",
    "sns.histplot(x = df1['TOTPOPULAT'], bins = np.arange(0,12e+06, 0.5e+06))\n",
    "ax.set_ylabel('Number of DistName')\n",
    "ax.set_xticks(np.arange(0,11e+06, 1e+06))\n",
    "\n",
    "ax.axvline(x = 1.564392e+06, color = 'b',label = '50%')\n",
    "ax.axvline(x = 1.899024e+06, color = 'teal',label = 'Average')\n",
    "\n",
    "ax.bar_label(ax.containers[1], fontsize = 8, color = 'black')\n",
    "# ax.grid()\n",
    "ax.legend(loc = 'upper left')\n",
    "sns.despine();"
   ]
  },
  {
   "cell_type": "code",
   "execution_count": 91,
   "id": "71de415e-8cd1-4828-ae8c-cc13925be4e7",
   "metadata": {},
   "outputs": [
    {
     "data": {
      "text/plain": [
       "count    6.340000e+02\n",
       "mean     1.899024e+06\n",
       "std      1.547475e+06\n",
       "min      7.948000e+03\n",
       "25%      8.226940e+05\n",
       "50%      1.564392e+06\n",
       "75%      2.587520e+06\n",
       "max      1.105413e+07\n",
       "Name: TOTPOPULAT, dtype: float64"
      ]
     },
     "execution_count": 91,
     "metadata": {},
     "output_type": "execute_result"
    }
   ],
   "source": [
    "df1['TOTPOPULAT'].describe()"
   ]
  },
  {
   "cell_type": "code",
   "execution_count": 89,
   "id": "ad075409-c179-4ce5-ae52-f10d4b5d59f9",
   "metadata": {},
   "outputs": [
    {
     "data": {
      "text/plain": [
       "0.00       7948.0\n",
       "0.95    4553536.8\n",
       "Name: TOTPOPULAT, dtype: float64"
      ]
     },
     "execution_count": 89,
     "metadata": {},
     "output_type": "execute_result"
    }
   ],
   "source": [
    "df1['TOTPOPULAT'].quantile([0, .95])"
   ]
  },
  {
   "cell_type": "code",
   "execution_count": 85,
   "id": "4b42461f-aa98-490d-affb-6c7eb6d2a057",
   "metadata": {},
   "outputs": [
    {
     "data": {
      "text/plain": [
       "5257948.275"
      ]
     },
     "execution_count": 85,
     "metadata": {},
     "output_type": "execute_result"
    }
   ],
   "source": [
    "5335594.775-77646.500"
   ]
  },
  {
   "cell_type": "code",
   "execution_count": null,
   "id": "012c0879-dc7d-4ce1-97cc-f3e2a138765d",
   "metadata": {},
   "outputs": [],
   "source": [
    "df1['OVERALL_LI'].quantile([0, 0.4])"
   ]
  },
  {
   "cell_type": "markdown",
   "id": "582044d8-7c01-42f1-954a-47ce028efddd",
   "metadata": {},
   "source": [
    "### 6.2 Quartile"
   ]
  },
  {
   "cell_type": "markdown",
   "id": "52beb1b3-9f1d-4ca4-85e5-428ff20ba69f",
   "metadata": {},
   "source": [
    "divides the values in a dataset into four equal parts"
   ]
  },
  {
   "cell_type": "markdown",
   "id": "15896a4f-f657-4276-87b7-145c6bfe8c6b",
   "metadata": {},
   "source": [
    "<img src=\"https://raw.githubusercontent.com/ManonYa09/Statistics_with_Python_G7/main/%20Slides/photos/3.%20Interqualtile%20range.jpg\" width=\"60%\" style=\"display: block; margin: 0 auto;\">"
   ]
  },
  {
   "cell_type": "code",
   "execution_count": 95,
   "id": "3090d3c6-57a8-41dd-9a13-c1f7e0294852",
   "metadata": {},
   "outputs": [
    {
     "data": {
      "text/plain": [
       "(25.0, 4.0)"
      ]
     },
     "execution_count": 95,
     "metadata": {},
     "output_type": "execute_result"
    }
   ],
   "source": [
    "100/4, 16/4"
   ]
  },
  {
   "cell_type": "markdown",
   "id": "a28cf134-9f1d-43e0-b1ea-2a39c1ff49c0",
   "metadata": {},
   "source": [
    "## Boxplot"
   ]
  },
  {
   "cell_type": "markdown",
   "id": "102266db-e6c7-4027-8fae-4cecd8e3b39f",
   "metadata": {},
   "source": [
    "<img src=\"https://raw.githubusercontent.com/ManonYa09/Statistics_with_Python_G7/main/%20Slides/photos/Box-Plot-and-Whisker-Plot-1.png\" width=\"60%\" style=\"display: block; margin: 0 auto;\">\n",
    "\n",
    "\n"
   ]
  },
  {
   "cell_type": "code",
   "execution_count": 109,
   "id": "ea5da5aa-5474-4ca9-8382-a4596e5d1a8f",
   "metadata": {},
   "outputs": [],
   "source": [
    "def outlier_detection(df):\n",
    "    \"\"\"\n",
    "    \"\"\"\n",
    "    Q1 = df.quantile(0.25)\n",
    "    Q3 = df.quantile(0.75)\n",
    "    IQR = Q3 - Q1\n",
    "    upper_end = Q3 + 1.5 * IQR\n",
    "    lower_end = Q1 - 1.5 * IQR\n",
    "    outliers = df[(df > upper_end) | (df < lower_end)]\n",
    "    return outliers"
   ]
  },
  {
   "cell_type": "code",
   "execution_count": 111,
   "id": "1eb9da81-5926-4fb6-b6cd-b9c410094864",
   "metadata": {},
   "outputs": [
    {
     "data": {
      "text/plain": [
       "0      66.92\n",
       "1      66.93\n",
       "2      71.21\n",
       "3      57.98\n",
       "4      65.00\n",
       "       ...  \n",
       "675    78.05\n",
       "676    56.06\n",
       "677    65.05\n",
       "678    66.16\n",
       "679    65.46\n",
       "Name: OVERALL_LI, Length: 680, dtype: float64"
      ]
     },
     "execution_count": 111,
     "metadata": {},
     "output_type": "execute_result"
    }
   ],
   "source": [
    "df['OVERALL_LI']"
   ]
  },
  {
   "cell_type": "code",
   "execution_count": 143,
   "id": "88648a48-15cd-4443-a189-53587529bcb7",
   "metadata": {},
   "outputs": [
    {
     "data": {
      "text/plain": [
       "array([-14.3775])"
      ]
     },
     "execution_count": 143,
     "metadata": {},
     "output_type": "execute_result"
    }
   ],
   "source": [
    "df['OVERALL_LI'].quantile([0.25]).values- df['OVERALL_LI'].quantile([0.75]).values"
   ]
  },
  {
   "cell_type": "code",
   "execution_count": 155,
   "id": "b20390ad-5ef2-4111-a641-26eff11e879a",
   "metadata": {},
   "outputs": [
    {
     "data": {
      "text/plain": [
       "''"
      ]
     },
     "execution_count": 155,
     "metadata": {},
     "output_type": "execute_result"
    },
    {
     "data": {
      "image/png": "[encoded data removed]",
      "text/plain": [
       "<Figure size 640x480 with 1 Axes>"
      ]
     },
     "metadata": {},
     "output_type": "display_data"
    }
   ],
   "source": [
    "sns.boxplot(y= df['OVERALL_LI'])\n",
    "plt.axhline(y = df['OVERALL_LI'].median(), color = 'r')\n",
    "plt.axhline(y = df['OVERALL_LI'].quantile([0.25]).values, )\n",
    "plt.axhline(y = df['OVERALL_LI'].quantile([0.75]).values, )\n",
    "plt.axhline(y = df['OVERALL_LI'].min() , color = 'teal')\n",
    "plt.axhline(y = df['OVERALL_LI'].max() , color = '');\n"
   ]
  },
  {
   "cell_type": "code",
   "execution_count": 185,
   "id": "457cedf1-34e0-4c4b-9a04-2834bb5ab7c8",
   "metadata": {},
   "outputs": [
    {
     "data": {
      "text/plain": [
       "44.45"
      ]
     },
     "execution_count": 185,
     "metadata": {},
     "output_type": "execute_result"
    }
   ],
   "source": [
    "outlier_detection(df['OVERALL_LI']).max()"
   ]
  },
  {
   "cell_type": "code",
   "execution_count": 189,
   "id": "dc1e4e99-7106-4409-855e-1f77c299e752",
   "metadata": {},
   "outputs": [
    {
     "data": {
      "image/png": "[encoded data removed]",
      "text/plain": [
       "<Figure size 640x480 with 1 Axes>"
      ]
     },
     "metadata": {},
     "output_type": "display_data"
    }
   ],
   "source": [
    "sns.violinplot(y = df['OVERALL_LI'])\n",
    "plt.axhline(y = df['OVERALL_LI'].median(), color = 'r')\n",
    "plt.axhline(y = df['OVERALL_LI'].quantile([0.25]).values, )\n",
    "plt.axhline(y = df['OVERALL_LI'].quantile([0.75]).values, )\n",
    "# plt.axhline(y = df['OVERALL_LI'].min() , color = 'teal')\n",
    "# plt.axhline(y = df['OVERALL_LI'].max() , )\n",
    "plt.axhline(y = outlier_detection(df['OVERALL_LI']).max() );"
   ]
  },
  {
   "cell_type": "code",
   "execution_count": 191,
   "id": "aab3cf38-51d0-4504-b158-068829b398ed",
   "metadata": {},
   "outputs": [
    {
     "data": {
      "text/plain": [
       "434    42.67\n",
       "469    44.45\n",
       "494    37.22\n",
       "Name: OVERALL_LI, dtype: float64"
      ]
     },
     "execution_count": 191,
     "metadata": {},
     "output_type": "execute_result"
    }
   ],
   "source": [
    "outlier_detection(df['OVERALL_LI'])"
   ]
  },
  {
   "cell_type": "code",
   "execution_count": 179,
   "id": "a010ac54-2b23-418a-95f3-9102e958f8b3",
   "metadata": {},
   "outputs": [
    {
     "data": {
      "text/plain": [
       "<matplotlib.lines.Line2D at 0x10bcdb690>"
      ]
     },
     "execution_count": 179,
     "metadata": {},
     "output_type": "execute_result"
    },
    {
     "data": {
      "image/png": "[encoded data removed]",
      "text/plain": [
       "<Figure size 640x480 with 1 Axes>"
      ]
     },
     "metadata": {},
     "output_type": "display_data"
    }
   ],
   "source": [
    "sns.violinplot(y = df['TOTPOPULAT'])\n",
    "plt.axhline(y = outlier_detection(df['TOTPOPULAT']).min())"
   ]
  },
  {
   "cell_type": "code",
   "execution_count": 175,
   "id": "b0173404-daff-4419-8f78-c431dc4d1a55",
   "metadata": {},
   "outputs": [
    {
     "data": {
      "text/plain": [
       "5296396.0"
      ]
     },
     "execution_count": 175,
     "metadata": {},
     "output_type": "execute_result"
    }
   ],
   "source": [
    "outlier_detection(df['TOTPOPULAT']).min()"
   ]
  },
  {
   "cell_type": "code",
   "execution_count": 177,
   "id": "2b674ed0-ce2d-44f1-95f5-b1d27693b956",
   "metadata": {},
   "outputs": [
    {
     "data": {
      "text/plain": [
       "<matplotlib.lines.Line2D at 0x10bcf97d0>"
      ]
     },
     "execution_count": 177,
     "metadata": {},
     "output_type": "execute_result"
    },
    {
     "data": {
      "image/png": "[encoded data removed]",
      "text/plain": [
       "<Figure size 640x480 with 1 Axes>"
      ]
     },
     "metadata": {},
     "output_type": "display_data"
    }
   ],
   "source": [
    "sns.boxplot(y = df['TOTPOPULAT'])\n",
    "plt.axhline(y = outlier_detection(df['TOTPOPULAT']).min())"
   ]
  },
  {
   "cell_type": "markdown",
   "id": "a62562d6-66f8-445f-964d-44f7f5637f84",
   "metadata": {},
   "source": [
    "<img src=\"https://raw.githubusercontent.com/ManonYa09/Statistics_with_Python_G7/main/Part%201%20Introduction%20to%20Statistics/Distribution%20of%20Literacy%20Rate.jpg\" width=\"100%\" style=\"display: block; margin: 0 auto;\">"
   ]
  },
  {
   "cell_type": "code",
   "execution_count": 167,
   "id": "2147673e-4966-41c0-a11d-6af5ea39039c",
   "metadata": {},
   "outputs": [
    {
     "data": {
      "image/png": "[encoded data removed]",
      "text/plain": [
       "<Figure size 1200x600 with 1 Axes>"
      ]
     },
     "metadata": {},
     "output_type": "display_data"
    }
   ],
   "source": [
    "fig, ax = plt.subplots(figsize = (12, 6))\n",
    "sns.histplot(x = df1['TOTPOPULAT'], bins = np.arange(0,12e+06, 0.5e+06), kde=True)\n",
    "ax.set_ylabel('Number of DistName')\n",
    "ax.set_xticks(np.arange(0,11e+06, 1e+06))\n",
    "\n",
    "ax.axvline(x = 1.564392e+06, color = 'b',label = '50%')\n",
    "ax.axvline(x = 1.899024e+06, color = 'teal',label = 'Average')\n",
    "\n",
    "ax.bar_label(ax.containers[1], fontsize = 8, color = 'black')\n",
    "# ax.grid()\n",
    "ax.legend(loc = 'upper left')\n",
    "sns.despine();"
   ]
  },
  {
   "cell_type": "code",
   "execution_count": 195,
   "id": "01268ad0-b5be-406a-b9e5-805c3a53fa65",
   "metadata": {},
   "outputs": [
    {
     "data": {
      "text/plain": [
       "<Axes: ylabel='VILLAGES'>"
      ]
     },
     "execution_count": 195,
     "metadata": {},
     "output_type": "execute_result"
    },
    {
     "data": {
      "image/png": "[encoded data removed]",
      "text/plain": [
       "<Figure size 640x480 with 1 Axes>"
      ]
     },
     "metadata": {},
     "output_type": "display_data"
    }
   ],
   "source": [
    "sns.boxplot(y = df['VILLAGES'])"
   ]
  },
  {
   "cell_type": "code",
   "execution_count": 197,
   "id": "2655129e-04a9-4204-a62b-b746645027e6",
   "metadata": {},
   "outputs": [
    {
     "data": {
      "text/plain": [
       "2460"
      ]
     },
     "execution_count": 197,
     "metadata": {},
     "output_type": "execute_result"
    }
   ],
   "source": [
    "outlier_detection(df['VILLAGES']).min()"
   ]
  },
  {
   "cell_type": "code",
   "execution_count": 201,
   "id": "63ef4c99-903e-4aea-b651-e20fd2875aa5",
   "metadata": {},
   "outputs": [
    {
     "data": {
      "text/plain": [
       "<matplotlib.lines.Line2D at 0x10c1fec90>"
      ]
     },
     "execution_count": 201,
     "metadata": {},
     "output_type": "execute_result"
    },
    {
     "data": {
      "image/png": "[encoded data removed]",
      "text/plain": [
       "<Figure size 640x480 with 1 Axes>"
      ]
     },
     "metadata": {},
     "output_type": "display_data"
    }
   ],
   "source": [
    "sns.violinplot(y = df['VILLAGES'])\n",
    "plt.axhline( y = outlier_detection(df['VILLAGES']).min())"
   ]
  },
  {
   "cell_type": "code",
   "execution_count": null,
   "id": "d2b6565a-12b1-463b-997f-baf975b6497f",
   "metadata": {},
   "outputs": [],
   "source": [
    "bins = np.arange(0, 12*10**6, 10**6)\n",
    "\n",
    "hist, edges = np.histogram(df['TOTPOPULAT'], bins=bins)\n",
    "\n",
    "hist"
   ]
  },
  {
   "cell_type": "code",
   "execution_count": null,
   "id": "0a9afc02-2dc9-4ec2-a1fc-6448e940bc41",
   "metadata": {},
   "outputs": [],
   "source": [
    "edges"
   ]
  },
  {
   "cell_type": "code",
   "execution_count": null,
   "id": "69b19609-5baa-411b-9526-f591b1fbb2d4",
   "metadata": {},
   "outputs": [],
   "source": []
  }
 ],
 "metadata": {
  "kernelspec": {
   "display_name": "Python 3 (ipykernel)",
   "language": "python",
   "name": "python3"
  },
  "language_info": {
   "codemirror_mode": {
    "name": "ipython",
    "version": 3
   },
   "file_extension": ".py",
   "mimetype": "text/x-python",
   "name": "python",
   "nbconvert_exporter": "python",
   "pygments_lexer": "ipython3",
   "version": "3.11.5"
  }
 },
 "nbformat": 4,
 "nbformat_minor": 5
}
