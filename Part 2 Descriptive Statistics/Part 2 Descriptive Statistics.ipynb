{
 "cells": [
  {
   "cell_type": "markdown",
   "id": "dbb3d3fd-56b7-4dbb-8b64-08bfc383f0fb",
   "metadata": {},
   "source": [
    "### About dataset\n",
    "This dataset represents a list of school districts in an anonymous country. The data includes district and state names, total population, and the literacy rate.\n",
    "\n",
    "The dataset contains:\n",
    "\n",
    "680 rows – each row is a different school district\n",
    "\n",
    "| Column Name | Type   | Description                                                |\n",
    "|-------------|--------|------------------------------------------------------------|\n",
    "| DISTNAME    | str    | The names of an anonymous country’s school districts      |\n",
    "| STATNAME    | str    | The names of an anonymous country’s states                 |\n",
    "| BLOCKS      | int64  | The number of blocks in the school district. Blocks are the smallest organizational structure in the education system of the anonymous country.                |\n",
    "| VILLAGES    | int64  | The number of villages in each district                    |\n",
    "| CLUSTERS    | int64  | The number of clusters in the school district              |\n",
    "| TOTPOPULAT  | float64  | The population for each district                           |\n",
    "| OVERALL_LI  | float64  | The literacy rate for each district                        |"
   ]
  },
  {
   "cell_type": "code",
   "execution_count": 1,
   "id": "5505f016-8a6d-43b9-a462-094746d39d19",
   "metadata": {},
   "outputs": [],
   "source": [
    "import pandas as pd\n",
    "import numpy as np\n",
    "import matplotlib.pyplot as plt\n",
    "import seaborn as sns\n",
    "import warnings\n",
    "warnings.filterwarnings('ignore')"
   ]
  },
  {
   "cell_type": "code",
   "execution_count": 3,
   "id": "152d5602-080a-4b4d-8fc3-17c63b00728e",
   "metadata": {},
   "outputs": [],
   "source": [
    "df = pd.read_csv('https://raw.githubusercontent.com/ManonYa09/Statistics_with_Python_G7/main/Dataset/0.%20education_districtwise.csv')"
   ]
  },
  {
   "cell_type": "code",
   "execution_count": null,
   "id": "9e0761dc-d362-4855-ae41-a9269a664a6d",
   "metadata": {},
   "outputs": [],
   "source": [
    "Variable = Column = Feature"
   ]
  },
  {
   "cell_type": "markdown",
   "id": "c30ae22b-0e7e-4745-aa98-452027e5fb54",
   "metadata": {},
   "source": [
    "### 1. Numberical data\n",
    "#### Numberical and Continous \n",
    "TOTPOPULAT,OVERALL_LI \n",
    "#### Numberical Discrete\n",
    "VILLAGES "
   ]
  },
  {
   "cell_type": "markdown",
   "id": "3c6a5daa-a01c-48d6-835b-e07d331f2647",
   "metadata": {},
   "source": [
    "### 2. Categorical Data"
   ]
  },
  {
   "cell_type": "code",
   "execution_count": null,
   "id": "9e1cf531-fa77-44e4-a3e9-f7505cdbb33e",
   "metadata": {},
   "outputs": [],
   "source": []
  },
  {
   "cell_type": "markdown",
   "id": "45a2e21a-b703-4298-9def-52d4f5b1837e",
   "metadata": {},
   "source": [
    "### 3. Frequency Distribution"
   ]
  },
  {
   "cell_type": "code",
   "execution_count": null,
   "id": "c4c20189-5b96-4072-bbca-efff9b16af17",
   "metadata": {},
   "outputs": [],
   "source": []
  },
  {
   "cell_type": "markdown",
   "id": "2bd4abce-afcd-47c7-a660-029f3a7aee05",
   "metadata": {},
   "source": [
    "#### 3.1 Number Data as continuous "
   ]
  },
  {
   "cell_type": "code",
   "execution_count": 27,
   "id": "69330dd1-65d6-4667-8835-f4d1e4c055fc",
   "metadata": {},
   "outputs": [
    {
     "data": {
      "text/plain": [
       "count    6.340000e+02\n",
       "mean     1.899024e+06\n",
       "std      1.547475e+06\n",
       "min      7.948000e+03\n",
       "25%      8.226940e+05\n",
       "50%      1.564392e+06\n",
       "75%      2.587520e+06\n",
       "max      1.105413e+07\n",
       "Name: TOTPOPULAT, dtype: float64"
      ]
     },
     "execution_count": 27,
     "metadata": {},
     "output_type": "execute_result"
    }
   ],
   "source": [
    "df['TOTPOPULAT'].describe()"
   ]
  },
  {
   "cell_type": "code",
   "execution_count": 39,
   "id": "45889f67-e37e-42cf-966c-714d8a5c5c50",
   "metadata": {},
   "outputs": [],
   "source": [
    "num_rows1 , num_columns1 = df.shape"
   ]
  },
  {
   "cell_type": "code",
   "execution_count": 47,
   "id": "3183d9e9-4035-483d-9ce1-7341542db914",
   "metadata": {},
   "outputs": [
    {
     "data": {
      "text/plain": [
       "(680, 7)"
      ]
     },
     "execution_count": 47,
     "metadata": {},
     "output_type": "execute_result"
    }
   ],
   "source": [
    "df.shape"
   ]
  },
  {
   "cell_type": "code",
   "execution_count": 43,
   "id": "b1f327d4-1b0c-4e69-a297-80f61a5b75d2",
   "metadata": {},
   "outputs": [
    {
     "data": {
      "text/plain": [
       "680"
      ]
     },
     "execution_count": 43,
     "metadata": {},
     "output_type": "execute_result"
    }
   ],
   "source": [
    "num_rows1"
   ]
  },
  {
   "cell_type": "code",
   "execution_count": 45,
   "id": "9b823a68-576c-4b24-b2e1-ada6a580c4d2",
   "metadata": {},
   "outputs": [
    {
     "data": {
      "text/plain": [
       "7"
      ]
     },
     "execution_count": 45,
     "metadata": {},
     "output_type": "execute_result"
    }
   ],
   "source": [
    "num_columns1"
   ]
  },
  {
   "cell_type": "code",
   "execution_count": 41,
   "id": "7bb7711f-1e24-46bf-aeaf-a90d521fc8af",
   "metadata": {},
   "outputs": [
    {
     "data": {
      "text/plain": [
       "False"
      ]
     },
     "execution_count": 41,
     "metadata": {},
     "output_type": "execute_result"
    }
   ],
   "source": [
    "num_rows1 ==num_columns1"
   ]
  },
  {
   "cell_type": "code",
   "execution_count": 79,
   "id": "2dd4a65b-f18a-4cb0-9779-3ac847485214",
   "metadata": {},
   "outputs": [
    {
     "data": {
      "text/plain": [
       "(634, 7)"
      ]
     },
     "execution_count": 79,
     "metadata": {},
     "output_type": "execute_result"
    }
   ],
   "source": [
    "dataset.shape"
   ]
  },
  {
   "cell_type": "code",
   "execution_count": 101,
   "id": "3bb53496-c49f-4ff5-bf9d-039a13ca8443",
   "metadata": {},
   "outputs": [
    {
     "data": {
      "text/plain": [
       "array([ 0.,  2.,  4.,  6.,  8., 10.])"
      ]
     },
     "execution_count": 101,
     "metadata": {},
     "output_type": "execute_result"
    }
   ],
   "source": [
    "np.arange(0, 10.0001, 2)"
   ]
  },
  {
   "cell_type": "code",
   "execution_count": 113,
   "id": "b59d4705-1dc0-4162-8b2c-87b16bdf8f04",
   "metadata": {},
   "outputs": [
    {
     "data": {
      "text/plain": [
       "634"
      ]
     },
     "execution_count": 113,
     "metadata": {},
     "output_type": "execute_result"
    }
   ],
   "source": [
    "dataset['DISTNAME'].nunique()"
   ]
  },
  {
   "cell_type": "code",
   "execution_count": 105,
   "id": "40b0eab1-9c1c-402e-ac37-dfd58e7a25d9",
   "metadata": {},
   "outputs": [],
   "source": [
    "# fig, ax = plt.subplots(figsize = (12, 6))\n",
    "# sns.histplot(x = df['TOTPOPULAT'], bins= np.arange(0, 12*10**6, 10**6))\n",
    "# ax.set_title('Distribution of Total Population', fontweight = 'bold')\n",
    "# ax.set_xticks(np.arange(0, 12*10**6, 10**6))\n",
    "# ax.set_xlim(0, 11*10**6)\n",
    "# ax.bar_label(ax.containers[1], color = 'r')\n",
    "# sns.despine()\n",
    "# # plt.savefig('testing.jpg', dpi = 2000);"
   ]
  },
  {
   "cell_type": "code",
   "execution_count": 119,
   "id": "ffffa6c7-93a6-4029-b20f-2b3afffe071a",
   "metadata": {},
   "outputs": [
    {
     "data": {
      "text/plain": [
       "count    634.000000\n",
       "mean      73.395189\n",
       "std       10.098460\n",
       "min       37.220000\n",
       "25%       66.437500\n",
       "50%       73.490000\n",
       "75%       80.815000\n",
       "max       98.760000\n",
       "Name: OVERALL_LI, dtype: float64"
      ]
     },
     "execution_count": 119,
     "metadata": {},
     "output_type": "execute_result"
    }
   ],
   "source": [
    "dataset['OVERALL_LI'].describe()"
   ]
  },
  {
   "cell_type": "code",
   "execution_count": null,
   "id": "51d52383-b07c-4cc7-952e-09408c71a1c9",
   "metadata": {},
   "outputs": [],
   "source": [
    "sns.despine"
   ]
  },
  {
   "cell_type": "markdown",
   "id": "760fcd2f-9e69-49f4-b632-729a82d9f750",
   "metadata": {},
   "source": [
    "#### 3.2 Discrete"
   ]
  },
  {
   "cell_type": "code",
   "execution_count": 246,
   "id": "0ce7e11c-4261-4a62-b048-ccea2f2b4ab7",
   "metadata": {},
   "outputs": [
    {
     "data": {
      "text/plain": [
       "count     680.000000\n",
       "mean      874.614706\n",
       "std       622.711657\n",
       "min         6.000000\n",
       "25%       390.750000\n",
       "50%       785.500000\n",
       "75%      1204.250000\n",
       "max      3963.000000\n",
       "Name: VILLAGES, dtype: float64"
      ]
     },
     "execution_count": 246,
     "metadata": {},
     "output_type": "execute_result"
    }
   ],
   "source": [
    "df['VILLAGES'].describe()"
   ]
  },
  {
   "cell_type": "code",
   "execution_count": 248,
   "id": "2ed816bf-b5e0-4c68-941b-b6f65c410ea1",
   "metadata": {},
   "outputs": [
    {
     "data": {
      "text/plain": [
       "576"
      ]
     },
     "execution_count": 248,
     "metadata": {},
     "output_type": "execute_result"
    }
   ],
   "source": [
    "df['VILLAGES'].nunique()"
   ]
  },
  {
   "cell_type": "code",
   "execution_count": 262,
   "id": "2e702978-f823-443c-a935-f2bbf61b7875",
   "metadata": {},
   "outputs": [],
   "source": [
    "# df['VILLAGES'].value_counts()"
   ]
  },
  {
   "cell_type": "markdown",
   "id": "edbf1958-f1fd-4370-bbf6-5c30c996a7db",
   "metadata": {},
   "source": [
    "### 3.3 Categorical"
   ]
  },
  {
   "cell_type": "code",
   "execution_count": 171,
   "id": "93e92736-192b-49e3-9dd8-80cb18ec3eb0",
   "metadata": {},
   "outputs": [],
   "source": [
    "df1 = pd.read_csv('/Users/macbook/Desktop/Fundamental Data Science G8/Data Visualization/finall_3data_exericse_with_month.csv')"
   ]
  },
  {
   "cell_type": "code",
   "execution_count": 178,
   "id": "74c25bde-cd5e-4407-98c1-2a5c5d20128e",
   "metadata": {},
   "outputs": [],
   "source": [
    "df1 = df1[['month', 'sum']]"
   ]
  },
  {
   "cell_type": "code",
   "execution_count": 185,
   "id": "7f1ec862-5d1c-4d0f-bea9-3799f7e8130f",
   "metadata": {},
   "outputs": [],
   "source": [
    "df1.rename(columns={'sum':'Frequency'}, inplace=True)"
   ]
  },
  {
   "cell_type": "code",
   "execution_count": 209,
   "id": "963e8e80-4ba0-421c-b944-dcd52e9f6a87",
   "metadata": {},
   "outputs": [
    {
     "data": {
      "text/html": [
       "<div>\n",
       "<style scoped>\n",
       "    .dataframe tbody tr th:only-of-type {\n",
       "        vertical-align: middle;\n",
       "    }\n",
       "\n",
       "    .dataframe tbody tr th {\n",
       "        vertical-align: top;\n",
       "    }\n",
       "\n",
       "    .dataframe thead th {\n",
       "        text-align: right;\n",
       "    }\n",
       "</style>\n",
       "<table border=\"1\" class=\"dataframe\">\n",
       "  <thead>\n",
       "    <tr style=\"text-align: right;\">\n",
       "      <th></th>\n",
       "      <th>month</th>\n",
       "      <th>Frequency</th>\n",
       "    </tr>\n",
       "  </thead>\n",
       "  <tbody>\n",
       "    <tr>\n",
       "      <th>0</th>\n",
       "      <td>Jan</td>\n",
       "      <td>860045</td>\n",
       "    </tr>\n",
       "    <tr>\n",
       "      <th>1</th>\n",
       "      <td>Feb</td>\n",
       "      <td>2071315</td>\n",
       "    </tr>\n",
       "  </tbody>\n",
       "</table>\n",
       "</div>"
      ],
      "text/plain": [
       "  month  Frequency\n",
       "0   Jan     860045\n",
       "1   Feb    2071315"
      ]
     },
     "execution_count": 209,
     "metadata": {},
     "output_type": "execute_result"
    }
   ],
   "source": [
    "df1.head(2)"
   ]
  },
  {
   "cell_type": "markdown",
   "id": "7d791442-862f-4a0b-af2e-692427c33db1",
   "metadata": {},
   "source": [
    "### 4. Measures of Central Tendency\n",
    "#### 4.1 Mean or Average\n",
    "- It is calculated by dividing the sum of all values by the count of all observations\n",
    "- It can only be applied to numerical variables (not categorical)\n",
    "\n",
    "`Noted` The main limitation of mean is that it is sensitive to outlier (extreme values)"
   ]
  },
  {
   "cell_type": "markdown",
   "id": "76b5ec8d-8442-4b3d-8b94-943db197afbf",
   "metadata": {},
   "source": [
    "<img src=\"https://raw.githubusercontent.com/ManonYa09/Statistics_with_Python_G7/main/Part%201%20Introduction%20to%20Statistics/Distribution%20of%20Literacy%20Rate.jpg\" width=\"100%\" style=\"display: block; margin: 0 auto;\">"
   ]
  },
  {
   "cell_type": "code",
   "execution_count": null,
   "id": "f4aae533-5bb7-47d0-a2b5-03d2c0960921",
   "metadata": {},
   "outputs": [],
   "source": [
    "25% of len(df) 680"
   ]
  },
  {
   "cell_type": "code",
   "execution_count": 309,
   "id": "02a80284-7170-43b2-b928-7e4bc7049ac0",
   "metadata": {},
   "outputs": [
    {
     "data": {
      "text/plain": [
       "count    634.000000\n",
       "mean      73.395189\n",
       "std       10.098460\n",
       "min       37.220000\n",
       "25%       66.437500\n",
       "50%       73.490000\n",
       "75%       80.815000\n",
       "max       98.760000\n",
       "Name: OVERALL_LI, dtype: float64"
      ]
     },
     "execution_count": 309,
     "metadata": {},
     "output_type": "execute_result"
    }
   ],
   "source": [
    "df['OVERALL_LI'].describe()"
   ]
  },
  {
   "cell_type": "code",
   "execution_count": 307,
   "id": "4f5a3f7d-ff3a-474c-aa33-358610654d3c",
   "metadata": {},
   "outputs": [
    {
     "data": {
      "text/plain": [
       "285914.28571428574"
      ]
     },
     "execution_count": 307,
     "metadata": {},
     "output_type": "execute_result"
    }
   ],
   "source": [
    "sum([100, 100, 1000000, 1000000, 300, 400, 500])/7"
   ]
  },
  {
   "cell_type": "code",
   "execution_count": 299,
   "id": "ac5dfd92-fb06-47e3-a02e-a52a8f58a0ce",
   "metadata": {},
   "outputs": [
    {
     "data": {
      "text/plain": [
       "73.39518927444796"
      ]
     },
     "execution_count": 299,
     "metadata": {},
     "output_type": "execute_result"
    }
   ],
   "source": [
    "df['OVERALL_LI'].mean()"
   ]
  },
  {
   "cell_type": "markdown",
   "id": "a2f34e2e-12f9-404f-b461-8b11c83c0316",
   "metadata": {},
   "source": [
    "#### 4.2 Median"
   ]
  },
  {
   "cell_type": "markdown",
   "id": "2c06af1b-99a5-4fa6-9623-ff43b86f14c0",
   "metadata": {},
   "source": [
    "<img src=\"https://raw.githubusercontent.com/ManonYa09/Statistics_with_Python_G7/main/%20Slides/photos/2.%20Median.jpg\" alt=\"Control Structure\" width=\"65%\" style=\"display: block; margin: 0 auto;\">"
   ]
  },
  {
   "cell_type": "code",
   "execution_count": null,
   "id": "ad2d8425-a054-4c17-9d9c-65c8e207a1ae",
   "metadata": {},
   "outputs": [],
   "source": [
    "# df[(df['VILLAGES']>= df['VILLAGES'].median()) & (df['VILLAGES']<=df['VILLAGES'].max())].shape[0]"
   ]
  },
  {
   "cell_type": "markdown",
   "id": "db5e346b-8201-4568-b1d0-54d55eca4fe5",
   "metadata": {},
   "source": [
    "#### 4.3 Mode "
   ]
  },
  {
   "cell_type": "markdown",
   "id": "e8e62cef-f4e7-48c8-8781-3a50d16a8ac4",
   "metadata": {},
   "source": [
    "## 5. Variability"
   ]
  },
  {
   "cell_type": "markdown",
   "id": "91c4ba0e-2b39-4fe1-92d0-3c4405a6a3d4",
   "metadata": {},
   "source": [
    "### 5.1 Measures of Spread"
   ]
  },
  {
   "cell_type": "markdown",
   "id": "fa003b99-e199-4320-ba54-84927ad5e153",
   "metadata": {},
   "source": [
    "#### 5.1.1 Range "
   ]
  },
  {
   "cell_type": "markdown",
   "id": "7d7c21c1-86be-456f-98c2-b35767fee4a2",
   "metadata": {},
   "source": [
    "The **range** is the difference between the largest and smallest value in a dataset. "
   ]
  },
  {
   "cell_type": "markdown",
   "id": "92b4ab38-fb91-4e26-82cf-f4b36c4a225f",
   "metadata": {},
   "source": [
    "#### 5.1.2 Standard Deviation"
   ]
  },
  {
   "cell_type": "code",
   "execution_count": null,
   "id": "7b2e09ee-e37b-46f6-be1e-ef1fc3d2a951",
   "metadata": {},
   "outputs": [],
   "source": []
  },
  {
   "cell_type": "markdown",
   "id": "d4bf3149-52f5-410e-9755-20e7c1fcd793",
   "metadata": {},
   "source": [
    "#### 5.1.3 Variance"
   ]
  },
  {
   "cell_type": "markdown",
   "id": "7626dc07-a258-4167-b967-bf6a008610fe",
   "metadata": {},
   "source": [
    "### 6. Measures of Position "
   ]
  },
  {
   "cell_type": "markdown",
   "id": "71b65549-81f0-4521-96dd-510946def393",
   "metadata": {},
   "source": [
    "#### 6.1 Perceptile"
   ]
  },
  {
   "cell_type": "markdown",
   "id": "2373a4eb-2452-4a44-abf2-e763558adf6f",
   "metadata": {},
   "source": []
  },
  {
   "cell_type": "markdown",
   "id": "d4499c81-508a-4f06-981d-d87a85a6a565",
   "metadata": {},
   "source": [
    "<img src=\"https://online.stat.psu.edu/public/stat800/lesson04/500%20l1%2025th%20and%2075th%20percentile.png\" width=\"50%\" style=\"display: block; margin: 0 auto;\">"
   ]
  },
  {
   "cell_type": "code",
   "execution_count": null,
   "id": "d4b84218-74c6-40c5-872f-f76c88514225",
   "metadata": {},
   "outputs": [],
   "source": []
  },
  {
   "cell_type": "markdown",
   "id": "582044d8-7c01-42f1-954a-47ce028efddd",
   "metadata": {},
   "source": [
    "### 6.2 Quartile"
   ]
  },
  {
   "cell_type": "markdown",
   "id": "52beb1b3-9f1d-4ca4-85e5-428ff20ba69f",
   "metadata": {},
   "source": [
    "divides the values in a dataset into four equal parts"
   ]
  },
  {
   "cell_type": "markdown",
   "id": "15896a4f-f657-4276-87b7-145c6bfe8c6b",
   "metadata": {},
   "source": [
    "<img src=\"https://raw.githubusercontent.com/ManonYa09/Statistics_with_Python_G7/main/%20Slides/photos/3.%20Interqualtile%20range.jpg\" width=\"60%\" style=\"display: block; margin: 0 auto;\">"
   ]
  },
  {
   "cell_type": "code",
   "execution_count": null,
   "id": "d2b6565a-12b1-463b-997f-baf975b6497f",
   "metadata": {},
   "outputs": [],
   "source": [
    "bins = np.arange(0, 12*10**6, 10**6)\n",
    "\n",
    "hist, edges = np.histogram(df['TOTPOPULAT'], bins=bins)\n",
    "\n",
    "hist"
   ]
  },
  {
   "cell_type": "code",
   "execution_count": null,
   "id": "0a9afc02-2dc9-4ec2-a1fc-6448e940bc41",
   "metadata": {},
   "outputs": [],
   "source": [
    "edges"
   ]
  },
  {
   "cell_type": "code",
   "execution_count": null,
   "id": "69b19609-5baa-411b-9526-f591b1fbb2d4",
   "metadata": {},
   "outputs": [],
   "source": []
  }
 ],
 "metadata": {
  "kernelspec": {
   "display_name": "Python 3 (ipykernel)",
   "language": "python",
   "name": "python3"
  },
  "language_info": {
   "codemirror_mode": {
    "name": "ipython",
    "version": 3
   },
   "file_extension": ".py",
   "mimetype": "text/x-python",
   "name": "python",
   "nbconvert_exporter": "python",
   "pygments_lexer": "ipython3",
   "version": "3.11.5"
  }
 },
 "nbformat": 4,
 "nbformat_minor": 5
}
