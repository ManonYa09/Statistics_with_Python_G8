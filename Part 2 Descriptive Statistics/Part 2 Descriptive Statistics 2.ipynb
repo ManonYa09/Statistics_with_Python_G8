{
 "cells": [
  {
   "cell_type": "markdown",
   "id": "dbb3d3fd-56b7-4dbb-8b64-08bfc383f0fb",
   "metadata": {},
   "source": [
    "### About dataset\n",
    "This dataset represents a list of school districts in an anonymous country. The data includes district and state names, total population, and the literacy rate.\n",
    "\n",
    "The dataset contains:\n",
    "\n",
    "680 rows – each row is a different school district\n",
    "\n",
    "| Column Name | Type   | Description                                                |\n",
    "|-------------|--------|------------------------------------------------------------|\n",
    "| DISTNAME    | str    | The names of an anonymous country’s school districts      |\n",
    "| STATNAME    | str    | The names of an anonymous country’s states                 |\n",
    "| BLOCKS      | int64  | The number of blocks in the school district. Blocks are the smallest organizational structure in the education system of the anonymous country.                |\n",
    "| VILLAGES    | int64  | The number of villages in each district                    |\n",
    "| CLUSTERS    | int64  | The number of clusters in the school district              |\n",
    "| TOTPOPULAT  | float64  | The population for each district                           |\n",
    "| OVERALL_LI  | float64  | The literacy rate for each district                        |"
   ]
  },
  {
   "cell_type": "code",
   "execution_count": 2,
   "id": "5505f016-8a6d-43b9-a462-094746d39d19",
   "metadata": {},
   "outputs": [],
   "source": [
    "import pandas as pd\n",
    "import numpy as np\n",
    "import matplotlib.pyplot as plt\n",
    "import seaborn as sns\n",
    "import warnings\n",
    "warnings.filterwarnings('ignore')"
   ]
  },
  {
   "cell_type": "code",
   "execution_count": 4,
   "id": "152d5602-080a-4b4d-8fc3-17c63b00728e",
   "metadata": {},
   "outputs": [],
   "source": [
    "df = pd.read_csv('https://raw.githubusercontent.com/ManonYa09/Statistics_with_Python_G7/main/Dataset/0.%20education_districtwise.csv')"
   ]
  },
  {
   "cell_type": "code",
   "execution_count": 8,
   "id": "e591d603-2743-4c4f-b8fb-c6f526c390b6",
   "metadata": {},
   "outputs": [
    {
     "data": {
      "text/html": [
       "<div>\n",
       "<style scoped>\n",
       "    .dataframe tbody tr th:only-of-type {\n",
       "        vertical-align: middle;\n",
       "    }\n",
       "\n",
       "    .dataframe tbody tr th {\n",
       "        vertical-align: top;\n",
       "    }\n",
       "\n",
       "    .dataframe thead th {\n",
       "        text-align: right;\n",
       "    }\n",
       "</style>\n",
       "<table border=\"1\" class=\"dataframe\">\n",
       "  <thead>\n",
       "    <tr style=\"text-align: right;\">\n",
       "      <th></th>\n",
       "      <th>DISTNAME</th>\n",
       "      <th>STATNAME</th>\n",
       "      <th>BLOCKS</th>\n",
       "      <th>VILLAGES</th>\n",
       "      <th>CLUSTERS</th>\n",
       "      <th>TOTPOPULAT</th>\n",
       "      <th>OVERALL_LI</th>\n",
       "    </tr>\n",
       "  </thead>\n",
       "  <tbody>\n",
       "    <tr>\n",
       "      <th>0</th>\n",
       "      <td>DISTRICT32</td>\n",
       "      <td>STATE1</td>\n",
       "      <td>13</td>\n",
       "      <td>391</td>\n",
       "      <td>104</td>\n",
       "      <td>875564.0</td>\n",
       "      <td>66.92</td>\n",
       "    </tr>\n",
       "    <tr>\n",
       "      <th>1</th>\n",
       "      <td>DISTRICT649</td>\n",
       "      <td>STATE1</td>\n",
       "      <td>18</td>\n",
       "      <td>678</td>\n",
       "      <td>144</td>\n",
       "      <td>1015503.0</td>\n",
       "      <td>66.93</td>\n",
       "    </tr>\n",
       "    <tr>\n",
       "      <th>2</th>\n",
       "      <td>DISTRICT229</td>\n",
       "      <td>STATE1</td>\n",
       "      <td>8</td>\n",
       "      <td>94</td>\n",
       "      <td>65</td>\n",
       "      <td>1269751.0</td>\n",
       "      <td>71.21</td>\n",
       "    </tr>\n",
       "    <tr>\n",
       "      <th>3</th>\n",
       "      <td>DISTRICT259</td>\n",
       "      <td>STATE1</td>\n",
       "      <td>13</td>\n",
       "      <td>523</td>\n",
       "      <td>104</td>\n",
       "      <td>735753.0</td>\n",
       "      <td>57.98</td>\n",
       "    </tr>\n",
       "    <tr>\n",
       "      <th>4</th>\n",
       "      <td>DISTRICT486</td>\n",
       "      <td>STATE1</td>\n",
       "      <td>8</td>\n",
       "      <td>359</td>\n",
       "      <td>64</td>\n",
       "      <td>570060.0</td>\n",
       "      <td>65.00</td>\n",
       "    </tr>\n",
       "  </tbody>\n",
       "</table>\n",
       "</div>"
      ],
      "text/plain": [
       "      DISTNAME STATNAME  BLOCKS  VILLAGES  CLUSTERS  TOTPOPULAT  OVERALL_LI\n",
       "0   DISTRICT32   STATE1      13       391       104    875564.0       66.92\n",
       "1  DISTRICT649   STATE1      18       678       144   1015503.0       66.93\n",
       "2  DISTRICT229   STATE1       8        94        65   1269751.0       71.21\n",
       "3  DISTRICT259   STATE1      13       523       104    735753.0       57.98\n",
       "4  DISTRICT486   STATE1       8       359        64    570060.0       65.00"
      ]
     },
     "execution_count": 8,
     "metadata": {},
     "output_type": "execute_result"
    }
   ],
   "source": [
    "df.head()"
   ]
  },
  {
   "cell_type": "code",
   "execution_count": 10,
   "id": "c5d15c29-5713-44fe-8300-9c7314bc5dae",
   "metadata": {},
   "outputs": [
    {
     "name": "stdout",
     "output_type": "stream",
     "text": [
      "<class 'pandas.core.frame.DataFrame'>\n",
      "RangeIndex: 680 entries, 0 to 679\n",
      "Data columns (total 7 columns):\n",
      " #   Column      Non-Null Count  Dtype  \n",
      "---  ------      --------------  -----  \n",
      " 0   DISTNAME    680 non-null    object \n",
      " 1   STATNAME    680 non-null    object \n",
      " 2   BLOCKS      680 non-null    int64  \n",
      " 3   VILLAGES    680 non-null    int64  \n",
      " 4   CLUSTERS    680 non-null    int64  \n",
      " 5   TOTPOPULAT  634 non-null    float64\n",
      " 6   OVERALL_LI  634 non-null    float64\n",
      "dtypes: float64(2), int64(3), object(2)\n",
      "memory usage: 37.3+ KB\n"
     ]
    }
   ],
   "source": [
    "df.info()"
   ]
  },
  {
   "cell_type": "code",
   "execution_count": 16,
   "id": "fb5a4597-3760-4026-8528-379cd29af218",
   "metadata": {},
   "outputs": [
    {
     "data": {
      "text/plain": [
       "DISTNAME       0\n",
       "STATNAME       0\n",
       "BLOCKS         0\n",
       "VILLAGES       0\n",
       "CLUSTERS       0\n",
       "TOTPOPULAT    46\n",
       "OVERALL_LI    46\n",
       "dtype: int64"
      ]
     },
     "execution_count": 16,
     "metadata": {},
     "output_type": "execute_result"
    }
   ],
   "source": [
    "df.isnull().sum()"
   ]
  },
  {
   "cell_type": "code",
   "execution_count": 18,
   "id": "d12e0e50-d2d5-412b-af19-a70a5ac89e53",
   "metadata": {},
   "outputs": [],
   "source": [
    "dataset  = df.dropna() # "
   ]
  },
  {
   "cell_type": "code",
   "execution_count": 20,
   "id": "a2a6e5d9-b5fc-40e0-820e-3a44edaaec40",
   "metadata": {},
   "outputs": [
    {
     "data": {
      "text/html": [
       "<div>\n",
       "<style scoped>\n",
       "    .dataframe tbody tr th:only-of-type {\n",
       "        vertical-align: middle;\n",
       "    }\n",
       "\n",
       "    .dataframe tbody tr th {\n",
       "        vertical-align: top;\n",
       "    }\n",
       "\n",
       "    .dataframe thead th {\n",
       "        text-align: right;\n",
       "    }\n",
       "</style>\n",
       "<table border=\"1\" class=\"dataframe\">\n",
       "  <thead>\n",
       "    <tr style=\"text-align: right;\">\n",
       "      <th></th>\n",
       "      <th>DISTNAME</th>\n",
       "      <th>STATNAME</th>\n",
       "      <th>BLOCKS</th>\n",
       "      <th>VILLAGES</th>\n",
       "      <th>CLUSTERS</th>\n",
       "      <th>TOTPOPULAT</th>\n",
       "      <th>OVERALL_LI</th>\n",
       "    </tr>\n",
       "  </thead>\n",
       "  <tbody>\n",
       "    <tr>\n",
       "      <th>0</th>\n",
       "      <td>DISTRICT32</td>\n",
       "      <td>STATE1</td>\n",
       "      <td>13</td>\n",
       "      <td>391</td>\n",
       "      <td>104</td>\n",
       "      <td>875564.0</td>\n",
       "      <td>66.92</td>\n",
       "    </tr>\n",
       "    <tr>\n",
       "      <th>1</th>\n",
       "      <td>DISTRICT649</td>\n",
       "      <td>STATE1</td>\n",
       "      <td>18</td>\n",
       "      <td>678</td>\n",
       "      <td>144</td>\n",
       "      <td>1015503.0</td>\n",
       "      <td>66.93</td>\n",
       "    </tr>\n",
       "    <tr>\n",
       "      <th>2</th>\n",
       "      <td>DISTRICT229</td>\n",
       "      <td>STATE1</td>\n",
       "      <td>8</td>\n",
       "      <td>94</td>\n",
       "      <td>65</td>\n",
       "      <td>1269751.0</td>\n",
       "      <td>71.21</td>\n",
       "    </tr>\n",
       "    <tr>\n",
       "      <th>3</th>\n",
       "      <td>DISTRICT259</td>\n",
       "      <td>STATE1</td>\n",
       "      <td>13</td>\n",
       "      <td>523</td>\n",
       "      <td>104</td>\n",
       "      <td>735753.0</td>\n",
       "      <td>57.98</td>\n",
       "    </tr>\n",
       "    <tr>\n",
       "      <th>4</th>\n",
       "      <td>DISTRICT486</td>\n",
       "      <td>STATE1</td>\n",
       "      <td>8</td>\n",
       "      <td>359</td>\n",
       "      <td>64</td>\n",
       "      <td>570060.0</td>\n",
       "      <td>65.00</td>\n",
       "    </tr>\n",
       "    <tr>\n",
       "      <th>...</th>\n",
       "      <td>...</td>\n",
       "      <td>...</td>\n",
       "      <td>...</td>\n",
       "      <td>...</td>\n",
       "      <td>...</td>\n",
       "      <td>...</td>\n",
       "      <td>...</td>\n",
       "    </tr>\n",
       "    <tr>\n",
       "      <th>675</th>\n",
       "      <td>DISTRICT522</td>\n",
       "      <td>STATE29</td>\n",
       "      <td>37</td>\n",
       "      <td>876</td>\n",
       "      <td>137</td>\n",
       "      <td>5296396.0</td>\n",
       "      <td>78.05</td>\n",
       "    </tr>\n",
       "    <tr>\n",
       "      <th>676</th>\n",
       "      <td>DISTRICT498</td>\n",
       "      <td>STATE29</td>\n",
       "      <td>64</td>\n",
       "      <td>1458</td>\n",
       "      <td>230</td>\n",
       "      <td>4042191.0</td>\n",
       "      <td>56.06</td>\n",
       "    </tr>\n",
       "    <tr>\n",
       "      <th>677</th>\n",
       "      <td>DISTRICT343</td>\n",
       "      <td>STATE29</td>\n",
       "      <td>59</td>\n",
       "      <td>1117</td>\n",
       "      <td>216</td>\n",
       "      <td>3483648.0</td>\n",
       "      <td>65.05</td>\n",
       "    </tr>\n",
       "    <tr>\n",
       "      <th>678</th>\n",
       "      <td>DISTRICT130</td>\n",
       "      <td>STATE29</td>\n",
       "      <td>51</td>\n",
       "      <td>993</td>\n",
       "      <td>211</td>\n",
       "      <td>3522644.0</td>\n",
       "      <td>66.16</td>\n",
       "    </tr>\n",
       "    <tr>\n",
       "      <th>679</th>\n",
       "      <td>DISTRICT341</td>\n",
       "      <td>STATE29</td>\n",
       "      <td>41</td>\n",
       "      <td>783</td>\n",
       "      <td>185</td>\n",
       "      <td>2798214.0</td>\n",
       "      <td>65.46</td>\n",
       "    </tr>\n",
       "  </tbody>\n",
       "</table>\n",
       "<p>634 rows × 7 columns</p>\n",
       "</div>"
      ],
      "text/plain": [
       "        DISTNAME STATNAME  BLOCKS  VILLAGES  CLUSTERS  TOTPOPULAT  OVERALL_LI\n",
       "0     DISTRICT32   STATE1      13       391       104    875564.0       66.92\n",
       "1    DISTRICT649   STATE1      18       678       144   1015503.0       66.93\n",
       "2    DISTRICT229   STATE1       8        94        65   1269751.0       71.21\n",
       "3    DISTRICT259   STATE1      13       523       104    735753.0       57.98\n",
       "4    DISTRICT486   STATE1       8       359        64    570060.0       65.00\n",
       "..           ...      ...     ...       ...       ...         ...         ...\n",
       "675  DISTRICT522  STATE29      37       876       137   5296396.0       78.05\n",
       "676  DISTRICT498  STATE29      64      1458       230   4042191.0       56.06\n",
       "677  DISTRICT343  STATE29      59      1117       216   3483648.0       65.05\n",
       "678  DISTRICT130  STATE29      51       993       211   3522644.0       66.16\n",
       "679  DISTRICT341  STATE29      41       783       185   2798214.0       65.46\n",
       "\n",
       "[634 rows x 7 columns]"
      ]
     },
     "execution_count": 20,
     "metadata": {},
     "output_type": "execute_result"
    }
   ],
   "source": [
    "dataset"
   ]
  },
  {
   "cell_type": "code",
   "execution_count": 24,
   "id": "dc71b533-f844-4a29-87e7-e4394d64ae35",
   "metadata": {},
   "outputs": [
    {
     "data": {
      "text/plain": [
       "634"
      ]
     },
     "execution_count": 24,
     "metadata": {},
     "output_type": "execute_result"
    }
   ],
   "source": [
    "dataset['DISTNAME'].nunique()"
   ]
  },
  {
   "cell_type": "code",
   "execution_count": 28,
   "id": "613afe74-6a07-45ff-baa0-f6f694925db1",
   "metadata": {},
   "outputs": [
    {
     "data": {
      "text/plain": [
       "36"
      ]
     },
     "execution_count": 28,
     "metadata": {},
     "output_type": "execute_result"
    }
   ],
   "source": [
    "dataset['STATNAME'].nunique()"
   ]
  },
  {
   "cell_type": "code",
   "execution_count": null,
   "id": "9e0761dc-d362-4855-ae41-a9269a664a6d",
   "metadata": {},
   "outputs": [],
   "source": [
    "# Variable = Column = Feature"
   ]
  },
  {
   "cell_type": "markdown",
   "id": "c30ae22b-0e7e-4745-aa98-452027e5fb54",
   "metadata": {},
   "source": [
    "### 1. Numberical data\n",
    "#### Numberical and Continous \n",
    "TOTPOPULAT,OVERALL_LI \n",
    "#### Numberical Discrete\n",
    "VILLAGES "
   ]
  },
  {
   "cell_type": "markdown",
   "id": "3c6a5daa-a01c-48d6-835b-e07d331f2647",
   "metadata": {},
   "source": [
    "### 2. Categorical Data"
   ]
  },
  {
   "cell_type": "code",
   "execution_count": null,
   "id": "9e1cf531-fa77-44e4-a3e9-f7505cdbb33e",
   "metadata": {},
   "outputs": [],
   "source": []
  },
  {
   "cell_type": "markdown",
   "id": "45a2e21a-b703-4298-9def-52d4f5b1837e",
   "metadata": {},
   "source": [
    "### 3. Frequency Distribution"
   ]
  },
  {
   "cell_type": "markdown",
   "id": "2bd4abce-afcd-47c7-a660-029f3a7aee05",
   "metadata": {},
   "source": [
    "#### 3.1 Number Data as continuous "
   ]
  },
  {
   "cell_type": "code",
   "execution_count": 30,
   "id": "69330dd1-65d6-4667-8835-f4d1e4c055fc",
   "metadata": {},
   "outputs": [
    {
     "data": {
      "text/plain": [
       "count    6.340000e+02\n",
       "mean     1.899024e+06\n",
       "std      1.547475e+06\n",
       "min      7.948000e+03\n",
       "25%      8.226940e+05\n",
       "50%      1.564392e+06\n",
       "75%      2.587520e+06\n",
       "max      1.105413e+07\n",
       "Name: TOTPOPULAT, dtype: float64"
      ]
     },
     "execution_count": 30,
     "metadata": {},
     "output_type": "execute_result"
    }
   ],
   "source": [
    "dataset['TOTPOPULAT'].describe()"
   ]
  },
  {
   "cell_type": "code",
   "execution_count": null,
   "id": "3bb53496-c49f-4ff5-bf9d-039a13ca8443",
   "metadata": {},
   "outputs": [],
   "source": [
    "np.arange(0, 10.0001, 2)"
   ]
  },
  {
   "cell_type": "code",
   "execution_count": 94,
   "id": "4bc377b2-77ad-4b3e-80ec-be8658ff15ae",
   "metadata": {},
   "outputs": [
    {
     "data": {
      "image/png": "[encoded data removed]",
      "text/plain": [
       "<Figure size 1400x400 with 1 Axes>"
      ]
     },
     "metadata": {},
     "output_type": "display_data"
    }
   ],
   "source": [
    "fig, ax = plt.subplots( figsize = ( 14, 4)) ## oo-p, plt. api plot\n",
    "sns.histplot(x = dataset['TOTPOPULAT'], bins=np.arange(0, 12e+6, 0.5e+6))\n",
    "ax.set_title('Distribution of Total Population')\n",
    "ax.set_xlabel('Population')\n",
    "ax.set_ylabel('Number of Distric')\n",
    "ax.set_xticks(np.arange(0, 12e+6, 1e+6))\n",
    "ax.bar_label(ax.containers[1], color = 'r', fontsize = 12)\n",
    "ax.grid(ls = '--')\n",
    "sns.despine()"
   ]
  },
  {
   "cell_type": "code",
   "execution_count": 70,
   "id": "b59d4705-1dc0-4162-8b2c-87b16bdf8f04",
   "metadata": {},
   "outputs": [
    {
     "data": {
      "text/plain": [
       "634"
      ]
     },
     "execution_count": 70,
     "metadata": {},
     "output_type": "execute_result"
    }
   ],
   "source": [
    "dataset['DISTNAME'].nunique()"
   ]
  },
  {
   "cell_type": "code",
   "execution_count": null,
   "id": "40b0eab1-9c1c-402e-ac37-dfd58e7a25d9",
   "metadata": {},
   "outputs": [],
   "source": [
    "# fig, ax = plt.subplots(figsize = (12, 6))\n",
    "# sns.histplot(x = df['TOTPOPULAT'], bins= np.arange(0, 12*10**6, 10**6))\n",
    "# ax.set_title('Distribution of Total Population', fontweight = 'bold')\n",
    "# ax.set_xticks(np.arange(0, 12*10**6, 10**6))\n",
    "# ax.set_xlim(0, 11*10**6)\n",
    "# ax.bar_label(ax.containers[1], color = 'r')\n",
    "# sns.despine()\n",
    "# # plt.savefig('testing.jpg', dpi = 2000);"
   ]
  },
  {
   "cell_type": "code",
   "execution_count": null,
   "id": "ffffa6c7-93a6-4029-b20f-2b3afffe071a",
   "metadata": {},
   "outputs": [],
   "source": [
    "dataset['OVERALL_LI'].describe()"
   ]
  },
  {
   "cell_type": "code",
   "execution_count": 72,
   "id": "22c22967-64c1-4258-8638-3d02a008fb8e",
   "metadata": {},
   "outputs": [
    {
     "data": {
      "image/png": "[encoded data removed]",
      "text/plain": [
       "<Figure size 1200x600 with 1 Axes>"
      ]
     },
     "metadata": {},
     "output_type": "display_data"
    }
   ],
   "source": [
    "fig, ax = plt.subplots(figsize = (12, 6))\n",
    "sns.histplot(x = df['OVERALL_LI'], bins= np.arange(35, 101, 5))\n",
    "ax.set_xticks(np.arange(35, 101, 5))\n",
    "ax.set_xlim(35, 101)\n",
    "ax.bar_label(ax.containers[1], color ='black')\n",
    "sns.despine()\n",
    "# fig.savefig('Distribution of Litercy rate.jpg',dpi = 300  );"
   ]
  },
  {
   "cell_type": "markdown",
   "id": "fbdf54a2-5cf7-4f1a-bac3-f08d1eb5fdfd",
   "metadata": {},
   "source": [
    "<img src=\"https://raw.githubusercontent.com/ManonYa09/Statistics_with_Python_G7/main/Part%201%20Introduction%20to%20Statistics/Distribution%20of%20Literacy%20Rate.jpg\" width=\"100%\" style=\"display: block; margin: 0 auto;\">"
   ]
  },
  {
   "cell_type": "code",
   "execution_count": null,
   "id": "791d7c11-3167-41b8-aa13-86a72c25d21d",
   "metadata": {},
   "outputs": [],
   "source": [
    "sns.boxplot(y = df['OVERALL_LI']);"
   ]
  },
  {
   "cell_type": "code",
   "execution_count": null,
   "id": "d447fde7-d5ca-4412-9454-6027c09e7043",
   "metadata": {},
   "outputs": [],
   "source": [
    "sns.violinplot(y = df['OVERALL_LI']);"
   ]
  },
  {
   "cell_type": "markdown",
   "id": "760fcd2f-9e69-49f4-b632-729a82d9f750",
   "metadata": {},
   "source": [
    "#### 3.2 Discrete"
   ]
  },
  {
   "cell_type": "code",
   "execution_count": null,
   "id": "0ce7e11c-4261-4a62-b048-ccea2f2b4ab7",
   "metadata": {},
   "outputs": [],
   "source": [
    "df['VILLAGES'].describe()"
   ]
  },
  {
   "cell_type": "code",
   "execution_count": null,
   "id": "2ed816bf-b5e0-4c68-941b-b6f65c410ea1",
   "metadata": {},
   "outputs": [],
   "source": [
    "df['VILLAGES'].nunique()"
   ]
  },
  {
   "cell_type": "code",
   "execution_count": null,
   "id": "2e702978-f823-443c-a935-f2bbf61b7875",
   "metadata": {},
   "outputs": [],
   "source": [
    "# df['VILLAGES'].value_counts()"
   ]
  },
  {
   "cell_type": "code",
   "execution_count": null,
   "id": "5fb35fee-587e-412b-9d50-a93a35e7ae53",
   "metadata": {},
   "outputs": [],
   "source": [
    "fig, ax = plt.subplots(figsize = (12, 4))\n",
    "sns.histplot(x = df['VILLAGES'], bins = np.arange(0, 4001, 200))\n",
    "ax.set_xticks(np.arange(0, 4001, 400))\n",
    "ax.set_xlim(0, 4001)\n",
    "ax.bar_label(ax.containers[1])\n",
    "sns.despine()"
   ]
  },
  {
   "cell_type": "markdown",
   "id": "edbf1958-f1fd-4370-bbf6-5c30c996a7db",
   "metadata": {},
   "source": [
    "### 3.3 Categorical"
   ]
  },
  {
   "cell_type": "code",
   "execution_count": 80,
   "id": "93e92736-192b-49e3-9dd8-80cb18ec3eb0",
   "metadata": {},
   "outputs": [],
   "source": [
    "df1 = pd.read_csv('/Users/macbook/Desktop/Fundamental Data Science G8/Data Visualization/finall_3data_exericse_with_month.csv')"
   ]
  },
  {
   "cell_type": "code",
   "execution_count": 82,
   "id": "af751a66-6829-43e6-af78-085109dab007",
   "metadata": {},
   "outputs": [
    {
     "data": {
      "text/html": [
       "<div>\n",
       "<style scoped>\n",
       "    .dataframe tbody tr th:only-of-type {\n",
       "        vertical-align: middle;\n",
       "    }\n",
       "\n",
       "    .dataframe tbody tr th {\n",
       "        vertical-align: top;\n",
       "    }\n",
       "\n",
       "    .dataframe thead th {\n",
       "        text-align: right;\n",
       "    }\n",
       "</style>\n",
       "<table border=\"1\" class=\"dataframe\">\n",
       "  <thead>\n",
       "    <tr style=\"text-align: right;\">\n",
       "      <th></th>\n",
       "      <th>month</th>\n",
       "      <th>month_number</th>\n",
       "      <th>sum</th>\n",
       "      <th>min</th>\n",
       "      <th>max</th>\n",
       "    </tr>\n",
       "  </thead>\n",
       "  <tbody>\n",
       "    <tr>\n",
       "      <th>0</th>\n",
       "      <td>Jan</td>\n",
       "      <td>1</td>\n",
       "      <td>860045</td>\n",
       "      <td>1</td>\n",
       "      <td>1611</td>\n",
       "    </tr>\n",
       "    <tr>\n",
       "      <th>1</th>\n",
       "      <td>Feb</td>\n",
       "      <td>2</td>\n",
       "      <td>2071315</td>\n",
       "      <td>1</td>\n",
       "      <td>1899</td>\n",
       "    </tr>\n",
       "    <tr>\n",
       "      <th>2</th>\n",
       "      <td>Mar</td>\n",
       "      <td>3</td>\n",
       "      <td>854168</td>\n",
       "      <td>1</td>\n",
       "      <td>562</td>\n",
       "    </tr>\n",
       "    <tr>\n",
       "      <th>3</th>\n",
       "      <td>Apr</td>\n",
       "      <td>4</td>\n",
       "      <td>1524339</td>\n",
       "      <td>1</td>\n",
       "      <td>1103</td>\n",
       "    </tr>\n",
       "    <tr>\n",
       "      <th>4</th>\n",
       "      <td>May</td>\n",
       "      <td>5</td>\n",
       "      <td>4166726</td>\n",
       "      <td>1</td>\n",
       "      <td>933</td>\n",
       "    </tr>\n",
       "    <tr>\n",
       "      <th>5</th>\n",
       "      <td>Jun</td>\n",
       "      <td>6</td>\n",
       "      <td>6445083</td>\n",
       "      <td>1</td>\n",
       "      <td>969</td>\n",
       "    </tr>\n",
       "    <tr>\n",
       "      <th>6</th>\n",
       "      <td>Jul</td>\n",
       "      <td>7</td>\n",
       "      <td>8320400</td>\n",
       "      <td>1</td>\n",
       "      <td>1473</td>\n",
       "    </tr>\n",
       "    <tr>\n",
       "      <th>7</th>\n",
       "      <td>Aug</td>\n",
       "      <td>8</td>\n",
       "      <td>15525255</td>\n",
       "      <td>1</td>\n",
       "      <td>2211</td>\n",
       "    </tr>\n",
       "    <tr>\n",
       "      <th>8</th>\n",
       "      <td>Sep</td>\n",
       "      <td>9</td>\n",
       "      <td>3018336</td>\n",
       "      <td>1</td>\n",
       "      <td>515</td>\n",
       "    </tr>\n",
       "    <tr>\n",
       "      <th>9</th>\n",
       "      <td>Oct</td>\n",
       "      <td>10</td>\n",
       "      <td>1093962</td>\n",
       "      <td>1</td>\n",
       "      <td>705</td>\n",
       "    </tr>\n",
       "    <tr>\n",
       "      <th>10</th>\n",
       "      <td>Nov</td>\n",
       "      <td>11</td>\n",
       "      <td>409263</td>\n",
       "      <td>1</td>\n",
       "      <td>583</td>\n",
       "    </tr>\n",
       "    <tr>\n",
       "      <th>11</th>\n",
       "      <td>Dec</td>\n",
       "      <td>12</td>\n",
       "      <td>312097</td>\n",
       "      <td>1</td>\n",
       "      <td>283</td>\n",
       "    </tr>\n",
       "  </tbody>\n",
       "</table>\n",
       "</div>"
      ],
      "text/plain": [
       "   month  month_number       sum  min   max\n",
       "0    Jan             1    860045    1  1611\n",
       "1    Feb             2   2071315    1  1899\n",
       "2    Mar             3    854168    1   562\n",
       "3    Apr             4   1524339    1  1103\n",
       "4    May             5   4166726    1   933\n",
       "5    Jun             6   6445083    1   969\n",
       "6    Jul             7   8320400    1  1473\n",
       "7    Aug             8  15525255    1  2211\n",
       "8    Sep             9   3018336    1   515\n",
       "9    Oct            10   1093962    1   705\n",
       "10   Nov            11    409263    1   583\n",
       "11   Dec            12    312097    1   283"
      ]
     },
     "execution_count": 82,
     "metadata": {},
     "output_type": "execute_result"
    }
   ],
   "source": [
    "df1"
   ]
  },
  {
   "cell_type": "code",
   "execution_count": 84,
   "id": "74c25bde-cd5e-4407-98c1-2a5c5d20128e",
   "metadata": {},
   "outputs": [],
   "source": [
    "df1 = df1[['month', 'sum']]"
   ]
  },
  {
   "cell_type": "code",
   "execution_count": 88,
   "id": "7f1ec862-5d1c-4d0f-bea9-3799f7e8130f",
   "metadata": {},
   "outputs": [],
   "source": [
    "df1.rename(columns={'sum':'Frequency'}, inplace=True)"
   ]
  },
  {
   "cell_type": "code",
   "execution_count": 90,
   "id": "963e8e80-4ba0-421c-b944-dcd52e9f6a87",
   "metadata": {},
   "outputs": [
    {
     "data": {
      "text/html": [
       "<div>\n",
       "<style scoped>\n",
       "    .dataframe tbody tr th:only-of-type {\n",
       "        vertical-align: middle;\n",
       "    }\n",
       "\n",
       "    .dataframe tbody tr th {\n",
       "        vertical-align: top;\n",
       "    }\n",
       "\n",
       "    .dataframe thead th {\n",
       "        text-align: right;\n",
       "    }\n",
       "</style>\n",
       "<table border=\"1\" class=\"dataframe\">\n",
       "  <thead>\n",
       "    <tr style=\"text-align: right;\">\n",
       "      <th></th>\n",
       "      <th>month</th>\n",
       "      <th>Frequency</th>\n",
       "    </tr>\n",
       "  </thead>\n",
       "  <tbody>\n",
       "    <tr>\n",
       "      <th>0</th>\n",
       "      <td>Jan</td>\n",
       "      <td>860045</td>\n",
       "    </tr>\n",
       "    <tr>\n",
       "      <th>1</th>\n",
       "      <td>Feb</td>\n",
       "      <td>2071315</td>\n",
       "    </tr>\n",
       "  </tbody>\n",
       "</table>\n",
       "</div>"
      ],
      "text/plain": [
       "  month  Frequency\n",
       "0   Jan     860045\n",
       "1   Feb    2071315"
      ]
     },
     "execution_count": 90,
     "metadata": {},
     "output_type": "execute_result"
    }
   ],
   "source": [
    "df1.head(2)"
   ]
  },
  {
   "cell_type": "code",
   "execution_count": 92,
   "id": "6d4317bc-e62f-4475-9917-3ffa099f0734",
   "metadata": {},
   "outputs": [
    {
     "data": {
      "image/png": "[encoded data removed]",
      "text/plain": [
       "<Figure size 1200x400 with 1 Axes>"
      ]
     },
     "metadata": {},
     "output_type": "display_data"
    }
   ],
   "source": [
    "fig, ax = plt.subplots(figsize = (12, 4))\n",
    "sns.barplot(x =df1['month'], y = df1['Frequency'], color= 'b')\n",
    "ax.bar_label(ax.containers[0]) # set data label \n",
    "ax.grid(ls = '--')\n",
    "sns.despine();"
   ]
  },
  {
   "cell_type": "markdown",
   "id": "7d791442-862f-4a0b-af2e-692427c33db1",
   "metadata": {},
   "source": [
    "### 4. Measures of Central Tendency\n",
    "#### 4.1 Mean or Average\n",
    "- It is calculated by dividing the sum of all values by the count of all observations\n",
    "- It can only be applied to numerical variables (not categorical)\n",
    "\n",
    "`Noted` The main limitation of mean is that it is sensitive to outlier (extreme values)"
   ]
  },
  {
   "cell_type": "markdown",
   "id": "76b5ec8d-8442-4b3d-8b94-943db197afbf",
   "metadata": {},
   "source": [
    "<img src=\"https://raw.githubusercontent.com/ManonYa09/Statistics_with_Python_G7/main/Part%201%20Introduction%20to%20Statistics/Distribution%20of%20Literacy%20Rate.jpg\" width=\"100%\" style=\"display: block; margin: 0 auto;\">"
   ]
  },
  {
   "cell_type": "code",
   "execution_count": 98,
   "id": "6a35d800-dc76-435a-9972-891619278cf3",
   "metadata": {},
   "outputs": [
    {
     "data": {
      "text/plain": [
       "0      66.92\n",
       "1      66.93\n",
       "2      71.21\n",
       "3      57.98\n",
       "4      65.00\n",
       "       ...  \n",
       "675    78.05\n",
       "676    56.06\n",
       "677    65.05\n",
       "678    66.16\n",
       "679    65.46\n",
       "Name: OVERALL_LI, Length: 634, dtype: float64"
      ]
     },
     "execution_count": 98,
     "metadata": {},
     "output_type": "execute_result"
    }
   ],
   "source": [
    "dataset['OVERALL_LI']"
   ]
  },
  {
   "cell_type": "code",
   "execution_count": null,
   "id": "f4aae533-5bb7-47d0-a2b5-03d2c0960921",
   "metadata": {},
   "outputs": [],
   "source": [
    "# 25% of len(df) 680"
   ]
  },
  {
   "cell_type": "code",
   "execution_count": 96,
   "id": "02a80284-7170-43b2-b928-7e4bc7049ac0",
   "metadata": {},
   "outputs": [
    {
     "data": {
      "text/plain": [
       "count    634.000000\n",
       "mean      73.395189\n",
       "std       10.098460\n",
       "min       37.220000\n",
       "25%       66.437500\n",
       "50%       73.490000\n",
       "75%       80.815000\n",
       "max       98.760000\n",
       "Name: OVERALL_LI, dtype: float64"
      ]
     },
     "execution_count": 96,
     "metadata": {},
     "output_type": "execute_result"
    }
   ],
   "source": [
    "df['OVERALL_LI'].describe()"
   ]
  },
  {
   "cell_type": "code",
   "execution_count": null,
   "id": "4f5a3f7d-ff3a-474c-aa33-358610654d3c",
   "metadata": {},
   "outputs": [],
   "source": [
    "# sum([100, 100, 1000000, 1000000, 300, 400, 500])/7"
   ]
  },
  {
   "cell_type": "code",
   "execution_count": null,
   "id": "ac5dfd92-fb06-47e3-a02e-a52a8f58a0ce",
   "metadata": {},
   "outputs": [],
   "source": [
    "df['OVERALL_LI'].mean()"
   ]
  },
  {
   "cell_type": "markdown",
   "id": "a2f34e2e-12f9-404f-b461-8b11c83c0316",
   "metadata": {},
   "source": [
    "#### 4.2 Median"
   ]
  },
  {
   "cell_type": "code",
   "execution_count": 106,
   "id": "72e5b2e8-af4b-4652-a2aa-61a45ed70e7f",
   "metadata": {},
   "outputs": [
    {
     "data": {
      "text/plain": [
       "73.49000000000001"
      ]
     },
     "execution_count": 106,
     "metadata": {},
     "output_type": "execute_result"
    }
   ],
   "source": [
    "dataset['OVERALL_LI'].median()"
   ]
  },
  {
   "cell_type": "code",
   "execution_count": 108,
   "id": "4378d1d6-c741-49ff-93ff-22e7186de25d",
   "metadata": {},
   "outputs": [],
   "source": [
    "minimum_li = dataset['OVERALL_LI'].min()\n",
    "maximum_li = dataset['OVERALL_LI'].max()\n",
    "median_li = dataset['OVERALL_LI'].median()"
   ]
  },
  {
   "cell_type": "code",
   "execution_count": 118,
   "id": "46f8c5ac-51f4-4f3d-b9ec-65691a4a6d6b",
   "metadata": {},
   "outputs": [
    {
     "data": {
      "text/html": [
       "<div>\n",
       "<style scoped>\n",
       "    .dataframe tbody tr th:only-of-type {\n",
       "        vertical-align: middle;\n",
       "    }\n",
       "\n",
       "    .dataframe tbody tr th {\n",
       "        vertical-align: top;\n",
       "    }\n",
       "\n",
       "    .dataframe thead th {\n",
       "        text-align: right;\n",
       "    }\n",
       "</style>\n",
       "<table border=\"1\" class=\"dataframe\">\n",
       "  <thead>\n",
       "    <tr style=\"text-align: right;\">\n",
       "      <th></th>\n",
       "      <th>DISTNAME</th>\n",
       "      <th>STATNAME</th>\n",
       "      <th>BLOCKS</th>\n",
       "      <th>VILLAGES</th>\n",
       "      <th>CLUSTERS</th>\n",
       "      <th>TOTPOPULAT</th>\n",
       "      <th>OVERALL_LI</th>\n",
       "    </tr>\n",
       "  </thead>\n",
       "  <tbody>\n",
       "    <tr>\n",
       "      <th>6</th>\n",
       "      <td>DISTRICT114</td>\n",
       "      <td>STATE1</td>\n",
       "      <td>6</td>\n",
       "      <td>110</td>\n",
       "      <td>49</td>\n",
       "      <td>147104.0</td>\n",
       "      <td>80.48</td>\n",
       "    </tr>\n",
       "    <tr>\n",
       "      <th>7</th>\n",
       "      <td>DISTRICT438</td>\n",
       "      <td>STATE1</td>\n",
       "      <td>7</td>\n",
       "      <td>134</td>\n",
       "      <td>54</td>\n",
       "      <td>143388.0</td>\n",
       "      <td>74.49</td>\n",
       "    </tr>\n",
       "    <tr>\n",
       "      <th>12</th>\n",
       "      <td>DISTRICT293</td>\n",
       "      <td>STATE1</td>\n",
       "      <td>14</td>\n",
       "      <td>861</td>\n",
       "      <td>124</td>\n",
       "      <td>1526406.0</td>\n",
       "      <td>83.98</td>\n",
       "    </tr>\n",
       "    <tr>\n",
       "      <th>13</th>\n",
       "      <td>DISTRICT563</td>\n",
       "      <td>STATE1</td>\n",
       "      <td>12</td>\n",
       "      <td>495</td>\n",
       "      <td>98</td>\n",
       "      <td>615711.0</td>\n",
       "      <td>73.50</td>\n",
       "    </tr>\n",
       "    <tr>\n",
       "      <th>21</th>\n",
       "      <td>DISTRICT267</td>\n",
       "      <td>STATE1</td>\n",
       "      <td>5</td>\n",
       "      <td>318</td>\n",
       "      <td>35</td>\n",
       "      <td>318611.0</td>\n",
       "      <td>82.48</td>\n",
       "    </tr>\n",
       "    <tr>\n",
       "      <th>...</th>\n",
       "      <td>...</td>\n",
       "      <td>...</td>\n",
       "      <td>...</td>\n",
       "      <td>...</td>\n",
       "      <td>...</td>\n",
       "      <td>...</td>\n",
       "      <td>...</td>\n",
       "    </tr>\n",
       "    <tr>\n",
       "      <th>667</th>\n",
       "      <td>DISTRICT123</td>\n",
       "      <td>STATE11</td>\n",
       "      <td>3</td>\n",
       "      <td>80</td>\n",
       "      <td>16</td>\n",
       "      <td>237586.0</td>\n",
       "      <td>88.49</td>\n",
       "    </tr>\n",
       "    <tr>\n",
       "      <th>668</th>\n",
       "      <td>DISTRICT147</td>\n",
       "      <td>STATE11</td>\n",
       "      <td>3</td>\n",
       "      <td>42</td>\n",
       "      <td>8</td>\n",
       "      <td>36819.0</td>\n",
       "      <td>77.50</td>\n",
       "    </tr>\n",
       "    <tr>\n",
       "      <th>669</th>\n",
       "      <td>DISTRICT206</td>\n",
       "      <td>STATE11</td>\n",
       "      <td>3</td>\n",
       "      <td>76</td>\n",
       "      <td>13</td>\n",
       "      <td>105539.0</td>\n",
       "      <td>84.25</td>\n",
       "    </tr>\n",
       "    <tr>\n",
       "      <th>674</th>\n",
       "      <td>DISTRICT136</td>\n",
       "      <td>STATE29</td>\n",
       "      <td>16</td>\n",
       "      <td>71</td>\n",
       "      <td>48</td>\n",
       "      <td>4010238.0</td>\n",
       "      <td>80.96</td>\n",
       "    </tr>\n",
       "    <tr>\n",
       "      <th>675</th>\n",
       "      <td>DISTRICT522</td>\n",
       "      <td>STATE29</td>\n",
       "      <td>37</td>\n",
       "      <td>876</td>\n",
       "      <td>137</td>\n",
       "      <td>5296396.0</td>\n",
       "      <td>78.05</td>\n",
       "    </tr>\n",
       "  </tbody>\n",
       "</table>\n",
       "<p>317 rows × 7 columns</p>\n",
       "</div>"
      ],
      "text/plain": [
       "        DISTNAME STATNAME  BLOCKS  VILLAGES  CLUSTERS  TOTPOPULAT  OVERALL_LI\n",
       "6    DISTRICT114   STATE1       6       110        49    147104.0       80.48\n",
       "7    DISTRICT438   STATE1       7       134        54    143388.0       74.49\n",
       "12   DISTRICT293   STATE1      14       861       124   1526406.0       83.98\n",
       "13   DISTRICT563   STATE1      12       495        98    615711.0       73.50\n",
       "21   DISTRICT267   STATE1       5       318        35    318611.0       82.48\n",
       "..           ...      ...     ...       ...       ...         ...         ...\n",
       "667  DISTRICT123  STATE11       3        80        16    237586.0       88.49\n",
       "668  DISTRICT147  STATE11       3        42         8     36819.0       77.50\n",
       "669  DISTRICT206  STATE11       3        76        13    105539.0       84.25\n",
       "674  DISTRICT136  STATE29      16        71        48   4010238.0       80.96\n",
       "675  DISTRICT522  STATE29      37       876       137   5296396.0       78.05\n",
       "\n",
       "[317 rows x 7 columns]"
      ]
     },
     "execution_count": 118,
     "metadata": {},
     "output_type": "execute_result"
    }
   ],
   "source": [
    "dataset[(dataset['OVERALL_LI']>=median_li) & (dataset['OVERALL_LI']<=maximum_li)]"
   ]
  },
  {
   "cell_type": "code",
   "execution_count": 233,
   "id": "fc87f1c5-f4d5-429d-8632-6c7a6e2053a6",
   "metadata": {},
   "outputs": [
    {
     "data": {
      "text/plain": [
       "47.30166666666667"
      ]
     },
     "execution_count": 233,
     "metadata": {},
     "output_type": "execute_result"
    }
   ],
   "source": [
    "dataset[(dataset['OVERALL_LI']>=minimum_li) & (dataset['OVERALL_LI']<=median_li)]['OVERALL_LI'].mean()\n",
    "dataset[(dataset['OVERALL_LI']>=35) & (dataset['OVERALL_LI']<=40 )]['OVERALL_LI'].mean()\n",
    "dataset[(dataset['OVERALL_LI']>=40) & (dataset['OVERALL_LI']<=50)]['OVERALL_LI'].mean()"
   ]
  },
  {
   "cell_type": "code",
   "execution_count": 245,
   "id": "5be46b6b-7d5d-4003-bb3b-290064315bb3",
   "metadata": {},
   "outputs": [
    {
     "data": {
      "text/plain": [
       "47.30166666666667"
      ]
     },
     "execution_count": 245,
     "metadata": {},
     "output_type": "execute_result"
    }
   ],
   "source": [
    "dataset[(dataset['OVERALL_LI']>=40) & (dataset['OVERALL_LI']<=50)]['OVERALL_LI'].mean()"
   ]
  },
  {
   "cell_type": "code",
   "execution_count": null,
   "id": "a17de84f-50da-4af2-9800-e895e89ce7ad",
   "metadata": {},
   "outputs": [],
   "source": [
    "634"
   ]
  },
  {
   "cell_type": "code",
   "execution_count": 102,
   "id": "5e2382ce-3882-4b8b-9742-c033d593841c",
   "metadata": {},
   "outputs": [
    {
     "data": {
      "text/plain": [
       "count    634.000000\n",
       "mean      73.395189\n",
       "std       10.098460\n",
       "min       37.220000\n",
       "25%       66.437500\n",
       "50%       73.490000\n",
       "75%       80.815000\n",
       "max       98.760000\n",
       "Name: OVERALL_LI, dtype: float64"
      ]
     },
     "execution_count": 102,
     "metadata": {},
     "output_type": "execute_result"
    }
   ],
   "source": [
    "dataset['OVERALL_LI'].describe()"
   ]
  },
  {
   "cell_type": "markdown",
   "id": "2c06af1b-99a5-4fa6-9623-ff43b86f14c0",
   "metadata": {},
   "source": [
    "<img src=\"https://raw.githubusercontent.com/ManonYa09/Statistics_with_Python_G7/main/%20Slides/photos/2.%20Median.jpg\" alt=\"Control Structure\" width=\"65%\" style=\"display: block; margin: 0 auto;\">"
   ]
  },
  {
   "cell_type": "code",
   "execution_count": null,
   "id": "ad2d8425-a054-4c17-9d9c-65c8e207a1ae",
   "metadata": {},
   "outputs": [],
   "source": [
    "# df[(df['VILLAGES']>= df['VILLAGES'].median()) & (df['VILLAGES']<=df['VILLAGES'].max())].shape[0]"
   ]
  },
  {
   "cell_type": "markdown",
   "id": "db5e346b-8201-4568-b1d0-54d55eca4fe5",
   "metadata": {},
   "source": [
    "#### 4.3 Mode "
   ]
  },
  {
   "cell_type": "code",
   "execution_count": 124,
   "id": "fa4dff8c-44a7-4d9c-a611-fec8a4e33992",
   "metadata": {},
   "outputs": [
    {
     "data": {
      "text/plain": [
       "STATNAME\n",
       "STATE21    71\n",
       "STATE22    50\n",
       "STATE28    38\n",
       "STATE17    35\n",
       "STATE13    33\n",
       "STATE6     30\n",
       "STATE20    30\n",
       "STATE33    27\n",
       "STATE24    27\n",
       "STATE9     26\n",
       "STATE23    24\n",
       "STATE1     22\n",
       "STATE25    21\n",
       "STATE34    20\n",
       "STATE26    20\n",
       "STATE3     16\n",
       "STATE31    16\n",
       "STATE5     14\n",
       "STATE15    13\n",
       "STATE7     13\n",
       "STATE16    12\n",
       "STATE27    11\n",
       "STATE29    10\n",
       "STATE35     9\n",
       "STATE2      9\n",
       "STATE12     8\n",
       "STATE4      7\n",
       "STATE14     4\n",
       "STATE18     4\n",
       "STATE32     4\n",
       "STATE11     3\n",
       "STATE10     2\n",
       "STATE30     2\n",
       "STATE36     1\n",
       "STATE19     1\n",
       "STATE8      1\n",
       "Name: count, dtype: int64"
      ]
     },
     "execution_count": 124,
     "metadata": {},
     "output_type": "execute_result"
    }
   ],
   "source": [
    "dataset['STATNAME'].value_counts()"
   ]
  },
  {
   "cell_type": "code",
   "execution_count": 128,
   "id": "36243b43-9192-49f8-976c-5b4d513faad9",
   "metadata": {},
   "outputs": [
    {
     "data": {
      "text/plain": [
       "OVERALL_LI\n",
       "71.59    3\n",
       "70.14    3\n",
       "62.71    3\n",
       "73.10    3\n",
       "73.70    3\n",
       "        ..\n",
       "53.56    1\n",
       "52.49    1\n",
       "57.04    1\n",
       "55.10    1\n",
       "65.46    1\n",
       "Name: count, Length: 574, dtype: int64"
      ]
     },
     "execution_count": 128,
     "metadata": {},
     "output_type": "execute_result"
    }
   ],
   "source": [
    "dataset['OVERALL_LI'].value_counts()"
   ]
  },
  {
   "cell_type": "code",
   "execution_count": 126,
   "id": "e80de752-1dc1-47db-a69b-bf133114ad3c",
   "metadata": {},
   "outputs": [
    {
     "data": {
      "text/plain": [
       "0    62.71\n",
       "1    70.14\n",
       "2    71.59\n",
       "3    73.10\n",
       "4    73.70\n",
       "Name: OVERALL_LI, dtype: float64"
      ]
     },
     "execution_count": 126,
     "metadata": {},
     "output_type": "execute_result"
    }
   ],
   "source": [
    "dataset['OVERALL_LI'].mode()"
   ]
  },
  {
   "cell_type": "code",
   "execution_count": 122,
   "id": "7455c5d7-23b5-487c-af70-b00440cbe3c0",
   "metadata": {},
   "outputs": [
    {
     "data": {
      "text/plain": [
       "0    STATE21\n",
       "Name: STATNAME, dtype: object"
      ]
     },
     "execution_count": 122,
     "metadata": {},
     "output_type": "execute_result"
    }
   ],
   "source": [
    "dataset['STATNAME'].mode()"
   ]
  },
  {
   "cell_type": "markdown",
   "id": "e8e62cef-f4e7-48c8-8781-3a50d16a8ac4",
   "metadata": {},
   "source": [
    "## 5. Variability"
   ]
  },
  {
   "cell_type": "markdown",
   "id": "91c4ba0e-2b39-4fe1-92d0-3c4405a6a3d4",
   "metadata": {},
   "source": [
    "### 5.1 Measures of Spread"
   ]
  },
  {
   "cell_type": "markdown",
   "id": "fa003b99-e199-4320-ba54-84927ad5e153",
   "metadata": {},
   "source": [
    "#### 5.1.1 Range "
   ]
  },
  {
   "cell_type": "markdown",
   "id": "7d7c21c1-86be-456f-98c2-b35767fee4a2",
   "metadata": {},
   "source": [
    "The **range** is the difference between the largest and smallest value in a dataset. "
   ]
  },
  {
   "cell_type": "code",
   "execution_count": 134,
   "id": "477b6adc-ed67-4ba8-8b57-435e006017e3",
   "metadata": {},
   "outputs": [
    {
     "data": {
      "text/plain": [
       "61.540000000000006"
      ]
     },
     "execution_count": 134,
     "metadata": {},
     "output_type": "execute_result"
    }
   ],
   "source": [
    "Range = df['OVERALL_LI'].max()-df['OVERALL_LI'].min()\n",
    "Range"
   ]
  },
  {
   "cell_type": "code",
   "execution_count": 136,
   "id": "f4b662bc-c9e2-4a0a-be88-6c3ed05ff37a",
   "metadata": {},
   "outputs": [],
   "source": [
    "# df['OVERALL_LI'].ra"
   ]
  },
  {
   "cell_type": "markdown",
   "id": "92b4ab38-fb91-4e26-82cf-f4b36c4a225f",
   "metadata": {},
   "source": [
    "#### 5.1.2 Standard Deviation\n",
    "The **standard deviation** average distance from the mean."
   ]
  },
  {
   "cell_type": "markdown",
   "id": "f303c8f5-c234-4688-a6b6-81fcdcb540e1",
   "metadata": {},
   "source": [
    "<img src=\"https://raw.githubusercontent.com/ManonYa09/Statistics_with_Python_G7/main/%20Slides/photos/Standard%20Deviation%20.png\" alt=\"Control Structure\" width=\"65%\" style=\"display: block; margin: 0 auto;\">\n"
   ]
  },
  {
   "cell_type": "markdown",
   "id": "2afc774e-366f-47a5-9d05-8574e96346e3",
   "metadata": {},
   "source": [
    "<img src=\"https://raw.githubusercontent.com/ManonYa09/Statistics_with_Python_G7/main/%20Slides/photos/Standard%20Deviation%201.png\" alt=\"Control Structure\" width=\"65%\" style=\"display: block; margin: 0 auto;\">\n"
   ]
  },
  {
   "cell_type": "markdown",
   "id": "5b8a121e-b09e-4077-bf60-60a0d07d7914",
   "metadata": {},
   "source": [
    "<img src=\"https://raw.githubusercontent.com/ManonYa09/Statistics_with_Python_G7/main/%20Slides/photos/photo_2023-11-11_10-46-48.jpg\" alt=\"Control Structure\" width=\"65%\" style=\"display: block; margin: 0 auto;\">\n"
   ]
  },
  {
   "cell_type": "code",
   "execution_count": 143,
   "id": "f4567d55-0244-4f66-8817-5ac9c85e7257",
   "metadata": {},
   "outputs": [
    {
     "data": {
      "text/plain": [
       "10.090493185391267"
      ]
     },
     "execution_count": 143,
     "metadata": {},
     "output_type": "execute_result"
    }
   ],
   "source": [
    "dataset['OVERALL_LI'].std(ddof=0)"
   ]
  },
  {
   "cell_type": "code",
   "execution_count": 145,
   "id": "7b2e09ee-e37b-46f6-be1e-ef1fc3d2a951",
   "metadata": {},
   "outputs": [
    {
     "data": {
      "text/plain": [
       "10.098460413782469"
      ]
     },
     "execution_count": 145,
     "metadata": {},
     "output_type": "execute_result"
    }
   ],
   "source": [
    "dataset['OVERALL_LI'].std(ddof=1)"
   ]
  },
  {
   "cell_type": "markdown",
   "id": "d4bf3149-52f5-410e-9755-20e7c1fcd793",
   "metadata": {},
   "source": [
    "#### 5.1.3 Variance"
   ]
  },
  {
   "cell_type": "markdown",
   "id": "7626dc07-a258-4167-b967-bf6a008610fe",
   "metadata": {},
   "source": [
    "### 6. Measures of Position "
   ]
  },
  {
   "cell_type": "markdown",
   "id": "71b65549-81f0-4521-96dd-510946def393",
   "metadata": {},
   "source": [
    "#### 6.1 Perceptile"
   ]
  },
  {
   "cell_type": "markdown",
   "id": "d4499c81-508a-4f06-981d-d87a85a6a565",
   "metadata": {},
   "source": [
    "<img src=\"https://online.stat.psu.edu/public/stat800/lesson04/500%20l1%2025th%20and%2075th%20percentile.png\" width=\"50%\" style=\"display: block; margin: 0 auto;\">"
   ]
  },
  {
   "cell_type": "code",
   "execution_count": 164,
   "id": "5af44234-d949-4bc1-ba0a-4c5699490e76",
   "metadata": {},
   "outputs": [],
   "source": [
    "dataset[dataset['OVERALL_LI']<= dataset['OVERALL_LI'].quantile(0.75)]"
   ]
  },
  {
   "cell_type": "code",
   "execution_count": 168,
   "id": "a88e03ff-56f0-4762-b519-fb95cc060624",
   "metadata": {},
   "outputs": [
    {
     "data": {
      "text/plain": [
       "159"
      ]
     },
     "execution_count": 168,
     "metadata": {},
     "output_type": "execute_result"
    }
   ],
   "source": [
    "dataset[dataset['OVERALL_LI']<= dataset['OVERALL_LI'].quantile(0.25)].shape[0]"
   ]
  },
  {
   "cell_type": "code",
   "execution_count": 170,
   "id": "cb5773f1-1b36-444f-b632-f964d8a5e1aa",
   "metadata": {},
   "outputs": [
    {
     "data": {
      "text/plain": [
       "0.250788643533123"
      ]
     },
     "execution_count": 170,
     "metadata": {},
     "output_type": "execute_result"
    }
   ],
   "source": [
    "159/len(dataset)"
   ]
  },
  {
   "cell_type": "code",
   "execution_count": 178,
   "id": "08e2decd-800f-49f1-8f08-5150a0a4cb89",
   "metadata": {},
   "outputs": [
    {
     "data": {
      "text/plain": [
       "0.00    37.220\n",
       "0.95    88.634\n",
       "Name: OVERALL_LI, dtype: float64"
      ]
     },
     "execution_count": 178,
     "metadata": {},
     "output_type": "execute_result"
    }
   ],
   "source": [
    "dataset['OVERALL_LI'].quantile([0, .95])"
   ]
  },
  {
   "cell_type": "code",
   "execution_count": 176,
   "id": "a374d55e-3b37-4073-aa55-04620a21b07a",
   "metadata": {},
   "outputs": [
    {
     "data": {
      "text/plain": [
       "0.0    37.220\n",
       "0.9    86.236\n",
       "Name: OVERALL_LI, dtype: float64"
      ]
     },
     "execution_count": 176,
     "metadata": {},
     "output_type": "execute_result"
    }
   ],
   "source": [
    "dataset['OVERALL_LI'].quantile([0, 0.9])"
   ]
  },
  {
   "cell_type": "code",
   "execution_count": 162,
   "id": "e5dbd88e-4317-4cc6-a6e6-421438fc2f43",
   "metadata": {},
   "outputs": [
    {
     "data": {
      "text/plain": [
       "0.749211356466877"
      ]
     },
     "execution_count": 162,
     "metadata": {},
     "output_type": "execute_result"
    }
   ],
   "source": [
    "475/len(dataset)"
   ]
  },
  {
   "cell_type": "code",
   "execution_count": 150,
   "id": "9166bbe7-5787-4147-8a3c-0cb097842b19",
   "metadata": {},
   "outputs": [
    {
     "data": {
      "text/plain": [
       "count    634.000000\n",
       "mean      73.395189\n",
       "std       10.098460\n",
       "min       37.220000\n",
       "25%       66.437500\n",
       "50%       73.490000\n",
       "75%       80.815000\n",
       "max       98.760000\n",
       "Name: OVERALL_LI, dtype: float64"
      ]
     },
     "execution_count": 150,
     "metadata": {},
     "output_type": "execute_result"
    }
   ],
   "source": [
    "dataset['OVERALL_LI'].describe()"
   ]
  },
  {
   "cell_type": "code",
   "execution_count": 148,
   "id": "d4b84218-74c6-40c5-872f-f76c88514225",
   "metadata": {},
   "outputs": [
    {
     "data": {
      "text/plain": [
       "0.00    37.2200\n",
       "0.25    66.4375\n",
       "Name: OVERALL_LI, dtype: float64"
      ]
     },
     "execution_count": 148,
     "metadata": {},
     "output_type": "execute_result"
    }
   ],
   "source": [
    "dataset['OVERALL_LI'].quantile([0,0.25])"
   ]
  },
  {
   "cell_type": "markdown",
   "id": "582044d8-7c01-42f1-954a-47ce028efddd",
   "metadata": {},
   "source": [
    "### 6.2 Quantile"
   ]
  },
  {
   "cell_type": "markdown",
   "id": "52beb1b3-9f1d-4ca4-85e5-428ff20ba69f",
   "metadata": {},
   "source": [
    "divides the values in a dataset into four equal parts"
   ]
  },
  {
   "cell_type": "markdown",
   "id": "15896a4f-f657-4276-87b7-145c6bfe8c6b",
   "metadata": {},
   "source": [
    "<img src=\"https://raw.githubusercontent.com/ManonYa09/Statistics_with_Python_G7/main/%20Slides/photos/3.%20Interqualtile%20range.jpg\" width=\"80%\" style=\"display: block; margin: 0 auto;\">"
   ]
  },
  {
   "cell_type": "markdown",
   "id": "525ffff9-a1f3-4911-b7a1-87f5f63acff8",
   "metadata": {},
   "source": [
    "## Box Plot"
   ]
  },
  {
   "cell_type": "code",
   "execution_count": 185,
   "id": "d595c42b-5205-468f-a737-b76367c62f48",
   "metadata": {},
   "outputs": [
    {
     "data": {
      "text/plain": [
       "count    634.000000\n",
       "mean      73.395189\n",
       "std       10.098460\n",
       "min       37.220000\n",
       "25%       66.437500\n",
       "50%       73.490000\n",
       "75%       80.815000\n",
       "max       98.760000\n",
       "Name: OVERALL_LI, dtype: float64"
      ]
     },
     "execution_count": 185,
     "metadata": {},
     "output_type": "execute_result"
    }
   ],
   "source": [
    "dataset['OVERALL_LI'].describe()"
   ]
  },
  {
   "cell_type": "code",
   "execution_count": 191,
   "id": "1f851c0a-0594-496f-a2bd-25a0ccb9de5c",
   "metadata": {},
   "outputs": [
    {
     "data": {
      "image/png": "[encoded data removed]",
      "text/plain": [
       "<Figure size 640x480 with 1 Axes>"
      ]
     },
     "metadata": {},
     "output_type": "display_data"
    }
   ],
   "source": [
    "sns.boxplot(y = dataset['OVERALL_LI'])\n",
    "plt.yticks(np.arange(35, 101, 5))\n",
    "plt.grid();"
   ]
  },
  {
   "cell_type": "code",
   "execution_count": 209,
   "id": "f644875e-4c9b-4f25-8073-2c45aa55281e",
   "metadata": {},
   "outputs": [
    {
     "data": {
      "image/png": "[encoded data removed]",
      "text/plain": [
       "<Figure size 640x480 with 1 Axes>"
      ]
     },
     "metadata": {},
     "output_type": "display_data"
    }
   ],
   "source": [
    "sns.boxplot(y = dataset['TOTPOPULAT']);"
   ]
  },
  {
   "cell_type": "code",
   "execution_count": 219,
   "id": "6eec2bdc-c67e-4ed1-9828-b211ed72f06a",
   "metadata": {},
   "outputs": [
    {
     "data": {
      "image/png": "[encoded data removed]",
      "text/plain": [
       "<Figure size 1800x800 with 2 Axes>"
      ]
     },
     "metadata": {},
     "output_type": "display_data"
    }
   ],
   "source": [
    "fig, ax = plt.subplots( 1, 2, figsize = ( 18, 8)) ## oo-p, plt. api plot\n",
    "sns.histplot(x = dataset['TOTPOPULAT'], bins=np.arange(0, 12e+6, 0.5e+6), ax = ax[0])\n",
    "ax[0].set_title('Distribution of Total Population')\n",
    "ax[0].set_xlabel('Population')\n",
    "ax[0].set_ylabel('Number of Distric')\n",
    "ax[0].set_xticks(np.arange(0, 12e+6, 1e+6))\n",
    "ax[0].bar_label(ax[0].containers[1], color = 'r', fontsize = 12)\n",
    "ax[0].grid(ls = '--')\n",
    "# sns.despine()\n",
    "sns.violinplot(x = dataset['TOTPOPULAT'], ax = ax[1]);"
   ]
  },
  {
   "cell_type": "code",
   "execution_count": 201,
   "id": "f14879d6-9ad3-4b1e-b5a3-01714f52a86d",
   "metadata": {},
   "outputs": [
    {
     "data": {
      "text/plain": [
       "111     6663971.0\n",
       "177     5959798.0\n",
       "235     5772804.0\n",
       "350     7102430.0\n",
       "352     7723663.0\n",
       "354    10082852.0\n",
       "355     5520389.0\n",
       "360     8153176.0\n",
       "362     5943300.0\n",
       "503     7208200.0\n",
       "518     6079231.0\n",
       "552     6109052.0\n",
       "553    11054131.0\n",
       "554     9332481.0\n",
       "557     9426959.0\n",
       "609     9588910.0\n",
       "675     5296396.0\n",
       "Name: TOTPOPULAT, dtype: float64"
      ]
     },
     "execution_count": 201,
     "metadata": {},
     "output_type": "execute_result"
    }
   ],
   "source": [
    "outlier_detection(dataset['TOTPOPULAT'])"
   ]
  },
  {
   "cell_type": "code",
   "execution_count": 197,
   "id": "39d10605-e60f-4dbd-9914-5df12d0ec50a",
   "metadata": {},
   "outputs": [
    {
     "data": {
      "text/plain": [
       "434    42.67\n",
       "469    44.45\n",
       "494    37.22\n",
       "Name: OVERALL_LI, dtype: float64"
      ]
     },
     "execution_count": 197,
     "metadata": {},
     "output_type": "execute_result"
    }
   ],
   "source": [
    "outlier_detection(dataset['OVERALL_LI'])"
   ]
  },
  {
   "cell_type": "markdown",
   "id": "8334329d-403b-402d-b5dc-8151d6448931",
   "metadata": {},
   "source": [
    "<img src=\"https://raw.githubusercontent.com/ManonYa09/Statistics_with_Python_G7/main/%20Slides/photos/Box-Plot-and-Whisker-Plot-1.png\" width=\"60%\" style=\"display: block; margin: 0 auto;\">\n",
    "\n",
    "\n"
   ]
  },
  {
   "cell_type": "markdown",
   "id": "82f4b244-2c72-4546-b788-0d2dd0be7b71",
   "metadata": {},
   "source": [
    "### Outlier\n",
    "Outliers are values at the extreme ends of a dataset.\n",
    "\n",
    "Some outliers represent true values from natural variation in the population. Other outliers may result from incorrect data entry, equipment malfunctions, or other measurement errors.\n",
    "\n"
   ]
  },
  {
   "cell_type": "code",
   "execution_count": null,
   "id": "1446a0d1-139b-4eae-bc0a-7cfffe23f359",
   "metadata": {},
   "outputs": [],
   "source": [
    "df.head()"
   ]
  },
  {
   "cell_type": "code",
   "execution_count": 199,
   "id": "f811de6e-3b3d-4ea4-9291-3dd2b2ee7ce4",
   "metadata": {},
   "outputs": [],
   "source": [
    "def outlier_detection(df):\n",
    "    \"\"\"\n",
    "    Detect potential outliers in a DataFrame using the Interquartile Range (IQR) method.\n",
    "\n",
    "    Parameters:\n",
    "    - df (pandas.DataFrame): The input DataFrame containing numerical data.\n",
    "\n",
    "    Returns:\n",
    "    - pandas.Series: A Series containing potential outlier values.\n",
    "    \n",
    "    The function calculates the first quartile (Q1), third quartile (Q3), and the Interquartile Range (IQR).\n",
    "    It then identifies potential outliers below the lower bound (Q1 - 1.5 * IQR) or above the upper bound (Q3 + 1.5 * IQR).\n",
    "    The result is a Series containing the values in the DataFrame that are potential outliers.\n",
    "\n",
    "    Example:\n",
    "    >>> data = {'Column1': [2, 4, 5, 7, 8, 9, 10, 11, 12, 50]}\n",
    "    >>> df = pd.DataFrame(data)\n",
    "    >>> outlier_detection(df['Column1'])\n",
    "    Returns:\n",
    "    9    50\n",
    "    Name: Column1, dtype: int64\n",
    "    \"\"\"\n",
    "    Q1 = df.quantile(0.25)\n",
    "    Q3 = df.quantile(0.75)\n",
    "    IQR = Q3 - Q1\n",
    "    upper_end = Q3 + 1.5 * IQR\n",
    "    lower_end = Q1 - 1.5 * IQR\n",
    "    outliers = df[(df > upper_end) | (df < lower_end)]\n",
    "    return outliers\n"
   ]
  },
  {
   "cell_type": "code",
   "execution_count": 195,
   "id": "5fd6e2fe-fb9c-49c8-9f35-0746775dea0d",
   "metadata": {},
   "outputs": [
    {
     "data": {
      "text/plain": [
       "434    42.67\n",
       "469    44.45\n",
       "494    37.22\n",
       "Name: OVERALL_LI, dtype: float64"
      ]
     },
     "execution_count": 195,
     "metadata": {},
     "output_type": "execute_result"
    }
   ],
   "source": [
    "outlier_detection(dataset['OVERALL_LI'])"
   ]
  },
  {
   "cell_type": "code",
   "execution_count": null,
   "id": "747bf3d5-e29c-4be6-89d0-c9e8aab0d895",
   "metadata": {},
   "outputs": [],
   "source": [
    "1.5 * (80.815000 - 66.437500)+ "
   ]
  },
  {
   "cell_type": "code",
   "execution_count": null,
   "id": "077744d1-c4dd-4c3c-9475-0e7488167a29",
   "metadata": {
    "scrolled": true
   },
   "outputs": [],
   "source": [
    "df['OVERALL_LI'].describe()"
   ]
  },
  {
   "cell_type": "code",
   "execution_count": null,
   "id": "d2b6565a-12b1-463b-997f-baf975b6497f",
   "metadata": {},
   "outputs": [],
   "source": [
    "bins = np.arange(0, 12*10**6, 10**6)\n",
    "\n",
    "hist, edges = np.histogram(df['TOTPOPULAT'], bins=bins)\n",
    "\n",
    "hist"
   ]
  },
  {
   "cell_type": "code",
   "execution_count": null,
   "id": "0a9afc02-2dc9-4ec2-a1fc-6448e940bc41",
   "metadata": {},
   "outputs": [],
   "source": [
    "edges"
   ]
  },
  {
   "cell_type": "code",
   "execution_count": 221,
   "id": "f69232c1-ebe6-441a-9086-b6c79def33d9",
   "metadata": {},
   "outputs": [],
   "source": [
    "a = 43252.425252"
   ]
  },
  {
   "cell_type": "code",
   "execution_count": 223,
   "id": "69b19609-5baa-411b-9526-f591b1fbb2d4",
   "metadata": {},
   "outputs": [
    {
     "data": {
      "text/plain": [
       "43252.43"
      ]
     },
     "execution_count": 223,
     "metadata": {},
     "output_type": "execute_result"
    }
   ],
   "source": [
    "round(a, 2)"
   ]
  },
  {
   "cell_type": "code",
   "execution_count": null,
   "id": "fedcc9ad-ce6e-4647-b669-514e20cc4c06",
   "metadata": {},
   "outputs": [],
   "source": []
  }
 ],
 "metadata": {
  "kernelspec": {
   "display_name": "Python 3 (ipykernel)",
   "language": "python",
   "name": "python3"
  },
  "language_info": {
   "codemirror_mode": {
    "name": "ipython",
    "version": 3
   },
   "file_extension": ".py",
   "mimetype": "text/x-python",
   "name": "python",
   "nbconvert_exporter": "python",
   "pygments_lexer": "ipython3",
   "version": "3.11.5"
  }
 },
 "nbformat": 4,
 "nbformat_minor": 5
}
