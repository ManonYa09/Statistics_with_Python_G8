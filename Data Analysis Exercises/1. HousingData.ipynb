{
 "cells": [
  {
   "cell_type": "code",
   "execution_count": 25,
   "id": "6dabbad3",
   "metadata": {},
   "outputs": [],
   "source": [
    "import pandas as pd\n",
    "import numpy as np"
   ]
  },
  {
   "cell_type": "markdown",
   "id": "6d7333a3",
   "metadata": {},
   "source": [
    "1. Display the top 5 rows of the dataset where the index is divisible by 7.\n",
    "2. Check the last row where the index is divisible by 8 in the dataset.\n",
    "3. Exercises\n",
    "\n",
    "    a. Check Datatype of Each Column\n",
    "    \n",
    "    b. How many rows and columns are there in our Dataset?\n",
    "4. Missing values\n",
    "    - Which columns in the dataset contain missing values, and how many missing values are in each?\n",
    "    - What is the percentage of missing values in each column?\n",
    "    - Please remove the missing values.\n",
    "    - After removing the rows with missing values, save the cleaned dataset as 'final_data.csv' for providing to stakeholders.\n",
    "5. Exericses \n",
    "\n",
    "    a. Total Homes Sold by Region(by State): Group the data by region_name and calculate the total number of homes sold in each region.\n",
    "\n",
    "    b. Average Inventory by Region(by State): Group the data by region_name and calculate the average inventory for each region.\n",
    "\n",
    "    c. Median Active List Price by Region(by State): Group the data by region_name and find the median active list price for each region.\n",
    "\n",
    "\td.\tAverage Age of Inventory by Region ( By County): Group the data by region_name and calculate the average age of inventory for each region.\n",
    "    \n",
    "\te.\tTotal Active Listings by Region (State): Group the data by region_name and calculate the total number of active listings for each region.\n",
    "    e. Calculate the highest, lowest, and average values in the column 'median_active_list_price'.\n",
    "\n",
    "6. Show the top 6 highest values in the 'median_active_list_price' column.\n",
    "8. How many counties  are provided in `California (CA)` in the dataset?\n",
    "9. How many regions are provided for specific states like Virginia (VA), Tennessee (TN), District of Columbia (DC), California (CA), etc.?"
   ]
  },
  {
   "cell_type": "markdown",
   "id": "14d38fb3",
   "metadata": {},
   "source": []
  }
 ],
 "metadata": {
  "kernelspec": {
   "display_name": "Python 3 (ipykernel)",
   "language": "python",
   "name": "python3"
  },
  "language_info": {
   "codemirror_mode": {
    "name": "ipython",
    "version": 3
   },
   "file_extension": ".py",
   "mimetype": "text/x-python",
   "name": "python",
   "nbconvert_exporter": "python",
   "pygments_lexer": "ipython3",
   "version": "3.11.5"
  }
 },
 "nbformat": 4,
 "nbformat_minor": 5
}
