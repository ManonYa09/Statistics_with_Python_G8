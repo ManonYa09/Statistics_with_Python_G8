{
 "cells": [
  {
   "cell_type": "markdown",
   "id": "43675ea9",
   "metadata": {},
   "source": [
    "- `Address`: Physical address of the customer\n",
    "- `Lot`: A lot code associated with the purchase\n",
    "- `AM or PM`: Time of day of the purchase\n",
    "- `Browser Info`: Information about the browser used to make the purchase\n",
    "- `Company`: Name of the company associated with the email address\n",
    "- `Credit Card`: Credit card number used for the purchase\n",
    "- `CC Exp Date`: Expiry date of the credit card\n",
    "- `CC Security Code`: Security code of the credit card\n",
    "- `CC Provider`: Provider of the credit card\n",
    "- `Email`: Email address of the customer\n",
    "- `Job`: Occupation of the customer\n",
    "- `IP Address`: IP address from where the purchase was made\n",
    "- `Language`: Language preference of the customer\n",
    "- `Purchase Price`: Amount of the purchase"
   ]
  },
  {
   "cell_type": "code",
   "execution_count": 2,
   "id": "7b6d2c86-7156-40cd-ba8d-8dc5201d1c90",
   "metadata": {},
   "outputs": [],
   "source": [
    "import pandas as pd ###\n",
    "# import numpy as np\n",
    "# import matplotlib.pyplot as plt\n",
    "# import seaborn as sns"
   ]
  },
  {
   "cell_type": "code",
   "execution_count": 4,
   "id": "70cda9e0",
   "metadata": {
    "tags": []
   },
   "outputs": [],
   "source": [
    "df = pd.read_csv('https://raw.githubusercontent.com/ManonYa09/Data_analysis_with_pandas/main/Data/Ecommerce%20Purchases.csv')"
   ]
  },
  {
   "cell_type": "code",
   "execution_count": 12,
   "id": "7c224b56-e5e8-45c2-8200-553784114432",
   "metadata": {},
   "outputs": [
    {
     "data": {
      "text/plain": [
       "(10000, 14)"
      ]
     },
     "execution_count": 12,
     "metadata": {},
     "output_type": "execute_result"
    }
   ],
   "source": [
    "df.shape"
   ]
  },
  {
   "cell_type": "code",
   "execution_count": 8,
   "id": "423e4967-735e-4579-9e45-92cd7cf4e7d0",
   "metadata": {},
   "outputs": [
    {
     "data": {
      "text/html": [
       "<div>\n",
       "<style scoped>\n",
       "    .dataframe tbody tr th:only-of-type {\n",
       "        vertical-align: middle;\n",
       "    }\n",
       "\n",
       "    .dataframe tbody tr th {\n",
       "        vertical-align: top;\n",
       "    }\n",
       "\n",
       "    .dataframe thead th {\n",
       "        text-align: right;\n",
       "    }\n",
       "</style>\n",
       "<table border=\"1\" class=\"dataframe\">\n",
       "  <thead>\n",
       "    <tr style=\"text-align: right;\">\n",
       "      <th></th>\n",
       "      <th>Address</th>\n",
       "      <th>Lot</th>\n",
       "      <th>AM or PM</th>\n",
       "      <th>Browser Info</th>\n",
       "      <th>Company</th>\n",
       "      <th>Credit Card</th>\n",
       "      <th>CC Exp Date</th>\n",
       "      <th>CC Security Code</th>\n",
       "      <th>CC Provider</th>\n",
       "      <th>Email</th>\n",
       "      <th>Job</th>\n",
       "      <th>IP Address</th>\n",
       "      <th>Language</th>\n",
       "      <th>Purchase Price</th>\n",
       "    </tr>\n",
       "  </thead>\n",
       "  <tbody>\n",
       "    <tr>\n",
       "      <th>0</th>\n",
       "      <td>16629 Pace Camp Apt. 448\\nAlexisborough, NE 77...</td>\n",
       "      <td>46 in</td>\n",
       "      <td>PM</td>\n",
       "      <td>Opera/9.56.(X11; Linux x86_64; sl-SI) Presto/2...</td>\n",
       "      <td>Martinez-Herman</td>\n",
       "      <td>6011929061123406</td>\n",
       "      <td>02/20</td>\n",
       "      <td>900</td>\n",
       "      <td>JCB 16 digit</td>\n",
       "      <td>pdunlap@yahoo.com</td>\n",
       "      <td>Scientist, product/process development</td>\n",
       "      <td>149.146.147.205</td>\n",
       "      <td>el</td>\n",
       "      <td>98.14</td>\n",
       "    </tr>\n",
       "    <tr>\n",
       "      <th>1</th>\n",
       "      <td>9374 Jasmine Spurs Suite 508\\nSouth John, TN 8...</td>\n",
       "      <td>28 rn</td>\n",
       "      <td>PM</td>\n",
       "      <td>Opera/8.93.(Windows 98; Win 9x 4.90; en-US) Pr...</td>\n",
       "      <td>Fletcher, Richards and Whitaker</td>\n",
       "      <td>3337758169645356</td>\n",
       "      <td>11/18</td>\n",
       "      <td>561</td>\n",
       "      <td>Mastercard</td>\n",
       "      <td>anthony41@reed.com</td>\n",
       "      <td>Drilling engineer</td>\n",
       "      <td>15.160.41.51</td>\n",
       "      <td>fr</td>\n",
       "      <td>70.73</td>\n",
       "    </tr>\n",
       "    <tr>\n",
       "      <th>2</th>\n",
       "      <td>Unit 0065 Box 5052\\nDPO AP 27450</td>\n",
       "      <td>94 vE</td>\n",
       "      <td>PM</td>\n",
       "      <td>Mozilla/5.0 (compatible; MSIE 9.0; Windows NT ...</td>\n",
       "      <td>Simpson, Williams and Pham</td>\n",
       "      <td>675957666125</td>\n",
       "      <td>08/19</td>\n",
       "      <td>699</td>\n",
       "      <td>JCB 16 digit</td>\n",
       "      <td>amymiller@morales-harrison.com</td>\n",
       "      <td>Customer service manager</td>\n",
       "      <td>132.207.160.22</td>\n",
       "      <td>de</td>\n",
       "      <td>0.95</td>\n",
       "    </tr>\n",
       "    <tr>\n",
       "      <th>3</th>\n",
       "      <td>7780 Julia Fords\\nNew Stacy, WA 45798</td>\n",
       "      <td>36 vm</td>\n",
       "      <td>PM</td>\n",
       "      <td>Mozilla/5.0 (Macintosh; Intel Mac OS X 10_8_0 ...</td>\n",
       "      <td>Williams, Marshall and Buchanan</td>\n",
       "      <td>6011578504430710</td>\n",
       "      <td>02/24</td>\n",
       "      <td>384</td>\n",
       "      <td>Discover</td>\n",
       "      <td>brent16@olson-robinson.info</td>\n",
       "      <td>Drilling engineer</td>\n",
       "      <td>30.250.74.19</td>\n",
       "      <td>es</td>\n",
       "      <td>78.04</td>\n",
       "    </tr>\n",
       "    <tr>\n",
       "      <th>4</th>\n",
       "      <td>23012 Munoz Drive Suite 337\\nNew Cynthia, TX 5...</td>\n",
       "      <td>20 IE</td>\n",
       "      <td>AM</td>\n",
       "      <td>Opera/9.58.(X11; Linux x86_64; it-IT) Presto/2...</td>\n",
       "      <td>Brown, Watson and Andrews</td>\n",
       "      <td>6011456623207998</td>\n",
       "      <td>10/25</td>\n",
       "      <td>678</td>\n",
       "      <td>Diners Club / Carte Blanche</td>\n",
       "      <td>christopherwright@gmail.com</td>\n",
       "      <td>Fine artist</td>\n",
       "      <td>24.140.33.94</td>\n",
       "      <td>es</td>\n",
       "      <td>77.82</td>\n",
       "    </tr>\n",
       "  </tbody>\n",
       "</table>\n",
       "</div>"
      ],
      "text/plain": [
       "                                             Address    Lot AM or PM  \\\n",
       "0  16629 Pace Camp Apt. 448\\nAlexisborough, NE 77...  46 in       PM   \n",
       "1  9374 Jasmine Spurs Suite 508\\nSouth John, TN 8...  28 rn       PM   \n",
       "2                   Unit 0065 Box 5052\\nDPO AP 27450  94 vE       PM   \n",
       "3              7780 Julia Fords\\nNew Stacy, WA 45798  36 vm       PM   \n",
       "4  23012 Munoz Drive Suite 337\\nNew Cynthia, TX 5...  20 IE       AM   \n",
       "\n",
       "                                        Browser Info  \\\n",
       "0  Opera/9.56.(X11; Linux x86_64; sl-SI) Presto/2...   \n",
       "1  Opera/8.93.(Windows 98; Win 9x 4.90; en-US) Pr...   \n",
       "2  Mozilla/5.0 (compatible; MSIE 9.0; Windows NT ...   \n",
       "3  Mozilla/5.0 (Macintosh; Intel Mac OS X 10_8_0 ...   \n",
       "4  Opera/9.58.(X11; Linux x86_64; it-IT) Presto/2...   \n",
       "\n",
       "                           Company       Credit Card CC Exp Date  \\\n",
       "0                  Martinez-Herman  6011929061123406       02/20   \n",
       "1  Fletcher, Richards and Whitaker  3337758169645356       11/18   \n",
       "2       Simpson, Williams and Pham      675957666125       08/19   \n",
       "3  Williams, Marshall and Buchanan  6011578504430710       02/24   \n",
       "4        Brown, Watson and Andrews  6011456623207998       10/25   \n",
       "\n",
       "   CC Security Code                  CC Provider  \\\n",
       "0               900                 JCB 16 digit   \n",
       "1               561                   Mastercard   \n",
       "2               699                 JCB 16 digit   \n",
       "3               384                     Discover   \n",
       "4               678  Diners Club / Carte Blanche   \n",
       "\n",
       "                            Email                                     Job  \\\n",
       "0               pdunlap@yahoo.com  Scientist, product/process development   \n",
       "1              anthony41@reed.com                       Drilling engineer   \n",
       "2  amymiller@morales-harrison.com                Customer service manager   \n",
       "3     brent16@olson-robinson.info                       Drilling engineer   \n",
       "4     christopherwright@gmail.com                             Fine artist   \n",
       "\n",
       "        IP Address Language  Purchase Price  \n",
       "0  149.146.147.205       el           98.14  \n",
       "1     15.160.41.51       fr           70.73  \n",
       "2   132.207.160.22       de            0.95  \n",
       "3     30.250.74.19       es           78.04  \n",
       "4     24.140.33.94       es           77.82  "
      ]
     },
     "execution_count": 8,
     "metadata": {},
     "output_type": "execute_result"
    }
   ],
   "source": [
    "df.head()"
   ]
  },
  {
   "cell_type": "code",
   "execution_count": null,
   "id": "af341d07-bf34-4cd7-9765-173fd70898c9",
   "metadata": {},
   "outputs": [],
   "source": [
    " start:stop: step "
   ]
  },
  {
   "cell_type": "code",
   "execution_count": 18,
   "id": "f7cddfae-e680-423f-947d-3d39ad7d937a",
   "metadata": {},
   "outputs": [
    {
     "data": {
      "text/html": [
       "<div>\n",
       "<style scoped>\n",
       "    .dataframe tbody tr th:only-of-type {\n",
       "        vertical-align: middle;\n",
       "    }\n",
       "\n",
       "    .dataframe tbody tr th {\n",
       "        vertical-align: top;\n",
       "    }\n",
       "\n",
       "    .dataframe thead th {\n",
       "        text-align: right;\n",
       "    }\n",
       "</style>\n",
       "<table border=\"1\" class=\"dataframe\">\n",
       "  <thead>\n",
       "    <tr style=\"text-align: right;\">\n",
       "      <th></th>\n",
       "      <th>Address</th>\n",
       "      <th>Lot</th>\n",
       "      <th>AM or PM</th>\n",
       "      <th>Browser Info</th>\n",
       "      <th>Company</th>\n",
       "      <th>Credit Card</th>\n",
       "      <th>CC Exp Date</th>\n",
       "      <th>CC Security Code</th>\n",
       "      <th>CC Provider</th>\n",
       "      <th>Email</th>\n",
       "      <th>Job</th>\n",
       "      <th>IP Address</th>\n",
       "      <th>Language</th>\n",
       "      <th>Purchase Price</th>\n",
       "    </tr>\n",
       "  </thead>\n",
       "  <tbody>\n",
       "    <tr>\n",
       "      <th>0</th>\n",
       "      <td>16629 Pace Camp Apt. 448\\nAlexisborough, NE 77...</td>\n",
       "      <td>46 in</td>\n",
       "      <td>PM</td>\n",
       "      <td>Opera/9.56.(X11; Linux x86_64; sl-SI) Presto/2...</td>\n",
       "      <td>Martinez-Herman</td>\n",
       "      <td>6011929061123406</td>\n",
       "      <td>02/20</td>\n",
       "      <td>900</td>\n",
       "      <td>JCB 16 digit</td>\n",
       "      <td>pdunlap@yahoo.com</td>\n",
       "      <td>Scientist, product/process development</td>\n",
       "      <td>149.146.147.205</td>\n",
       "      <td>el</td>\n",
       "      <td>98.14</td>\n",
       "    </tr>\n",
       "    <tr>\n",
       "      <th>100</th>\n",
       "      <td>9980 Ramirez Grove\\nSmithview, AZ 13342-4996</td>\n",
       "      <td>34 bB</td>\n",
       "      <td>AM</td>\n",
       "      <td>Opera/9.42.(X11; Linux x86_64; en-US) Presto/2...</td>\n",
       "      <td>Guerrero, Benson and Johnson</td>\n",
       "      <td>4156259661649</td>\n",
       "      <td>11/24</td>\n",
       "      <td>289</td>\n",
       "      <td>Maestro</td>\n",
       "      <td>gregoryjohnson@cochran.com</td>\n",
       "      <td>Higher education careers adviser</td>\n",
       "      <td>58.191.1.216</td>\n",
       "      <td>el</td>\n",
       "      <td>4.36</td>\n",
       "    </tr>\n",
       "    <tr>\n",
       "      <th>200</th>\n",
       "      <td>USCGC Grant\\nFPO AA 10424</td>\n",
       "      <td>97 qN</td>\n",
       "      <td>PM</td>\n",
       "      <td>Mozilla/5.0 (X11; Linux i686; rv:1.9.6.20) Gec...</td>\n",
       "      <td>Barrett LLC</td>\n",
       "      <td>3096521249347703</td>\n",
       "      <td>10/21</td>\n",
       "      <td>155</td>\n",
       "      <td>Voyager</td>\n",
       "      <td>danielsmith@delacruz.biz</td>\n",
       "      <td>Water engineer</td>\n",
       "      <td>132.254.220.76</td>\n",
       "      <td>ru</td>\n",
       "      <td>22.37</td>\n",
       "    </tr>\n",
       "    <tr>\n",
       "      <th>300</th>\n",
       "      <td>6000 Reynolds Keys\\nSmithfort, NH 46320-4004</td>\n",
       "      <td>35 lD</td>\n",
       "      <td>PM</td>\n",
       "      <td>Opera/9.16.(X11; Linux x86_64; sl-SI) Presto/2...</td>\n",
       "      <td>Steele and Sons</td>\n",
       "      <td>6011991945340952</td>\n",
       "      <td>03/19</td>\n",
       "      <td>174</td>\n",
       "      <td>Maestro</td>\n",
       "      <td>smithlaura@yahoo.com</td>\n",
       "      <td>Financial planner</td>\n",
       "      <td>121.97.93.36</td>\n",
       "      <td>el</td>\n",
       "      <td>2.91</td>\n",
       "    </tr>\n",
       "    <tr>\n",
       "      <th>400</th>\n",
       "      <td>96074 Brett Fields\\nWest Ryanfort, IN 51264</td>\n",
       "      <td>77 hM</td>\n",
       "      <td>AM</td>\n",
       "      <td>Opera/8.95.(Windows 98; sl-SI) Presto/2.9.161 ...</td>\n",
       "      <td>James, Williams and Spears</td>\n",
       "      <td>676216805231</td>\n",
       "      <td>06/21</td>\n",
       "      <td>232</td>\n",
       "      <td>JCB 16 digit</td>\n",
       "      <td>kristyjones@yahoo.com</td>\n",
       "      <td>Print production planner</td>\n",
       "      <td>25.182.48.66</td>\n",
       "      <td>it</td>\n",
       "      <td>57.66</td>\n",
       "    </tr>\n",
       "  </tbody>\n",
       "</table>\n",
       "</div>"
      ],
      "text/plain": [
       "                                               Address    Lot AM or PM  \\\n",
       "0    16629 Pace Camp Apt. 448\\nAlexisborough, NE 77...  46 in       PM   \n",
       "100       9980 Ramirez Grove\\nSmithview, AZ 13342-4996  34 bB       AM   \n",
       "200                          USCGC Grant\\nFPO AA 10424  97 qN       PM   \n",
       "300       6000 Reynolds Keys\\nSmithfort, NH 46320-4004  35 lD       PM   \n",
       "400        96074 Brett Fields\\nWest Ryanfort, IN 51264  77 hM       AM   \n",
       "\n",
       "                                          Browser Info  \\\n",
       "0    Opera/9.56.(X11; Linux x86_64; sl-SI) Presto/2...   \n",
       "100  Opera/9.42.(X11; Linux x86_64; en-US) Presto/2...   \n",
       "200  Mozilla/5.0 (X11; Linux i686; rv:1.9.6.20) Gec...   \n",
       "300  Opera/9.16.(X11; Linux x86_64; sl-SI) Presto/2...   \n",
       "400  Opera/8.95.(Windows 98; sl-SI) Presto/2.9.161 ...   \n",
       "\n",
       "                          Company       Credit Card CC Exp Date  \\\n",
       "0                 Martinez-Herman  6011929061123406       02/20   \n",
       "100  Guerrero, Benson and Johnson     4156259661649       11/24   \n",
       "200                   Barrett LLC  3096521249347703       10/21   \n",
       "300               Steele and Sons  6011991945340952       03/19   \n",
       "400    James, Williams and Spears      676216805231       06/21   \n",
       "\n",
       "     CC Security Code   CC Provider                       Email  \\\n",
       "0                 900  JCB 16 digit           pdunlap@yahoo.com   \n",
       "100               289       Maestro  gregoryjohnson@cochran.com   \n",
       "200               155       Voyager    danielsmith@delacruz.biz   \n",
       "300               174       Maestro        smithlaura@yahoo.com   \n",
       "400               232  JCB 16 digit       kristyjones@yahoo.com   \n",
       "\n",
       "                                        Job       IP Address Language  \\\n",
       "0    Scientist, product/process development  149.146.147.205       el   \n",
       "100        Higher education careers adviser     58.191.1.216       el   \n",
       "200                          Water engineer   132.254.220.76       ru   \n",
       "300                       Financial planner     121.97.93.36       el   \n",
       "400                Print production planner     25.182.48.66       it   \n",
       "\n",
       "     Purchase Price  \n",
       "0             98.14  \n",
       "100            4.36  \n",
       "200           22.37  \n",
       "300            2.91  \n",
       "400           57.66  "
      ]
     },
     "execution_count": 18,
     "metadata": {},
     "output_type": "execute_result"
    }
   ],
   "source": [
    "df.iloc[::100].head()"
   ]
  },
  {
   "cell_type": "code",
   "execution_count": 30,
   "id": "c24fbcd7-1a83-4e07-8202-1569be9f8c69",
   "metadata": {},
   "outputs": [],
   "source": [
    "df.dtypes"
   ]
  },
  {
   "cell_type": "code",
   "execution_count": 24,
   "id": "db42078b-764f-4c4c-b99c-558af32dc2b8",
   "metadata": {},
   "outputs": [],
   "source": [
    "num_rows, number_columns = df.shape"
   ]
  },
  {
   "cell_type": "code",
   "execution_count": 26,
   "id": "f34646aa-58a6-4a1a-b8dd-9c69a1fd3734",
   "metadata": {},
   "outputs": [
    {
     "data": {
      "text/plain": [
       "10000"
      ]
     },
     "execution_count": 26,
     "metadata": {},
     "output_type": "execute_result"
    }
   ],
   "source": [
    "num_rows"
   ]
  },
  {
   "cell_type": "code",
   "execution_count": 28,
   "id": "e90842cf-552d-47fe-9ef0-185904fb6122",
   "metadata": {},
   "outputs": [
    {
     "data": {
      "text/plain": [
       "14"
      ]
     },
     "execution_count": 28,
     "metadata": {},
     "output_type": "execute_result"
    }
   ],
   "source": [
    "number_columns"
   ]
  },
  {
   "cell_type": "markdown",
   "id": "05c5bef0-d03a-4fe7-a1f1-1a5db9f1232c",
   "metadata": {},
   "source": [
    "2. How many people have French 'fr' as their Language?\n",
    "3. How many purchases did each user (based on the email) make?\n",
    "4. What is the average purchase price for each job category?\n",
    "5. Calculate the total revenue per credit card provider.\n",
    "6. What is the median purchase price for transactions made in AM versus PM?"
   ]
  },
  {
   "cell_type": "code",
   "execution_count": 35,
   "id": "52af5cf2-144a-4707-b2ab-a76c91893887",
   "metadata": {},
   "outputs": [
    {
     "data": {
      "text/plain": [
       "Language\n",
       "de    1155\n",
       "ru    1155\n",
       "el    1137\n",
       "pt    1118\n",
       "en    1098\n",
       "fr    1097\n",
       "es    1095\n",
       "it    1086\n",
       "zh    1059\n",
       "Name: count, dtype: int64"
      ]
     },
     "execution_count": 35,
     "metadata": {},
     "output_type": "execute_result"
    }
   ],
   "source": [
    "df['Language'].value_counts()"
   ]
  },
  {
   "cell_type": "code",
   "execution_count": 45,
   "id": "5710a667-2f75-412d-b818-96a1c959d4c1",
   "metadata": {},
   "outputs": [
    {
     "data": {
      "text/plain": [
       "10000"
      ]
     },
     "execution_count": 45,
     "metadata": {},
     "output_type": "execute_result"
    }
   ],
   "source": [
    "df.shape[0]"
   ]
  },
  {
   "cell_type": "code",
   "execution_count": 59,
   "id": "54464b15-2ce8-4227-ba3c-4ee543e1475d",
   "metadata": {},
   "outputs": [],
   "source": [
    "# df.head()"
   ]
  },
  {
   "cell_type": "code",
   "execution_count": 57,
   "id": "4305a952-a89b-4b3c-9383-c189ec5367cb",
   "metadata": {},
   "outputs": [],
   "source": [
    "# df.drop(columns='Lot')"
   ]
  },
  {
   "cell_type": "code",
   "execution_count": 41,
   "id": "578d4d11-dc86-4f95-b1e3-312bf4d91d51",
   "metadata": {},
   "outputs": [
    {
     "data": {
      "text/plain": [
       "1097"
      ]
     },
     "execution_count": 41,
     "metadata": {},
     "output_type": "execute_result"
    }
   ],
   "source": [
    "df[df['Language'] == 'fr'].shape[0]"
   ]
  },
  {
   "cell_type": "code",
   "execution_count": null,
   "id": "19528349-d27c-4353-bba5-ff3d7bfc897d",
   "metadata": {},
   "outputs": [],
   "source": [
    "3. How many purchases did each user (based on the email) make?\n",
    "4. What is the average purchase price for each job category?"
   ]
  },
  {
   "cell_type": "code",
   "execution_count": 69,
   "id": "6e4f84e7-61e9-4ede-a087-74d5d14a600a",
   "metadata": {},
   "outputs": [],
   "source": [
    "purchase_each_user = df['Email'].value_counts().reset_index()"
   ]
  },
  {
   "cell_type": "code",
   "execution_count": null,
   "id": "23613913-fadd-4cbb-9a2d-cf78e4c56980",
   "metadata": {},
   "outputs": [],
   "source": []
  },
  {
   "cell_type": "code",
   "execution_count": 85,
   "id": "127162b0-f3f5-49ae-a8cb-740d77b5cab3",
   "metadata": {},
   "outputs": [],
   "source": [
    "purchase_each_user[purchase_each_user['count']==2].to_csv('tesintg_export.csv',index=False)"
   ]
  },
  {
   "cell_type": "code",
   "execution_count": 83,
   "id": "28496fed-8eb8-452e-a1c9-f56dd1616dcb",
   "metadata": {},
   "outputs": [
    {
     "data": {
      "text/plain": [
       "Email\n",
       "aabbott@hotmail.com           1\n",
       "aacosta@maddox-mann.info      1\n",
       "aallen@yahoo.com              1\n",
       "aalvarez@yahoo.com            1\n",
       "aandersen@gmail.com           1\n",
       "                             ..\n",
       "zwhite@nichols-willis.com     1\n",
       "zwilson@yahoo.com             1\n",
       "zwright@suarez.biz            1\n",
       "zyork@fischer-harrison.com    1\n",
       "zyoung@yahoo.com              1\n",
       "Length: 9954, dtype: int64"
      ]
     },
     "execution_count": 83,
     "metadata": {},
     "output_type": "execute_result"
    }
   ],
   "source": [
    "df.groupby(df['Email']).size()"
   ]
  },
  {
   "cell_type": "code",
   "execution_count": 89,
   "id": "9272ac7a-63e0-496c-99e3-0eaa0d2e1888",
   "metadata": {},
   "outputs": [
    {
     "data": {
      "text/plain": [
       "Index(['Address', 'Lot', 'AM or PM', 'Browser Info', 'Company', 'Credit Card',\n",
       "       'CC Exp Date', 'CC Security Code', 'CC Provider', 'Email', 'Job',\n",
       "       'IP Address', 'Language', 'Purchase Price'],\n",
       "      dtype='object')"
      ]
     },
     "execution_count": 89,
     "metadata": {},
     "output_type": "execute_result"
    }
   ],
   "source": [
    "df.columns"
   ]
  },
  {
   "cell_type": "code",
   "execution_count": 95,
   "id": "6db96063-a3aa-4b49-8b41-58242f421936",
   "metadata": {},
   "outputs": [
    {
     "data": {
      "text/plain": [
       "mean        50.347302\n",
       "sum     503473.020000\n",
       "Name: Purchase Price, dtype: float64"
      ]
     },
     "execution_count": 95,
     "metadata": {},
     "output_type": "execute_result"
    }
   ],
   "source": [
    "df['Purchase Price'].agg(['mean', 'sum'])"
   ]
  },
  {
   "cell_type": "code",
   "execution_count": null,
   "id": "a423f74e-efaf-46c7-abd2-29007b6b2998",
   "metadata": {},
   "outputs": [],
   "source": [
    "median"
   ]
  },
  {
   "cell_type": "code",
   "execution_count": 99,
   "id": "689610de-d558-48aa-b6bf-48b2ad6de184",
   "metadata": {},
   "outputs": [
    {
     "data": {
      "text/html": [
       "<div>\n",
       "<style scoped>\n",
       "    .dataframe tbody tr th:only-of-type {\n",
       "        vertical-align: middle;\n",
       "    }\n",
       "\n",
       "    .dataframe tbody tr th {\n",
       "        vertical-align: top;\n",
       "    }\n",
       "\n",
       "    .dataframe thead th {\n",
       "        text-align: right;\n",
       "    }\n",
       "</style>\n",
       "<table border=\"1\" class=\"dataframe\">\n",
       "  <thead>\n",
       "    <tr style=\"text-align: right;\">\n",
       "      <th></th>\n",
       "      <th>sum</th>\n",
       "      <th>min</th>\n",
       "      <th>mean</th>\n",
       "      <th>max</th>\n",
       "      <th>std</th>\n",
       "      <th>var</th>\n",
       "    </tr>\n",
       "    <tr>\n",
       "      <th>CC Provider</th>\n",
       "      <th></th>\n",
       "      <th></th>\n",
       "      <th></th>\n",
       "      <th></th>\n",
       "      <th></th>\n",
       "      <th></th>\n",
       "    </tr>\n",
       "  </thead>\n",
       "  <tbody>\n",
       "    <tr>\n",
       "      <th>American Express</th>\n",
       "      <td>42865.52</td>\n",
       "      <td>0.07</td>\n",
       "      <td>50.489423</td>\n",
       "      <td>99.97</td>\n",
       "      <td>28.781365</td>\n",
       "      <td>828.366971</td>\n",
       "    </tr>\n",
       "    <tr>\n",
       "      <th>Diners Club / Carte Blanche</th>\n",
       "      <td>37378.39</td>\n",
       "      <td>0.04</td>\n",
       "      <td>48.733233</td>\n",
       "      <td>99.90</td>\n",
       "      <td>29.761256</td>\n",
       "      <td>885.732361</td>\n",
       "    </tr>\n",
       "    <tr>\n",
       "      <th>Discover</th>\n",
       "      <td>42208.13</td>\n",
       "      <td>0.00</td>\n",
       "      <td>51.662338</td>\n",
       "      <td>99.88</td>\n",
       "      <td>28.329986</td>\n",
       "      <td>802.588114</td>\n",
       "    </tr>\n",
       "    <tr>\n",
       "      <th>JCB 15 digit</th>\n",
       "      <td>44376.60</td>\n",
       "      <td>0.20</td>\n",
       "      <td>51.125115</td>\n",
       "      <td>99.95</td>\n",
       "      <td>28.622726</td>\n",
       "      <td>819.260464</td>\n",
       "    </tr>\n",
       "    <tr>\n",
       "      <th>JCB 16 digit</th>\n",
       "      <td>84597.33</td>\n",
       "      <td>0.19</td>\n",
       "      <td>49.299143</td>\n",
       "      <td>99.91</td>\n",
       "      <td>29.224583</td>\n",
       "      <td>854.076273</td>\n",
       "    </tr>\n",
       "    <tr>\n",
       "      <th>Maestro</th>\n",
       "      <td>42620.78</td>\n",
       "      <td>0.16</td>\n",
       "      <td>50.379173</td>\n",
       "      <td>99.99</td>\n",
       "      <td>28.695285</td>\n",
       "      <td>823.419393</td>\n",
       "    </tr>\n",
       "    <tr>\n",
       "      <th>Mastercard</th>\n",
       "      <td>40835.10</td>\n",
       "      <td>0.02</td>\n",
       "      <td>50.043015</td>\n",
       "      <td>99.93</td>\n",
       "      <td>29.229389</td>\n",
       "      <td>854.357182</td>\n",
       "    </tr>\n",
       "    <tr>\n",
       "      <th>VISA 13 digit</th>\n",
       "      <td>39976.54</td>\n",
       "      <td>0.14</td>\n",
       "      <td>51.449858</td>\n",
       "      <td>99.75</td>\n",
       "      <td>28.983740</td>\n",
       "      <td>840.057177</td>\n",
       "    </tr>\n",
       "    <tr>\n",
       "      <th>VISA 16 digit</th>\n",
       "      <td>85528.86</td>\n",
       "      <td>0.00</td>\n",
       "      <td>49.871055</td>\n",
       "      <td>99.99</td>\n",
       "      <td>28.904902</td>\n",
       "      <td>835.493383</td>\n",
       "    </tr>\n",
       "    <tr>\n",
       "      <th>Voyager</th>\n",
       "      <td>43085.77</td>\n",
       "      <td>0.03</td>\n",
       "      <td>51.973185</td>\n",
       "      <td>99.92</td>\n",
       "      <td>29.529675</td>\n",
       "      <td>872.001720</td>\n",
       "    </tr>\n",
       "  </tbody>\n",
       "</table>\n",
       "</div>"
      ],
      "text/plain": [
       "                                  sum   min       mean    max        std  \\\n",
       "CC Provider                                                                \n",
       "American Express             42865.52  0.07  50.489423  99.97  28.781365   \n",
       "Diners Club / Carte Blanche  37378.39  0.04  48.733233  99.90  29.761256   \n",
       "Discover                     42208.13  0.00  51.662338  99.88  28.329986   \n",
       "JCB 15 digit                 44376.60  0.20  51.125115  99.95  28.622726   \n",
       "JCB 16 digit                 84597.33  0.19  49.299143  99.91  29.224583   \n",
       "Maestro                      42620.78  0.16  50.379173  99.99  28.695285   \n",
       "Mastercard                   40835.10  0.02  50.043015  99.93  29.229389   \n",
       "VISA 13 digit                39976.54  0.14  51.449858  99.75  28.983740   \n",
       "VISA 16 digit                85528.86  0.00  49.871055  99.99  28.904902   \n",
       "Voyager                      43085.77  0.03  51.973185  99.92  29.529675   \n",
       "\n",
       "                                    var  \n",
       "CC Provider                              \n",
       "American Express             828.366971  \n",
       "Diners Club / Carte Blanche  885.732361  \n",
       "Discover                     802.588114  \n",
       "JCB 15 digit                 819.260464  \n",
       "JCB 16 digit                 854.076273  \n",
       "Maestro                      823.419393  \n",
       "Mastercard                   854.357182  \n",
       "VISA 13 digit                840.057177  \n",
       "VISA 16 digit                835.493383  \n",
       "Voyager                      872.001720  "
      ]
     },
     "execution_count": 99,
     "metadata": {},
     "output_type": "execute_result"
    }
   ],
   "source": [
    "df.groupby(df['CC Provider'])['Purchase Price'].agg(['sum', 'min','mean','max', 'std', 'var'])"
   ]
  },
  {
   "cell_type": "code",
   "execution_count": 104,
   "id": "c1e493db-5cdc-4bf3-87d7-67c72109f42b",
   "metadata": {},
   "outputs": [
    {
     "data": {
      "text/html": [
       "<div>\n",
       "<style scoped>\n",
       "    .dataframe tbody tr th:only-of-type {\n",
       "        vertical-align: middle;\n",
       "    }\n",
       "\n",
       "    .dataframe tbody tr th {\n",
       "        vertical-align: top;\n",
       "    }\n",
       "\n",
       "    .dataframe thead th {\n",
       "        text-align: right;\n",
       "    }\n",
       "</style>\n",
       "<table border=\"1\" class=\"dataframe\">\n",
       "  <thead>\n",
       "    <tr style=\"text-align: right;\">\n",
       "      <th></th>\n",
       "      <th>Purchase Price</th>\n",
       "    </tr>\n",
       "    <tr>\n",
       "      <th>AM or PM</th>\n",
       "      <th></th>\n",
       "    </tr>\n",
       "  </thead>\n",
       "  <tbody>\n",
       "    <tr>\n",
       "      <th>AM</th>\n",
       "      <td>50.01</td>\n",
       "    </tr>\n",
       "    <tr>\n",
       "      <th>PM</th>\n",
       "      <td>51.04</td>\n",
       "    </tr>\n",
       "  </tbody>\n",
       "</table>\n",
       "</div>"
      ],
      "text/plain": [
       "          Purchase Price\n",
       "AM or PM                \n",
       "AM                 50.01\n",
       "PM                 51.04"
      ]
     },
     "execution_count": 104,
     "metadata": {},
     "output_type": "execute_result"
    }
   ],
   "source": [
    "df.groupby(df['AM or PM'])[['Purchase Price']].median()"
   ]
  },
  {
   "cell_type": "markdown",
   "id": "81a789ea-71e8-4b7e-9e9d-3f1d826e2c11",
   "metadata": {},
   "source": [
    "4. What is the average purchase price for each job category?\n",
    "5. Calculate the total purchase price per credit card provider.\n",
    "6. What is the median purchase price for transactions made in AM versus PM?\n",
    "7. Find the maximum and minimum purchase amounts by browser language"
   ]
  },
  {
   "cell_type": "code",
   "execution_count": 108,
   "id": "7d9c83d6-064b-409e-ae3e-8004bbbe2605",
   "metadata": {},
   "outputs": [],
   "source": [
    "df.groupby(df['Language'])['Purchase Price'].agg(['min', 'max'])"
   ]
  },
  {
   "cell_type": "markdown",
   "id": "27b71077-b644-4193-9f98-e9c49053bfcf",
   "metadata": {},
   "source": [
    "8. \n",
    "\n",
    "    a. How many unique companies are associated with purchases over $50?\n",
    "    b. Average purchase price for each IP address\n",
    "    c. Calculate the total Purchae Price per lot code.\n",
    "    d. Who are the top 10 users by number of purchases?"
   ]
  },
  {
   "cell_type": "code",
   "execution_count": 139,
   "id": "5f526e96-20b1-490d-b312-cda8781b277f",
   "metadata": {},
   "outputs": [],
   "source": [
    "df['Company'].value_counts()"
   ]
  },
  {
   "cell_type": "code",
   "execution_count": 129,
   "id": "dcff5b14-ad25-4e5d-9bf5-b7bd26f3bd48",
   "metadata": {},
   "outputs": [],
   "source": [
    "Purchase_by_company = df.groupby('Company')[['Purchase Price']].sum().reset_index()"
   ]
  },
  {
   "cell_type": "code",
   "execution_count": 137,
   "id": "362db9e5-6d74-44ba-b8b0-265c2faf6663",
   "metadata": {},
   "outputs": [],
   "source": [
    "Purchase_by_company[Purchase_by_company['Purchase Price']>50]"
   ]
  },
  {
   "cell_type": "code",
   "execution_count": 149,
   "id": "3b53fde6-16a4-4376-9b9c-e3431318049a",
   "metadata": {},
   "outputs": [],
   "source": [
    "df['IP Address'].value_counts()"
   ]
  },
  {
   "cell_type": "code",
   "execution_count": 147,
   "id": "e97b54e9-7426-495e-9f97-b6da4fff2afb",
   "metadata": {},
   "outputs": [],
   "source": [
    "df[['IP Address', 'Purchase Price']]"
   ]
  },
  {
   "cell_type": "markdown",
   "id": "0a8e6fca-3908-460f-b32c-503c516e8fad",
   "metadata": {},
   "source": [
    "9. Job Title Contains Engineer or engineer\n",
    "10. Find The Email of the person with the following IP Address: 132.207.160.22\n",
    "11. How many People have Mastercard as their Credit Card Provider and made a purchase above 50?"
   ]
  },
  {
   "cell_type": "code",
   "execution_count": 166,
   "id": "4d635fde-2765-4ff7-9547-c3de6b323f6c",
   "metadata": {},
   "outputs": [],
   "source": [
    "# df['Job']"
   ]
  },
  {
   "cell_type": "code",
   "execution_count": 164,
   "id": "f686e267-5377-4716-a457-d27750b8ddc0",
   "metadata": {},
   "outputs": [],
   "source": [
    "df[df['Job'].str.contains('manager', case=False)]"
   ]
  },
  {
   "cell_type": "code",
   "execution_count": 178,
   "id": "1354defb-3c41-4933-8970-53395ea66890",
   "metadata": {},
   "outputs": [
    {
     "data": {
      "text/plain": [
       "0                    pdunlap@yahoo.com\n",
       "1                   anthony41@reed.com\n",
       "2       amymiller@morales-harrison.com\n",
       "3          brent16@olson-robinson.info\n",
       "4          christopherwright@gmail.com\n",
       "                     ...              \n",
       "9995            iscott@wade-garner.com\n",
       "9996                mary85@hotmail.com\n",
       "9997                 tyler16@gmail.com\n",
       "9998           elizabethmoore@reid.net\n",
       "9999             rachelford@vaughn.com\n",
       "Name: Email, Length: 10000, dtype: object"
      ]
     },
     "execution_count": 178,
     "metadata": {},
     "output_type": "execute_result"
    }
   ],
   "source": [
    "df['Email']"
   ]
  },
  {
   "cell_type": "code",
   "execution_count": 182,
   "id": "60d927da-1eb2-4926-9ee2-36a1a70cdb19",
   "metadata": {},
   "outputs": [],
   "source": [
    "import numpy as np"
   ]
  },
  {
   "cell_type": "code",
   "execution_count": 184,
   "id": "e9c9cde8-c444-46e3-bfd3-90c655f77ef6",
   "metadata": {},
   "outputs": [
    {
     "data": {
      "text/plain": [
       "array([2, 4, 6])"
      ]
     },
     "execution_count": 184,
     "metadata": {},
     "output_type": "execute_result"
    }
   ],
   "source": [
    "np.array([1, 2, 3])*2"
   ]
  },
  {
   "cell_type": "code",
   "execution_count": 186,
   "id": "1e610a22-84a0-4f74-9c05-03e0247db209",
   "metadata": {},
   "outputs": [
    {
     "data": {
      "text/plain": [
       "2    amymiller@morales-harrison.com\n",
       "Name: Email, dtype: object"
      ]
     },
     "execution_count": 186,
     "metadata": {},
     "output_type": "execute_result"
    }
   ],
   "source": [
    "df[df['IP Address'] =='132.207.160.22']['Email']\n",
    "# B[['Email', '']]"
   ]
  },
  {
   "cell_type": "code",
   "execution_count": 188,
   "id": "c3ca8be5-00bb-4527-8ce3-4a550012fd30",
   "metadata": {},
   "outputs": [
    {
     "data": {
      "text/plain": [
       "CC Provider\n",
       "JCB 16 digit                   1716\n",
       "VISA 16 digit                  1715\n",
       "JCB 15 digit                    868\n",
       "American Express                849\n",
       "Maestro                         846\n",
       "Voyager                         829\n",
       "Discover                        817\n",
       "Mastercard                      816\n",
       "VISA 13 digit                   777\n",
       "Diners Club / Carte Blanche     767\n",
       "Name: count, dtype: int64"
      ]
     },
     "execution_count": 188,
     "metadata": {},
     "output_type": "execute_result"
    }
   ],
   "source": [
    "df['CC Provider'].value_counts()"
   ]
  },
  {
   "cell_type": "code",
   "execution_count": 200,
   "id": "2cce937e-1220-426b-bb95-d4a866b9b799",
   "metadata": {},
   "outputs": [],
   "source": [
    "df[(df['CC Provider']=='Mastercard') & (df['Purchase Price']>50)]"
   ]
  },
  {
   "cell_type": "code",
   "execution_count": 256,
   "id": "d0cbc942-1748-4986-a4db-225b35d65d6f",
   "metadata": {},
   "outputs": [
    {
     "data": {
      "text/plain": [
       "(2,)"
      ]
     },
     "execution_count": 256,
     "metadata": {},
     "output_type": "execute_result"
    }
   ],
   "source": [
    "df['AM or PM'].value_counts().shape"
   ]
  },
  {
   "cell_type": "code",
   "execution_count": null,
   "id": "22a3eae7-2c11-4397-b6da-42a5629d8688",
   "metadata": {},
   "outputs": [],
   "source": [
    " How many people have a credit card that expires in 2020?"
   ]
  },
  {
   "cell_type": "code",
   "execution_count": 210,
   "id": "71143ce4-909e-4eec-b4d1-bca242d71e4c",
   "metadata": {},
   "outputs": [
    {
     "data": {
      "text/plain": [
       "'22'"
      ]
     },
     "execution_count": 210,
     "metadata": {},
     "output_type": "execute_result"
    }
   ],
   "source": [
    "'08/22'[-2:]"
   ]
  },
  {
   "cell_type": "code",
   "execution_count": 264,
   "id": "5dcc9635-853b-4204-9b41-00206af03f58",
   "metadata": {},
   "outputs": [
    {
     "data": {
      "text/plain": [
       "(988, 16)"
      ]
     },
     "execution_count": 264,
     "metadata": {},
     "output_type": "execute_result"
    }
   ],
   "source": [
    "df[df['CC Exp Date'].str[3:]== '20'].shape"
   ]
  },
  {
   "cell_type": "code",
   "execution_count": 232,
   "id": "ecd9fbae-604d-425f-851a-61adcbac451c",
   "metadata": {},
   "outputs": [
    {
     "data": {
      "text/plain": [
       "0       20\n",
       "1       18\n",
       "2       19\n",
       "3       24\n",
       "4       25\n",
       "        ..\n",
       "9995    22\n",
       "9996    25\n",
       "9997    21\n",
       "9998    17\n",
       "9999    19\n",
       "Name: CC Exp Date, Length: 10000, dtype: object"
      ]
     },
     "execution_count": 232,
     "metadata": {},
     "output_type": "execute_result"
    }
   ],
   "source": [
    "df['CC Exp Date'].str[3:]=="
   ]
  },
  {
   "cell_type": "code",
   "execution_count": 254,
   "id": "d0488297-d805-4e47-8d2c-89b08137e53c",
   "metadata": {},
   "outputs": [],
   "source": [
    "# df"
   ]
  },
  {
   "cell_type": "code",
   "execution_count": 250,
   "id": "635c022b-d0ef-4a08-823a-c3364f03fa8a",
   "metadata": {},
   "outputs": [],
   "source": [
    "df['riel_purchase']= df['Purchase Price']*4100"
   ]
  },
  {
   "cell_type": "code",
   "execution_count": 218,
   "id": "be117a9f-d66f-4ba4-a894-4b7cf17bc069",
   "metadata": {},
   "outputs": [],
   "source": [
    "df['CC Exp Date-Year'] = df['CC Exp Date'].str[3:]"
   ]
  },
  {
   "cell_type": "code",
   "execution_count": 228,
   "id": "35c9a6c4-b0d5-4e71-a218-5bf1bf9d4888",
   "metadata": {},
   "outputs": [
    {
     "data": {
      "text/plain": [
       "988"
      ]
     },
     "execution_count": 228,
     "metadata": {},
     "output_type": "execute_result"
    }
   ],
   "source": [
    "df[df['CC Exp Date-Year']=='20'].shape[0]"
   ]
  },
  {
   "cell_type": "code",
   "execution_count": 206,
   "id": "550108e4-2a6f-4744-ac51-906dd11a61fe",
   "metadata": {},
   "outputs": [
    {
     "data": {
      "text/plain": [
       "CC Exp Date\n",
       "08/22    108\n",
       "01/26    105\n",
       "04/19    105\n",
       "01/21    104\n",
       "01/19    103\n",
       "        ... \n",
       "12/22     67\n",
       "11/25     67\n",
       "10/25     64\n",
       "08/26     48\n",
       "08/16     39\n",
       "Name: count, Length: 121, dtype: int64"
      ]
     },
     "execution_count": 206,
     "metadata": {},
     "output_type": "execute_result"
    }
   ],
   "source": [
    "df['CC Exp Date'].value_counts()"
   ]
  },
  {
   "cell_type": "code",
   "execution_count": 266,
   "id": "c6d07ebe-8009-4e41-a37d-9451e996c2ed",
   "metadata": {},
   "outputs": [
    {
     "data": {
      "text/plain": [
       "['08', '22']"
      ]
     },
     "execution_count": 266,
     "metadata": {},
     "output_type": "execute_result"
    }
   ],
   "source": [
    "'08/22'.split('/')"
   ]
  },
  {
   "cell_type": "code",
   "execution_count": 274,
   "id": "0272a48c-bd5a-402d-bbe2-9e4dc4d8972a",
   "metadata": {},
   "outputs": [
    {
     "data": {
      "text/plain": [
       "CC Exp Date\n",
       "25    1033\n",
       "23    1010\n",
       "21    1006\n",
       "22     996\n",
       "18     995\n",
       "19     995\n",
       "24     992\n",
       "20     988\n",
       "17     955\n",
       "26     654\n",
       "16     376\n",
       "Name: count, dtype: int64"
      ]
     },
     "execution_count": 274,
     "metadata": {},
     "output_type": "execute_result"
    }
   ],
   "source": [
    "df['CC Exp Date'].str.split('/').str[1].value_counts()"
   ]
  },
  {
   "cell_type": "code",
   "execution_count": 294,
   "id": "dfcb67be-1507-4ba8-8bbd-8cc008d06c7a",
   "metadata": {},
   "outputs": [
    {
     "data": {
      "text/plain": [
       "'d'"
      ]
     },
     "execution_count": 294,
     "metadata": {},
     "output_type": "execute_result"
    }
   ],
   "source": [
    "'ab'[-1]"
   ]
  },
  {
   "cell_type": "code",
   "execution_count": 290,
   "id": "b0b29d9c-d122-4757-83f0-8089ce2b9e99",
   "metadata": {},
   "outputs": [
    {
     "data": {
      "text/plain": [
       "0                    [pdunlap, yahoo.com]\n",
       "1                   [anthony41, reed.com]\n",
       "2       [amymiller, morales-harrison.com]\n",
       "3          [brent16, olson-robinson.info]\n",
       "4          [christopherwright, gmail.com]\n",
       "                      ...                \n",
       "9995            [iscott, wade-garner.com]\n",
       "9996                [mary85, hotmail.com]\n",
       "9997                 [tyler16, gmail.com]\n",
       "9998           [elizabethmoore, reid.net]\n",
       "9999             [rachelford, vaughn.com]\n",
       "Name: Email, Length: 10000, dtype: object"
      ]
     },
     "execution_count": 290,
     "metadata": {},
     "output_type": "execute_result"
    }
   ],
   "source": [
    "df['Email'].str.split('@')"
   ]
  },
  {
   "cell_type": "code",
   "execution_count": 286,
   "id": "05dfa489-e0d0-4c47-9fda-a83f339d8fac",
   "metadata": {},
   "outputs": [
    {
     "data": {
      "text/plain": [
       "Email\n",
       "hotmail.com     1638\n",
       "yahoo.com       1616\n",
       "gmail.com       1605\n",
       "smith.com         42\n",
       "williams.com      37\n",
       "brown.com         29\n",
       "johnson.com       29\n",
       "davis.com         25\n",
       "jones.com         25\n",
       "martinez.com      19\n",
       "Name: count, dtype: int64"
      ]
     },
     "execution_count": 286,
     "metadata": {},
     "output_type": "execute_result"
    }
   ],
   "source": [
    "df['Email'].str.split('@').str[-1].value_counts().head(10)"
   ]
  },
  {
   "cell_type": "markdown",
   "id": "d265e511",
   "metadata": {},
   "source": [
    "10. Find The Email of the person with the following IP Address: 132.207.160.22\n",
    "11. How many People have Mastercard as their Credit Card Provider and made a purchase above 50$?\n",
    "12. Find the email of the person with the following Credit Card Number: 4664825258997302\n",
    "13. How many people purchase during the AM and how many people purchase during PM?\n",
    "14. How many people have a credit card that expires in 2020?\n",
    "15. What are the top 5 most popular email providers (e.g. [gmail.com](http://gmail.com/), [yahoo.com](http://yahoo.com/), etc...)"
   ]
  },
  {
   "cell_type": "markdown",
   "id": "90cbce95",
   "metadata": {},
   "source": []
  }
 ],
 "metadata": {
  "kernelspec": {
   "display_name": "Python 3 (ipykernel)",
   "language": "python",
   "name": "python3"
  },
  "language_info": {
   "codemirror_mode": {
    "name": "ipython",
    "version": 3
   },
   "file_extension": ".py",
   "mimetype": "text/x-python",
   "name": "python",
   "nbconvert_exporter": "python",
   "pygments_lexer": "ipython3",
   "version": "3.11.5"
  }
 },
 "nbformat": 4,
 "nbformat_minor": 5
}
